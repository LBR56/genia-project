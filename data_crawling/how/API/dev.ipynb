{
 "cells": [
  {
   "attachments": {},
   "cell_type": "markdown",
   "metadata": {},
   "source": [
    "# API 요청 테스트"
   ]
  },
  {
   "attachments": {},
   "cell_type": "markdown",
   "metadata": {},
   "source": [
    "## 환경설정"
   ]
  },
  {
   "cell_type": "code",
   "execution_count": 1,
   "metadata": {},
   "outputs": [],
   "source": [
    "import json\n",
    "import os\n",
    "\n",
    "from googleapiclient.discovery import build\n",
    "from googleapiclient.errors import HttpError\n",
    "from oauth2client.tools import argparser\n",
    "from dotenv import load_dotenv\n",
    "import pandas as pd\n",
    "# https://github.com/jdepoix/youtube-transcript-api/tree/master\n",
    "from youtube_transcript_api import YouTubeTranscriptApi\n",
    "from tqdm.notebook import tqdm_notebook as tqdm"
   ]
  },
  {
   "cell_type": "code",
   "execution_count": 2,
   "metadata": {},
   "outputs": [],
   "source": [
    "load_dotenv()\n",
    "DEVELOPER_KEY = os.environ.get(\"DEVELOPER_KEY\")\n",
    "YOUTUBE_API_SERVICE_NAME = os.environ.get(\"YOUTUBE_API_SERVICE_NAME\")\n",
    "YOUTUBE_API_VERSION = os.environ.get(\"YOUTUBE_API_VERSION\")"
   ]
  },
  {
   "cell_type": "code",
   "execution_count": 3,
   "metadata": {},
   "outputs": [],
   "source": [
    "REQUESTS = {\n",
    "    \"search_param\" : {\n",
    "        \"part\" : \"snippet\",\n",
    "        \"maxResults\" : 50,\n",
    "        \"order\" : \"relevance\",\n",
    "        \"q\" : \"인수분해\",\n",
    "        \"type\" : \"video\",\n",
    "        # videoCaption = \"closedCaption\", # any\n",
    "    },\n",
    "    \"videos_param\" : {\n",
    "        \"part\" : \"snippet,contentDetails,statistics\",\n",
    "    }\n",
    "}"
   ]
  },
  {
   "cell_type": "code",
   "execution_count": 4,
   "metadata": {},
   "outputs": [],
   "source": [
    "# https://developers.google.com/youtube/v3?hl=ko\n",
    "# https://www.dinolabs.ai/384\n",
    "# https://han-py.tistory.com/432\n",
    "\n",
    "with build(YOUTUBE_API_SERVICE_NAME, YOUTUBE_API_VERSION, developerKey=DEVELOPER_KEY) as service:\n",
    "    request = service.search().list(\n",
    "        **REQUESTS[\"search_param\"]\n",
    "    )\n",
    "\n",
    "    try:\n",
    "        response = request.execute()\n",
    "    except HttpError as e:\n",
    "        print(\"Error response status code : {0}, reason : {1}\".format(e.status_code, e.error_details))"
   ]
  },
  {
   "cell_type": "code",
   "execution_count": 5,
   "metadata": {},
   "outputs": [],
   "source": [
    "with open(\"data/youtube_api_search_result.json\", \"w\") as fp:\n",
    "    json.dump(response, fp, indent=4, ensure_ascii=False)"
   ]
  },
  {
   "cell_type": "code",
   "execution_count": 6,
   "metadata": {},
   "outputs": [],
   "source": [
    "video_ids = [item[\"id\"][\"videoId\"] for item in response[\"items\"]]\n",
    "\n",
    "with build(YOUTUBE_API_SERVICE_NAME, YOUTUBE_API_VERSION, developerKey=DEVELOPER_KEY) as service:\n",
    "    request = service.videos().list(\n",
    "        **REQUESTS[\"videos_param\"],\n",
    "        id = video_ids\n",
    "    )\n",
    "\n",
    "    try:\n",
    "        response = request.execute()\n",
    "    except HttpError as e:\n",
    "        print(\"Error response status code : {0}, reason : {1}\".format(e.status_code, e.error_details))"
   ]
  },
  {
   "cell_type": "code",
   "execution_count": 7,
   "metadata": {},
   "outputs": [],
   "source": [
    "with open(\"data/youtube_api_videos_result.json\", \"w\") as fp:\n",
    "    json.dump(response, fp, indent=4, ensure_ascii=False)"
   ]
  },
  {
   "cell_type": "code",
   "execution_count": 8,
   "metadata": {},
   "outputs": [],
   "source": [
    "df_videos = pd.DataFrame(response[\"items\"])"
   ]
  },
  {
   "cell_type": "code",
   "execution_count": 9,
   "metadata": {},
   "outputs": [],
   "source": [
    "for col in [\"snippet\", \"contentDetails\", \"statistics\"]:\n",
    "    df_temp = pd.DataFrame(df_videos[col].tolist())\n",
    "    df_videos.drop(col, axis=1, inplace=True)\n",
    "    df_videos = pd.concat([df_videos, df_temp], axis=1)"
   ]
  },
  {
   "cell_type": "code",
   "execution_count": 10,
   "metadata": {},
   "outputs": [],
   "source": [
    "df_videos.to_csv(\"data/videos.csv\")"
   ]
  },
  {
   "attachments": {},
   "cell_type": "markdown",
   "metadata": {},
   "source": [
    "#  "
   ]
  },
  {
   "cell_type": "code",
   "execution_count": null,
   "metadata": {},
   "outputs": [],
   "source": []
  },
  {
   "cell_type": "code",
   "execution_count": 22,
   "metadata": {},
   "outputs": [
    {
     "data": {
      "application/vnd.jupyter.widget-view+json": {
       "model_id": "618823a2062b409b91d242bbac99f849",
       "version_major": 2,
       "version_minor": 0
      },
      "text/plain": [
       "  0%|          | 0/50 [00:00<?, ?it/s]"
      ]
     },
     "metadata": {},
     "output_type": "display_data"
    },
    {
     "name": "stdout",
     "output_type": "stream",
     "text": [
      "F16lLSu7bFA\n",
      "\n",
      "Could not retrieve a transcript for the video https://www.youtube.com/watch?v=F16lLSu7bFA! This is most likely caused by:\n",
      "\n",
      "Subtitles are disabled for this video\n",
      "\n",
      "If you are sure that the described cause is not responsible for this error and that a transcript should be retrievable, please create an issue at https://github.com/jdepoix/youtube-transcript-api/issues. Please add which version of youtube_transcript_api you are using and provide the information needed to replicate the error. Also make sure that there are no open issues which already describe your problem!\n",
      "ktWNA_zrB8s\n",
      "\n",
      "Could not retrieve a transcript for the video https://www.youtube.com/watch?v=ktWNA_zrB8s! This is most likely caused by:\n",
      "\n",
      "Subtitles are disabled for this video\n",
      "\n",
      "If you are sure that the described cause is not responsible for this error and that a transcript should be retrievable, please create an issue at https://github.com/jdepoix/youtube-transcript-api/issues. Please add which version of youtube_transcript_api you are using and provide the information needed to replicate the error. Also make sure that there are no open issues which already describe your problem!\n",
      "_uVUQBwF2ho\n",
      "\n",
      "Could not retrieve a transcript for the video https://www.youtube.com/watch?v=_uVUQBwF2ho! This is most likely caused by:\n",
      "\n",
      "No transcripts were found for any of the requested language codes: ['ko']\n",
      "\n",
      "For this video (_uVUQBwF2ho) transcripts are available in the following languages:\n",
      "\n",
      "(MANUALLY CREATED)\n",
      "None\n",
      "\n",
      "(GENERATED)\n",
      " - en (\"영어 (자동 생성됨)\")[TRANSLATABLE]\n",
      "\n",
      "(TRANSLATION LANGUAGES)\n",
      " - lg (\"간다어\")\n",
      " - gl (\"갈리시아어\")\n",
      " - gn (\"과라니어\")\n",
      " - gu (\"구자라트어\")\n",
      " - el (\"그리스어\")\n",
      " - st (\"남부 소토어\")\n",
      " - ny (\"냔자어\")\n",
      " - nl (\"네덜란드어\")\n",
      " - ne (\"네팔어\")\n",
      " - no (\"노르웨이어\")\n",
      " - da (\"덴마크어\")\n",
      " - de (\"독일어\")\n",
      " - dv (\"디베히어\")\n",
      " - lo (\"라오어\")\n",
      " - lv (\"라트비아어\")\n",
      " - la (\"라틴어\")\n",
      " - ru (\"러시아어\")\n",
      " - ro (\"루마니아어\")\n",
      " - lb (\"룩셈부르크어\")\n",
      " - rw (\"르완다어\")\n",
      " - lt (\"리투아니아어\")\n",
      " - ln (\"링갈라어\")\n",
      " - mr (\"마라티어\")\n",
      " - mi (\"마오리어\")\n",
      " - mk (\"마케도니아어\")\n",
      " - mg (\"말라가시어\")\n",
      " - ml (\"말라얄람어\")\n",
      " - ms (\"말레이어\")\n",
      " - mt (\"몰타어\")\n",
      " - mn (\"몽골어\")\n",
      " - eu (\"바스크어\")\n",
      " - my (\"버마어\")\n",
      " - vi (\"베트남어\")\n",
      " - be (\"벨라루스어\")\n",
      " - bn (\"벵골어\")\n",
      " - bs (\"보스니아어\")\n",
      " - nso (\"북부 소토어\")\n",
      " - bg (\"불가리아어\")\n",
      " - sm (\"사모아어\")\n",
      " - sa (\"산스크리트어\")\n",
      " - fy (\"서부 프리지아어\")\n",
      " - sr (\"세르비아어\")\n",
      " - ceb (\"세부아노어\")\n",
      " - so (\"소말리아어\")\n",
      " - sn (\"쇼나어\")\n",
      " - su (\"순다어\")\n",
      " - sw (\"스와힐리어\")\n",
      " - sv (\"스웨덴어\")\n",
      " - gd (\"스코틀랜드 게일어\")\n",
      " - es (\"스페인어\")\n",
      " - sk (\"슬로바키아어\")\n",
      " - sl (\"슬로베니아어\")\n",
      " - sd (\"신디어\")\n",
      " - si (\"싱할라어\")\n",
      " - ar (\"아랍어\")\n",
      " - hy (\"아르메니아어\")\n",
      " - as (\"아삼어\")\n",
      " - ay (\"아이마라어\")\n",
      " - is (\"아이슬란드어\")\n",
      " - ht (\"아이티어\")\n",
      " - ga (\"아일랜드어\")\n",
      " - az (\"아제르바이잔어\")\n",
      " - ak (\"아칸어\")\n",
      " - af (\"아프리칸스어\")\n",
      " - sq (\"알바니아어\")\n",
      " - am (\"암하라어\")\n",
      " - et (\"에스토니아어\")\n",
      " - eo (\"에스페란토어\")\n",
      " - ee (\"에웨어\")\n",
      " - en (\"영어\")\n",
      " - om (\"오로모어\")\n",
      " - or (\"오리야어\")\n",
      " - yo (\"요루바어\")\n",
      " - ur (\"우르두어\")\n",
      " - uz (\"우즈베크어\")\n",
      " - uk (\"우크라이나어\")\n",
      " - cy (\"웨일스어\")\n",
      " - ug (\"위구르어\")\n",
      " - ig (\"이그보어\")\n",
      " - yi (\"이디시어\")\n",
      " - it (\"이탈리아어\")\n",
      " - id (\"인도네시아어\")\n",
      " - ja (\"일본어\")\n",
      " - jv (\"자바어\")\n",
      " - ka (\"조지아어\")\n",
      " - zu (\"줄루어\")\n",
      " - zh-Hans (\"중국어(간체)\")\n",
      " - zh-Hant (\"중국어(번체)\")\n",
      " - cs (\"체코어\")\n",
      " - ts (\"총가어\")\n",
      " - kk (\"카자흐어\")\n",
      " - ca (\"카탈로니아어\")\n",
      " - kn (\"칸나다어\")\n",
      " - qu (\"케추아어\")\n",
      " - co (\"코르시카어\")\n",
      " - xh (\"코사어\")\n",
      " - ku (\"쿠르드어\")\n",
      " - hr (\"크로아티아어\")\n",
      " - km (\"크메르어\")\n",
      " - ky (\"키르기스어\")\n",
      " - ta (\"타밀어\")\n",
      " - tg (\"타지크어\")\n",
      " - tt (\"타타르어\")\n",
      " - th (\"태국어\")\n",
      " - tr (\"터키어\")\n",
      " - te (\"텔루구어\")\n",
      " - tk (\"투르크멘어\")\n",
      " - ti (\"티그리냐어\")\n",
      " - ps (\"파슈토어\")\n",
      " - pa (\"펀잡어\")\n",
      " - fa (\"페르시아어\")\n",
      " - pt (\"포르투갈어\")\n",
      " - pl (\"폴란드어\")\n",
      " - fr (\"프랑스어\")\n",
      " - fi (\"핀란드어\")\n",
      " - fil (\"필리핀어\")\n",
      " - haw (\"하와이어\")\n",
      " - ha (\"하우사어\")\n",
      " - ko (\"한국어\")\n",
      " - hu (\"헝가리어\")\n",
      " - bho (\"호즈푸리어\")\n",
      " - hmn (\"히몸어\")\n",
      " - iw (\"히브리어\")\n",
      " - hi (\"힌디어\")\n",
      " - kri (\"Kri\")\n",
      "\n",
      "If you are sure that the described cause is not responsible for this error and that a transcript should be retrievable, please create an issue at https://github.com/jdepoix/youtube-transcript-api/issues. Please add which version of youtube_transcript_api you are using and provide the information needed to replicate the error. Also make sure that there are no open issues which already describe your problem!\n"
     ]
    }
   ],
   "source": [
    "df_transcript = None\n",
    "for video_id in tqdm(video_ids):\n",
    "    try:\n",
    "        transcript_list = YouTubeTranscriptApi.list_transcripts(video_id)\n",
    "        transcript = transcript_list.find_generated_transcript([\"ko\"])\n",
    "        \n",
    "        df_temp = pd.DataFrame(transcript.fetch())\n",
    "        df_temp[\"video_id\"] = video_id\n",
    "\n",
    "        if df_transcript is None:\n",
    "            df_transcript = df_temp\n",
    "        else:\n",
    "            df_transcript = pd.concat([df_transcript, df_temp]).reset_index(drop=True)\n",
    "    except Exception as e:\n",
    "        print(video_id)\n",
    "        print(e)\n"
   ]
  },
  {
   "cell_type": "code",
   "execution_count": 23,
   "metadata": {},
   "outputs": [],
   "source": [
    "df_transcript.to_csv(\"data/transcripts.csv\")"
   ]
  },
  {
   "cell_type": "code",
   "execution_count": null,
   "metadata": {},
   "outputs": [],
   "source": []
  }
 ],
 "metadata": {
  "kernelspec": {
   "display_name": "venv",
   "language": "python",
   "name": "python3"
  },
  "language_info": {
   "codemirror_mode": {
    "name": "ipython",
    "version": 3
   },
   "file_extension": ".py",
   "mimetype": "text/x-python",
   "name": "python",
   "nbconvert_exporter": "python",
   "pygments_lexer": "ipython3",
   "version": "3.9.6"
  },
  "orig_nbformat": 4
 },
 "nbformat": 4,
 "nbformat_minor": 2
}
