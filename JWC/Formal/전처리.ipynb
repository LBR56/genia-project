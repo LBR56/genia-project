{
 "cells": [
  {
   "cell_type": "code",
   "execution_count": 19,
   "metadata": {},
   "outputs": [],
   "source": [
    "# !pip install git+https://github.com/ssut/py-hanspell.git\n",
    "# !pip install scipy\n",
    "# !pip install kss\n",
    "# !pip install konlpy\n",
    "# !pip install nltk\n",
    "# !pip install tokenizers\n",
    "# !pip install joblib\n",
    "# !pip install tqdm\n",
    "# !pip install pandas\n",
    "# !pip install datasets\n",
    "# !pip install emoji\n",
    "# !pip install transformers\n",
    "# !pip install torch\n",
    "# !pip install soynlp\n",
    "# wget https://raw.githubusercontent.com/smilegate-ai/korean_smile_style_dataset/main/smilestyle_dataset.tsv\n",
    "# !pip install -U scikit-learn\n",
    "# !pip install openpyxl"
   ]
  },
  {
   "cell_type": "code",
   "execution_count": 1,
   "metadata": {},
   "outputs": [],
   "source": [
    "import os\n",
    "from hanspell import spell_checker\n",
    "import kss\n",
    "import pandas as pd\n",
    "import pandas as pd\n",
    "import itertools\n",
    "import os\n",
    "from typing import Final, List\n",
    "from pathlib import Path"
   ]
  },
  {
   "cell_type": "code",
   "execution_count": 2,
   "metadata": {},
   "outputs": [],
   "source": [
    "f = '''이번 시간에는 인수 분해 에 대해서 알아보도록 하겠습니다 \n",
    "자 2인 수분의 는요 우리가 앞서 배웠던 곱셈 공식과 아주 밀접한 관련이 \n",
    "있습니다 \n",
    "곱셈 공식 은 언제 필요하냐 하면 요 이 다항식 뜰의 곱을 1 전개하는 \n",
    "데 필요했던 공식들이 얻죠\n",
    "자 그렇다면 당시 게 곳들을 전개한다는 것이 이인수 분의 와 어떤\n",
    "관련성이 있는지 같이 한번 살펴보겠습니다\n",
    "우리 곱셈 공식 배우면서 이런거 했던 기억이 있을 거에요\n",
    "뭐냐면 x - 이라는 다음 식과 x - 이라는 다음 식을 고 파게 되면\n",
    "어떻게 된다\n",
    "x 제곱 - 3 x 플러스 2 가 된다\n",
    "그래서 유 두 다항식의 곱셈 을 하나의 당 식으로 표현할 수 있다\n",
    "나는 걸 배웠는데 그때 이쪽에서 일로 이렇게 넘어가는 과정을 우리가\n",
    "전개한다 이렇게 표현을 했었습니다'''"
   ]
  },
  {
   "cell_type": "code",
   "execution_count": 3,
   "metadata": {},
   "outputs": [],
   "source": [
    "f = ''.join(f.split(' ')).replace('\\n','',)"
   ]
  },
  {
   "cell_type": "code",
   "execution_count": 4,
   "metadata": {},
   "outputs": [
    {
     "name": "stderr",
     "output_type": "stream",
     "text": [
      "[Kss]: Oh! You have mecab in your environment. Kss will take this as a backend! :D\n",
      "\n"
     ]
    }
   ],
   "source": [
    "f = kss.split_sentences(f)"
   ]
  },
  {
   "cell_type": "code",
   "execution_count": 5,
   "metadata": {},
   "outputs": [
    {
     "data": {
      "text/plain": [
       "['이번시간에는인수분해에대해서알아보도록하겠습니다',\n",
       " '자2인수분의는요',\n",
       " '우리가앞서배웠던곱셈공식과아주밀접한관련이있습니다',\n",
       " '곱셈공식은언제필요하냐하면요',\n",
       " '이다항식뜰의곱을1전개하는데필요했던공식들이얻죠',\n",
       " '자그렇다면당시게곳들을전개한다는것이이인수분의와어떤관련성이있는지같이한번살펴보겠습니다',\n",
       " '우리곱셈공식배우면서이런거했던기억이있을거에요',\n",
       " '뭐냐면x-이라는다음식과x-이라는다음식을고파게되면어떻게된다x제곱-3x플러스2가된다',\n",
       " '그래서유두다항식의곱셈을하나의당식으로표현할수있다나는걸배웠는데그때이쪽에서일로이렇게넘어가는과정을우리가전개한다',\n",
       " '이렇게표현을했었습니다']"
      ]
     },
     "execution_count": 5,
     "metadata": {},
     "output_type": "execute_result"
    }
   ],
   "source": [
    "f"
   ]
  },
  {
   "cell_type": "code",
   "execution_count": 6,
   "metadata": {},
   "outputs": [],
   "source": [
    "fix_f = [spell_checker.check(sentence).checked for sentence in f]"
   ]
  },
  {
   "cell_type": "code",
   "execution_count": 7,
   "metadata": {},
   "outputs": [
    {
     "data": {
      "text/plain": [
       "['이번 시간에는 인수분해에 대해서 알아보도록 하겠습니다',\n",
       " '자 2인 수분이는 요',\n",
       " '우리가 앞서 배웠던 곱셈공식과 아주 밀접한 관련이 있습니다',\n",
       " '곱셈공식은 언제 필요하냐 하면요',\n",
       " '이다 황식뜰의 곱을 1전개하는 데 필요했던 공식들이 얻죠',\n",
       " '자 그렇다면 당시에 곳들을 전개한다는 것이 이 인수분의 와 어떤 관련성이 있는지 같이 한번 살펴보겠습니다',\n",
       " '우리 곱셈공식 배우면서 이런 거 했던 기억이 있을 거예요',\n",
       " '뭐냐면 x-이라는 다음식과 x-이라는 다음식을 고파 게 되면 어떻게 된다 x 제곱-3x 플러스 2가 된다',\n",
       " '그래서 유두 다항식의 곱셈을 하나의 당식으로 표현할 수 있다 나는 걸 배웠는데 그때 이쪽에서 일로 이렇게 넘어가는 과정을 우리가 전개한다',\n",
       " '이렇게 표현을 했었습니다']"
      ]
     },
     "execution_count": 7,
     "metadata": {},
     "output_type": "execute_result"
    }
   ],
   "source": [
    "fix_f"
   ]
  },
  {
   "cell_type": "code",
   "execution_count": 11,
   "metadata": {},
   "outputs": [
    {
     "ename": "FileNotFoundError",
     "evalue": "[Errno 2] No such file or directory: '/home/woochan/final_project/workspace/data/감성대화말뭉치_Training.xlsx'",
     "output_type": "error",
     "traceback": [
      "\u001b[0;31m---------------------------------------------------------------------------\u001b[0m",
      "\u001b[0;31mFileNotFoundError\u001b[0m                         Traceback (most recent call last)",
      "Cell \u001b[0;32mIn[11], line 1\u001b[0m\n\u001b[0;32m----> 1\u001b[0m df \u001b[39m=\u001b[39m pd\u001b[39m.\u001b[39;49mread_excel(\u001b[39m'\u001b[39;49m\u001b[39m/home/woochan/final_project/workspace/data/감성대화말뭉치_Training.xlsx\u001b[39;49m\u001b[39m'\u001b[39;49m,index_col\u001b[39m=\u001b[39;49m\u001b[39m0\u001b[39;49m)\n\u001b[1;32m      2\u001b[0m df2 \u001b[39m=\u001b[39m pd\u001b[39m.\u001b[39mread_excel(\u001b[39m'\u001b[39m\u001b[39m/home/woochan/final_project/workspace/data/감성대화말뭉치_Validation.xlsx\u001b[39m\u001b[39m'\u001b[39m,index_col\u001b[39m=\u001b[39m\u001b[39m0\u001b[39m)\n\u001b[1;32m      3\u001b[0m df3 \u001b[39m=\u001b[39m pd\u001b[39m.\u001b[39mread_csv(\u001b[39m'\u001b[39m\u001b[39m/home/woochan/final_project/workspace/data/smilestyle_dataset.tsv\u001b[39m\u001b[39m'\u001b[39m, sep\u001b[39m=\u001b[39m\u001b[39m'\u001b[39m\u001b[39m\\t\u001b[39;00m\u001b[39m'\u001b[39m)\n",
      "File \u001b[0;32m~/final_project/genia-project/lib/python3.10/site-packages/pandas/io/excel/_base.py:478\u001b[0m, in \u001b[0;36mread_excel\u001b[0;34m(io, sheet_name, header, names, index_col, usecols, dtype, engine, converters, true_values, false_values, skiprows, nrows, na_values, keep_default_na, na_filter, verbose, parse_dates, date_parser, date_format, thousands, decimal, comment, skipfooter, storage_options, dtype_backend)\u001b[0m\n\u001b[1;32m    476\u001b[0m \u001b[39mif\u001b[39;00m \u001b[39mnot\u001b[39;00m \u001b[39misinstance\u001b[39m(io, ExcelFile):\n\u001b[1;32m    477\u001b[0m     should_close \u001b[39m=\u001b[39m \u001b[39mTrue\u001b[39;00m\n\u001b[0;32m--> 478\u001b[0m     io \u001b[39m=\u001b[39m ExcelFile(io, storage_options\u001b[39m=\u001b[39;49mstorage_options, engine\u001b[39m=\u001b[39;49mengine)\n\u001b[1;32m    479\u001b[0m \u001b[39melif\u001b[39;00m engine \u001b[39mand\u001b[39;00m engine \u001b[39m!=\u001b[39m io\u001b[39m.\u001b[39mengine:\n\u001b[1;32m    480\u001b[0m     \u001b[39mraise\u001b[39;00m \u001b[39mValueError\u001b[39;00m(\n\u001b[1;32m    481\u001b[0m         \u001b[39m\"\u001b[39m\u001b[39mEngine should not be specified when passing \u001b[39m\u001b[39m\"\u001b[39m\n\u001b[1;32m    482\u001b[0m         \u001b[39m\"\u001b[39m\u001b[39man ExcelFile - ExcelFile already has the engine set\u001b[39m\u001b[39m\"\u001b[39m\n\u001b[1;32m    483\u001b[0m     )\n",
      "File \u001b[0;32m~/final_project/genia-project/lib/python3.10/site-packages/pandas/io/excel/_base.py:1496\u001b[0m, in \u001b[0;36mExcelFile.__init__\u001b[0;34m(self, path_or_buffer, engine, storage_options)\u001b[0m\n\u001b[1;32m   1494\u001b[0m     ext \u001b[39m=\u001b[39m \u001b[39m\"\u001b[39m\u001b[39mxls\u001b[39m\u001b[39m\"\u001b[39m\n\u001b[1;32m   1495\u001b[0m \u001b[39melse\u001b[39;00m:\n\u001b[0;32m-> 1496\u001b[0m     ext \u001b[39m=\u001b[39m inspect_excel_format(\n\u001b[1;32m   1497\u001b[0m         content_or_path\u001b[39m=\u001b[39;49mpath_or_buffer, storage_options\u001b[39m=\u001b[39;49mstorage_options\n\u001b[1;32m   1498\u001b[0m     )\n\u001b[1;32m   1499\u001b[0m     \u001b[39mif\u001b[39;00m ext \u001b[39mis\u001b[39;00m \u001b[39mNone\u001b[39;00m:\n\u001b[1;32m   1500\u001b[0m         \u001b[39mraise\u001b[39;00m \u001b[39mValueError\u001b[39;00m(\n\u001b[1;32m   1501\u001b[0m             \u001b[39m\"\u001b[39m\u001b[39mExcel file format cannot be determined, you must specify \u001b[39m\u001b[39m\"\u001b[39m\n\u001b[1;32m   1502\u001b[0m             \u001b[39m\"\u001b[39m\u001b[39man engine manually.\u001b[39m\u001b[39m\"\u001b[39m\n\u001b[1;32m   1503\u001b[0m         )\n",
      "File \u001b[0;32m~/final_project/genia-project/lib/python3.10/site-packages/pandas/io/excel/_base.py:1371\u001b[0m, in \u001b[0;36minspect_excel_format\u001b[0;34m(content_or_path, storage_options)\u001b[0m\n\u001b[1;32m   1368\u001b[0m \u001b[39mif\u001b[39;00m \u001b[39misinstance\u001b[39m(content_or_path, \u001b[39mbytes\u001b[39m):\n\u001b[1;32m   1369\u001b[0m     content_or_path \u001b[39m=\u001b[39m BytesIO(content_or_path)\n\u001b[0;32m-> 1371\u001b[0m \u001b[39mwith\u001b[39;00m get_handle(\n\u001b[1;32m   1372\u001b[0m     content_or_path, \u001b[39m\"\u001b[39;49m\u001b[39mrb\u001b[39;49m\u001b[39m\"\u001b[39;49m, storage_options\u001b[39m=\u001b[39;49mstorage_options, is_text\u001b[39m=\u001b[39;49m\u001b[39mFalse\u001b[39;49;00m\n\u001b[1;32m   1373\u001b[0m ) \u001b[39mas\u001b[39;00m handle:\n\u001b[1;32m   1374\u001b[0m     stream \u001b[39m=\u001b[39m handle\u001b[39m.\u001b[39mhandle\n\u001b[1;32m   1375\u001b[0m     stream\u001b[39m.\u001b[39mseek(\u001b[39m0\u001b[39m)\n",
      "File \u001b[0;32m~/final_project/genia-project/lib/python3.10/site-packages/pandas/io/common.py:868\u001b[0m, in \u001b[0;36mget_handle\u001b[0;34m(path_or_buf, mode, encoding, compression, memory_map, is_text, errors, storage_options)\u001b[0m\n\u001b[1;32m    859\u001b[0m         handle \u001b[39m=\u001b[39m \u001b[39mopen\u001b[39m(\n\u001b[1;32m    860\u001b[0m             handle,\n\u001b[1;32m    861\u001b[0m             ioargs\u001b[39m.\u001b[39mmode,\n\u001b[0;32m   (...)\u001b[0m\n\u001b[1;32m    864\u001b[0m             newline\u001b[39m=\u001b[39m\u001b[39m\"\u001b[39m\u001b[39m\"\u001b[39m,\n\u001b[1;32m    865\u001b[0m         )\n\u001b[1;32m    866\u001b[0m     \u001b[39melse\u001b[39;00m:\n\u001b[1;32m    867\u001b[0m         \u001b[39m# Binary mode\u001b[39;00m\n\u001b[0;32m--> 868\u001b[0m         handle \u001b[39m=\u001b[39m \u001b[39mopen\u001b[39;49m(handle, ioargs\u001b[39m.\u001b[39;49mmode)\n\u001b[1;32m    869\u001b[0m     handles\u001b[39m.\u001b[39mappend(handle)\n\u001b[1;32m    871\u001b[0m \u001b[39m# Convert BytesIO or file objects passed with an encoding\u001b[39;00m\n",
      "\u001b[0;31mFileNotFoundError\u001b[0m: [Errno 2] No such file or directory: '/home/woochan/final_project/workspace/data/감성대화말뭉치_Training.xlsx'"
     ]
    }
   ],
   "source": [
    "df = pd.read_excel('/home/woochan/final_project/workspace/data/감성대화말뭉치_Training.xlsx',index_col=0)\n",
    "df2 = pd.read_excel('/home/woochan/final_project/workspace/data/감성대화말뭉치_Validation.xlsx',index_col=0)\n",
    "df3 = pd.read_csv('/home/woochan/final_project/workspace/data/smilestyle_dataset.tsv', sep='\\t')"
   ]
  },
  {
   "cell_type": "code",
   "execution_count": 12,
   "metadata": {},
   "outputs": [
    {
     "ename": "NameError",
     "evalue": "name 'df' is not defined",
     "output_type": "error",
     "traceback": [
      "\u001b[0;31m---------------------------------------------------------------------------\u001b[0m",
      "\u001b[0;31mNameError\u001b[0m                                 Traceback (most recent call last)",
      "Cell \u001b[0;32mIn[12], line 1\u001b[0m\n\u001b[0;32m----> 1\u001b[0m df\u001b[39m.\u001b[39mshape,df2\u001b[39m.\u001b[39mshape,df3\u001b[39m.\u001b[39mshape\n",
      "\u001b[0;31mNameError\u001b[0m: name 'df' is not defined"
     ]
    }
   ],
   "source": [
    "df.shape,df2.shape,df3.shape"
   ]
  },
  {
   "cell_type": "code",
   "execution_count": 13,
   "metadata": {},
   "outputs": [
    {
     "ename": "NameError",
     "evalue": "name 'df' is not defined",
     "output_type": "error",
     "traceback": [
      "\u001b[0;31m---------------------------------------------------------------------------\u001b[0m",
      "\u001b[0;31mNameError\u001b[0m                                 Traceback (most recent call last)",
      "Cell \u001b[0;32mIn[13], line 1\u001b[0m\n\u001b[0;32m----> 1\u001b[0m df4 \u001b[39m=\u001b[39m pd\u001b[39m.\u001b[39mconcat([df,df2])\n",
      "\u001b[0;31mNameError\u001b[0m: name 'df' is not defined"
     ]
    }
   ],
   "source": [
    "df4 = pd.concat([df,df2])"
   ]
  },
  {
   "cell_type": "code",
   "execution_count": 14,
   "metadata": {},
   "outputs": [
    {
     "ename": "NameError",
     "evalue": "name 'df4' is not defined",
     "output_type": "error",
     "traceback": [
      "\u001b[0;31m---------------------------------------------------------------------------\u001b[0m",
      "\u001b[0;31mNameError\u001b[0m                                 Traceback (most recent call last)",
      "Cell \u001b[0;32mIn[14], line 1\u001b[0m\n\u001b[0;32m----> 1\u001b[0m df4\u001b[39m.\u001b[39mto_csv(\u001b[39m'\u001b[39m\u001b[39m/home/woochan/final_project/workspace/data/aihub_sentiment_dataset.tsv\u001b[39m\u001b[39m'\u001b[39m, sep\u001b[39m=\u001b[39m\u001b[39m'\u001b[39m\u001b[39m\\t\u001b[39;00m\u001b[39m'\u001b[39m)\n",
      "\u001b[0;31mNameError\u001b[0m: name 'df4' is not defined"
     ]
    }
   ],
   "source": [
    "df4.to_csv('/home/woochan/final_project/workspace/data/aihub_sentiment_dataset.tsv', sep='\\t')"
   ]
  },
  {
   "cell_type": "code",
   "execution_count": 9,
   "metadata": {},
   "outputs": [
    {
     "ename": "NameError",
     "evalue": "name 'df4' is not defined",
     "output_type": "error",
     "traceback": [
      "\u001b[0;31m---------------------------------------------------------------------------\u001b[0m",
      "\u001b[0;31mNameError\u001b[0m                                 Traceback (most recent call last)",
      "Cell \u001b[0;32mIn[9], line 1\u001b[0m\n\u001b[0;32m----> 1\u001b[0m df4\u001b[39m.\u001b[39mhead()\n",
      "\u001b[0;31mNameError\u001b[0m: name 'df4' is not defined"
     ]
    }
   ],
   "source": [
    "df4.head()"
   ]
  },
  {
   "cell_type": "code",
   "execution_count": 10,
   "metadata": {},
   "outputs": [],
   "source": [
    "BASE_DIR = Path('__file__').resolve().parent.parent\n",
    "EXPORT_DIR = BASE_DIR.joinpath(\"modeling\", \"data\")\n",
    "\n",
    "\n",
    "def df2sentence(df: pd.DataFrame, cols: List[str]) -> List[str]:\n",
    "    sentence = [df[col].tolist() for col in cols]\n",
    "    sentence = list(itertools.chain(*sentence))\n",
    "    sentence = [s for s in sentence if type(s) == str]\n",
    "    sentence = [s.split('.') for s in sentence]\n",
    "    sentence = list(itertools.chain(*sentence))\n",
    "    sentence = [s.strip() for s in sentence if s.strip()]\n",
    "    sentence = [s for s in sentence if len(s) > 5]\n",
    "    return sentence\n"
   ]
  },
  {
   "cell_type": "code",
   "execution_count": 47,
   "metadata": {},
   "outputs": [],
   "source": [
    "formal_cols = ['formal', 'gentle']\n",
    "informal_cols = ['informal', 'chat', 'enfp', 'sosim', 'choding', 'joongding']"
   ]
  },
  {
   "cell_type": "code",
   "execution_count": 49,
   "metadata": {},
   "outputs": [],
   "source": [
    "smg_formal = df2sentence(df3, formal_cols)\n",
    "smg_infomal = df2sentence(df3, informal_cols)"
   ]
  },
  {
   "cell_type": "code",
   "execution_count": 59,
   "metadata": {},
   "outputs": [],
   "source": [
    "chat_formal = df2sentence(df4, ['시스템문장1', '시스템문장2', '시스템문장3'])\n",
    "chat_informal = df2sentence(df4, ['사람문장1', '사람문장2', '사람문장3'])"
   ]
  },
  {
   "cell_type": "code",
   "execution_count": 61,
   "metadata": {},
   "outputs": [],
   "source": [
    "formal_data = smg_formal + chat_formal\n",
    "informal_data = smg_infomal + chat_informal"
   ]
  },
  {
   "cell_type": "code",
   "execution_count": 66,
   "metadata": {},
   "outputs": [],
   "source": [
    "data = pd.concat([pd.DataFrame({'sentence': informal_data, \"label\": 0}), pd.DataFrame(\n",
    "    {'sentence': formal_data, \"label\": 1})])"
   ]
  },
  {
   "cell_type": "code",
   "execution_count": 67,
   "metadata": {},
   "outputs": [
    {
     "data": {
      "text/html": [
       "<div>\n",
       "<style scoped>\n",
       "    .dataframe tbody tr th:only-of-type {\n",
       "        vertical-align: middle;\n",
       "    }\n",
       "\n",
       "    .dataframe tbody tr th {\n",
       "        vertical-align: top;\n",
       "    }\n",
       "\n",
       "    .dataframe thead th {\n",
       "        text-align: right;\n",
       "    }\n",
       "</style>\n",
       "<table border=\"1\" class=\"dataframe\">\n",
       "  <thead>\n",
       "    <tr style=\"text-align: right;\">\n",
       "      <th></th>\n",
       "      <th>sentence</th>\n",
       "      <th>label</th>\n",
       "    </tr>\n",
       "  </thead>\n",
       "  <tbody>\n",
       "    <tr>\n",
       "      <th>0</th>\n",
       "      <td>안녕! 나는 고양이 6마리 키워</td>\n",
       "      <td>0</td>\n",
       "    </tr>\n",
       "    <tr>\n",
       "      <th>1</th>\n",
       "      <td>고양이를 6마리나? 키우는거 안 힘들어?</td>\n",
       "      <td>0</td>\n",
       "    </tr>\n",
       "    <tr>\n",
       "      <th>2</th>\n",
       "      <td>내가 워낙 고양이를 좋아해서 크게 힘들진 않아</td>\n",
       "      <td>0</td>\n",
       "    </tr>\n",
       "    <tr>\n",
       "      <th>3</th>\n",
       "      <td>가장 나이가 많은 고양이가 몇 살이야?</td>\n",
       "      <td>0</td>\n",
       "    </tr>\n",
       "    <tr>\n",
       "      <th>4</th>\n",
       "      <td>여섯 살이야</td>\n",
       "      <td>0</td>\n",
       "    </tr>\n",
       "    <tr>\n",
       "      <th>...</th>\n",
       "      <td>...</td>\n",
       "      <td>...</td>\n",
       "    </tr>\n",
       "    <tr>\n",
       "      <th>202149</th>\n",
       "      <td>말해도 친구가 계속 늦는군요</td>\n",
       "      <td>1</td>\n",
       "    </tr>\n",
       "    <tr>\n",
       "      <th>202150</th>\n",
       "      <td>가족에게 감사한 마음을 표현하기로 하셨군요</td>\n",
       "      <td>1</td>\n",
       "    </tr>\n",
       "    <tr>\n",
       "      <th>202151</th>\n",
       "      <td>노래를 들으며 기분 전환을 하시는군요</td>\n",
       "      <td>1</td>\n",
       "    </tr>\n",
       "    <tr>\n",
       "      <th>202152</th>\n",
       "      <td>점심도 먹으며 친구와 친하게 지내고 계시는군요</td>\n",
       "      <td>1</td>\n",
       "    </tr>\n",
       "    <tr>\n",
       "      <th>202153</th>\n",
       "      <td>다 먹지도 못할 음식을 사진 찍기용으로 가져다 와서 실망하셨군요</td>\n",
       "      <td>1</td>\n",
       "    </tr>\n",
       "  </tbody>\n",
       "</table>\n",
       "<p>427064 rows × 2 columns</p>\n",
       "</div>"
      ],
      "text/plain": [
       "                                   sentence  label\n",
       "0                         안녕! 나는 고양이 6마리 키워      0\n",
       "1                    고양이를 6마리나? 키우는거 안 힘들어?      0\n",
       "2                 내가 워낙 고양이를 좋아해서 크게 힘들진 않아      0\n",
       "3                     가장 나이가 많은 고양이가 몇 살이야?      0\n",
       "4                                    여섯 살이야      0\n",
       "...                                     ...    ...\n",
       "202149                      말해도 친구가 계속 늦는군요      1\n",
       "202150              가족에게 감사한 마음을 표현하기로 하셨군요      1\n",
       "202151                 노래를 들으며 기분 전환을 하시는군요      1\n",
       "202152            점심도 먹으며 친구와 친하게 지내고 계시는군요      1\n",
       "202153  다 먹지도 못할 음식을 사진 찍기용으로 가져다 와서 실망하셨군요      1\n",
       "\n",
       "[427064 rows x 2 columns]"
      ]
     },
     "execution_count": 67,
     "metadata": {},
     "output_type": "execute_result"
    }
   ],
   "source": [
    "data"
   ]
  },
  {
   "cell_type": "code",
   "execution_count": 70,
   "metadata": {},
   "outputs": [],
   "source": [
    "# shuffle\n",
    "data = data.sample(frac=1)\n",
    "data.reset_index(drop=True, inplace=True)"
   ]
  },
  {
   "cell_type": "code",
   "execution_count": 72,
   "metadata": {},
   "outputs": [],
   "source": [
    "split_rate: Final[float] = 0.1\n",
    "\n",
    "# 테스트&검증 데이터 비율 설정\n",
    "range_ = int(len(data) * split_rate)\n",
    "\n",
    "# 데이터 분할\n",
    "val = data[:range_]\n",
    "test = data[range_:range_ * 2]\n",
    "train = data[range_ * 2:]"
   ]
  },
  {
   "cell_type": "code",
   "execution_count": 76,
   "metadata": {},
   "outputs": [
    {
     "name": "stderr",
     "output_type": "stream",
     "text": [
      "/tmp/ipykernel_16352/275514261.py:2: SettingWithCopyWarning: \n",
      "A value is trying to be set on a copy of a slice from a DataFrame\n",
      "\n",
      "See the caveats in the documentation: https://pandas.pydata.org/pandas-docs/stable/user_guide/indexing.html#returning-a-view-versus-a-copy\n",
      "  train.drop_duplicates(subset=['sentence'], inplace=True, ignore_index=True)\n",
      "/tmp/ipykernel_16352/275514261.py:3: SettingWithCopyWarning: \n",
      "A value is trying to be set on a copy of a slice from a DataFrame\n",
      "\n",
      "See the caveats in the documentation: https://pandas.pydata.org/pandas-docs/stable/user_guide/indexing.html#returning-a-view-versus-a-copy\n",
      "  test.drop_duplicates(subset=['sentence'], inplace=True, ignore_index=True)\n",
      "/tmp/ipykernel_16352/275514261.py:4: SettingWithCopyWarning: \n",
      "A value is trying to be set on a copy of a slice from a DataFrame\n",
      "\n",
      "See the caveats in the documentation: https://pandas.pydata.org/pandas-docs/stable/user_guide/indexing.html#returning-a-view-versus-a-copy\n",
      "  val.drop_duplicates(subset=['sentence'], inplace=True, ignore_index=True)\n"
     ]
    }
   ],
   "source": [
    "# 중복 제거\n",
    "train.drop_duplicates(subset=['sentence'], inplace=True, ignore_index=True)\n",
    "test.drop_duplicates(subset=['sentence'], inplace=True, ignore_index=True)\n",
    "val.drop_duplicates(subset=['sentence'], inplace=True, ignore_index=True)"
   ]
  },
  {
   "cell_type": "code",
   "execution_count": 81,
   "metadata": {},
   "outputs": [],
   "source": [
    "if not os.path.exists(EXPORT_DIR):\n",
    "    os.makedirs(EXPORT_DIR)\n",
    "\n",
    "# print(\"train label rate: \",train['label'].value_counts())\n",
    "# print(\"dev label rate: \",dev['label'].value_counts())\n",
    "# print(\"test label rate: \",test['label'].value_counts())\n",
    "\n",
    "# 데이터 내보내기\n",
    "train.to_csv(EXPORT_DIR.joinpath(\"train.tsv\"), sep=\"\\t\")\n",
    "val.to_csv(EXPORT_DIR.joinpath(\"dev.tsv\"), sep=\"\\t\")\n",
    "test.to_csv(EXPORT_DIR.joinpath(\"test.tsv\"), sep=\"\\t\")"
   ]
  },
  {
   "cell_type": "code",
   "execution_count": 83,
   "metadata": {},
   "outputs": [],
   "source": [
    "import torch"
   ]
  },
  {
   "cell_type": "code",
   "execution_count": 87,
   "metadata": {},
   "outputs": [
    {
     "data": {
      "text/plain": [
       "PosixPath('/home/woochan/final_project/workspace')"
      ]
     },
     "execution_count": 87,
     "metadata": {},
     "output_type": "execute_result"
    }
   ],
   "source": [
    "BASE_DIR = Path(\"__file__\").resolve().parent.parent\n",
    "BASE_DIR"
   ]
  },
  {
   "cell_type": "code",
   "execution_count": 90,
   "metadata": {},
   "outputs": [
    {
     "data": {
      "text/plain": [
       "False"
      ]
     },
     "execution_count": 90,
     "metadata": {},
     "output_type": "execute_result"
    }
   ],
   "source": [
    "torch.cuda.is_available()"
   ]
  }
 ],
 "metadata": {
  "kernelspec": {
   "display_name": "Python 3",
   "language": "python",
   "name": "python3"
  },
  "language_info": {
   "codemirror_mode": {
    "name": "ipython",
    "version": 3
   },
   "file_extension": ".py",
   "mimetype": "text/x-python",
   "name": "python",
   "nbconvert_exporter": "python",
   "pygments_lexer": "ipython3",
   "version": "3.10.6"
  },
  "orig_nbformat": 4
 },
 "nbformat": 4,
 "nbformat_minor": 2
}
