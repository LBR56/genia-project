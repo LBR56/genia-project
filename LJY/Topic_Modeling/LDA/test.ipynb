{
 "cells": [
  {
   "cell_type": "code",
   "execution_count": 1,
   "metadata": {},
   "outputs": [],
   "source": [
    "import numpy as np\n",
    "import itertools\n",
    "import pandas as pd\n",
    "\n",
    "from konlpy.tag import Mecab\n",
    "from sklearn.feature_extraction.text import CountVectorizer\n",
    "from sklearn.metrics.pairwise import cosine_similarity\n",
    "from sentence_transformers import SentenceTransformer\n",
    "\n",
    "from Preprocess import load, text_preprocess"
   ]
  },
  {
   "cell_type": "code",
   "execution_count": 2,
   "metadata": {},
   "outputs": [],
   "source": [
    "texts = pd.read_csv(\"./Data/csv/dummy_transcripts.csv\")[\"text\"]"
   ]
  },
  {
   "cell_type": "code",
   "execution_count": 3,
   "metadata": {},
   "outputs": [],
   "source": [
    "texts = \"\".join(texts)"
   ]
  },
  {
   "cell_type": "code",
   "execution_count": 4,
   "metadata": {},
   "outputs": [
    {
     "data": {
      "text/plain": [
       "'이번 시간 인수 분해 인 수분 우리 곱셈 공식 밀접 관련 곱셈 공식 필요 다항식 뜰 곱 전개 데 필요 공식 당시 게 곳 전개 것 이인수 분 관련 우리 곱셈 공식 거 기억 거 뭐 다음 식과 다음 식 고 제곱 플러스 유 다항식 곱셈 하나 당 식 표현 수 걸 그때 이쪽 일 과정 우리 전개 표현 일쑤 분해 건 뭘 얘기 이쪽 과정 인수 분해 얘기 이 둘 차이점 뭐 전개 것 개 이상 다항식 하나 다항식 표현 거 요인 수분 것 하나 다항식 개 이상 다항식 곱 표현 게 인 수분 이때 당시 이 뭐 이우 변 방식 제곱 플러스 인수 얘기 하나 당시 글 인수 분해 그것 곱 표현 의미 우리 이름 인수 분해 거 여기 말씀 학생 질문 선생 제 걸 예 숫자 곱 표현 것 인수 분해 이것 건가요 질문 여러분 제 뭐 하나 당시 글 개 이상 다항식 곱 표현 것 인수 분해 다 말씀 다항식 게 뭐 다항식 하나 이상 다낭 식 뜰 덧셈 뺄셈 시기 우리 다낭 식도 다항식 포함 거 다낭 시계 상수 항의 것 상수 왕 숫자 존재 항의 문자 것 우리 상상 상수 항 팔 상수 항의 낭 식 낭 다항식 표현 포함 사와이 마찬가지 우리 다항식 수 팔 사 이 곱 표현 것 우리 인 수분 얘기 것 얘기 겁니다 여러분 소인수 분해 얘기 거 분해 건 뭐 예 곱 로 도 표현 수 곱 곱 로 도 표현 수 이걸 우리 의 세제곱 표현 소인수 분해 건 뭐 인수 분해 누구 인 수분 얘기 소수 인수 분해 얘기 여기 곱 이 소수 소수 앤 이사 소수 고 곱 호 인수 구매 겁니다 파리 것 수 소수 곱 표현 수 때문 소수 이용 인수 분해 것 우리 소인 수분 거 여기 인 수분 뭔지 감 겁니다 우리 다음 것 인수 분해 방법 뭐 거 지금 얘기 번 인수 분해 때 우리 게 뭐 공통 인수 겁니다 번 제목 공통 인수 거 자요 예 하나 게 요예 제곱 플러스 당시 글 수분 나 문제 생각 여기 각각 낭 이 남 들 공통 술 거 예 제곱 반항 곱 수 곱 수 안 공통 인수 걸 수 공통 인수 다음 괄호 프라스 겁니다 요거 전개 제곱 플러스 개 공통 인수 수 거 얘 요건 얘 지와 곱 표현 거 얘 곡 표현 거 때문 안 공통 수 누가 거 이지 공통 인수 겁니다 우리 예 로또 앞 둘 다음 플러스 겁니다 여기 질문 학생 질문 뭐 대답 곤란 데 이거 전개 전개 얘 게 거 전개 얘 게 게 거 여기 공통 인수 눈 누가 공통 여기 우변 공통 숯 프라스 플러스 이 공통 인수 눈 거 플러스 이 뒤 다음 플러스 걸 수 전개 요걸 통째 하나 애 징거 지와 애 걸 거 하나 다항식 다항식 고부 로만 표현 인수 분 끝 거 요당 인 수분 말 수 겁니다 예 식 인 수분 수 우리 수 요거 게 인수 분해 이거 거 처음 공통 인수 어디 어디 거 여기 요기 하나 다음 거 다음 번 공통 인수 거 여기 여기 겁니다 번 수분 처음 여기 여기 공통 인수 우리 걸 수 다음 여기 여기 플러스 여기 쥐 공통 인수 눈 거 여기 요거 개 플러스 뒤쪽 지 이때 통째 하나 생각 전개 때 예 지 징 여기 씨 징 여기 이거 전개 때 이거 거 다항식 뜰 곱 표현 때문 인수 분 끝 위 결과 곱셈 교환 법칙 성립 때문 위 나 결과 걸 수 얘 것 인수 분 번 공통 인수 것 인수 뭐 걔 연습 다음 번 건데요 번 뭐 인수 분 공식 예 제곱 제곱 이퀄 뭐 이거 어디 거 어디 곱셈 공식 거 곱셈 공식 말 합 차 공식 아제 고백 제곱 제곱 빚 법 제 말씀 인수 분해 것 전개 게인 수분 곱셈 공식 좌 병 우변 그게 인수 분해 공식 곱셈 공식 인수 분 공식 덤 겁니다 예 번 예제 거 생각 수 제곱 세고 예 인 수분 앞 전체 제곱 수 뒤 전체 제곱 수 제고 제곱 형태 위 인수 분해 공식 사용 요거 개 거 요거 개 뺑 거 플러스 다음 수 얘기 다항식 개 곱 표현 때문 이 하나 다음 식 인 수분 게 거 태초 곱셈 공식 방법 인수 분해 수 거 걸 인수 분해 수 이거 곱셈 공식 서다 원 것 때문 인수 분해 수 다음 번 제 여러분 곱셈 공식 하나 좌 병 우변 뭐 제곱 플러스 플러스 얘 플라스 플러스 곱 우리 표현 수 곱셈 공식 이거 개 개 공식 지만 수분 다항식 다음 식 곱 수 거 요게 인수 분 공식 겁니다 이번 에서 우리 인수 분해 수 생각 수 문제 건 예 제고 이 식 인 수분 문제 여기 모피 뭐 생각 수 고삐 뭔지 때 애 전개 과정 생각 그게 얘기 우리 이식 전개 때 팝 제곱 거 다음 곱 여기 거 다음 뭐 다음 겁니다 마지막 누굴 거 예 걸 자요 과정 옆 게 세로 세로 다음 다음 겁니다 우리 거 이걸 랑 란 저서 제곱 생각 수 다음 마지막 것 여기 파랑 색 표시 건 영서 수 건 자기 옆 저쪽 액션 그림 애인 이쪽 액상 거 다음 비 누구 패지 자기 옆 쪽 액상 그림 누구 거 겁니다 우리 이걸 표현 제법 다음 겁니다 요거 뜰 여기 좌변 방식 걸 수 건 뭐 이거 개 시계 창 걸 방법 이식 인 수분 사용 제곱 곱 표현 수 세로 때 제곱 직업 걸 다음 여기 여기 누가 구두 이 부 신경 요육 개 수 프로 표현 방법 뭐 그것 생각 과육 곱 표현 수 와 의 곱 표현 수 일과 의 곱 시도 거 일과 게 유기 이 둘 중 하나 음수 일 유기 가정 크로스 로고 거 크로스 이거 개 한계 누구 시계 창과 그거 말씀 이거 개 한계 이건 우리 게 수 번 시도 부가 일 쪽 부 부 게 생각 수 데 이 둘 그정 랑 이것 걸 수 과 생각 수 구나 시도 거 여기 분 누구 겁니다 여기 고영희 이거 개 때 이건 이것 우리 게 여기 시도 수 여기 를 이거 개 섹스 얘기 골 거 인숙 은혜 여기 플러스 플러스 로 다음 영이 옆 플러스 피 원래 플러스 이음 플러스 마이너스 거 이 차 식 인 수분 걸 확인 수 방법 분 기억 선생 이거 인수 분 번 번 시행착오 뭔가요 이게 말씀 이게 처음 이거 개 이걸 번 마인 고려 수 과육 쪽 보호 마이너 섹스 수 걸 우리 직감 거 경우 제외 시도 게 겁니다 연습 중요 태초 여러분 가지 팁 필요 이겁니다 우리 개수 거 때문 생각 뜻 원래 곱 이것 곱 개수 겁니다 것 이것 크로스 패도 요거 개 항의 예수 란 지만 확인 거 우리 개수 계산 둘 합 액상 계수 고걸 확인 방법 사용 날 이걸 이용 인수 분해 우리 곱셈 공식 중 뭐 게 플라스 다음 씨 플러스 뒤 씨 어디 씨 플러스 예 뭐 이거 씨 제고 플러스 플라스 씨 다음 플라스 게 금 예 좌 병 우변 얘 이제 수분 공식 이게 공식 이용 수 것 게 이것 자 예제 하나 제 액 인 수분 문제 접근 방법 겁니다 요기 세로 세로 데 개수 만 영 이 육 수 방법 경우 우리 거 예 과 거 여기 과 겁니다 다음 곱 고요 크로스 여기 개 중 하나 음수 생각 크로스 크로스 여기 유기 여기 수 계수 확인 이거 뜻 이거 시도 이쪽 개 수 를 이건 이거 번 얘 여기 정 여기 요걸 화 화 거 부 고려 상태 화 사 를 게 가능 그거 면 를 게 를 화 를 수 여기 면 여기 겁니다 얘 수 자의 은 가 옆 건데 게 수 거 은 다음 쪽 뭐 엑스트라 겁니다 얘 인수 분해 다음 플러스 전개 제곱 플러스 겁니다 태초 뜰 제 인수 분해 선생 선생 이거 가지 여기 가지 가지 시도 경우 수 가지 이걸 말씀 데 저 번 여러분 것 뿐 그거 여러분 연습 번 저 인수 분해 수 문제 하나 얘 다음 플러스 다음 얘 인수 분해 생각 첫째 문자 고려 우린 계수 곱 생각 이건 도 이 우린 팔 유끼 아이 쪽 이고 이쪽 크로스 때 뭐 크로스 여기 고 여기 일 쪽 이쪽 팔 수 생각 수 여기 거 원래 개 여기 이쪽 여기 여기 하나 이쪽 거 여기 겁니다 때 플러스 예 인수 불 다음 엑스트라 스 파이 인 수분 플러스 다음 얼마 거 제곱 걸 수 얘기 번 시행착오 거 시행착오 수 방법 연습 밖 여러분 수 문제 인수 분해 수 훈련 자기 자신 이번 시간 인수 분 번 시간 기본 인수 분 공식 뜰 중요 인 수분 중요 앞 사용 거 이해 생각 이해 연습'"
      ]
     },
     "execution_count": 4,
     "metadata": {},
     "output_type": "execute_result"
    }
   ],
   "source": [
    "mecab = Mecab()\n",
    "\n",
    "tokenized_doc = mecab.nouns(texts)\n",
    "tokenized_nouns = \" \".join(tokenized_doc)\n",
    "tokenized_nouns"
   ]
  },
  {
   "cell_type": "code",
   "execution_count": 5,
   "metadata": {},
   "outputs": [
    {
     "name": "stdout",
     "output_type": "stream",
     "text": [
      "trigram 개 수 : 1494\n",
      "trigram 다 섯 개 만 출 력 : ['가능 그거' '가능 그거 여기' '가정 크로스' '가정 크로스 로고' '가지 가지']\n"
     ]
    }
   ],
   "source": [
    "n_gram_range = (2,3)\n",
    "count = CountVectorizer(ngram_range=n_gram_range).fit([tokenized_nouns])\n",
    "candidates = count.get_feature_names_out()\n",
    "\n",
    "print('trigram 개 수 :',len(candidates))\n",
    "print('trigram 다 섯 개 만 출 력 :',candidates[:5])"
   ]
  },
  {
   "cell_type": "code",
   "execution_count": 6,
   "metadata": {},
   "outputs": [],
   "source": [
    "model = SentenceTransformer('sentence-transformers/xlm-r-100langs-bert-base-nli-stsb-mean-tokens')"
   ]
  },
  {
   "cell_type": "code",
   "execution_count": 7,
   "metadata": {},
   "outputs": [],
   "source": [
    "doc_embedding = model.encode([texts])\n",
    "candidates_embeddings = model.encode(candidates)"
   ]
  },
  {
   "cell_type": "code",
   "execution_count": 8,
   "metadata": {},
   "outputs": [
    {
     "name": "stdout",
     "output_type": "stream",
     "text": [
      "['곱셈 교환 법칙', '밀접 관련 곱셈', '인수 결과 곱셈', '곱셈 공식 방법', '인수 시행착오 뭔가요']\n"
     ]
    }
   ],
   "source": [
    "top_n = 5 # 상위 5개 키워드\n",
    "distances = cosine_similarity(doc_embedding, candidates_embeddings)\n",
    "keywords = [candidates[index] for index in distances.argsort()[0][-top_n:]]\n",
    "print(keywords)"
   ]
  },
  {
   "attachments": {},
   "cell_type": "markdown",
   "metadata": {},
   "source": [
    "## 다양한 키워드 얻기\n",
    "- Max sum similarity\n",
    "- Maximal Marginal Relevance"
   ]
  },
  {
   "attachments": {},
   "cell_type": "markdown",
   "metadata": {},
   "source": [
    "### 1. Max Sum Similarity\n",
    "- 데이터 쌍 사이의 최대 합 거리는 데이터 쌍 간의 거리가 최대화되는 데이터 쌍으로 정의 된다.\n",
    "- 후보간의 유사성을 최소화 하면서 문서와의 후보 유사성을 극대화하자"
   ]
  },
  {
   "cell_type": "code",
   "execution_count": 9,
   "metadata": {},
   "outputs": [],
   "source": [
    "def max_sum_sim(doc_embedding, candidate_embeddings, words, top_n, nr_candidates):\n",
    "    # 문서와 각 키워드들 간의 유사도\n",
    "    distances = cosine_similarity(doc_embedding, candidate_embeddings)\n",
    "\n",
    "    # 각 키워드들 간의 유사도\n",
    "    distances_candidates = cosine_similarity(candidate_embeddings, candidate_embeddings)\n",
    "\n",
    "    # 코사인 유사도에 기반하여 키워드들 중 상위 top_n 단어 pick\n",
    "    words_idx = list(distances.argsort()[0][-nr_candidates:])\n",
    "    words_vals = [candidates[index] for index in words_idx] \n",
    "    distances_candidates = distances_candidates[np.ix_(words_idx, words_idx)]\n",
    "\n",
    "    # 각 키워드들 중에서 가장 덜 유사한 키워드들간의 조합을 계산\n",
    "    min_sim = np.inf\n",
    "    candicate = None\n",
    "    for combination in itertools.combinations(range(len(words_idx)), top_n):\n",
    "        sim = sum([distances_candidates[i][j] for i in combination for j in combination if i != j])\n",
    "        if sim < min_sim:\n",
    "            candicate = combination\n",
    "            min_sim = sim\n",
    "\n",
    "    return [words_vals[idx] for idx in candicate]\n"
   ]
  },
  {
   "cell_type": "code",
   "execution_count": 10,
   "metadata": {},
   "outputs": [
    {
     "data": {
      "text/plain": [
       "['기본 인수 공식', '인수 인수 연습', '밀접 관련 곱셈', '인수 결과 곱셈', '인수 시행착오 뭔가요']"
      ]
     },
     "execution_count": 10,
     "metadata": {},
     "output_type": "execute_result"
    }
   ],
   "source": [
    "max_sum_sim(doc_embedding, candidates_embeddings, candidates, top_n=5, nr_candidates=10)"
   ]
  },
  {
   "cell_type": "code",
   "execution_count": 11,
   "metadata": {},
   "outputs": [
    {
     "data": {
      "text/plain": [
       "['생각 이해 연습', '일과 시도', '선생 숫자 표현', '포함 사와이 마찬가지', '밀접 관련 곱셈']"
      ]
     },
     "execution_count": 11,
     "metadata": {},
     "output_type": "execute_result"
    }
   ],
   "source": [
    "# 높은 nr_candidates는 상대적으로 다양한 키워드를 만든다\n",
    "max_sum_sim(doc_embedding, candidates_embeddings, candidates, top_n=5, nr_candidates=30)"
   ]
  },
  {
   "attachments": {},
   "cell_type": "markdown",
   "metadata": {},
   "source": [
    "---\n",
    "## CTM"
   ]
  },
  {
   "cell_type": "code",
   "execution_count": 12,
   "metadata": {},
   "outputs": [],
   "source": [
    "from contextualized_topic_models.models.ctm import CombinedTM\n",
    "from contextualized_topic_models.utils.data_preparation import TopicModelDataPreparation, bert_embeddings_from_list\n",
    "from contextualized_topic_models.utils.preprocessing import WhiteSpacePreprocessing\n",
    "from sklearn.feature_extraction.text import CountVectorizer\n",
    "from konlpy.tag import Mecab\n",
    "from tqdm import tqdm"
   ]
  },
  {
   "cell_type": "code",
   "execution_count": 13,
   "metadata": {},
   "outputs": [],
   "source": [
    "loader = load.DataLoad(\n",
    "    tran_path = \"./Data/csv/sample_transcripts.csv\",\n",
    "    meta_path=\"./Data/csv/sample_videos.csv\"\n",
    ")"
   ]
  },
  {
   "cell_type": "code",
   "execution_count": 14,
   "metadata": {},
   "outputs": [],
   "source": [
    "texts_dict_popular, texts_dict_unpopular = loader.get_data_set()"
   ]
  },
  {
   "cell_type": "code",
   "execution_count": 15,
   "metadata": {},
   "outputs": [],
   "source": [
    "preprocessor = text_preprocess.Preprocess(stopwords=load.DataLoad.load_stopwords())"
   ]
  },
  {
   "cell_type": "code",
   "execution_count": 16,
   "metadata": {},
   "outputs": [
    {
     "name": "stderr",
     "output_type": "stream",
     "text": [
      "[Kss]: Oh! You have konlpy.tag.Mecab in your environment. Kss will take this as a backend! :D\n",
      "\n"
     ]
    },
    {
     "data": {
      "application/vnd.jupyter.widget-view+json": {
       "model_id": "71762e1e7ab9418b89d73515d1c4b4a7",
       "version_major": 2,
       "version_minor": 0
      },
      "text/plain": [
       "  0%|          | 0/42 [00:00<?, ?it/s]"
      ]
     },
     "metadata": {},
     "output_type": "display_data"
    },
    {
     "data": {
      "application/vnd.jupyter.widget-view+json": {
       "model_id": "c45b0674dc874f289251edf53ccd7372",
       "version_major": 2,
       "version_minor": 0
      },
      "text/plain": [
       "  0%|          | 0/142 [00:00<?, ?it/s]"
      ]
     },
     "metadata": {},
     "output_type": "display_data"
    },
    {
     "data": {
      "application/vnd.jupyter.widget-view+json": {
       "model_id": "71c4476885724aee92ff9af3a72b72f3",
       "version_major": 2,
       "version_minor": 0
      },
      "text/plain": [
       "  0%|          | 0/97 [00:00<?, ?it/s]"
      ]
     },
     "metadata": {},
     "output_type": "display_data"
    },
    {
     "data": {
      "application/vnd.jupyter.widget-view+json": {
       "model_id": "76d4bfe9911047d7b92ed746aa95f173",
       "version_major": 2,
       "version_minor": 0
      },
      "text/plain": [
       "  0%|          | 0/134 [00:00<?, ?it/s]"
      ]
     },
     "metadata": {},
     "output_type": "display_data"
    },
    {
     "data": {
      "application/vnd.jupyter.widget-view+json": {
       "model_id": "b3878c71e8d04d6fa126ad2e872a538f",
       "version_major": 2,
       "version_minor": 0
      },
      "text/plain": [
       "  0%|          | 0/44 [00:00<?, ?it/s]"
      ]
     },
     "metadata": {},
     "output_type": "display_data"
    },
    {
     "data": {
      "application/vnd.jupyter.widget-view+json": {
       "model_id": "a0dc8a7dad0347bf88e60c21e50c4d95",
       "version_major": 2,
       "version_minor": 0
      },
      "text/plain": [
       "  0%|          | 0/69 [00:00<?, ?it/s]"
      ]
     },
     "metadata": {},
     "output_type": "display_data"
    },
    {
     "data": {
      "application/vnd.jupyter.widget-view+json": {
       "model_id": "d1815ad9fa534683a2f4dcd137bf9bf6",
       "version_major": 2,
       "version_minor": 0
      },
      "text/plain": [
       "  0%|          | 0/389 [00:00<?, ?it/s]"
      ]
     },
     "metadata": {},
     "output_type": "display_data"
    },
    {
     "data": {
      "application/vnd.jupyter.widget-view+json": {
       "model_id": "a0f4aa2c320b4c21b042704ae9ba7f34",
       "version_major": 2,
       "version_minor": 0
      },
      "text/plain": [
       "  0%|          | 0/149 [00:00<?, ?it/s]"
      ]
     },
     "metadata": {},
     "output_type": "display_data"
    },
    {
     "data": {
      "application/vnd.jupyter.widget-view+json": {
       "model_id": "a9629bcaea9d4f189e90379cadcf3ccb",
       "version_major": 2,
       "version_minor": 0
      },
      "text/plain": [
       "  0%|          | 0/355 [00:00<?, ?it/s]"
      ]
     },
     "metadata": {},
     "output_type": "display_data"
    },
    {
     "data": {
      "application/vnd.jupyter.widget-view+json": {
       "model_id": "206c767b01d24674a3ed7bd67a1911ce",
       "version_major": 2,
       "version_minor": 0
      },
      "text/plain": [
       "  0%|          | 0/88 [00:00<?, ?it/s]"
      ]
     },
     "metadata": {},
     "output_type": "display_data"
    },
    {
     "data": {
      "application/vnd.jupyter.widget-view+json": {
       "model_id": "cbfdc25e57d140728ddc199ffc62f5c3",
       "version_major": 2,
       "version_minor": 0
      },
      "text/plain": [
       "  0%|          | 0/84 [00:00<?, ?it/s]"
      ]
     },
     "metadata": {},
     "output_type": "display_data"
    },
    {
     "data": {
      "application/vnd.jupyter.widget-view+json": {
       "model_id": "193c42152f4d4650bbc85442c35cb283",
       "version_major": 2,
       "version_minor": 0
      },
      "text/plain": [
       "  0%|          | 0/104 [00:00<?, ?it/s]"
      ]
     },
     "metadata": {},
     "output_type": "display_data"
    },
    {
     "data": {
      "application/vnd.jupyter.widget-view+json": {
       "model_id": "13027aa4ce134d139c937136d43572a7",
       "version_major": 2,
       "version_minor": 0
      },
      "text/plain": [
       "0it [00:00, ?it/s]"
      ]
     },
     "metadata": {},
     "output_type": "display_data"
    },
    {
     "data": {
      "application/vnd.jupyter.widget-view+json": {
       "model_id": "e07447e82a334747a1c33151c6fe4f81",
       "version_major": 2,
       "version_minor": 0
      },
      "text/plain": [
       "  0%|          | 0/101 [00:00<?, ?it/s]"
      ]
     },
     "metadata": {},
     "output_type": "display_data"
    },
    {
     "data": {
      "application/vnd.jupyter.widget-view+json": {
       "model_id": "74c93ecc82d44c6f9b0c6e4f2212df02",
       "version_major": 2,
       "version_minor": 0
      },
      "text/plain": [
       "  0%|          | 0/61 [00:00<?, ?it/s]"
      ]
     },
     "metadata": {},
     "output_type": "display_data"
    },
    {
     "data": {
      "application/vnd.jupyter.widget-view+json": {
       "model_id": "1f5bd44599a741ac91aafc8efc38c1a0",
       "version_major": 2,
       "version_minor": 0
      },
      "text/plain": [
       "  0%|          | 0/86 [00:00<?, ?it/s]"
      ]
     },
     "metadata": {},
     "output_type": "display_data"
    },
    {
     "data": {
      "application/vnd.jupyter.widget-view+json": {
       "model_id": "7570eef9af9e4ce48a4022294fb4e049",
       "version_major": 2,
       "version_minor": 0
      },
      "text/plain": [
       "  0%|          | 0/52 [00:00<?, ?it/s]"
      ]
     },
     "metadata": {},
     "output_type": "display_data"
    },
    {
     "data": {
      "application/vnd.jupyter.widget-view+json": {
       "model_id": "80bafd0ad713483683fa68877c1fe2d5",
       "version_major": 2,
       "version_minor": 0
      },
      "text/plain": [
       "  0%|          | 0/251 [00:00<?, ?it/s]"
      ]
     },
     "metadata": {},
     "output_type": "display_data"
    },
    {
     "data": {
      "application/vnd.jupyter.widget-view+json": {
       "model_id": "914cb5d327f34ecdaf14d81d00257ed2",
       "version_major": 2,
       "version_minor": 0
      },
      "text/plain": [
       "  0%|          | 0/527 [00:00<?, ?it/s]"
      ]
     },
     "metadata": {},
     "output_type": "display_data"
    },
    {
     "data": {
      "application/vnd.jupyter.widget-view+json": {
       "model_id": "9e50e7d8ce2c440ab31cc60710ee4cd6",
       "version_major": 2,
       "version_minor": 0
      },
      "text/plain": [
       "  0%|          | 0/75 [00:00<?, ?it/s]"
      ]
     },
     "metadata": {},
     "output_type": "display_data"
    },
    {
     "data": {
      "application/vnd.jupyter.widget-view+json": {
       "model_id": "062791ce9b36451fa20990b5b0df0726",
       "version_major": 2,
       "version_minor": 0
      },
      "text/plain": [
       "  0%|          | 0/70 [00:00<?, ?it/s]"
      ]
     },
     "metadata": {},
     "output_type": "display_data"
    },
    {
     "data": {
      "application/vnd.jupyter.widget-view+json": {
       "model_id": "472556f490bf4a56967880569971dae2",
       "version_major": 2,
       "version_minor": 0
      },
      "text/plain": [
       "  0%|          | 0/53 [00:00<?, ?it/s]"
      ]
     },
     "metadata": {},
     "output_type": "display_data"
    },
    {
     "data": {
      "application/vnd.jupyter.widget-view+json": {
       "model_id": "4de2900c27264c35851ca34d768ebdaf",
       "version_major": 2,
       "version_minor": 0
      },
      "text/plain": [
       "  0%|          | 0/85 [00:00<?, ?it/s]"
      ]
     },
     "metadata": {},
     "output_type": "display_data"
    },
    {
     "data": {
      "application/vnd.jupyter.widget-view+json": {
       "model_id": "27ad0804ccba4b9fb0af178785a319c8",
       "version_major": 2,
       "version_minor": 0
      },
      "text/plain": [
       "  0%|          | 0/43 [00:00<?, ?it/s]"
      ]
     },
     "metadata": {},
     "output_type": "display_data"
    },
    {
     "data": {
      "application/vnd.jupyter.widget-view+json": {
       "model_id": "483f7e3897024ad0911cf7d9034bc05b",
       "version_major": 2,
       "version_minor": 0
      },
      "text/plain": [
       "  0%|          | 0/64 [00:00<?, ?it/s]"
      ]
     },
     "metadata": {},
     "output_type": "display_data"
    },
    {
     "data": {
      "application/vnd.jupyter.widget-view+json": {
       "model_id": "2f083d8248dc4fb39d679ed85bf12e98",
       "version_major": 2,
       "version_minor": 0
      },
      "text/plain": [
       "  0%|          | 0/820 [00:00<?, ?it/s]"
      ]
     },
     "metadata": {},
     "output_type": "display_data"
    },
    {
     "data": {
      "application/vnd.jupyter.widget-view+json": {
       "model_id": "e95e2b94d573410b9e0d41ca728ac32b",
       "version_major": 2,
       "version_minor": 0
      },
      "text/plain": [
       "  0%|          | 0/205 [00:00<?, ?it/s]"
      ]
     },
     "metadata": {},
     "output_type": "display_data"
    },
    {
     "data": {
      "application/vnd.jupyter.widget-view+json": {
       "model_id": "2f3ec84fa08f4d229fe9a89d5488a92a",
       "version_major": 2,
       "version_minor": 0
      },
      "text/plain": [
       "  0%|          | 0/151 [00:00<?, ?it/s]"
      ]
     },
     "metadata": {},
     "output_type": "display_data"
    },
    {
     "data": {
      "application/vnd.jupyter.widget-view+json": {
       "model_id": "8f191e0ca6f546358ac532154d062879",
       "version_major": 2,
       "version_minor": 0
      },
      "text/plain": [
       "  0%|          | 0/36 [00:00<?, ?it/s]"
      ]
     },
     "metadata": {},
     "output_type": "display_data"
    },
    {
     "data": {
      "application/vnd.jupyter.widget-view+json": {
       "model_id": "1881f8b1c4114076b1fd838d2ea3fc5a",
       "version_major": 2,
       "version_minor": 0
      },
      "text/plain": [
       "  0%|          | 0/76 [00:00<?, ?it/s]"
      ]
     },
     "metadata": {},
     "output_type": "display_data"
    }
   ],
   "source": [
    "texts_dict = preprocessor.get_cleaned_dict(texts_dict_popular)"
   ]
  },
  {
   "cell_type": "code",
   "execution_count": 21,
   "metadata": {},
   "outputs": [],
   "source": [
    "texts = [doc for doc in texts_dict.values()]"
   ]
  },
  {
   "cell_type": "code",
   "execution_count": 28,
   "metadata": {},
   "outputs": [],
   "source": [
    "texts = list(itertools.chain(*texts))"
   ]
  },
  {
   "cell_type": "code",
   "execution_count": 49,
   "metadata": {},
   "outputs": [],
   "source": [
    "stopwords = load.DataLoad.load_stopwords()"
   ]
  },
  {
   "cell_type": "code",
   "execution_count": 57,
   "metadata": {},
   "outputs": [],
   "source": [
    "class CustomTokenizer:\n",
    "    def __init__(self, tagger):\n",
    "        self.tagger = tagger\n",
    "    def __call__(self, sent):\n",
    "        word_tokens = self.tagger.nouns(sent)\n",
    "        result = [word for word in word_tokens if len(word) > 1]\n",
    "        result = [word for word in result if word not in stopwords]\n",
    "        return result\n",
    "    \n",
    "custom_tokenizer = CustomTokenizer(Mecab())"
   ]
  },
  {
   "cell_type": "code",
   "execution_count": 58,
   "metadata": {},
   "outputs": [],
   "source": [
    "vectorizer = CountVectorizer(tokenizer=custom_tokenizer, max_features=3000)"
   ]
  },
  {
   "cell_type": "code",
   "execution_count": 63,
   "metadata": {},
   "outputs": [
    {
     "name": "stdout",
     "output_type": "stream",
     "text": [
      "['가게',\n",
      " '가격',\n",
      " '가결',\n",
      " '가공',\n",
      " '가나',\n",
      " '가늠',\n",
      " '가능',\n",
      " '가닥',\n",
      " '가도',\n",
      " '가락',\n",
      " '가래',\n",
      " '가로',\n",
      " '가루',\n",
      " '가르마',\n",
      " '가문',\n",
      " '가버',\n",
      " '가보세요',\n",
      " '가분',\n",
      " '가사',\n",
      " '가시',\n",
      " '가식',\n",
      " '가십',\n",
      " '가영',\n",
      " '가옥',\n",
      " '가운',\n",
      " '가운데',\n",
      " '가을',\n",
      " '가음',\n",
      " '가의',\n",
      " '가이',\n",
      " '가인',\n",
      " '가입',\n",
      " '가정',\n",
      " '가질',\n",
      " '가짜',\n",
      " '가치',\n",
      " '가평',\n",
      " '각계',\n",
      " '각도',\n",
      " '각항',\n",
      " '각형',\n",
      " '간격',\n",
      " '간식',\n",
      " '간암',\n",
      " '간장',\n",
      " '갈라',\n",
      " '감각',\n",
      " '감사',\n",
      " '감수',\n",
      " '감안',\n",
      " '감옥',\n",
      " '감자',\n",
      " '감정',\n",
      " '갑자',\n",
      " '강가',\n",
      " '강령',\n",
      " '강산',\n",
      " '강스',\n",
      " '강의',\n",
      " '강자',\n",
      " '강조',\n",
      " '강좌',\n",
      " '개개',\n",
      " '개관식',\n",
      " '개념',\n",
      " '개띠',\n",
      " '개로',\n",
      " '개면',\n",
      " '개봉',\n",
      " '개선',\n",
      " '개설',\n",
      " '개소',\n",
      " '개소리',\n",
      " '개수',\n",
      " '개야',\n",
      " '개업',\n",
      " '개요',\n",
      " '개인',\n",
      " '개인전',\n",
      " '개입',\n",
      " '개적',\n",
      " '개점',\n",
      " '개정',\n",
      " '개중',\n",
      " '개체',\n",
      " '객관식',\n",
      " '객실',\n",
      " '객체',\n",
      " '거듭제곱',\n",
      " '거란',\n",
      " '거랑',\n",
      " '거래',\n",
      " '거리',\n",
      " '거부',\n",
      " '거시',\n",
      " '거야',\n",
      " '거제',\n",
      " '거주',\n",
      " '거즈',\n",
      " '거지',\n",
      " '거함',\n",
      " '걱정',\n",
      " '건데요',\n",
      " '건마',\n",
      " '걸까',\n",
      " '걸요',\n",
      " '걸음',\n",
      " '검날',\n",
      " '검사',\n",
      " '검산',\n",
      " '검색',\n",
      " '검정',\n",
      " '검증',\n",
      " '검지',\n",
      " '겁니까',\n",
      " '겁니다',\n",
      " '게살',\n",
      " '게이',\n",
      " '게이고',\n",
      " '게임',\n",
      " '겨울',\n",
      " '결계',\n",
      " '결과',\n",
      " '결과물',\n",
      " '결구',\n",
      " '결단',\n",
      " '결론',\n",
      " '결실',\n",
      " '결정',\n",
      " '결함',\n",
      " '경계',\n",
      " '경기',\n",
      " '경련',\n",
      " '경험',\n",
      " '경희대',\n",
      " '계곡',\n",
      " '계단',\n",
      " '계산',\n",
      " '계선',\n",
      " '계수',\n",
      " '계약',\n",
      " '계제',\n",
      " '계주',\n",
      " '계획',\n",
      " '고가',\n",
      " '고개',\n",
      " '고건',\n",
      " '고급',\n",
      " '고기',\n",
      " '고난도',\n",
      " '고대',\n",
      " '고도',\n",
      " '고득점',\n",
      " '고등',\n",
      " '고등학교',\n",
      " '고려',\n",
      " '고리',\n",
      " '고무',\n",
      " '고배',\n",
      " '고백',\n",
      " '고베',\n",
      " '고부',\n",
      " '고분',\n",
      " '고분자',\n",
      " '고비',\n",
      " '고삐',\n",
      " '고사',\n",
      " '고시원',\n",
      " '고액',\n",
      " '고야',\n",
      " '고어',\n",
      " '고역',\n",
      " '고온',\n",
      " '고유',\n",
      " '고의',\n",
      " '고지',\n",
      " '고차방정식',\n",
      " '고창',\n",
      " '고철',\n",
      " '고택',\n",
      " '고통',\n",
      " '고파',\n",
      " '고혼',\n",
      " '곡병',\n",
      " '곡선',\n",
      " '곡식',\n",
      " '곱셈',\n",
      " '곱지',\n",
      " '곱하기',\n",
      " '곳곳',\n",
      " '공간',\n",
      " '공감',\n",
      " '공개',\n",
      " '공격',\n",
      " '공급',\n",
      " '공덕',\n",
      " '공동',\n",
      " '공력',\n",
      " '공부',\n",
      " '공소',\n",
      " '공수',\n",
      " '공시',\n",
      " '공식',\n",
      " '공신',\n",
      " '공실',\n",
      " '공업',\n",
      " '공역',\n",
      " '공유',\n",
      " '공정',\n",
      " '공지',\n",
      " '공직',\n",
      " '공통',\n",
      " '공통부분',\n",
      " '공통점',\n",
      " '공평',\n",
      " '공포',\n",
      " '공포증',\n",
      " '공학',\n",
      " '과거',\n",
      " '과로',\n",
      " '과목',\n",
      " '과오',\n",
      " '과일',\n",
      " '과정',\n",
      " '과학',\n",
      " '관건',\n",
      " '관계',\n",
      " '관람',\n",
      " '관이',\n",
      " '관점',\n",
      " '관찰',\n",
      " '괄호',\n",
      " '광경',\n",
      " '광장',\n",
      " '괴짜',\n",
      " '교과서',\n",
      " '교미',\n",
      " '교수',\n",
      " '교우',\n",
      " '교육',\n",
      " '교재',\n",
      " '교제',\n",
      " '교파',\n",
      " '교화',\n",
      " '교회',\n",
      " '구간',\n",
      " '구구단',\n",
      " '구나',\n",
      " '구단',\n",
      " '구담',\n",
      " '구도',\n",
      " '구독',\n",
      " '구라',\n",
      " '구름',\n",
      " '구매',\n",
      " '구문',\n",
      " '구미',\n",
      " '구비',\n",
      " '구상',\n",
      " '구성',\n",
      " '구식',\n",
      " '구애',\n",
      " '구약',\n",
      " '구어',\n",
      " '구역',\n",
      " '구요',\n",
      " '구입',\n",
      " '구조',\n",
      " '구체',\n",
      " '구하',\n",
      " '구해',\n",
      " '구현',\n",
      " '구획',\n",
      " '국내',\n",
      " '국민',\n",
      " '국시원',\n",
      " '국제',\n",
      " '국토',\n",
      " '국회',\n",
      " '군대',\n",
      " '군데',\n",
      " '군무원',\n",
      " '군수',\n",
      " '군요',\n",
      " '군자',\n",
      " '궁금증',\n",
      " '궁예',\n",
      " '권력',\n",
      " '권법',\n",
      " '궤적',\n",
      " '귀로',\n",
      " '규칙',\n",
      " '그건가',\n",
      " '그겁니다',\n",
      " '그네',\n",
      " '그녀',\n",
      " '그놈',\n",
      " '그늘',\n",
      " '그니',\n",
      " '그대',\n",
      " '그라',\n",
      " '그랑',\n",
      " '그래프',\n",
      " '그레',\n",
      " '그릇',\n",
      " '그리마',\n",
      " '그림',\n",
      " '그분',\n",
      " '그이',\n",
      " '그해',\n",
      " '극단',\n",
      " '극복',\n",
      " '극좌표',\n",
      " '근래',\n",
      " '근영',\n",
      " '근해',\n",
      " '글러브',\n",
      " '글씨',\n",
      " '글자',\n",
      " '금고',\n",
      " '금기',\n",
      " '금단',\n",
      " '금도',\n",
      " '금란',\n",
      " '금릉',\n",
      " '금속',\n",
      " '금식',\n",
      " '금액',\n",
      " '금언',\n",
      " '금연',\n",
      " '금일',\n",
      " '금제',\n",
      " '금지',\n",
      " '금치',\n",
      " '금호역',\n",
      " '급도',\n",
      " '급수',\n",
      " '급식',\n",
      " '기계',\n",
      " '기공식',\n",
      " '기구',\n",
      " '기기',\n",
      " '기념',\n",
      " '기니',\n",
      " '기다',\n",
      " '기대',\n",
      " '기도',\n",
      " '기둥',\n",
      " '기로',\n",
      " '기록',\n",
      " '기미',\n",
      " '기본',\n",
      " '기분',\n",
      " '기사',\n",
      " '기상',\n",
      " '기서',\n",
      " '기세',\n",
      " '기수',\n",
      " '기술',\n",
      " '기압',\n",
      " '기약',\n",
      " '기억',\n",
      " '기업',\n",
      " '기용',\n",
      " '기자',\n",
      " '기자지',\n",
      " '기재',\n",
      " '기저',\n",
      " '기적',\n",
      " '기존',\n",
      " '기준',\n",
      " '기지',\n",
      " '기차',\n",
      " '기초',\n",
      " '기회',\n",
      " '기획',\n",
      " '기획사',\n",
      " '길음',\n",
      " '길이',\n",
      " '김건모',\n",
      " '까자',\n",
      " '꼬락서니',\n",
      " '꼬리',\n",
      " '꼬마',\n",
      " '꼽추',\n",
      " '꽂이',\n",
      " '꽃밭',\n",
      " '꿀밤',\n",
      " '끈기',\n",
      " '나눗셈',\n",
      " '나라',\n",
      " '나머지',\n",
      " '나머진',\n",
      " '나무',\n",
      " '나비',\n",
      " '나영',\n",
      " '나올',\n",
      " '나와',\n",
      " '나이',\n",
      " '나이트',\n",
      " '나인',\n",
      " '난이',\n",
      " '난이도',\n",
      " '날래',\n",
      " '날씨',\n",
      " '남아',\n",
      " '남쪽',\n",
      " '납골',\n",
      " '납득',\n",
      " '낭이',\n",
      " '내가',\n",
      " '내고',\n",
      " '내공',\n",
      " '내림차순',\n",
      " '내면',\n",
      " '내무',\n",
      " '내무부',\n",
      " '내보',\n",
      " '내부',\n",
      " '내신',\n",
      " '내외',\n",
      " '내용',\n",
      " '내진',\n",
      " '내피',\n",
      " '냄새',\n",
      " '넓이',\n",
      " '넘버',\n",
      " '네게서',\n",
      " '네모',\n",
      " '네비',\n",
      " '네온',\n",
      " '네즈',\n",
      " '넥스',\n",
      " '녀석',\n",
      " '노근',\n",
      " '노란색',\n",
      " '노래',\n",
      " '노랜데',\n",
      " '노력',\n",
      " '노모',\n",
      " '노안',\n",
      " '노우',\n",
      " '노조',\n",
      " '노트',\n",
      " '노파심',\n",
      " '노희영',\n",
      " '녹두',\n",
      " '논리',\n",
      " '놀이',\n",
      " '농가',\n",
      " '높이',\n",
      " '누군',\n",
      " '누나',\n",
      " '누리',\n",
      " '누이',\n",
      " '누트',\n",
      " '눈썹',\n",
      " '눈치',\n",
      " '뉴욕',\n",
      " '능력',\n",
      " '니요',\n",
      " '니코',\n",
      " '니트',\n",
      " '닌자',\n",
      " '다가',\n",
      " '다각형',\n",
      " '다간',\n",
      " '다구',\n",
      " '다낭',\n",
      " '다도',\n",
      " '다라',\n",
      " '다로',\n",
      " '다루',\n",
      " '다리요',\n",
      " '다면',\n",
      " '다시',\n",
      " '다야',\n",
      " '다양',\n",
      " '다예',\n",
      " '다완',\n",
      " '다이',\n",
      " '다이어트',\n",
      " '다인',\n",
      " '다일',\n",
      " '다정',\n",
      " '다항식',\n",
      " '닥터',\n",
      " '단가',\n",
      " '단계',\n",
      " '단번',\n",
      " '단수',\n",
      " '단순',\n",
      " '단식',\n",
      " '단어',\n",
      " '단원',\n",
      " '단위',\n",
      " '단점',\n",
      " '단항',\n",
      " '단항식',\n",
      " '단화',\n",
      " '달러',\n",
      " '달성',\n",
      " '담당',\n",
      " '당과',\n",
      " '당내',\n",
      " '당대',\n",
      " '당량',\n",
      " '당시',\n",
      " '당일',\n",
      " '대가식',\n",
      " '대각선',\n",
      " '대검',\n",
      " '대구',\n",
      " '대국',\n",
      " '대기',\n",
      " '대답',\n",
      " '대망',\n",
      " '대못',\n",
      " '대본',\n",
      " '대분',\n",
      " '대비',\n",
      " '대사',\n",
      " '대상',\n",
      " '대선',\n",
      " '대세',\n",
      " '대소',\n",
      " '대수',\n",
      " '대수학',\n",
      " '대순환',\n",
      " '대식',\n",
      " '대야',\n",
      " '대왕',\n",
      " '대요',\n",
      " '대응',\n",
      " '대의',\n",
      " '대입',\n",
      " '대장',\n",
      " '대전',\n",
      " '대정',\n",
      " '대책',\n",
      " '대청',\n",
      " '대체',\n",
      " '대추',\n",
      " '대충',\n",
      " '대치동',\n",
      " '대표',\n",
      " '대학교',\n",
      " '대학살',\n",
      " '대학생',\n",
      " '대항',\n",
      " '댓글',\n",
      " '더니',\n",
      " '더블',\n",
      " '더비',\n",
      " '더위',\n",
      " '더하기',\n",
      " '던롭',\n",
      " '덧셈',\n",
      " '덩어리',\n",
      " '데모',\n",
      " '데이지',\n",
      " '데이트',\n",
      " '덱스',\n",
      " '도갑',\n",
      " '도달',\n",
      " '도래',\n",
      " '도리',\n",
      " '도보',\n",
      " '도사',\n",
      " '도산',\n",
      " '도살자',\n",
      " '도상',\n",
      " '도안',\n",
      " '도움',\n",
      " '도음',\n",
      " '도의',\n",
      " '도전',\n",
      " '도형',\n",
      " '독일',\n",
      " '독특',\n",
      " '동결',\n",
      " '동경',\n",
      " '동그라미',\n",
      " '동기',\n",
      " '동년',\n",
      " '동류항',\n",
      " '동물원',\n",
      " '동북아',\n",
      " '동시',\n",
      " '동야',\n",
      " '동원',\n",
      " '동의',\n",
      " '동일',\n",
      " '동주',\n",
      " '되리',\n",
      " '두께',\n",
      " '두면',\n",
      " '두복',\n",
      " '두산',\n",
      " '두수',\n",
      " '두자',\n",
      " '둘레',\n",
      " '뒤쪽',\n",
      " '뒷모습',\n",
      " '뒷부분',\n",
      " '드라마',\n",
      " '드리',\n",
      " '드릴',\n",
      " '득남',\n",
      " '들마',\n",
      " '등급',\n",
      " '등식',\n",
      " '등장',\n",
      " '디스',\n",
      " '디자인',\n",
      " '디테일',\n",
      " '딜런',\n",
      " '따님',\n",
      " '때깔',\n",
      " '때때',\n",
      " '떨림',\n",
      " '또래',\n",
      " '라고',\n",
      " '라든가',\n",
      " '라디에이터',\n",
      " '라면',\n",
      " '라벨',\n",
      " '라섹',\n",
      " '라스',\n",
      " '라식',\n",
      " '라이거',\n",
      " '라이브',\n",
      " '라인',\n",
      " '라인수',\n",
      " '라자',\n",
      " '라지',\n",
      " '라텍스',\n",
      " '래터',\n",
      " '러그',\n",
      " '러스',\n",
      " '러스트',\n",
      " '레고',\n",
      " '레드',\n",
      " '레비',\n",
      " '레이',\n",
      " '레이스',\n",
      " '레이크',\n",
      " '레저세',\n",
      " '레지',\n",
      " '렉스',\n",
      " '렌즈',\n",
      " '로고',\n",
      " '로드',\n",
      " '로만',\n",
      " '로스',\n",
      " '로자',\n",
      " '로저',\n",
      " '로지',\n",
      " '로트',\n",
      " '루시',\n",
      " '루시아',\n",
      " '루시퍼',\n",
      " '루이즈',\n",
      " '루주',\n",
      " '루츠',\n",
      " '루타',\n",
      " '루터',\n",
      " '루트',\n",
      " '루팅',\n",
      " '루프',\n",
      " '리더',\n",
      " '리딩',\n",
      " '리무',\n",
      " '리브',\n",
      " '리수',\n",
      " '리스',\n",
      " '리얼',\n",
      " '리즈',\n",
      " '리플',\n",
      " '링거',\n",
      " '마기',\n",
      " '마노',\n",
      " '마누라',\n",
      " '마늘',\n",
      " '마니아',\n",
      " '마디',\n",
      " '마려',\n",
      " '마련',\n",
      " '마로',\n",
      " '마루',\n",
      " '마루트',\n",
      " '마리',\n",
      " '마리나',\n",
      " '마무',\n",
      " '마무리',\n",
      " '마무트',\n",
      " '마법',\n",
      " '마사',\n",
      " '마스',\n",
      " '마스터',\n",
      " '마시',\n",
      " '마야',\n",
      " '마약',\n",
      " '마요네즈',\n",
      " '마우',\n",
      " '마을',\n",
      " '마음',\n",
      " '마이가',\n",
      " '마이너',\n",
      " '마이너스',\n",
      " '마이라',\n",
      " '마일',\n",
      " '마조',\n",
      " '마초',\n",
      " '막내',\n",
      " '막노동',\n",
      " '막부',\n",
      " '만년',\n",
      " '만능',\n",
      " '만담',\n",
      " '만발',\n",
      " '만병통치약',\n",
      " '만전',\n",
      " '만족',\n",
      " '만화',\n",
      " '말쌈',\n",
      " '말씀',\n",
      " '말지',\n",
      " '말투',\n",
      " '말해',\n",
      " '맞짱',\n",
      " '맞춤',\n",
      " '매각',\n",
      " '매너',\n",
      " '매료',\n",
      " '매매',\n",
      " '매입',\n",
      " '매장',\n",
      " '매직',\n",
      " '매치',\n",
      " '매트',\n",
      " '매표',\n",
      " '매핑',\n",
      " '맥동',\n",
      " '맥스',\n",
      " '맥주',\n",
      " '머드',\n",
      " '머루',\n",
      " '머릿속',\n",
      " '머치',\n",
      " '먼저',\n",
      " '먼지',\n",
      " '멀티',\n",
      " '메뉴',\n",
      " '메모',\n",
      " '메이',\n",
      " '메이비',\n",
      " '메이크',\n",
      " '메일',\n",
      " '메카',\n",
      " '메탈',\n",
      " '멜빵',\n",
      " '멜빵바지',\n",
      " '멜크',\n",
      " '멤버',\n",
      " '면수',\n",
      " '면역',\n",
      " '면요',\n",
      " '면제',\n",
      " '면회',\n",
      " '명의',\n",
      " '명이',\n",
      " '명제',\n",
      " '명주',\n",
      " '모국어',\n",
      " '모기',\n",
      " '모네이',\n",
      " '모델',\n",
      " '모뎀',\n",
      " '모드',\n",
      " '모르',\n",
      " '모습',\n",
      " '모양',\n",
      " '모임',\n",
      " '모자',\n",
      " '모직',\n",
      " '모집',\n",
      " '모태',\n",
      " '목격',\n",
      " '목과',\n",
      " '목도',\n",
      " '목만',\n",
      " '목수',\n",
      " '목숨',\n",
      " '목자',\n",
      " '목적',\n",
      " '목질',\n",
      " '목차',\n",
      " '목표',\n",
      " '몫일',\n",
      " '몰츠',\n",
      " '못가',\n",
      " '묘기',\n",
      " '묘지',\n",
      " '무가',\n",
      " '무과',\n",
      " '무교',\n",
      " '무기',\n",
      " '무념',\n",
      " '무단',\n",
      " '무당',\n",
      " '무대',\n",
      " '무료',\n",
      " '무리',\n",
      " '무리수',\n",
      " '무술',\n",
      " '무시',\n",
      " '무식',\n",
      " '무심',\n",
      " '무의',\n",
      " '무조건',\n",
      " '무직자',\n",
      " '무투',\n",
      " '무트',\n",
      " '묵가',\n",
      " '묶음',\n",
      " '문야',\n",
      " '문양',\n",
      " '문의',\n",
      " '문자',\n",
      " '문장',\n",
      " '문정',\n",
      " '문제',\n",
      " '문제집',\n",
      " '문젠데',\n",
      " '물때',\n",
      " '물리',\n",
      " '물방',\n",
      " '물야면',\n",
      " '물질',\n",
      " '물체',\n",
      " '뭐요',\n",
      " '뭔데',\n",
      " '뭘까',\n",
      " '뭘로',\n",
      " '뭡니까',\n",
      " '뮤직',\n",
      " '미녀',\n",
      " '미담',\n",
      " '미라',\n",
      " '미래',\n",
      " '미미',\n",
      " '미샤',\n",
      " '미술',\n",
      " '미시',\n",
      " '미아',\n",
      " '미안',\n",
      " '미오',\n",
      " '미용실',\n",
      " '미자',\n",
      " '미정',\n",
      " '미주',\n",
      " '미지',\n",
      " '미지수',\n",
      " '미터',\n",
      " '미풍',\n",
      " '미향',\n",
      " '민소매',\n",
      " '민수',\n",
      " '민숙',\n",
      " '민영',\n",
      " '민지',\n",
      " '민초',\n",
      " '믿음',\n",
      " '밑단',\n",
      " '밑줄',\n",
      " '바깥',\n",
      " '바나',\n",
      " '바니',\n",
      " '바닥',\n",
      " '바닷물',\n",
      " '바람',\n",
      " '바래',\n",
      " '바바',\n",
      " '바보',\n",
      " '바움',\n",
      " '바이',\n",
      " '바이오',\n",
      " '바이텐',\n",
      " '바자',\n",
      " '바지',\n",
      " '바퀴',\n",
      " '바키',\n",
      " '바탕',\n",
      " '박수',\n",
      " '박수아',\n",
      " '박스',\n",
      " '박형',\n",
      " '반감',\n",
      " '반경',\n",
      " '반대',\n",
      " '반대쪽',\n",
      " '반대편',\n",
      " '반면',\n",
      " '반발',\n",
      " '반복',\n",
      " '반소',\n",
      " '반약',\n",
      " '반월',\n",
      " '반이',\n",
      " '반증',\n",
      " '반지',\n",
      " '반지름',\n",
      " '반항',\n",
      " '반해',\n",
      " '받자',\n",
      " '발간',\n",
      " '발급',\n",
      " '발단',\n",
      " '발달',\n",
      " '발리',\n",
      " '발병',\n",
      " '발사',\n",
      " '발상',\n",
      " '발생',\n",
      " '발전',\n",
      " '발효',\n",
      " '밥값',\n",
      " '방등',\n",
      " '방법',\n",
      " '방송국',\n",
      " '방식',\n",
      " '방안',\n",
      " '방어진',\n",
      " '방영',\n",
      " '방울',\n",
      " '방정',\n",
      " '방정식',\n",
      " '방종',\n",
      " '방해',\n",
      " '방향',\n",
      " '배경',\n",
      " '배도',\n",
      " '배분',\n",
      " '배설',\n",
      " '배수',\n",
      " '배씨',\n",
      " '배역',\n",
      " '배우',\n",
      " '배정',\n",
      " '배지',\n",
      " '배차',\n",
      " '배치',\n",
      " '배터리',\n",
      " '배필',\n",
      " '배후',\n",
      " '백만',\n",
      " '백색',\n",
      " '백수',\n",
      " '백스',\n",
      " '백업',\n",
      " '백인',\n",
      " '백철',\n",
      " '버블',\n",
      " '버지',\n",
      " '버터',\n",
      " '버틀러',\n",
      " '버피',\n",
      " '벅스',\n",
      " '번데기',\n",
      " '번식',\n",
      " '번의',\n",
      " '번이',\n",
      " '범위',\n",
      " '범종',\n",
      " '범행',\n",
      " '법정',\n",
      " '법주',\n",
      " '법칙',\n",
      " '베개',\n",
      " '베다',\n",
      " '베이로',\n",
      " '베이브',\n",
      " '베이비',\n",
      " '베이스',\n",
      " '베일',\n",
      " '베타',\n",
      " '베틀',\n",
      " '벡스',\n",
      " '벡터',\n",
      " '변경',\n",
      " '변수',\n",
      " '변이',\n",
      " '변형',\n",
      " '변화',\n",
      " '변환',\n",
      " '별건',\n",
      " '별명',\n",
      " '별표',\n",
      " '병과',\n",
      " '병기',\n",
      " '보고',\n",
      " '보관',\n",
      " '보너스',\n",
      " '보도',\n",
      " '보디',\n",
      " '보마',\n",
      " '보비',\n",
      " '보세',\n",
      " '보스니아',\n",
      " '보시기',\n",
      " '보식',\n",
      " '보이',\n",
      " '보자',\n",
      " '보장',\n",
      " '보전',\n",
      " '보정',\n",
      " '보조',\n",
      " '보패',\n",
      " '보표',\n",
      " '보프',\n",
      " '보행',\n",
      " '보험',\n",
      " '보호',\n",
      " '보호의',\n",
      " '복구',\n",
      " '복막',\n",
      " '복무',\n",
      " '복사',\n",
      " '복서',\n",
      " '복소',\n",
      " '복소수',\n",
      " '복소평면',\n",
      " '복수',\n",
      " '복습',\n",
      " '복시',\n",
      " '복식',\n",
      " '복직',\n",
      " '본격',\n",
      " '봉과',\n",
      " '봉식',\n",
      " '봉포',\n",
      " '부근',\n",
      " '부네',\n",
      " '부담',\n",
      " '부대',\n",
      " '부등식',\n",
      " '부모',\n",
      " '부바',\n",
      " '부어',\n",
      " '부엌',\n",
      " '부여',\n",
      " '부자',\n",
      " '부정',\n",
      " '부족',\n",
      " '부착',\n",
      " '부츠',\n",
      " '부탁',\n",
      " '부트',\n",
      " '부품',\n",
      " '부호',\n",
      " '북방',\n",
      " '분가',\n",
      " '분과',\n",
      " '분교',\n",
      " '분기',\n",
      " '분노',\n",
      " '분량',\n",
      " '분류',\n",
      " '분리',\n",
      " '분만',\n",
      " '분말',\n",
      " '분모',\n",
      " '분무기',\n",
      " '분배',\n",
      " '분비',\n",
      " '분석',\n",
      " '분쇄',\n",
      " '분수',\n",
      " '분실',\n",
      " '분야',\n",
      " '분양',\n",
      " '분에',\n",
      " '분열',\n",
      " '분위',\n",
      " '분의',\n",
      " '분자',\n",
      " '분장',\n",
      " '분지',\n",
      " '분한',\n",
      " '분할',\n",
      " '분해',\n",
      " '분회',\n",
      " '불대',\n",
      " '불로',\n",
      " '불만',\n",
      " '불식',\n",
      " '불어',\n",
      " '불의',\n",
      " '불줄',\n",
      " '불편',\n",
      " '붓다',\n",
      " '붕어',\n",
      " '브라',\n",
      " '브라스',\n",
      " '브라질',\n",
      " '브랜드',\n",
      " '브레',\n",
      " '브레이',\n",
      " '브레인',\n",
      " '브로',\n",
      " '브록',\n",
      " '블라우스',\n",
      " '블라이즈',\n",
      " '블러',\n",
      " '블루스',\n",
      " '비가',\n",
      " '비고',\n",
      " '비교',\n",
      " '비구',\n",
      " '비니',\n",
      " '비다',\n",
      " '비디오',\n",
      " '비라',\n",
      " '비락',\n",
      " '비랑',\n",
      " '비래',\n",
      " '비례제',\n",
      " '비리',\n",
      " '비밀',\n",
      " '비법',\n",
      " '비비드',\n",
      " '비빔',\n",
      " '비상',\n",
      " '비수',\n",
      " '비어',\n",
      " '비유',\n",
      " '비율',\n",
      " '비음',\n",
      " '비이',\n",
      " '비자',\n",
      " '비정',\n",
      " '비제',\n",
      " '비즈',\n",
      " '비커',\n",
      " '비해',\n",
      " '빨간색',\n",
      " '빼빼',\n",
      " '빼지',\n",
      " '뺄셈',\n",
      " '뿌리',\n",
      " '뿔말',\n",
      " '삐삐',\n",
      " '사가',\n",
      " '사각형',\n",
      " '사건',\n",
      " '사고',\n",
      " '사과',\n",
      " '사군',\n",
      " '사나이',\n",
      " '사도',\n",
      " '사또',\n",
      " '사라',\n",
      " '사랑',\n",
      " '사례',\n",
      " '사루',\n",
      " '사마',\n",
      " '사마의',\n",
      " '사막',\n",
      " '사망',\n",
      " '사모',\n",
      " '사물',\n",
      " '사벌면',\n",
      " '사보',\n",
      " '사비',\n",
      " '사아',\n",
      " '사업',\n",
      " '사위',\n",
      " '사이',\n",
      " '사이버',\n",
      " '사이비',\n",
      " '사이즈',\n",
      " '사이트',\n",
      " '사장',\n",
      " '사적',\n",
      " '사진',\n",
      " '사창',\n",
      " '사케',\n",
      " '사회',\n",
      " '사회주의',\n",
      " '산맥',\n",
      " '산물',\n",
      " '산수',\n",
      " '산책로',\n",
      " '삼각함수',\n",
      " '삼각형',\n",
      " '삼매',\n",
      " '삼창',\n",
      " '상가리',\n",
      " '상관',\n",
      " '상근',\n",
      " '상기',\n",
      " '상당',\n",
      " '상상',\n",
      " '상설',\n",
      " '상성',\n",
      " '상소',\n",
      " '상수',\n",
      " '상수항',\n",
      " '상승',\n",
      " '상실',\n",
      " '상아',\n",
      " '상응',\n",
      " '상의',\n",
      " '상주',\n",
      " '상태',\n",
      " '상호',\n",
      " '상황',\n",
      " '새끼',\n",
      " '새내기',\n",
      " '색감',\n",
      " '색깔',\n",
      " '색이',\n",
      " '샌드위치',\n",
      " '생강',\n",
      " '생리',\n",
      " '생애',\n",
      " '서버',\n",
      " '서술',\n",
      " '서술형',\n",
      " '서시',\n",
      " '서지',\n",
      " '서희',\n",
      " '석궁',\n",
      " '선거',\n",
      " '선데이',\n",
      " '선례',\n",
      " '선배',\n",
      " '선생',\n",
      " '선수',\n",
      " '선체',\n",
      " '선택',\n",
      " '설명',\n",
      " '설정',\n",
      " '설치',\n",
      " '섭외',\n",
      " '성공',\n",
      " '성급',\n",
      " '성립',\n",
      " '성질',\n",
      " '세계',\n",
      " '세고',\n",
      " '세라',\n",
      " '세력',\n",
      " '세로',\n",
      " '세모',\n",
      " '세무',\n",
      " '세미',\n",
      " '세분',\n",
      " '세용',\n",
      " '세우',\n",
      " '세정',\n",
      " '세제',\n",
      " '세제곱',\n",
      " '세지',\n",
      " '세타',\n",
      " '세탁',\n",
      " '세탁소',\n",
      " '세트',\n",
      " '섹스',\n",
      " '셀러',\n",
      " '소개',\n",
      " '소녀',\n",
      " '소단원',\n",
      " '소득',\n",
      " '소리',\n",
      " '소리야',\n",
      " '소린',\n",
      " '소망',\n",
      " '소매',\n",
      " '소수',\n",
      " '소수점',\n",
      " '소스',\n",
      " '소식',\n",
      " '소실',\n",
      " '소유',\n",
      " '소음',\n",
      " '소이',\n",
      " '소인수',\n",
      " '소일',\n",
      " '소재',\n",
      " '소조',\n",
      " '소주',\n",
      " '소파',\n",
      " '소프트웨어',\n",
      " '소화',\n",
      " '속력',\n",
      " '손석우',\n",
      " '손익',\n",
      " '손해',\n",
      " '송인',\n",
      " '수감',\n",
      " '수건',\n",
      " '수검',\n",
      " '수계',\n",
      " '수군',\n",
      " '수궁가',\n",
      " '수긍',\n",
      " '수능',\n",
      " '수다',\n",
      " '수단',\n",
      " '수라',\n",
      " '수락',\n",
      " '수량',\n",
      " '수레',\n",
      " '수면',\n",
      " '수박',\n",
      " '수반',\n",
      " '수백',\n",
      " '수부',\n",
      " '수분',\n",
      " '수비',\n",
      " '수수',\n",
      " '수압',\n",
      " '수액',\n",
      " '수업',\n",
      " '수영',\n",
      " '수요',\n",
      " '수원',\n",
      " '수위',\n",
      " '수육',\n",
      " '수익금',\n",
      " '수인',\n",
      " '수일',\n",
      " '수준',\n",
      " '수중',\n",
      " '수직',\n",
      " '수직선',\n",
      " '수치',\n",
      " '수포',\n",
      " '수풀',\n",
      " '수프',\n",
      " '수학',\n",
      " '수해',\n",
      " '수혜',\n",
      " '수확',\n",
      " '숙우',\n",
      " '순서',\n",
      " '순성',\n",
      " '순수',\n",
      " '순위',\n",
      " '순이익',\n",
      " '순환',\n",
      " '순회',\n",
      " '숟가락',\n",
      " '술후',\n",
      " '숫자',\n",
      " '슈어',\n",
      " '슈얼',\n",
      " '스님',\n",
      " '스마',\n",
      " '스몰',\n",
      " '스캔',\n",
      " '스케일',\n",
      " '스크랩',\n",
      " '스크림',\n",
      " '스키',\n",
      " '스킬',\n",
      " '스타',\n",
      " '스타렉스',\n",
      " '스타일',\n",
      " '스태프',\n",
      " '스테이',\n",
      " '스텔',\n",
      " '스템',\n",
      " '스텝',\n",
      " '스토리',\n",
      " '스트레스',\n",
      " '스틸',\n",
      " '스파이',\n",
      " '스푼',\n",
      " '스풀',\n",
      " '스프레이',\n",
      " '스플래시',\n",
      " '슬라브',\n",
      " '승리',\n",
      " '승부',\n",
      " '승은',\n",
      " '승인',\n",
      " '시각화',\n",
      " '시계',\n",
      " '시골',\n",
      " '시공',\n",
      " '시급',\n",
      " '시기',\n",
      " '시대',\n",
      " '시도',\n",
      " '시드',\n",
      " '시리즈',\n",
      " '시비',\n",
      " '시선',\n",
      " '시아',\n",
      " '시야',\n",
      " '시약',\n",
      " '시온',\n",
      " '시완',\n",
      " '시우',\n",
      " '시이',\n",
      " '시인',\n",
      " '시자',\n",
      " '시작',\n",
      " '시작점',\n",
      " '시장',\n",
      " '시저',\n",
      " '시절',\n",
      " '시점',\n",
      " '시제',\n",
      " '시조',\n",
      " '시중',\n",
      " '시즌',\n",
      " '시청',\n",
      " '시초',\n",
      " '시카',\n",
      " '시카고',\n",
      " '시피유',\n",
      " '시합',\n",
      " '시행',\n",
      " '시행착오',\n",
      " '시험',\n",
      " '식객',\n",
      " '식과',\n",
      " '식단',\n",
      " '식당',\n",
      " '식도',\n",
      " '식사',\n",
      " '식인',\n",
      " '식탐',\n",
      " '식품',\n",
      " '식해',\n",
      " '신격',\n",
      " '신경',\n",
      " '신경식',\n",
      " '신곡',\n",
      " '신규',\n",
      " '신데',\n",
      " '신뢰',\n",
      " '신림',\n",
      " '신앙',\n",
      " '신이',\n",
      " '신화',\n",
      " '실론',\n",
      " '실수부',\n",
      " '실시',\n",
      " '실전',\n",
      " '실파',\n",
      " '심경',\n",
      " '심의',\n",
      " '심정',\n",
      " '십자',\n",
      " '싶어요',\n",
      " '싸이',\n",
      " '써니',\n",
      " '쓰리',\n",
      " '쓸모',\n",
      " '씨앗',\n",
      " '씨족',\n",
      " '아가',\n",
      " '아교',\n",
      " '아궁',\n",
      " '아귀',\n",
      " '아기',\n",
      " '아까',\n",
      " '아끼',\n",
      " '아낙',\n",
      " '아내',\n",
      " '아도',\n",
      " '아들',\n",
      " '아랑',\n",
      " '아래쪽',\n",
      " '아론',\n",
      " '아르츠',\n",
      " '아무거',\n",
      " '아바',\n",
      " '아비',\n",
      " '아사',\n",
      " '아사미',\n",
      " '아스',\n",
      " '아시',\n",
      " '아악',\n",
      " '아우',\n",
      " '아의',\n",
      " '아이디어',\n",
      " '아이리',\n",
      " '아이스',\n",
      " '아이템',\n",
      " '아자',\n",
      " '아정',\n",
      " '아치',\n",
      " '아카',\n",
      " '아카이브',\n",
      " '아테',\n",
      " '아트',\n",
      " '아파트',\n",
      " '아펙스',\n",
      " '아픔',\n",
      " '아해',\n",
      " '아흔',\n",
      " '악대',\n",
      " '악동뮤지션',\n",
      " '악마',\n",
      " '악법',\n",
      " '악수',\n",
      " '악의',\n",
      " '악행',\n",
      " '안고',\n",
      " '안단테',\n",
      " '안전',\n",
      " '안중',\n",
      " '안쪽',\n",
      " '안테',\n",
      " '안항',\n",
      " '않아',\n",
      " '알라',\n",
      " '알바',\n",
      " '알파',\n",
      " '알파벳',\n",
      " '알판',\n",
      " '암기',\n",
      " '암산',\n",
      " '압수',\n",
      " '압수수색',\n",
      " '앞부분',\n",
      " '앞쪽',\n",
      " '앞차',\n",
      " '애가',\n",
      " '애교',\n",
      " '애니',\n",
      " '애니멀',\n",
      " '애덕',\n",
      " '애마',\n",
      " '애인',\n",
      " '애플',\n",
      " '액세스',\n",
      " '액셀',\n",
      " '액션',\n",
      " '액수',\n",
      " '액슬',\n",
      " '액자',\n",
      " '액체',\n",
      " '액트',\n",
      " '앱스',\n",
      " '야구',\n",
      " '야권',\n",
      " '야금',\n",
      " '야당',\n",
      " '야도',\n",
      " '야매',\n",
      " '야소',\n",
      " '야애',\n",
      " '야인',\n",
      " '야콘',\n",
      " '야합',\n",
      " '약국',\n",
      " '약물',\n",
      " '약본',\n",
      " '약속',\n",
      " '약수',\n",
      " '약점',\n",
      " '약제',\n",
      " '약품',\n",
      " '양건',\n",
      " '양말',\n",
      " '양변',\n",
      " '양보',\n",
      " '양봉',\n",
      " '양수',\n",
      " '양수일',\n",
      " '양식',\n",
      " '양액',\n",
      " '양조',\n",
      " '양주',\n",
      " '양쪽',\n",
      " '양택',\n",
      " '양파',\n",
      " '양품',\n",
      " '양하',\n",
      " '양한',\n",
      " '양형',\n",
      " '얘기',\n",
      " '얘긴',\n",
      " '얘긴가요',\n",
      " '얘긴데',\n",
      " '얘길',\n",
      " '얘깁니까',\n",
      " '어게인',\n",
      " '어구',\n",
      " '어근',\n",
      " '어깨',\n",
      " '어데',\n",
      " '어둠',\n",
      " '어딘가',\n",
      " '어려움',\n",
      " '어르신',\n",
      " '어른',\n",
      " '어린아이',\n",
      " '어미',\n",
      " '어방',\n",
      " '어버이',\n",
      " '어부',\n",
      " '어사',\n",
      " '어산',\n",
      " '어스',\n",
      " '어업',\n",
      " '어영',\n",
      " '어유',\n",
      " '어육',\n",
      " '어의',\n",
      " '어인',\n",
      " '어젠',\n",
      " '어젯밤',\n",
      " '어차',\n",
      " '어판',\n",
      " '어필',\n",
      " '어항',\n",
      " '어해',\n",
      " '억대',\n",
      " '억수',\n",
      " '언어',\n",
      " '언의',\n",
      " '언정',\n",
      " '언젠지',\n",
      " '언플러그드',\n",
      " '언행',\n",
      " '얼굴',\n",
      " '얼떨결',\n",
      " '얼리',\n",
      " '엄격',\n",
      " '엄지',\n",
      " '엄폐',\n",
      " '업계',\n",
      " '업그레이드',\n",
      " '업로드',\n",
      " '업무',\n",
      " '업소',\n",
      " '업적',\n",
      " '업종',\n",
      " '업주',\n",
      " '엇각',\n",
      " '에다',\n",
      " '에다마메',\n",
      " '에드가',\n",
      " '에디',\n",
      " '에디스',\n",
      " '에디터',\n",
      " '에러',\n",
      " '에로',\n",
      " '에르',\n",
      " '에바',\n",
      " '에스',\n",
      " '에쎄',\n",
      " '에이',\n",
      " '에이드',\n",
      " '에이스',\n",
      " '에이전트',\n",
      " '에이즈',\n",
      " '에이지',\n",
      " '에이커',\n",
      " '에이크',\n",
      " '에이트리',\n",
      " '에지',\n",
      " '에코',\n",
      " '에프엑스',\n",
      " '에피',\n",
      " '엑셀',\n",
      " '엑스',\n",
      " '엑슨',\n",
      " '엘람',\n",
      " '엘레',\n",
      " '엘마',\n",
      " '여객',\n",
      " '여고생',\n",
      " '여관',\n",
      " '여그',\n",
      " '여긴',\n",
      " '여단',\n",
      " '여담',\n",
      " '여대',\n",
      " '여성',\n",
      " '여수',\n",
      " '여신',\n",
      " '여야',\n",
      " '여울',\n",
      " '여유',\n",
      " '여인',\n",
      " '여진',\n",
      " '여행',\n",
      " '역리',\n",
      " '역사',\n",
      " '역수',\n",
      " '역술',\n",
      " '역시',\n",
      " '역학',\n",
      " '역할',\n",
      " '연결',\n",
      " '연결부',\n",
      " '연관',\n",
      " '연기',\n",
      " '연기자',\n",
      " '연대',\n",
      " '연립',\n",
      " '연배',\n",
      " '연상',\n",
      " '연속',\n",
      " '연쇄',\n",
      " '연습',\n",
      " '연습량',\n",
      " '연아',\n",
      " '연휴',\n",
      " '열매',\n",
      " '열전',\n",
      " '염료',\n",
      " '영대',\n",
      " '영등',\n",
      " '영면',\n",
      " '영문',\n",
      " '영산',\n",
      " '영상',\n",
      " '영생',\n",
      " '영속',\n",
      " '영심',\n",
      " '영아',\n",
      " '영어',\n",
      " '영업자',\n",
      " '영역',\n",
      " '영우',\n",
      " '영웅',\n",
      " '영원',\n",
      " '영의',\n",
      " '영의정',\n",
      " '영입',\n",
      " '영재',\n",
      " '영태',\n",
      " '영토',\n",
      " '영향',\n",
      " '영화',\n",
      " '옆방',\n",
      " '예금',\n",
      " '예능',\n",
      " '예단',\n",
      " '예랑',\n",
      " '예문',\n",
      " '예미',\n",
      " '예비',\n",
      " '예사',\n",
      " '예상',\n",
      " '예서',\n",
      " '예수',\n",
      " '예수회',\n",
      " '예술',\n",
      " '예습',\n",
      " '예시',\n",
      " '예약',\n",
      " '예언',\n",
      " '예외',\n",
      " '예우',\n",
      " '예의',\n",
      " '예정',\n",
      " '예제',\n",
      " '오각형',\n",
      " '오거',\n",
      " '오금',\n",
      " '오노',\n",
      " '오드',\n",
      " '오류',\n",
      " '오르',\n",
      " '오방',\n",
      " '오버',\n",
      " '오븐',\n",
      " '오비',\n",
      " '오빠',\n",
      " '오역',\n",
      " '오염',\n",
      " '오예',\n",
      " '오왜',\n",
      " '오우',\n",
      " '오유',\n",
      " '오자',\n",
      " '오지수',\n",
      " '오징어',\n",
      " '오크',\n",
      " '오퍼스',\n",
      " '오페',\n",
      " '오페라',\n",
      " '오프닝',\n",
      " '오프라',\n",
      " '오픈',\n",
      " '오픽',\n",
      " '오해',\n",
      " '온라인',\n",
      " '온몸',\n",
      " '온통',\n",
      " '옵션',\n",
      " '와니',\n",
      " '와석리',\n",
      " '와의',\n",
      " '와이',\n",
      " '와이어',\n",
      " '와이즈',\n",
      " '와이파이',\n",
      " '와이퍼',\n",
      " '와이프',\n",
      " '와인',\n",
      " '와중',\n",
      " '와해',\n",
      " '완결',\n",
      " '완료',\n",
      " '완벽',\n",
      " '완성',\n",
      " '완전수',\n",
      " '완전체',\n",
      " '왕도',\n",
      " '왕조',\n",
      " '외계',\n",
      " '외국',\n",
      " '외모',\n",
      " '외반',\n",
      " '외주',\n",
      " '외투',\n",
      " '왼손',\n",
      " '요가',\n",
      " '요강',\n",
      " '요건',\n",
      " '요걸',\n",
      " '요것',\n",
      " '요게',\n",
      " '요괴',\n",
      " '요구',\n",
      " '요금',\n",
      " '요기',\n",
      " '요나고',\n",
      " '요놈',\n",
      " '요단',\n",
      " '요라',\n",
      " '요란',\n",
      " '요령',\n",
      " '요리',\n",
      " '요마',\n",
      " '요부',\n",
      " '요새',\n",
      " '요소',\n",
      " '요시',\n",
      " '요식',\n",
      " '요약',\n",
      " '요어',\n",
      " '요오',\n",
      " '요요',\n",
      " '요우',\n",
      " '요원',\n",
      " '요의',\n",
      " '요인',\n",
      " '요절',\n",
      " '요정',\n",
      " '요지',\n",
      " '요직',\n",
      " '요청',\n",
      " '요하',\n",
      " '요항',\n",
      " '욕계',\n",
      " '욕구',\n",
      " '용어',\n",
      " '용제',\n",
      " '용태',\n",
      " '용하',\n",
      " '용해',\n",
      " '우대',\n",
      " '우든',\n",
      " '우디',\n",
      " '우려',\n",
      " '우로',\n",
      " '우리말',\n",
      " '우린',\n",
      " '우면',\n",
      " '우변',\n",
      " '우비',\n",
      " '우승',\n",
      " '우와',\n",
      " '우위',\n",
      " '우유',\n",
      " '우주',\n",
      " '우투',\n",
      " '우편',\n",
      " '운송',\n",
      " '운수',\n",
      " '운영',\n",
      " '울타리',\n",
      " '웃음',\n",
      " '웅덩이',\n",
      " '워든',\n",
      " '워밍업',\n",
      " '워치',\n",
      " '원곡',\n",
      " '원로',\n",
      " '원리',\n",
      " '원상',\n",
      " '원위',\n",
      " '원작',\n",
      " '원장',\n",
      " '원점',\n",
      " '원칙',\n",
      " '원형',\n",
      " '월말',\n",
      " '월매',\n",
      " '웬디',\n",
      " '위기',\n",
      " '위너',\n",
      " '위도',\n",
      " '위로',\n",
      " '위배',\n",
      " '위원',\n",
      " '위조',\n",
      " '위주',\n",
      " '위쪽',\n",
      " '위차',\n",
      " '위축',\n",
      " '위치',\n",
      " '위한',\n",
      " '위험',\n",
      " '윌마',\n",
      " '유격',\n",
      " '유격수',\n",
      " '유광',\n",
      " '유괴',\n",
      " '유교',\n",
      " '유근',\n",
      " '유기',\n",
      " '유담',\n",
      " '유도',\n",
      " '유두',\n",
      " '유류',\n",
      " '유리',\n",
      " '유리수',\n",
      " '유리아',\n",
      " '유머',\n",
      " '유미영',\n",
      " '유배',\n",
      " '유분',\n",
      " '유사',\n",
      " '유상',\n",
      " '유수',\n",
      " '유술',\n",
      " '유식',\n",
      " '유아',\n",
      " '유압',\n",
      " '유야',\n",
      " '유용',\n",
      " '유이',\n",
      " '유익',\n",
      " '유일',\n",
      " '유재',\n",
      " '유저',\n",
      " '유지',\n",
      " '유추',\n",
      " '유치',\n",
      " '유카',\n",
      " '유타카',\n",
      " '유튜브',\n",
      " '유형',\n",
      " '유화',\n",
      " '육군',\n",
      " '육아',\n",
      " '윤거',\n",
      " '윤은혜',\n",
      " '융단',\n",
      " '은가',\n",
      " '은계',\n",
      " '은반',\n",
      " '은비',\n",
      " '은선',\n",
      " '은아',\n",
      " '은애',\n",
      " '은어',\n",
      " '은영',\n",
      " '은우',\n",
      " '은유',\n",
      " '은율',\n",
      " '은의',\n",
      " '은자',\n",
      " '은행',\n",
      " '은혜',\n",
      " '을로',\n",
      " '음각',\n",
      " '음반',\n",
      " '음복',\n",
      " '음봉',\n",
      " '음수',\n",
      " '음순',\n",
      " '음식',\n",
      " '음영',\n",
      " '음욕',\n",
      " '음용',\n",
      " '음치',\n",
      " '음핵',\n",
      " '응결',\n",
      " '응수',\n",
      " '응시자',\n",
      " '응용',\n",
      " '의거',\n",
      " '의대',\n",
      " '의무',\n",
      " '의문',\n",
      " '의미',\n",
      " '의비',\n",
      " '의상',\n",
      " '의서',\n",
      " '의술',\n",
      " '의식',\n",
      " '의심',\n",
      " '의약',\n",
      " '의외',\n",
      " '의원',\n",
      " '의의',\n",
      " '의자',\n",
      " '의장',\n",
      " '의지',\n",
      " '의총',\n",
      " '이겁니다',\n",
      " '이계영',\n",
      " '이과',\n",
      " '이광재',\n",
      " '이기',\n",
      " '이날',\n",
      " '이놈',\n",
      " '이담',\n",
      " '이당',\n",
      " '이대로',\n",
      " '이대진',\n",
      " '이대호',\n",
      " '이동',\n",
      " '이동해',\n",
      " '이드',\n",
      " '이득',\n",
      " '이란',\n",
      " '이론',\n",
      " '이름',\n",
      " '이리',\n",
      " '이마',\n",
      " '이만기',\n",
      " '이면',\n",
      " '이모',\n",
      " '이목',\n",
      " '이미라',\n",
      " '이미지',\n",
      " '이불',\n",
      " '이브',\n",
      " '이비',\n",
      " '이사',\n",
      " '이상수',\n",
      " '이수',\n",
      " '이수근',\n",
      " '이슈',\n",
      " '이식',\n",
      " '이아영',\n",
      " '이야기',\n",
      " '이야긴데',\n",
      " '이양',\n",
      " '이어',\n",
      " '이언',\n",
      " '이에',\n",
      " '이영애',\n",
      " '이영희',\n",
      " '이온',\n",
      " '이와이',\n",
      " '이요',\n",
      " '이용대',\n",
      " '이웃',\n",
      " '이원',\n",
      " '이유',\n",
      " '이은숙',\n",
      " '이음수',\n",
      " '이이',\n",
      " '이익',\n",
      " '이인수',\n",
      " '이인숙',\n",
      " '이입',\n",
      " '이자',\n",
      " '이작',\n",
      " '이재기',\n",
      " '이점',\n",
      " '이정',\n",
      " '이정수',\n",
      " '이제호',\n",
      " '이중',\n",
      " '이즈',\n",
      " '이즈미',\n",
      " '이지마',\n",
      " '이찬',\n",
      " '이참',\n",
      " '이창',\n",
      " '이창기',\n",
      " '이치',\n",
      " '이쿠',\n",
      " '이퀄',\n",
      " '이탈',\n",
      " '이트',\n",
      " '이튼',\n",
      " '이판',\n",
      " '이하',\n",
      " '이하늬',\n",
      " '이하라',\n",
      " '이하영',\n",
      " '이한상',\n",
      " '이해',\n",
      " '이향',\n",
      " '이혜',\n",
      " '익사',\n",
      " '익스',\n",
      " '인건',\n",
      " '인디',\n",
      " '인물',\n",
      " '인사',\n",
      " '인상',\n",
      " '인소',\n",
      " '인쇄',\n",
      " '인수',\n",
      " '인숙',\n",
      " '인순',\n",
      " '인순이',\n",
      " '인술',\n",
      " '인습',\n",
      " '인식',\n",
      " '인아',\n",
      " '인원',\n",
      " '인자',\n",
      " '인장',\n",
      " '인주',\n",
      " '인지',\n",
      " '인턴',\n",
      " '일과',\n",
      " '일까',\n",
      " '일대',\n",
      " '일동',\n",
      " '일로나',\n",
      " '일밤',\n",
      " '일본',\n",
      " '일부분',\n",
      " '일상',\n",
      " '일생',\n",
      " '일수',\n",
      " '일쑤',\n",
      " '일어',\n",
      " '일은',\n",
      " '일자',\n",
      " '일정',\n",
      " '일종',\n",
      " '일주문',\n",
      " '일지',\n",
      " '일축',\n",
      " '일품',\n",
      " '임수',\n",
      " '임시',\n",
      " '임신',\n",
      " '임업',\n",
      " '임의',\n",
      " '임하',\n",
      " '입대',\n",
      " '입력',\n",
      " '입법',\n",
      " '입상',\n",
      " '입술',\n",
      " '입안',\n",
      " '입양',\n",
      " '입자',\n",
      " '입장',\n",
      " '입주',\n",
      " '입체',\n",
      " '잉아',\n",
      " '잉어',\n",
      " '자격',\n",
      " '자괴',\n",
      " '자국',\n",
      " '자국어',\n",
      " '자극',\n",
      " '자금',\n",
      " '자나',\n",
      " '자다',\n",
      " '자당',\n",
      " '자동',\n",
      " '자라',\n",
      " '자락',\n",
      " '자렛',\n",
      " '자료',\n",
      " '자름',\n",
      " '자리',\n",
      " '자만',\n",
      " '자매',\n",
      " '자비',\n",
      " '자살',\n",
      " '자세',\n",
      " '자식',\n",
      " '자아',\n",
      " '자연',\n",
      " '자연사',\n",
      " '자연수',\n",
      " '자예',\n",
      " '자유',\n",
      " '자유당',\n",
      " '자유자재',\n",
      " '자의',\n",
      " '자인',\n",
      " '자임',\n",
      " '자지',\n",
      " '자책',\n",
      " '자치',\n",
      " '자크',\n",
      " '자폭',\n",
      " '자해',\n",
      " '자현',\n",
      " '자형',\n",
      " '작가',\n",
      " '작동',\n",
      " '작사',\n",
      " '작사가',\n",
      " '작성',\n",
      " '작업',\n",
      " '작음',\n",
      " '작품',\n",
      " '잔디',\n",
      " '잔소리',\n",
      " '잘못',\n",
      " '잠옷',\n",
      " '잠은',\n",
      " '잡곡',\n",
      " '장남',\n",
      " '장례',\n",
      " '장르',\n",
      " '장범준',\n",
      " '장부',\n",
      " '장식',\n",
      " '장염',\n",
      " '장위',\n",
      " '장의',\n",
      " '장인',\n",
      " '장주',\n",
      " '재계',\n",
      " '재고',\n",
      " '재료',\n",
      " '재미',\n",
      " '재배법',\n",
      " '재벌',\n",
      " '재생',\n",
      " '재수생',\n",
      " '재앙',\n",
      " '재원',\n",
      " '재해',\n",
      " '쟁점',\n",
      " '쟁취',\n",
      " '저가',\n",
      " '저거',\n",
      " '저게',\n",
      " '저곳',\n",
      " '저급',\n",
      " '저녁',\n",
      " '저서',\n",
      " '저술',\n",
      " '저어기',\n",
      " '저역',\n",
      " '저작',\n",
      " '저크',\n",
      " '저항',\n",
      " '적군',\n",
      " '적그리스도',\n",
      " '적금',\n",
      " '적룡',\n",
      " '적분',\n",
      " '적수',\n",
      " '적용',\n",
      " '전개',\n",
      " '전격',\n",
      " '전국',\n",
      " '전기',\n",
      " '전달',\n",
      " '전설',\n",
      " '전시',\n",
      " '전액',\n",
      " '전요',\n",
      " '전이',\n",
      " '전쟁',\n",
      " '전제',\n",
      " '전주',\n",
      " '전투함',\n",
      " '전파',\n",
      " '전편',\n",
      " '전화기',\n",
      " '전환',\n",
      " '절댓값',\n",
      " '절반',\n",
      " '절약',\n",
      " '절체',\n",
      " '점수',\n",
      " '접근',\n",
      " '접속',\n",
      " '접속자',\n",
      " '접수',\n",
      " '접시',\n",
      " '접아',\n",
      " '접합',\n",
      " '정계',\n",
      " '정권',\n",
      " '정규',\n",
      " '정기',\n",
      " '정념',\n",
      " '정담',\n",
      " '정답',\n",
      " '정대',\n",
      " '정돈',\n",
      " '정리',\n",
      " '정리함',\n",
      " '정맥',\n",
      " '정모',\n",
      " '정밀',\n",
      " '정보',\n",
      " '정비',\n",
      " '정상',\n",
      " '정수',\n",
      " '정수기',\n",
      " '정숙',\n",
      " '정신',\n",
      " '정양',\n",
      " '정우',\n",
      " '정위',\n",
      " '정의',\n",
      " '정의역',\n",
      " '정자',\n",
      " '정쟁',\n",
      " '정책',\n",
      " '정확',\n",
      " '제가',\n",
      " '제거',\n",
      " '제고',\n",
      " '제곱',\n",
      " '제곱근',\n",
      " '제공',\n",
      " '제구',\n",
      " '제국',\n",
      " '제금',\n",
      " '제니',\n",
      " '제도',\n",
      " '제로',\n",
      " '제모',\n",
      " '제목',\n",
      " '제벌',\n",
      " '제법',\n",
      " '제보',\n",
      " '제복',\n",
      " '제부',\n",
      " '제시',\n",
      " '제어',\n",
      " '제어판',\n",
      " '제외',\n",
      " '제의',\n",
      " '제이',\n",
      " '제일',\n",
      " '제자',\n",
      " '제자리',\n",
      " '제재',\n",
      " '제정',\n",
      " '제출',\n",
      " '제트',\n",
      " '제퍼',\n",
      " '제품',\n",
      " '제하',\n",
      " '조건',\n",
      " '조곡',\n",
      " '조그',\n",
      " '조급',\n",
      " '조기',\n",
      " '조리',\n",
      " '조리개',\n",
      " '조립',\n",
      " '조망',\n",
      " '조민수',\n",
      " '조부모',\n",
      " '조성',\n",
      " '조속',\n",
      " '조식',\n",
      " '조심',\n",
      " '조어',\n",
      " '조이스',\n",
      " '조절',\n",
      " '조정',\n",
      " '조치',\n",
      " '조합',\n",
      " '조화',\n",
      " '존재',\n",
      " '졸업',\n",
      " '종교',\n",
      " '종료',\n",
      " '종류',\n",
      " '종업식',\n",
      " '종합',\n",
      " '좌변',\n",
      " '좌표',\n",
      " '좌표계',\n",
      " '죄과',\n",
      " '죠이',\n",
      " '주가',\n",
      " '주거비',\n",
      " '주공',\n",
      " '주관식',\n",
      " '주광색',\n",
      " '주교',\n",
      " '주기',\n",
      " '주도',\n",
      " '주말',\n",
      " '주먹',\n",
      " '주모',\n",
      " '주문',\n",
      " '주범',\n",
      " '주변',\n",
      " '주사',\n",
      " '주산',\n",
      " '주석',\n",
      " '주세',\n",
      " '주야',\n",
      " '주요',\n",
      " '주위',\n",
      " '주의',\n",
      " '주인공',\n",
      " '주자',\n",
      " '주제',\n",
      " '주제곡',\n",
      " '주황색',\n",
      " '죽음',\n",
      " '준비',\n",
      " '중괄호',\n",
      " '중국',\n",
      " '중국인',\n",
      " '중군',\n",
      " '중근',\n",
      " '중물',\n",
      " '중복',\n",
      " '중상',\n",
      " '중생',\n",
      " '중세',\n",
      " '중식',\n",
      " '중심',\n",
      " '중앙',\n",
      " '중요',\n",
      " '중용',\n",
      " '중일',\n",
      " '중학교',\n",
      " '중학생',\n",
      " '즈음',\n",
      " '증가',\n",
      " '증거',\n",
      " '증거자',\n",
      " '증명',\n",
      " '증상',\n",
      " '증식',\n",
      " '증오',\n",
      " '지간',\n",
      " '지갑',\n",
      " '지고',\n",
      " '지구',\n",
      " '지그',\n",
      " '지급',\n",
      " '지급식',\n",
      " '지네',\n",
      " '지도자',\n",
      " '지렁',\n",
      " '지름',\n",
      " '지면',\n",
      " '지속',\n",
      " '지수',\n",
      " '지식',\n",
      " '지역',\n",
      " '지오',\n",
      " '지우',\n",
      " '지원',\n",
      " '지재',\n",
      " '지점',\n",
      " '지태',\n",
      " '지회',\n",
      " '직관',\n",
      " '직교',\n",
      " '직무',\n",
      " '직사',\n",
      " '직사각',\n",
      " '직사각형',\n",
      " '직선',\n",
      " '직업',\n",
      " '직원',\n",
      " '직인',\n",
      " '진다',\n",
      " '진단',\n",
      " '진리',\n",
      " '진수',\n",
      " '진제',\n",
      " '진주',\n",
      " '진행',\n",
      " '질고',\n",
      " '질량',\n",
      " '질문',\n",
      " '집중',\n",
      " '집합',\n",
      " '짜리',\n",
      " '짜증',\n",
      " '짝수',\n",
      " '쪼가리',\n",
      " '찌개',\n",
      " '차관',\n",
      " '차기',\n",
      " '차례',\n",
      " '차수',\n",
      " '차시',\n",
      " '차신',\n",
      " '차야',\n",
      " '차용',\n",
      " '차원',\n",
      " '차이',\n",
      " '차체',\n",
      " '차향',\n",
      " '착란',\n",
      " '착수',\n",
      " '찬양',\n",
      " '참고',\n",
      " '참석',\n",
      " '찹니다',\n",
      " '찻잔',\n",
      " '창만',\n",
      " '창업자',\n",
      " '창장',\n",
      " '창파',\n",
      " '채널',\n",
      " '채소',\n",
      " '채용',\n",
      " '채원',\n",
      " '채택',\n",
      " '책방',\n",
      " '책상',\n",
      " '책의',\n",
      " '책임',\n",
      " '처녀',\n",
      " '처리',\n",
      " '천국',\n",
      " '천만',\n",
      " '천분',\n",
      " '천억',\n",
      " '천인',\n",
      " '철수',\n",
      " '첨부',\n",
      " '첨자',\n",
      " '첫눈',\n",
      " '청소',\n",
      " '청자',\n",
      " '청장',\n",
      " '청크',\n",
      " '체계',\n",
      " '체모',\n",
      " '체법',\n",
      " '체온계',\n",
      " '체제',\n",
      " '체질',\n",
      " '체험',\n",
      " '초기',\n",
      " '초등',\n",
      " '초등학생',\n",
      " '초반',\n",
      " '초보',\n",
      " '초속',\n",
      " '초크',\n",
      " '촉박',\n",
      " '총수',\n",
      " '총장',\n",
      " '총회',\n",
      " '최고',\n",
      " '최고참',\n",
      " '최대',\n",
      " '최대한',\n",
      " '최민',\n",
      " '최선',\n",
      " '최소',\n",
      " '최소공배수',\n",
      " '최소한',\n",
      " '최우선',\n",
      " '최종',\n",
      " '최초',\n",
      " '추가',\n",
      " '추구',\n",
      " '추산',\n",
      " '추상',\n",
      " '추정',\n",
      " '추진',\n",
      " '추천',\n",
      " '출발',\n",
      " '출장',\n",
      " '출제',\n",
      " '충주',\n",
      " '취한',\n",
      " '취향',\n",
      " '치료',\n",
      " '치리',\n",
      " '치마',\n",
      " '치명',\n",
      " '치아',\n",
      " '치약',\n",
      " '치인',\n",
      " '치중',\n",
      " '치즈',\n",
      " '치지',\n",
      " '치한',\n",
      " '치환',\n",
      " '칠판',\n",
      " '침대',\n",
      " '침해',\n",
      " '카드',\n",
      " '카세인',\n",
      " '카스',\n",
      " '카페',\n",
      " '칸트',\n",
      " '캐릭터',\n",
      " '캐치',\n",
      " '캠핑',\n",
      " '커버',\n",
      " '커스',\n",
      " '커트',\n",
      " '커플',\n",
      " '컬러',\n",
      " '컴맹',\n",
      " '케어',\n",
      " '케이',\n",
      " '케이스',\n",
      " '케이트',\n",
      " '켤레',\n",
      " '코디',\n",
      " '코브라',\n",
      " '코사인',\n",
      " '코치',\n",
      " '코판',\n",
      " '코펠',\n",
      " '코피',\n",
      " '콘셉트',\n",
      " '콜마르',\n",
      " '콤마',\n",
      " '퀴즈',\n",
      " '큐브',\n",
      " '크기',\n",
      " '크로스',\n",
      " '크리스마스',\n",
      " '큰애',\n",
      " '큰이',\n",
      " '큰일',\n",
      " '클라',\n",
      " '클랑',\n",
      " '클래스',\n",
      " '클래식',\n",
      " '클랜',\n",
      " '클럽',\n",
      " '클로버',\n",
      " '클릭',\n",
      " '클립',\n",
      " '키포인트',\n",
      " '키프',\n",
      " '타령',\n",
      " '타미야',\n",
      " '타사',\n",
      " '타요',\n",
      " '타운',\n",
      " '타이',\n",
      " '타이틀',\n",
      " '타임',\n",
      " '탈라',\n",
      " '탈출',\n",
      " '탐구',\n",
      " '탑재',\n",
      " '태그',\n",
      " '태풍',\n",
      " '택연',\n",
      " '테다',\n",
      " '테러',\n",
      " '테스트',\n",
      " '테크닉',\n",
      " '테퍼',\n",
      " '텍스',\n",
      " '텍스트',\n",
      " '텐데요',\n",
      " '텐트',\n",
      " '텔러',\n",
      " '템플러',\n",
      " '토리',\n",
      " '토크',\n",
      " '통기타',\n",
      " '통달',\n",
      " '통로',\n",
      " '통보',\n",
      " '통분',\n",
      " '통수',\n",
      " '통영',\n",
      " '통제',\n",
      " '통째',\n",
      " '통행',\n",
      " '투기',\n",
      " '투사',\n",
      " '투수',\n",
      " '투야',\n",
      " '투어',\n",
      " '투입',\n",
      " '투치',\n",
      " '투표',\n",
      " '튜브',\n",
      " '트리스',\n",
      " '특강',\n",
      " '특기',\n",
      " '특별',\n",
      " '특별회계',\n",
      " '특허',\n",
      " '틀니',\n",
      " '파가',\n",
      " '파계사',\n",
      " '파괴',\n",
      " '파기',\n",
      " '파란색',\n",
      " '파랑',\n",
      " '파래',\n",
      " '파로',\n",
      " '파르',\n",
      " '파리',\n",
      " '파리아',\n",
      " '파면',\n",
      " '파멸',\n",
      " '파악',\n",
      " '파이',\n",
      " '파이나',\n",
      " '파이어',\n",
      " '파일',\n",
      " '파자',\n",
      " '파주',\n",
      " '파트',\n",
      " '파형',\n",
      " '판다',\n",
      " '판다리',\n",
      " '판단',\n",
      " '판매',\n",
      " '판문점',\n",
      " '판별',\n",
      " '팔도',\n",
      " '패거리',\n",
      " '패기',\n",
      " '패도',\n",
      " '패스',\n",
      " '패자',\n",
      " '패턴',\n",
      " '팩스',\n",
      " '팩터',\n",
      " '팩토리',\n",
      " '퍼걸러',\n",
      " '퍼블',\n",
      " '퍼트',\n",
      " '펀드',\n",
      " '페어',\n",
      " '페이지',\n",
      " '편리',\n",
      " '편의',\n",
      " '평가',\n",
      " '평균',\n",
      " '평면',\n",
      " '평민',\n",
      " '평수',\n",
      " '평행',\n",
      " '포괄',\n",
      " '포기',\n",
      " '포라',\n",
      " '포물선',\n",
      " '포엠',\n",
      " '포인트',\n",
      " '포자',\n",
      " '포토',\n",
      " '포트',\n",
      " '포플러',\n",
      " '포함',\n",
      " '폭격',\n",
      " '폭력',\n",
      " '폭탄',\n",
      " '표기',\n",
      " '표시',\n",
      " '표어',\n",
      " '표현',\n",
      " '푸드',\n",
      " '풀이',\n",
      " '풍부',\n",
      " '프라',\n",
      " '프랑스',\n",
      " '프레스',\n",
      " '프레임',\n",
      " '프로그래머',\n",
      " '프로스',\n",
      " '프로톤',\n",
      " '프로필',\n",
      " '프리',\n",
      " '프린트',\n",
      " '플라',\n",
      " '플라스마',\n",
      " '플라스크',\n",
      " '플라스터',\n",
      " '플라스틱',\n",
      " '플라이',\n",
      " '플라이트',\n",
      " '플라타',\n",
      " '플러드',\n",
      " '플러스',\n",
      " '플러스마이너스',\n",
      " '플러시',\n",
      " '플레어',\n",
      " '플레이',\n",
      " '플레이어',\n",
      " '플렉스',\n",
      " '플롯',\n",
      " '플리즈',\n",
      " '피난',\n",
      " '피면',\n",
      " '피버',\n",
      " '피아노',\n",
      " '피안',\n",
      " '피자',\n",
      " '피즈',\n",
      " '피해',\n",
      " '피해자',\n",
      " '픽업',\n",
      " '필라테스',\n",
      " '필부',\n",
      " '필수',\n",
      " '필요',\n",
      " '핑크',\n",
      " '하나야',\n",
      " '하나하나',\n",
      " '하노이',\n",
      " '하늘',\n",
      " '하드',\n",
      " '하락',\n",
      " '하민',\n",
      " '하비',\n",
      " '하와이',\n",
      " '하우스',\n",
      " '하위',\n",
      " '하음',\n",
      " '하이',\n",
      " '하중',\n",
      " '하지',\n",
      " '하진',\n",
      " '하차',\n",
      " '하프',\n",
      " '학과',\n",
      " '학군',\n",
      " '학기',\n",
      " '학년',\n",
      " '학문',\n",
      " '학생',\n",
      " '학습',\n",
      " '학자',\n",
      " '학적',\n",
      " '학창',\n",
      " '한강',\n",
      " '한경희',\n",
      " '한계',\n",
      " '한과',\n",
      " '한국식',\n",
      " '한글',\n",
      " '한라',\n",
      " '한문',\n",
      " '한방',\n",
      " '한상',\n",
      " '한자',\n",
      " '한자어',\n",
      " '한지',\n",
      " '한진',\n",
      " '한풀',\n",
      " '할렘',\n",
      " '할머니',\n",
      " '할아버지',\n",
      " '함량',\n",
      " '함성',\n",
      " '함수',\n",
      " '함수어',\n",
      " '합격',\n",
      " '합고',\n",
      " '합성',\n",
      " '합의',\n",
      " '합정',\n",
      " '합창',\n",
      " '합천호',\n",
      " '합체',\n",
      " '항등식',\n",
      " '항만',\n",
      " '항모',\n",
      " '항의',\n",
      " '항이',\n",
      " '항쟁',\n",
      " '항주',\n",
      " '항해',\n",
      " '해결',\n",
      " '해결책',\n",
      " '해군',\n",
      " '해답',\n",
      " '해명',\n",
      " '해방',\n",
      " '해법',\n",
      " '해보면',\n",
      " '해석',\n",
      " '해외',\n",
      " '해임',\n",
      " '해제',\n",
      " '해지',\n",
      " '해직',\n",
      " '해체',\n",
      " '해피',\n",
      " '핵심',\n",
      " '햇수',\n",
      " '행복',\n",
      " '행복감',\n",
      " '행위',\n",
      " '향기',\n",
      " '향상',\n",
      " '향수',\n",
      " '허리',\n",
      " '허수',\n",
      " '허수부',\n",
      " '허점',\n",
      " '헤더',\n",
      " '헤드',\n",
      " '헤어',\n",
      " '현경',\n",
      " '현단',\n",
      " '현상',\n",
      " '현실',\n",
      " '혈뇨',\n",
      " '혈액',\n",
      " '협약',\n",
      " '형식',\n",
      " '형체',\n",
      " '형태',\n",
      " '호기심',\n",
      " '호머',\n",
      " '호불호',\n",
      " '호색한',\n",
      " '호수',\n",
      " '호원',\n",
      " '호저',\n",
      " '호칭',\n",
      " '호헌',\n",
      " '홀수',\n",
      " '홍대',\n",
      " '홍실',\n",
      " '화난',\n",
      " '화면',\n",
      " '화방',\n",
      " '화살표',\n",
      " '화요',\n",
      " '화이',\n",
      " '화장',\n",
      " '화초',\n",
      " '화한',\n",
      " '확인',\n",
      " '확장',\n",
      " '확정',\n",
      " '환생',\n",
      " '환영',\n",
      " '환자',\n",
      " '활용',\n",
      " '활인',\n",
      " '황경식',\n",
      " '황사',\n",
      " '황야',\n",
      " '회가',\n",
      " '회기',\n",
      " '회답',\n",
      " '회랑',\n",
      " '회로',\n",
      " '회색',\n",
      " '회의',\n",
      " '회장',\n",
      " '회전',\n",
      " '회차',\n",
      " '획득',\n",
      " '횟수',\n",
      " '후배',\n",
      " '후보',\n",
      " '후예',\n",
      " '후원',\n",
      " '훈련',\n",
      " '흐름',\n",
      " '흑발',\n",
      " '흑인',\n",
      " '흡수',\n",
      " '흡착',\n",
      " '흥부',\n",
      " '흥분',\n",
      " '희성',\n",
      " '히로',\n",
      " '히말라야',\n",
      " '힌트']\n"
     ]
    }
   ],
   "source": [
    "from pprint import pprint\n",
    "pprint(vocab.tolist())"
   ]
  },
  {
   "cell_type": "code",
   "execution_count": 53,
   "metadata": {},
   "outputs": [],
   "source": [
    "train_bow_embeddings = vectorizer.fit_transform(texts)\n"
   ]
  },
  {
   "cell_type": "code",
   "execution_count": 62,
   "metadata": {},
   "outputs": [
    {
     "name": "stdout",
     "output_type": "stream",
     "text": [
      "(4453, 3000)\n"
     ]
    }
   ],
   "source": [
    "print(train_bow_embeddings.shape)\n"
   ]
  },
  {
   "cell_type": "code",
   "execution_count": 64,
   "metadata": {},
   "outputs": [
    {
     "ename": "NotFittedError",
     "evalue": "Vocabulary not fitted or provided",
     "output_type": "error",
     "traceback": [
      "\u001b[0;31m---------------------------------------------------------------------------\u001b[0m",
      "\u001b[0;31mNotFittedError\u001b[0m                            Traceback (most recent call last)",
      "\u001b[0;32m<ipython-input-64-a48ed6876d61>\u001b[0m in \u001b[0;36m<module>\u001b[0;34m\u001b[0m\n\u001b[0;32m----> 1\u001b[0;31m \u001b[0mvocab\u001b[0m \u001b[0;34m=\u001b[0m \u001b[0mvectorizer\u001b[0m\u001b[0;34m.\u001b[0m\u001b[0mget_feature_names_out\u001b[0m\u001b[0;34m(\u001b[0m\u001b[0;34m)\u001b[0m\u001b[0;34m\u001b[0m\u001b[0;34m\u001b[0m\u001b[0m\n\u001b[0m\u001b[1;32m      2\u001b[0m \u001b[0mid2token\u001b[0m \u001b[0;34m=\u001b[0m \u001b[0;34m{\u001b[0m\u001b[0mk\u001b[0m\u001b[0;34m:\u001b[0m \u001b[0mv\u001b[0m \u001b[0;32mfor\u001b[0m \u001b[0mk\u001b[0m\u001b[0;34m,\u001b[0m \u001b[0mv\u001b[0m \u001b[0;32min\u001b[0m \u001b[0mzip\u001b[0m\u001b[0;34m(\u001b[0m\u001b[0mrange\u001b[0m\u001b[0;34m(\u001b[0m\u001b[0;36m0\u001b[0m\u001b[0;34m,\u001b[0m \u001b[0mlen\u001b[0m\u001b[0;34m(\u001b[0m\u001b[0mvocab\u001b[0m\u001b[0;34m)\u001b[0m\u001b[0;34m)\u001b[0m\u001b[0;34m,\u001b[0m \u001b[0mvocab\u001b[0m\u001b[0;34m)\u001b[0m\u001b[0;34m}\u001b[0m\u001b[0;34m\u001b[0m\u001b[0;34m\u001b[0m\u001b[0m\n",
      "\u001b[0;32m~/Desktop/GeniA_project/venv/lib/python3.10/site-packages/sklearn/feature_extraction/text.py\u001b[0m in \u001b[0;36mget_feature_names_out\u001b[0;34m(self, input_features)\u001b[0m\n\u001b[1;32m   1482\u001b[0m             \u001b[0mTransformed\u001b[0m \u001b[0mfeature\u001b[0m \u001b[0mnames\u001b[0m\u001b[0;34m.\u001b[0m\u001b[0;34m\u001b[0m\u001b[0;34m\u001b[0m\u001b[0m\n\u001b[1;32m   1483\u001b[0m         \"\"\"\n\u001b[0;32m-> 1484\u001b[0;31m         \u001b[0mself\u001b[0m\u001b[0;34m.\u001b[0m\u001b[0m_check_vocabulary\u001b[0m\u001b[0;34m(\u001b[0m\u001b[0;34m)\u001b[0m\u001b[0;34m\u001b[0m\u001b[0;34m\u001b[0m\u001b[0m\n\u001b[0m\u001b[1;32m   1485\u001b[0m         return np.asarray(\n\u001b[1;32m   1486\u001b[0m             \u001b[0;34m[\u001b[0m\u001b[0mt\u001b[0m \u001b[0;32mfor\u001b[0m \u001b[0mt\u001b[0m\u001b[0;34m,\u001b[0m \u001b[0mi\u001b[0m \u001b[0;32min\u001b[0m \u001b[0msorted\u001b[0m\u001b[0;34m(\u001b[0m\u001b[0mself\u001b[0m\u001b[0;34m.\u001b[0m\u001b[0mvocabulary_\u001b[0m\u001b[0;34m.\u001b[0m\u001b[0mitems\u001b[0m\u001b[0;34m(\u001b[0m\u001b[0;34m)\u001b[0m\u001b[0;34m,\u001b[0m \u001b[0mkey\u001b[0m\u001b[0;34m=\u001b[0m\u001b[0mitemgetter\u001b[0m\u001b[0;34m(\u001b[0m\u001b[0;36m1\u001b[0m\u001b[0;34m)\u001b[0m\u001b[0;34m)\u001b[0m\u001b[0;34m]\u001b[0m\u001b[0;34m,\u001b[0m\u001b[0;34m\u001b[0m\u001b[0;34m\u001b[0m\u001b[0m\n",
      "\u001b[0;32m~/Desktop/GeniA_project/venv/lib/python3.10/site-packages/sklearn/feature_extraction/text.py\u001b[0m in \u001b[0;36m_check_vocabulary\u001b[0;34m(self)\u001b[0m\n\u001b[1;32m    508\u001b[0m             \u001b[0mself\u001b[0m\u001b[0;34m.\u001b[0m\u001b[0m_validate_vocabulary\u001b[0m\u001b[0;34m(\u001b[0m\u001b[0;34m)\u001b[0m\u001b[0;34m\u001b[0m\u001b[0;34m\u001b[0m\u001b[0m\n\u001b[1;32m    509\u001b[0m             \u001b[0;32mif\u001b[0m \u001b[0;32mnot\u001b[0m \u001b[0mself\u001b[0m\u001b[0;34m.\u001b[0m\u001b[0mfixed_vocabulary_\u001b[0m\u001b[0;34m:\u001b[0m\u001b[0;34m\u001b[0m\u001b[0;34m\u001b[0m\u001b[0m\n\u001b[0;32m--> 510\u001b[0;31m                 \u001b[0;32mraise\u001b[0m \u001b[0mNotFittedError\u001b[0m\u001b[0;34m(\u001b[0m\u001b[0;34m\"Vocabulary not fitted or provided\"\u001b[0m\u001b[0;34m)\u001b[0m\u001b[0;34m\u001b[0m\u001b[0;34m\u001b[0m\u001b[0m\n\u001b[0m\u001b[1;32m    511\u001b[0m \u001b[0;34m\u001b[0m\u001b[0m\n\u001b[1;32m    512\u001b[0m         \u001b[0;32mif\u001b[0m \u001b[0mlen\u001b[0m\u001b[0;34m(\u001b[0m\u001b[0mself\u001b[0m\u001b[0;34m.\u001b[0m\u001b[0mvocabulary_\u001b[0m\u001b[0;34m)\u001b[0m \u001b[0;34m==\u001b[0m \u001b[0;36m0\u001b[0m\u001b[0;34m:\u001b[0m\u001b[0;34m\u001b[0m\u001b[0;34m\u001b[0m\u001b[0m\n",
      "\u001b[0;31mNotFittedError\u001b[0m: Vocabulary not fitted or provided"
     ]
    }
   ],
   "source": [
    "vocab = vectorizer.get_feature_names_out()\n",
    "id2token = {k: v for k, v in zip(range(0, len(vocab)), vocab)}"
   ]
  },
  {
   "cell_type": "code",
   "execution_count": null,
   "metadata": {},
   "outputs": [
    {
     "data": {
      "application/vnd.jupyter.widget-view+json": {
       "model_id": "e8638d39e6f24744b8d1098568741cc3",
       "version_major": 2,
       "version_minor": 0
      },
      "text/plain": [
       "Batches:   0%|          | 0/23 [00:00<?, ?it/s]"
      ]
     },
     "metadata": {},
     "output_type": "display_data"
    }
   ],
   "source": [
    "train_contextualized_embeddings = bert_embeddings_from_list(texts, \\\n",
    "                                                            \"sentence-transformers/xlm-r-100langs-bert-base-nli-stsb-mean-tokens\")\n",
    "     "
   ]
  },
  {
   "cell_type": "code",
   "execution_count": 38,
   "metadata": {},
   "outputs": [],
   "source": [
    "qt = TopicModelDataPreparation()\n",
    "\n",
    "training_dataset = qt.load(train_contextualized_embeddings, train_bow_embeddings, id2token)\n",
    "     "
   ]
  },
  {
   "cell_type": "code",
   "execution_count": 46,
   "metadata": {},
   "outputs": [
    {
     "name": "stderr",
     "output_type": "stream",
     "text": [
      "Epoch: [20/20]\t Seen Samples: [89060/89060]\tTrain Loss: 63.162948707770745\tTime: 0:00:47.143565: : 20it [15:47, 47.35s/it]\n"
     ]
    }
   ],
   "source": [
    "\n",
    "ctm = CombinedTM(bow_size=len(vocab), contextual_size=768, n_components=20, num_epochs=20)\n",
    "ctm.fit(training_dataset)\n",
    "     "
   ]
  },
  {
   "cell_type": "code",
   "execution_count": 48,
   "metadata": {},
   "outputs": [
    {
     "data": {
      "text/plain": [
       "defaultdict(list,\n",
       "            {0: ['도록', '겁니다', '예요', '당연히', '세제곱'],\n",
       "             1: ['다음', '제곱', '곱하', '으로', '이렇게'],\n",
       "             2: ['에요', '편의', '가로', '잖아요', '그쵸'],\n",
       "             3: ['다음', '해서', '우리', '공식', '인수'],\n",
       "             4: ['분해', '그래서', '일단', '어떤', '으로'],\n",
       "             5: ['제곱', '는데', '이렇게', '라는', '라고'],\n",
       "             6: ['꺼려', '공동', '으러', '엄청', '어떻'],\n",
       "             7: ['니까', '이렇게', '여기', '플러스', '라고'],\n",
       "             8: ['할머니', '파형', '약품', '자비', '하프'],\n",
       "             9: ['할머니', '기술', '자비', '파형', '이쪽'],\n",
       "             10: ['제곱', '으로', '플러스', '다음', '니까'],\n",
       "             11: ['잖아', '얘기', '그냥', '근데', '전체'],\n",
       "             12: ['기능', '할머니', '꼬인', '하프', '기술'],\n",
       "             13: ['마음', '일생', '조리', '그러나', '색깔'],\n",
       "             14: ['상승', '할머니', '기능', '자비', '꺼릴'],\n",
       "             15: ['제곱', '완전', '그냥', '으니까', '그럼'],\n",
       "             16: ['제곱', '플러스', '다음', '니까', '곱하'],\n",
       "             17: ['에서', '인수', '공식', '수분', '여러분'],\n",
       "             18: ['여러분', '에서', '공식', '문제', '과정'],\n",
       "             19: ['기능', '하프', '참고', '꼬인', '군무원']})"
      ]
     },
     "execution_count": 48,
     "metadata": {},
     "output_type": "execute_result"
    }
   ],
   "source": [
    "\n",
    "ctm.get_topics(5)\n"
   ]
  },
  {
   "attachments": {},
   "cell_type": "markdown",
   "metadata": {},
   "source": [
    "---\n",
    "## BERTopic"
   ]
  },
  {
   "cell_type": "code",
   "execution_count": 65,
   "metadata": {},
   "outputs": [],
   "source": [
    "\n",
    "from tqdm import tqdm\n",
    "from sklearn.feature_extraction.text import CountVectorizer\n",
    "from konlpy.tag import Mecab\n",
    "from bertopic import BERTopic"
   ]
  },
  {
   "cell_type": "code",
   "execution_count": 66,
   "metadata": {},
   "outputs": [
    {
     "data": {
      "text/plain": [
       "['안녕하세요',\n",
       " '음악 오늘은 분 술에 선수로 따 초만에 닦은 다음 법 음악 자아 이거 폼 여는 클랑 약  채워 채워줘요',\n",
       " '어떻게 이렇게 빨리할 수 있느냐 우리가 분수를 소수로 바꾸는 이유는 뭐예요',\n",
       " '우리가 쉽진 들었으니까 순위 크기를 가늠할 수가 있죠',\n",
       " '근데 보통 이걸로도 가능해요',\n",
       " '아 반보다는 크구나',\n",
       " '근데 이제 정확히는 모르죠',\n",
       " '팜 범행이라고 하면 셋 중에 툴 정도 되겠구나',\n",
       " '뭐 이렇게까지 날 수 있는데 이제 정확하게 나타내 라 소수로 일반적으로는 어떻게 풀어 저게 씻고 나누기  이니까 우로 나눈 미샤 하나 붙이고 뭐 이렇게 가지고 빼고 음악 이렇게 해서 복잡하게 이제 풀어요',\n",
       " '풀다 보면 은 이게 이제 반복이 되거든요',\n",
       " '그럼 아 이건 반복 때문에 이제 그때 가서 반복되는 것을 쓰는데 이렇게 하면 안 돼요',\n",
       " '칼로 합니다',\n",
       " '이 문제를 보면은 소수라는 거에 의미를 알아야 돼요',\n",
       " '우리가 쓰면 수 진수 일 십백천 많이 몇 개 있냐',\n",
       " '이 말이요',\n",
       " '그런데 소수 니까 보다 작을 때는 다시 말해서 일 분의  천분의 일동으로 나누어 팩을 하는 첫눈 오다는 것들이 몇 개냐 로 나타내면 쉽죠',\n",
       " '그래도 우리가 이런 거 아쉬웠죠',\n",
       " '분에  이것은 곧바로 분위를 곱해 쓰니까 여기 다도를 곱하면 은 신이 그래가지고 이렇게 바로 그랬죠',\n",
       " '그래서 아내가 붐 무가 일 십백천만 원 나타내야 되는데 은 여기 하에  로 있어서 절대  백철만 으로 나타낼 수 없어요',\n",
       " '수영 많은 대 첨부 다 쉬운 수는 무엇일까 음악 태풍 어려운 사람은 바로 말  왜 잡으니까 그래서 이것은 그대로 위 알의 을 곱하면 구식 분의  윤 월 부품에는 인 을 빼면 이제는 것은 왜 주었어요',\n",
       " '바로   다시 말해서  을 으로 나누는데 하나를 남겨 놓고 나는 하는 거 보고 싶지를 으로 남았어',\n",
       " '그럼  이 줘',\n",
       " '그런데 한계를 빼빼로 않았으니까 이 이거 개가 그대로 남아있네요',\n",
       " '이 말이죠',\n",
       " '그래서 이게 원래 나머지가 점 꽃이 리 남아 있는 거예요',\n",
       " '남아있으니까 아직 안 끝났으니까 다시 나눠야 줘로 나누는 거예요',\n",
       " '으로 나누면 은 친히 되겠지',\n",
       " '그렇죠 추 그리고 또 나머지가 이만큼이 생각해 결국은 엄격 몰츠  치리 가  워치 이렇게 되는 거죠',\n",
       " '그래서 여기는 이렇게 우리가 쓰는 거죠',\n",
       " '이것이 총 다음악 그래 소수로 만드는 것은 굉장히 버티기 오면 쉽 쩍 심해 분의 한 이것은 분의 이것은 이렇게 된 거죠   그저 분의 그러면  부분 의원 처음으로 나으니까 병 점 년  삽니다',\n",
       " '그렇게 되겠네',\n",
       " '그래서 항상 이렇게 쉽고 않은 것으로 풀면 은 내가 알고 있는 걸로 자신 있게 푸는 거죠',\n",
       " '으 수확할 때 뭐 굳이 부분에 내어주고  분에 그래 뭐 이런 거를 호수로 쉽게 바꾸거나 요렇게 순환 소스로 바꾸는 거 있었는데 그럼 예를 들어서 엄마 분모가  인 거 아 방법 같은 것은 어떻게 또 쉽게 하죠',\n",
       " '아 그렇죠',\n",
       " '사실 허리가 이거를 중 아픈데 무작정 물 구조와의 귀가 지금 여기 너무 풀어준 것은 외우는 방안 엄지 총 악하게 왜 그런지 캬 지를 알려줍니다',\n",
       " '그럴 땐 운송 원해서 에디터 이러고 흔녀라는 걸  문의 이것은 스스로 바꿔라 그러면 이것은  후에 떨어지죠',\n",
       " '빡 그래서 사진은 분에  이루죠',\n",
       " '이런 문제가 나오면 아흔까지는  곱한 심히 줘 힘을 거다 내면은 그대로 부분을 인물 뭐 이렇게 함께 하라 그래서 이것을 쓸 줄 아는 애 을 일단 걷어내고 그다음 쓰게 되면의 이 일   이것을 무술 앞에 내라는 것은 이 항상 생각을 해 소수 보다 작은 걸 나타낼 때 쓰기 때문에 이런 걸 보면 자연사 부분은 이뤄내고 생각하는 게 슈얼 그러니까 북 은행이 좁아진 부위를 묵은 삶과 분에 위기로 분 음악 그러니까  얘기 이제 그러니까 분에 이를 보면 이런 건 끌리는지 뭐 이루는데 이름은 제 머리 남기는 하면 절대 안 돼요',\n",
       " '그래도 악마라고 했죠',\n",
       " '왜 락 맨 양 음 그리고 조금 복잡하면 음식을 적용할 수가 요령을 적용할 수가 없게 돼',\n",
       " '그래서 꽤 뜯어내는 쉽게 할 수 있고 의무 안되는 난 기회를 항상 이야기란 아시겠죠',\n",
       " '아 어느 분수의 속으로 분 아카 속 질문이 있으시면 댓글에 달아주시면 자 또 이렇게 물을 만드는 더 돌면서 수 안 점 상 또 록의 음악 으음악으으으 으',\n",
       " '여러분들 허수 아이에 대해 처음 접할 때 반감이 들진 않으셨나요',\n",
       " '의 루트를 씌워서 아이라고 하죠',\n",
       " '루트를 씌울 수 없는 줄 알았던 수에 루트를 씌워서 새로운 수로 정의한다고 했을 때 아니 실수들만 가지고 수확을 해도 충분히 힘든데 왜 이런 이상한 술을 또 만들어서 복잡하게 할까',\n",
       " '이 아이가 왜 필요한지 왜 배워야 하는지에 대한 설명 없이 이렇게 일방적으로 새로운 수를 정의하는 건 동기부여에 좋지 않은 방법일 수도 있을 것 같아요',\n",
       " '저는 호기심도 좀 많은 편이어서 이런 의문이 들긴 했었어요',\n",
       " '아니 마이너스의 루트를 씌워서 새로운 수라고 정의를 한다면 그럼 이 새로운라는 수에다가 루트를 씌워서라고 새로운 수로 정의해도 되지 않나',\n",
       " '그리고 그 제의에다가 또 루트를 씌워서 이런 수를 하고 정의하고 이렇게 계속 새로운 수를 정해 나가도 되지 않나 이런 의문이 들었어요',\n",
       " '사람이 한 번 어렵지 한 번 하고 나면 두 번 세 번 씹잖아요',\n",
       " '안되는 루트를 씌웠으니 그다음은 또 왜 안 되나 싶었어요',\n",
       " '그런데 이 질문에 대한 답은 나중에 복습 표현에 대해 배우면서 해결이 되었어요',\n",
       " '이런 제의나  같은 수가 필요가 없구나라는 사실을요',\n",
       " '그리고 나중에 대학교 가서 대수학의 기본 정리를 배우면서 이 아이가 왜 필요한지에 대해서 보다 명확해졌어요',\n",
       " '그래서 오늘은 그 얘기를 좀 해보려고 합니다',\n",
       " '왜 아이의 개념이 필요한지 왜 아이를 배워야 하는지 왜 제의나 같은 수가 필요가 없는지 그런 개념을 대수하게 기본 정리가 말해주는데 이 정리를 알게 되면 허수의 개념을 처음 익힐 때 동기부여가 될 수 있을 거라 생각해요',\n",
       " '이 아이가 필요한 이유는 공학적인 관점에서도 여러 가지가 있지만 순수하게 수학적인 관점에서 볼 때 이 대수학의 기본 정리가 핵심이라 생각합니다',\n",
       " '대수학의 기본적 영어로는 펀드 메탈 니스의 기본 정리에서 이 대수학이라고 하면 이 대사가 큰 대자가 아니라 대신할 대자예요',\n",
       " '문자로 대신 써서 해를 찾는 방법을 말하는 학문이라고 이해하시면 돼요',\n",
       " '  이라는 방정식이 있다고 하면 여기서는이라는 해를 찾는 거예요',\n",
       " '우리가 초등학교 때 덧셈 뺄셈 곱셈 나눗셈 배우고 이런 차 그리고 이 계수를 복소수 계수로 확장하더라도 차 방정식은 항상 두복 소수 끈을 가지게 돼요',\n",
       " '제곱 빼기    이런 복소수 계수의 차 방정식은 이런 식으로 복소수 범위 안에서 항상 인수분해가 돼요',\n",
       " '항상 두 근을 가진다는 얘기죠',\n",
       " '두 근이 똑같아서 중근이 될 수도 있지만 중복을 포함해서 항상 두 개의 근이 존재하게 되는 거죠',\n",
       " '실수 안에서 놀면 근이 있을 수도 있고 없을 수도 있고 이런 불편한 점이 있었다고 하면 복소수 체계 안에서 놀리게 되면 언제나 흔히 두 개 존재한다고 말할 수 있게 되는 겁니다',\n",
       " '차 방정식 차 방정식의 그는 어떨까요 복소수 개수의 차 차 방정식은 복소수 안에서 해를 항상 개 개 가지고 있을까요',\n",
       " '가 임의의 복소수일 때 이런 차 방정식의 해가 복소수 안에서 개 존재할까요',\n",
       " '이 대수학의 기본 정리는 바로 그 질문에 대한 해답을 주고 있습니다',\n",
       " '복소수 계수의 차 방정식은 복소 수혜를 항상 가진다 이게 대소하게 기본 정리예요',\n",
       " '그래서 이 정리를 진리로 받아들인다면 주어진 차 방정식에 대해서 어떤 복소수의 이 향상이 있고 그래서 그 차 방정식을 과 차 방정식으로 인수분해 할 수 있고 그리고 이 차 방정식에 대해서도 역시 대수학의 기본 정리해서 복소수 해가 있기 때문에 얘도 인수분해가 되고 그래서 연쇄적으로 결국 주어진 차 방정식은 이런 차항들로 인수분해가 된다는 말입니다',\n",
       " '즉 이 아무리 크더라도 중복을 포함해서 복소수 끈이 정확히 개가 항상 존재하는 거죠',\n",
       " '이 정리의 의미를 잘 이해하게 되면 제가 영상 초반에 말씀드렸던 루트  같은 수 이런 걸 새롭게 와 같은 수로 정의할 필요가 없게 돼요',\n",
       " '루트라는 건 제곱해서 아이가 되는 수일 테니까 제곱은 즉 다시 말해서  제곱 우는이라는 방정식의 해일 거예요',\n",
       " '근데 이 차 방정식은 복소수 계수의 차 방정식이기 때문에 항상 복소 수해를 가진다는 게 대 수업의 기본 정리가 해주는 얘기예요',\n",
       " '그래서 실제로 제곱하면 가 되는 수가 복소수 체계 안에서 존재한다는 말입니다',\n",
       " '실제로 루트 불의의  이런 수를 제곱하게 되면가 나와요',\n",
       " '이걸 제곱했다고 하면 실수부가 이 되고 허수부가 아이가 나와요',\n",
       " '제곱하면 다 나오는 수가 됩니다',\n",
       " '그러니까 따로라는 수를 정의할 필요가 없었던 거죠',\n",
       " '이렇게 수 체계를 복소수 범위까지 확장하고 나면 고차방정식을 푸는 데 있어새로운 두 체계가 필요하지 않게 되는 거예요',\n",
       " '그래서 우리가 실수만 가지고 놀 때에 비해서 만족스러운 결과를 얻게 됩니다',\n",
       " '어떤 고차방정식이 나오더라도 그 방정식의 해가 반드시 있는 것이 보장이 되는 것이죠',\n",
       " '그럼이 대수학의 기본 정리를 어떻게 믿느냐 이게 참이라는 것에 대한 증명을 보여드리고 그게 납득이 되시면 믿을 수 있겠죠',\n",
       " '이 대수학의 기본 정리를 증명하는 것은 그렇게 어렵지 않아요',\n",
       " '복소수에 대한 약간의 기초 지식이 필요하긴 한데 그렇게 어렵지 않고 증명 과정이 상상력을 키우고 수학적인 사고를 하는 데 도움이 많이 됩니다',\n",
       " '그래서 이번 영상에서 한번 다뤄보려고 해요',\n",
       " '복소수가 익숙하지 않으신 분들은 초반에 약간 어려울 수도 있는데 뒤에 재밌는 아이디어들이 나오니 한번 따라와 보세요',\n",
       " '우리가 실수를 표현할 때는 보통 수직선을 그리고 실수 하나를 점으로 표기를 하죠',\n",
       " '그리고 차원 상의 좌표를 표현할 때는 평면을 그려서 평면 위의 한 점 콤마로 표기를 합니다',\n",
       " '이 복소수라는 녀석은 실수부 와 허수부로 나누어지기 때문에 이 복소수를 표현하려면 두 개의 실수가 필요하죠',\n",
       " '그래서 단순히 하나의 수직선이 아닌 이 콤마 좌표로 표현하게 됩니다',\n",
       " '차원 좌표상에 점 하나가 복소수 하나를 의미하게 되는 거죠',\n",
       " '이라는 점이 복소수를 의미합니다',\n",
       " '그리고 이 평면을 복소평면이라고 해요',\n",
       " '평면상에 있는 점 하나하나가 모두 복소수 하나의 대응이 된다고 이해하시면 됩니다',\n",
       " '그리고 이 점을 표기하기 위해서 두 개의 실수 가 필요했죠',\n",
       " '이라는 직교 좌표 대신에 극좌표로 같은 점을 표기할 수도 있어요',\n",
       " '이까지의 거리를  그리고 동경을 라고 하면은 과 세타가 확정이 되면의 점이 확정이 되죠',\n",
       " '우리가 세타를 알 때를 구할 수도 있고를 알 때  세타를 구할 수도 있습니다',\n",
       " '그래서 하나의 복소수를 이런 극 좌표계를 이용해서 과 세타로 표현하기도 해요',\n",
       " '이 극 좌표계가 왜 유용하냐면 두 복소수와   가 있을 때 이점을  콤마라고 해볼게요',\n",
       " '두복 소수를 곱한다는 의미가 어떻게 되는지를 보면 둘을 곱하면 실수분은  빼기 가 될 거고 허수분은   가 되겠죠',\n",
       " '그래서 이 두 복소수를 곱한 복소수도 이 복소평면 상에 어딘가 있을 텐데 그 점을 찍어보면 이런 데 있어요 이 콤마를 극 좌표계로 나타냈을 때 세타 이를 극 좌표계로 나타냈을 때 세타라고 한다면 이   콤마 의 극좌표는 반지름이  곱하기 그리고 이 동경은 새 타운  세타가 된다는 사실을 그렇게 어렵지 않게 계산을 통해서 알 수 있어요',\n",
       " '삼각함수를 조금 배우고 나면 그렇게 어렵지 않게 과 을의 식으로 표현을 할 수가 있고 그래서 왜이 두 개를 곱한 수가 반지름 길이 곱하고 동경은 더한 점이 되는지를 계산으로 볼 수 있는데 그 과정을 생각하겠습니다',\n",
       " '그래서 두 수를 곱한 게 반지름끼리 곱하고 동경은 더하게 되니까 예를 들어서를 제곱을 하게 되면 그 제곱을 한 복수 수는 이렇게 반지름은 기존 반지름의 제곱이 되고 동경은 배가 되는 점 이런 점으로 제곱을 하면 이동해 가요 자 그래서 아까 제곱해서 가 되는 수가 만족하는 차 방정식 이거의 해가 루터 분의    가 하나의 해라고 했죠',\n",
       " '자 이것도 어떻게 이렇게 나오는지를 보면 이는 수는 극 좌표계로 표현하면 반지름이고 동경은 도에요',\n",
       " '그래서 어떤 수의 제곱을 했는데 반지름이이고 동경이 도라는 건 반지름도이고 동경이 정확히 도에 있는 점 반지름은 제곱해서 동경이 배가 되니까 이러는 점으로 가겠죠',\n",
       " '허점이 뭔지를 찾아보면 이 좌표가 루트 루트 분의이죠',\n",
       " '그래서 이런 수가 바로 루트 가 되는 겁니다',\n",
       " '이걸 만족하는 회가 하나 더 있죠',\n",
       " '반대쪽에 이런 점도 제곱을 하게 되면 동경이 도 그리고 도를 한 번 더 돌면 도갑 되겠죠',\n",
       " '그래서 이런 점도 제곱 마이너스  콜의 하나의 해가 돼요',\n",
       " '우리가 함수를 배울 때 정의역과 공력이 있다고 배우죠',\n",
       " '그리고 정의역에 있는 한 점이 공력에 있는 어떤 한 점으로 이동해 간다',\n",
       " '이렇게 외우죠',\n",
       " '이런 식으로 함수를 표현하기도 하죠',\n",
       " '에다가 을 넣으면은 이 나오는 이런 게 함수라고 배우죠',\n",
       " '방정식에서도 제곱인의 두 근을 구하라는 말과는 제곱 빼기라는 함수가 그래프로 그려보면 이런 식으로 나오니까 이 그래프가 축과 만나는 점에 그게 제곱 마이너스 이고이라는 방정식의 두 근이다는 것과 같은 말이죠',\n",
       " '그래서 이렇게 실수해서 실수로 가는 함수는 정의역을 축으로 표현하고 공력을 축으로 표현해서 이렇게 좌표 평면상에 그래프로 보통 표현을 합니다',\n",
       " '그런데 복소수에서 복소수로 가는 함수는 정의 역 자체가 이런 수직선이 아니라 평면상에 있는 모든 점들이죠',\n",
       " '정의역 자체가 평면 위에 있는 모든 점이고 공력이 또 평면 위에 있는 모든 점이에요',\n",
       " '어떤 복소수가 어떤 복수 수로 함수에 의해서 가는 거죠',\n",
       " '그래서 이 함수를 한 번에 보여주려면 차원이 필요해서 시각화가 좀 어려워요',\n",
       " '그래도 왼쪽에 있는 좌표 평면이 정의역 않고 오른쪽에 있는 좌표 평면이 공격이라 생각하고 이렇게 우리가 원래 함수 정의 역에서 공역으로 가는 화살표 이걸 함수라고 생각을 해서 요런 방법으로 복소수에서의 함수를 이해해 봅시다 예를 들어서 이런 차 방정식이 있다고 해볼게요',\n",
       " '그리고 이 방정식의 근이 있는지 알고 싶다고 해봅시다',\n",
       " '그래서 이 거르려고 놓고 가 무엇일 때 가이 되는지 그걸 알고 싶다고 해봐요',\n",
       " '에 대해서 조금 더 이해를 해봅시다 예를 들어서 에다 가이라는 점을 넣으면 가 나올 거예요',\n",
       " '그게 이 정의역과 공역에서 어떤 의미인지를 보면 정의역에서 은 여기죠',\n",
       " '그리 고을 넣었을 때 가 나오니까 이런 점이 나옵니다',\n",
       " '즉이 는을 점으로 옮기게 됩니다',\n",
       " '그리고 마찬가지로 복소수에 있는 점들이 다이 차 함수에 의해서 어딘가 다른 복소수가 되겠죠',\n",
       " '여기서 우리가 궁금한 건 과연 어떤 점을 넣었을 때 이 공력에서이라는 점으로 갈 것인가 어떤 점이 있어서 그 점을 하우스에 넣으면 그 점이 가는 점 그 점이 이런이라는 점으로 매핑이 되는가 이런 점이 과연 정의역에 존재할 것인가 그게 이는이라는 방정식의 해가 있느냐라는 질문인 거죠',\n",
       " '그래서 우리는 어떤 이런 점이 존재해서 이 함수에 의해 서로 가더라라는 걸 보일 수 있으면 이 방정식의 해가 있다고 얘기를 할 수 있는 겁니다',\n",
       " '자 여기서부터 재밌는 얘기가 시작이 돼요',\n",
       " '잘 집중해서 들어보세요',\n",
       " '정의역에서 울 중심으로 어떤 원을 한 바퀴 쭉 돌면서 이 원 위에 있는 점들이 이 차 함수어 의해서 어디로 매핑이 될지 그걸 한번 상상해 볼 겁니다',\n",
       " '근데 이 원을 아주아주 큰 원 그리고 아주아주 작은 원 두 개를 잡아 볼 텐데 먼저 큰 원을 잡아 볼게요',\n",
       " '예를 들어서 반지름이 백인 큰 원을 잡아 봤다고 해볼게요',\n",
       " '자 이원을  한 바퀴 돌면서 이 원위에 있는 점들이 차 함수에서 어떤 궤적으로 이동하는가 그걸 한번 보고 싶은 거예요',\n",
       " '자 먼저 이 차항만 어디로 가는지를 한번 보시죠',\n",
       " '여기서 시작하면 이 시작점인 에디가 승을 하면은의 승은만이에요',\n",
       " '그래서 이 승 항만 보면은 이는 점을 넣었을 때의 뒤에 개 붙어있는 만이라는 점에 가 있어요',\n",
       " '같은 스케일이 아니겠죠',\n",
       " '굉장히 줌 아웃을 당겨서 굉장히 큰 그림으로 보는 겁니다',\n",
       " '이원을 따라서 이렇게 가 이동해서 여기 있다고 하면은 이 아니 저 여기가 이 백 아이까지 가면 그때 승은 어떻게 이동하는지를 보면의 세제곱 은반 지름은 여전히 길이의 승인 만일 거고 동경은 도음아 이렇게 삥 돌 동안 어떤 궤적을 그릴까를 상상을 해보시면 처음 시작점은 이 백만에서 만 아이만큼 수직으로 위로 이동하고 만큼요',\n",
       " '도 각도로 찔끔 가고 그다음에  화의 값으로 이렇게 찔끔 돌아와 가지고 뭐 여기에 어떤 점에서 시작을 하겠죠',\n",
       " '가 요렇게 도는 동안 어떤 식으로 움직여 갈까를 상상을 해보시면 사실상 반지름이 만인원 세 바퀴를 도는데 그 와중에 정확히 원이 아니라 원에서 조금 이탈한 점들을 휘청휘청 되면서 도는 휘청휘청 되면서 세 바퀴를 도는 그런 궤적을 그릴 거예요',\n",
       " '바로 이창 차항 상수항이 약간 이탈한 정도가 얼마일지를 결정을 하고 사실상이 큰 원 세 바퀴를 도는 궤적을 그릴 겁니다',\n",
       " '조금 더 극단적으로 반지름을 훨씬 늘려서 여기에 을 한 개 더 붙여보면 어떻게 될까요',\n",
       " '정의 역에서 이름이 천인 원을 따라서 움직인다 그러면 이제  승 항은 만이 아니라 개 더 붙여서 억 짜리 반지름을 세바퀴 돌 거고요',\n",
       " '이 창은 천만 아이니까 천만은 억에 분의이죠',\n",
       " '아까가 분의 이었다면 이번에 분의 이 될 거예요',\n",
       " '그래서 분의 해당하는 원이 거의 눈에도 잘 안 보일 정도로 조그만 원을 두 바퀴를 도는 형태가 되겠죠',\n",
       " '차 상수항이 더 보잘것없어지면 말할 필요도 없습니다',\n",
       " '그래서 사실상이 억짜리 원 세 바퀴를 돌고 그 정확히 그 원상이 아니라 원에서 이탈한 정도는 더 눈에 안 보일 정도로 작아지는 그런 느낌이 되겠죠',\n",
       " '반지름이 충분히 큰 원을 한 바퀴 돈다고 했을 때 공력에서 보면 사실상 매우 큰 원을 바퀴 돈다 차 방정식이면 바퀴 돈다고 이해를 하시면 되겠습니다',\n",
       " '자이 그림을 기억해',\n",
       " '것이고 이번엔 반대로 미시세계로 가볼게요',\n",
       " '아까는 거시 세계에서 우주에서 놀았다면 이번엔 양자역학과 같은 미시세계로 가보겠습니다',\n",
       " '이 정의역에서 반지름이 아주 작은 인 반지름을 한 바퀴 이렇게 빙글 돌아보겠습니다',\n",
       " '그때 이 점들이 어떤 점으로 매핑이 되는가를 한번 상상해 볼게요',\n",
       " '그럼 이번엔 반대로 차항 차항이 보잘 것이 없어져요',\n",
       " '의 세제곱하게 되면 음악이 되고요',\n",
       " '이 차항을 보면 아주 작지 작은 원을 세바퀴를 이렇게 빙글빙글빙글 돌겠죠',\n",
       " '이게 한 바퀴를 돌 동안요',\n",
       " '차항을 보면의 제곱에다가 배를 하니까 분의   시작을 하겠죠',\n",
       " '그러니까 여기 도상에서 분의 만큼의 반지름을 가지고 두 반지름이 배길 때는 이렇게 어마어마하게 큰 원을 이렇게 돌고 있었죠',\n",
       " '근데 반지름이 이면요',\n",
       " '상수항 주변을 요렇게 움직이고 있습니다',\n",
       " '그러면 정의역에서 반지름 일 때부터 반지름이 일 때까지 원을 점점점 사이즈를 줄인다고 해볼게요',\n",
       " '연속적으로 줄어드니까 공역에서의 궤적 역시 점점점 연속적으로 변하겠죠',\n",
       " '그리고 변하고 변하고 변하다가 언젠가는 이  주변에서 깨작깨작 되는 궤적으로 바뀌겠죠',\n",
       " '그러면 그 줄어드는 궤적 어딘가에서는 이 원점을 쳐야겠죠 반지름이 이렇게 큰 원에서 작은 원으로 줄어들면 해당하는 궤적이 요원에서 요',\n",
       " '원 세 바퀴에서 점점점 줄어들다가 언젠가는 그 궤적이 원점을 지나는 그런 게 한 번은 있어야 나중에 결과적으로 요',\n",
       " ' 주변에서만 깨작깨작 되는 궤적으로 가겠고 게 언젠지는 알 수 없지만 연속적으로 변하려면 어쩔 수 없이 여기를 한 번은 지나야 돼요',\n",
       " '주요 부분이 납득이 가시나요',\n",
       " '제가 이해를 돕기 위해서 차 함수의 이런 예시를 들긴 했지만 똑같은 얘기를 일반적인 차 방정식에 대해서도 할 수 있어요',\n",
       " '그리고 뭐 계수를 큰 원을 반지름을 반지름을 노 예를 들었지만 이것 역시 주어진 계수에 따라서 반지름을 충분히 크게 잡고 또 충분히 작게 잡아서 그 사이에 공력의 원점이 들어오게 할 수 있어요',\n",
       " '그럼 그 얘기는 어떤 고차방정식을 가져오더라도 그 방정식을 이로 만드는 점이 정의 역에 존재한다는 의미고 그게 바로 대수학의 기본 정리가 하는 얘기입니다',\n",
       " '그리고 그것이 바로 복소수 체계의 완결성이 있는 이유고 그래서 우리는 아이까지만 배우면 되고 더 이상수 체계를 확장할 필요가 하나의 이유가 되는 거예요',\n",
       " '자 오늘은 대수학의 기본 정리에 대해서 한번 알아보았고요',\n",
       " '오늘 영상이 유익하셨다면 구독과 좋아요',\n",
       " '부탁드리고 다음 시간에 또 재미있는 수학 얘기로 찾아뵙겠습니다',\n",
       " '감사합니다',\n",
       " '자 우리 오늘은요',\n",
       " '대망의 인수분해에 대해서 배워보도록 할 겁니다',\n",
       " '어이 제법 인수 분해까지 왔어',\n",
       " '그러니까 인순의 정도 배웠다 싶으면 이제 어데같이 중 이 중 서민 것보다 이렇게 뭔가 느낌이 팍의 제 오지',\n",
       " '아니 얘들아 이인수 문의부터는 요 진짜 앞에서 우리가 배웠던 제곱근 곱셈 공식 이런 것도 너무 중요한데 그냥 사실 중학교 학년 학기 전체적인 그 내용 모두가 다 고등수학 그리고 우리가 고등학교이란 올라가서 첫 번째 학기 때 배우는 그 내용들에 약간의 약간 워밍업이 다 그 워밍업을 중학교 학년 학기 때 하고 고요하고 대한 실전 투입이 되는 거야',\n",
       " '그러니까 내가 이거 조그 학년 학기 과정을 제대로 못하면 그때 마지막 제 헤매고 막 수포 자되고 막 그러는 거예요',\n",
       " '자 그렇다면 은 오늘은 대망의 인수 분의 첫 번째 시간인데 투어 많은 내가 인수가 무엇인지 그 용어 보다 조금 제대로 알아야 아 인수 그 내가 뭐  나인 수거 보구나',\n",
       " '어떻게 해야 되는구나',\n",
       " '그릇도 우리가 좀 잘 파악할 수가 있겠죠',\n",
       " '그러면 선생님은요',\n",
       " '이인숙 아 뭐야라고 이야기를 하기 앞서서 예를 들어서 조금 설명을 할 건데 사실 교제를 보전 앞쪽 되겠죠',\n",
       " '재미없게 돼 있어 이인숙 음악 론 와인 짜라 꽂을 가지고는 그치 좀 읽어볼까',\n",
       " '하나의 다음 식을 개 이상의 다음 식에 곱으로 나타낼 때 이들 각 딱해 쉽고 뭐 진짜 원작 극협 아니니 이렇게의 경우는 누가 어떻게 알아지도록 그래서 선생님은 이 인수를 설명하기에 앞서서 손님 잠깐 얘기 좀 해보자 우리 중학교 학년 때로 기억을 거슬러 올라가 볼게요',\n",
       " '자 그러면선생님이여 이라는 자현 수가 있어 게 내의 자연수를 선생님이 여러 수들의 고배 형태를 족 나타낼 수가 있었는데 어떻게 나타내 썼냐 면 곱하기로도 편할 수 있었고요이고 파계사 뭘 더 편할 수 있었죠',\n",
       " '이거 솔 수분할 때 했었는데 그 소리가     이것을 우리 과에 약수 닫았고 이야기했는데 분명히 나는  여기 고유 계약 쑨 데 이렇게 생각했었는데 주먹 회랑 올라오자마자 얘들아 이코 약수 맞긴 맞아  이 약수가 맞긴 맞는데 우리가 앞으로 얘들을 인수 다라 고도 이야기할 거야',\n",
       " '이런 내용을 했었어 기억은 안 나겠지만 근데 호갱님 을 약수로 거의 되지',\n",
       " '왜 굳이 인수라고 해요',\n",
       " '어근 이거 비슷한 말이야 거의 똑같다고 보면 대충 등 과정에서는 큰 그 약수가 개인 수라고 생각해 왜 이런 단 말이야',\n",
       " '근데 왜 금 약수 라는 좋은 말 두고 아난 이게 아주 쉽고 편하고 유치하고 좋은데 왜 이 인수를 어떠했을까 왜냐하면 일 수라는 이 내용 안에 약속 포 한테 우리가 언제까지 이 숫자 들만 가지고 갈 순 없잖아',\n",
       " '우리가 아마도 알다시피 회    임할 이런 것들을 여러 가지 문자들도 우리가 막 바로 왔어 짜니 그러니까 이제 얘네들을 숫자를 숫자의 고 보도 표현할 수 있지만 어 선생님 만약에 어육  크게는 곱하기  곱하기에 이렇게 펴낼 수 있잖아',\n",
       " '얘네들 이렇게 곱으로 표현할 수 있는 모든 애들을 이놈의 인수 다시 말해서 약수의 업그레이드 약수 약간 조금 더 포괄적인 버전업 요거는 얘네들은 요구에 인수 다라고 이야기할 수 있는 거야',\n",
       " '아 그래서 우리가 쭉 날지 모르겠지만 소스의 인수   이런에 대해 소수의 인숙 얘네들을 뭐라고 쓴 이 세 글자로 소이 인수라고 이야기했었던 거 기억나나요',\n",
       " '그래서 소수 민수 소실 딱 아니고 약 아니고 소수일 인수 들을 우리가 어 소인수라고 이야기했었고 그러면 본격적으로 조금 더 크 인수에 대해서 하고 들어가 볼 거예요',\n",
       " '인순 어쨌든 얘네들 이렇게 공부를 표현됐을 때 일종의 약수 느낌이라고 생각해 주면 된다는 것까지 자 그렇다면 선생님이 인수 부분에는 뭐예요',\n",
       " '인습을 뭐냐면 일단 샘 또 예를 들어서 가지고 요괴 있어 삶의 곱하기  픽업 보니 그 선생님이 이거 전개는 할 수 있을까',\n",
       " '우리 전개도 알찬 끝이 됐잖아',\n",
       " '후원을 귀로 게 이렇게 가지고 전개하는 거 아니에요',\n",
       " '맞아맞아 전개한 게 어떻게 될까',\n",
       " '이 전개하면 요  메고 파괴가 플러스  메이비 이렇게 표현할 수 있어요',\n",
       " '나 지금 뭘 쏘이는 이렇게 풀어헤쳐 써 뭐 했다고 그걸 우리가 전개했다고 얘기했잖아',\n",
       " '그치 아 그리고 전개했구나',\n",
       " '그러면 선생님이 거꾸로 요렇게 생긴 애를 이렇게 한 밑에 기로 표현할 수도 있겠네',\n",
       " '아직 안 봤지만 표현할 수 있어',\n",
       " '그 이렇게 한 뭉 택이로 표현하는 것을 인 수분의 한다고 얘기할 거야',\n",
       " '그러니까 마치 이 인숙은 데 달하는 것은 이 전개에 반대와 정의라고 보면 돼',\n",
       " '그러면 내가 인 수분을 진짜 잘했다면 얘네들은 지금 상이며 캐야 개개 항해 중이에요',\n",
       " '얘 나이 먹 거야   곱하기로 연결된 거인 항의 개 자기야 그런가라는 인 수분을 다 하고 났을 때 무조건 하이 캉 게만 나와 줘야 된다는 게 포인트입니다',\n",
       " '자 그럼 많은 먼저 일단 인술 알아서 인수분해 봤어',\n",
       " '그 첫 번째 문제에서 이렇게 나온다',\n",
       " '이렇게 생기는 같소',\n",
       " '그 생애 알거든',\n",
       " '뭐 이 수백 가지 자세 써 발전 아예 예의 인수에 좀 골라봐',\n",
       " '이렇게 물어본다 고 어산에 에다가  플러스  까지고 이렇게 생긴 이 인수를 고르라고 다음 주 이 녀석이 인수가 아닌 것을 찾아내 주어 을 교 물어봐 그러면 먹 보기 여러 가지 나오겠지 금아 발단 선생님이 막 단어 없길  그다음에   그다음에 삼매에 플러스 빛뭐 이런 식으로 나오자 그러면은 얘네 의해 곱하기로 연결되어 있는 게 아니라 들을 찾아냄 된 거  곱하기 위 또 침대 주공이 학교에 있니 합격 그런 뜻일까',\n",
       " '마치 이런 이런 하나의 카드에 던롭 오는 과 카드들 카드요',\n",
       " '카드 욕하지 이렇게 있는 거야',\n",
       " '야금 더이라는 카드 있어  있어있어라는 카드는 있어  피는 있어 있어 있어의  이니 업소 공개는 인수가 아니다 이렇게 이야기할 수 있겠죠',\n",
       " '그 첫 번째  순이야 아닌 약 항상 모든 이 단원에서는 뭐 별 저나 기대한 아니냐 그거 먼저 나옴 아 함수 냐 아니냐 중식이냐 아니냐 금란은 인수분해 배웠으니까 민수이냐 아니냐',\n",
       " '뭐 이런 거 먼저 나오겠죠',\n",
       " '착하지',\n",
       " '저가 돼 써 그러면 이제 나 본격적으로 우리가 이제 저희 게 하는 것이 아닌 인수분해 하는 그 과정을 배워야 될 거 아냐 선생님이 조금 더 않았었던   에다가  삐 이렇게 생긴 애 언제 털 그렇게 전개나 할 수 있어요',\n",
       " '근데 다시 그 하나로 한문 태그 눕는 거 그건 어떻게 해야 될까요라고 물어본다면 약간 스텝 있어 첫 번째 스텔  딩 이게 물야면 어 공통 수 있을 게야 그러면 두 번째 스텝 세 번째 스테퍼 먹지 결어 가지고 있을 거 아니야',\n",
       " '그런데 문 는 선생님 딱 첫 번째 요거만 알려줄 거야',\n",
       " '이것만 치 자 잘해도 너희들 나중에 인수 분해 해서 실수할 일이 없어요',\n",
       " '그 첫 번째 탭 문양 공통 인수로 묻기 자 그러면 이 어떻게 생긴 얘기냐',\n",
       " '얘를 선생님의 전개 전개해 보자',\n",
       " '그럼 요건은    피자나 그럼 나는 이 녀석을 모르는 상황 깨었다고 함',\n",
       " '생각해 보자 얘네들이 공통적으로 가지고 있는 그려서 뽑아낸 것 겁 겨  내가 누구냐 개를 뽑아낸 거야',\n",
       " '그걸 약간 유식한 말로 공통 인수가 되는 것이야',\n",
       " '자 그럼 공통의 있어 누구니   공동 게네',\n",
       " '그러면 회로 먹는 걸로 묶어서 앞에는  가 다나가 쓰니까 아무것도 안 남아 명이라고 쓰면 안 되겠죠',\n",
       " '얼마 일이라고 써야 되고 뒤에는 누구 피난 안고 가운데 플러스 연결이 된 거야',\n",
       " '그래서 내 퀴즈 퀴즈는 자 이번에는 어디에 가  재고  플러스   제국 어업 올려 고생해서 그러면 나한테 겹친 은혜를 뽑아내야 하냐고 겹치는 어유 시카 말하고라고 공통 인수 작은 웅덩이에서 뽑아내 걸자 누가 겹칠까에 예멘 하나까지 겹치고 요 업 비 도 않아 겹친 해 그 공통의 있어 누가 되는 거야',\n",
       " ' 가 된 거야',\n",
       " '아 매입  공통 묶어 써 앞에 누구나 마 가 나 갔으니까  않았고요',\n",
       " '가운데 플러스로 연결 자   가나 갔어 금치에 뭐가 너무 거 나 와   안고 이하나 남고 클랜 사비 이렇게 쓸 수 있겠죠',\n",
       " '아 그래서 날 구미 이거 인수 분해 다 아 거야',\n",
       " '그래서 아 봉포 인수로 먹는 게 첫 번째 작업 이구나',\n",
       " '그런데 그런데 중요하게 써 이 공통 인수로 묶을 때는 요 항  숫자인 애들도 포함을 시켜 줘야 된다는 얘기야 무슨 말이냐 예를 들어서 환생 님이 걸을 뭐 어 뭐랄까  제고 삠 이렇게 써보자 그러면 이제 누가 공통된 거야',\n",
       " ' 도 공통 이긴 한데 잊어 여기도 있고 러그 되기 있잖아',\n",
       " '게이고 팜이잖아',\n",
       " '쿨한 근 앉거나 줄 때 니까  가 찍어 내 줘야 돼',\n",
       " '그럼 요정 되는 거야',\n",
       " '이로 목자 앞에서는  간암 내 뒤에서 누가 나만 어이 피가 남',\n",
       " '거야',\n",
       " '그래서 내가 얘를 인수 분해 잘 했나 안 했나를 어 다시 확인해 보기 위해서 있는 어떤 게 해보는데 전개한 뭐 얼마나 은  제고 삐 전개하면  제거  제재로 나오네',\n",
       " '그러면 나는 잘 했구나',\n",
       " '이렇게 생각해 주면 되는 거예요',\n",
       " '그런데 만약에 내가 뭐 이렇게 했는데   잡혀 이렇게 나왔다 큰 아이 고인 수분의 제대로 한거 하는 거야',\n",
       " '안 거야',\n",
       " ' 를 안고 내줬잖아',\n",
       " '꿈 다는 이걸 제대로 인수 분다 하려면 에다가  아 이렇게 정리를 해줘야 그러면 이렇게 하면 그렇다면은 사 업  이렇게 된 거잖아',\n",
       " '그래서 이렇게 꺼내야',\n",
       " '우리가 내가 잘 인수분해 했다고 지킬 수가 있어요',\n",
       " '그래서  선생님이라 뭐 했니 인수가 보니 예수 분해가 보니 공통 민수가 인수 글의 첫 번째 단계 여기까지 했으니 드라 그런데 이것을 크고 그날 지금 까먹으면 그 다음번에 배우 좀 배울 수가 없습니다',\n",
       " '그리고 특별히 만약에 이렇게 생긴 애가 있었다',\n",
       " '근데 말이 어렵게 나오기도 전인 수분을 해라 공통 인수가 뭐야',\n",
       " '이렇게 물어볼 수도 있는데 이렇게 해 놓고서는 야 있잖아',\n",
       " '이 여기에서 차 이상의 공통인 인수를 구하 할 것만 갚지 도는 들이 존 다고 뭐 하고요',\n",
       " '차 뭐 위배된다고 차 이상의 공포 민 인수 루프 알아라 공통 인수 고야의 미자  또며 차야 차 흠 예외에 공통 민숙 차이 상의 공통인 수를 구하여라',\n",
       " '건마 되는 거야',\n",
       " ' 이렇게 이야기해도 될 거야',\n",
       " '그러니까 너희들은 어떤 문제를 풀 때 막 괜히 윤거 때문에 찔찔 알고 사신다',\n",
       " '너희들이 아는 용하 순성 만 잘하면 된다는 것까지 기억하시고 요 오늘 배웠던 내용도 복습 진짜 열심히 하시고 아 뭔가 이것 조금 나 된다 괜찮다',\n",
       " '십자 이런 친구들은 요사실 다음 땅까지 조금 연달아서 들어 줘도 괜찮아요',\n",
       " '그러면 우리가 한꺼번했던 제 문제를 쭉 줄여 풀 수가 있는데 요것만 배워 가지고는 풀 수 있는 문제로 조금 먹고 등 다음 땅까지 조금 연달아 들어줘 도 괜찮고요 선생님은 다음 땅에서도 즐거운 모습으로 만나도록 할게요',\n",
       " '그거 많았어요',\n",
       " '안녕 ',\n",
       " '우리가 드디어 이차방정식 파트로 넘어왔습니다',\n",
       " '어 어 어 차 언정 씩 불줄 알아 차 인숙은 애까지 얘들아 가능하니 이제 내가 인수분해 가 어느 정도 연습을 되었다는 친구들은 이 이차방정식 강에 남아 클릭했을 텐데요 인수분해를 내가 그냥 투기 기본적인 것 밖에 모르고 그냥 거기서 끝나고 바로 문제 많이 안 풀고 맡아 요란 친구들은 요 예수 분의 문제만이 많이 풀고 오셔야 됩니다',\n",
       " '건 써 연관성이 굉장히 깊기 때문에 어요 내용을 배우기 앞서서 예수 내 진짜 빡세게 공부를 하고 와야 돼요',\n",
       " '자 그렇다면 은 이제 오늘 배울 이차방정식 또 역시 또 만만치 않은 단원 얘긴 한데요',\n",
       " '내가 이제 여기에 정도까지 왔다',\n",
       " '그러나 진짜 아 뭐 좀 수학 좀 배운 사람 같은데 이런 느낌을 아마 가져도 될 거야',\n",
       " '너희들이 그런데 그 항 내 단원의 첫 번째는 조금 기본적인 내용만 나와요',\n",
       " '그 교재 자체의 그래서 있잖아 이차방정식이라는 것은 개 이차방정식 야라고까지 만 나오기 때문에 너희 집이 음욕 문제가 나왔을 때 오어 이거 장난 아닌데 난 여기까지 안된 거 같은데 나는 뭔가 개념을 좀 덜 배운 나보다 라 호색한 친구들이 있기 때문에 오늘 선생님이 그 개념에 대해서 확실하게 좀 잡아 드리고 우리 친구들 차 받으시고 완벽하게 마스터할 수 있도록 도와드리도록 할게요',\n",
       " '자 그러면 우리는 본격적으로 이차방정식 난이도로 나눈 요 내용을 배우게 하셔서 잠깐잠깐 중학교 학년 때를 살짝 거슬러 올라가 보도록 할게 요절 중학교 학년 때 따 올라오자마자 어떤 거 배우는 스키 없나니 뭐 거듭제곱 뭐 소수의 록 것들이 배우다가 소수 합성 수 외로운 배우다가 뒤에 살짝 넘어가면 갑자기 자식 이렇게 되어 배운다 그런 건지배 우는데 차 시기 뭐냐',\n",
       " '이라 막 중학교 올라오기 전까지는 모네 뭐 더하기 은  내몬 얼마 게 뭐 이렇게 초등학교 땐 항상 메모를 좋아했었어',\n",
       " '그렇게 해도 이렇게 결단이 그런데 쭉 올라오면서 야 이거 쪼금 우리가 집 중생들 유치하지 않냐',\n",
       " '이거 내고 말고 좀 문자를 써서 사용하자 이런 거 있잖아 그러면서 문자를 사용하는 그 기본적인 물에 대해서 알려 주기 시작해 야 너 있잖아',\n",
       " '  안 된다 숫자가 문제 앞에 와야 돼',\n",
       " '그리고 우리는 고파 길다 생각했을 거야',\n",
       " '뭐 이럼 어떤 기본적인 수학의 매너를 알려주기 시작한다 말이야',\n",
       " '그래서 모임  뭐 산  와 이런 것을 알려주어 그러면서 걔네들을 게 상아는 방법을 알려준다고 그래서 뭐   무 이런 것도 뭐 플러스  분의   플러스 팩 뭐 이런 것들을 박 알려 주기 시작하는데 금속 동물원 개선하고 먹겠어 전액 에지 그 단원이 바로 차씩 단원 유일 자식과 그게 산물이 생겼어',\n",
       " '근데 그 바로 다음다음에 뭐가 나오냐 며는 여기에라고 똑같아 내가 갑자기 및 영어 붙여 그래서 뭐라고 이야기하면 제아 있잖아',\n",
       " '얘는  차 뭐라고 하니 방정식이 알아 구약 의자 방정 씩 그다음에 이제 학년으로 올라가서 여기에다가 그대로 몰고 치냐를 붙여 애들아 보세요',\n",
       " '뭐라고 했습니까',\n",
       " '일차 함수 다라고 계약에 썼어',\n",
       " '우리가 이것을 이제 학년이 년에 거쳐 이르려면 거쳐 식으로 했는데 그러고 나서 이제 주석의 사망 올라오고 나서 업되고 제곱근 플러스 유에 나 스 그 트 상 왜 이런 거 하면서 장을 제공 끝내 오지',\n",
       " '아니 말투 물어본 다음에 그다음 단원의 인수 문야엘 배워 썼던 거 야',\n",
       " '근데 그 인수분해 하는 게 색깔 살짝 하고 써볼게요',\n",
       " ' 제곱    이런 거 거의 술 내진해봐',\n",
       " '이렇게 써  차 식을 고배 형태 나타내는 그인 수분의 연습으로 박스 했단 말이야',\n",
       " '그치지 거 뭐라고  차 시기라 기차 신 끔',\n",
       " '얘들아 이찬 식을  수분한 것 열심히 연습해 썼는데 요 바로 다음 단원이 바르고 이차방정식 요 차체 전요 뭐 하기 시작하는 것 갑자기 여기 또 끝은 에다가 능력을 부츠 거 든 이',\n",
       " '그래서 뭐라고 할 것 같니 차 배 구담 일차 방정식 그랬잖아 차 식 배우 그냥 뭐 병과 이차방정식 변화에 의한즉 흐름이 누가 이자 방영 심 자 그러면 그다음에 뭐 별건 여기에다가 능력 대신에 몸 붙일 것 같애 는 를 붙이는 거 아이 붙여주고 뭐라고 하겠니 게를 이차 함수라고 하겠죠',\n",
       " '약간 루시 리 자 시리즈 얘를 이차 함수 다라고 이야기할 거고요',\n",
       " '우리는 그 한 중간쯤에 와 있다고 생각해 주면 되겠죠',\n",
       " '그래서 이게 중학교에 연상 팥의 약간 큰 흐름이라고 생각해 주시면 돼요',\n",
       " '조 그래서 이제 네 차 방정식 문제 알아라고 물어 그게 첫 번째 나니 거야',\n",
       " '스캔 네 여기는 누구나 다 할 수 있어 이거 못한 사람 거의 없더라 고해 봤더니 근데 문제는 뭐냐',\n",
       " '여기 여기까지 갔을 때 이제 막 버벅거리고 이제 저녁 개념을 잘못 배운 것 같아요',\n",
       " '그래서 이차방정식 모집을 막 열심히 해요',\n",
       " '다시 여기까지 갔다가 여기 없어 막힌 거야',\n",
       " '그럼 왜 막히는지 선생님이 제 오늘 알려드리도록 할게요',\n",
       " '자 그래서 누차 방 정책이라는 것은 그 내용 자체는 결계 없어',\n",
       " '사실 뭐냐면 입차 시 늠 여기 꼴로 표현되어 있는 것을 우리가 이차 방정식이라고 이야기할 걸 어떻게 표현하고 하고 뭔가 차 식 나와에 얌 차시기 든 크다 메고에 관한 차 시기 든 차 시기 있어야 되고 뭐가 이색이는 명 있어요',\n",
       " '내 미녀 있을 때니까 왼쪽으로 다 때려 자꾸 나서 얘네들 동년 정맥 오대정 녘에 쌀 새  씩 만 남고 그다음엔  있음',\n",
       " '우리가 차 시기 이렇게 이해를 하고 하고 그래서 완전수윤  스텝 단계에서 몰고 뭐냐면 야 이거 차 방정식이 이제 아닌 장을 골라 봐라고 기억이는 것을 이거 봐 거 놓고 그다음에 요것도 막아놓고 후예가 디어 애가 이은 뭐 이런 애가 기 그 뭐 이렇게 한다고 그럼 너는 아 너는 방정식이 방정식인데에 차 방정식이 도나 탈락아 아 너는 차 식인 차 식인데 미 차 방정식  안되는구나',\n",
       " '능력이었구나',\n",
       " '너만 합격 이런 식으로 물어본 게 일단 게 많이 거야',\n",
       " '그러면은 미담 개 난이도 뭐가 요기까지가 지도자  다시 뭐이라는 게 각 은율 정도 여기에 조금 더 업그레이드되면 이렇게 얘기한다 됐잖아',\n",
       " '이차방정식 내가 지금 고르고 어떤 이차방정식 내가 되고 싶거든',\n",
       " '요건 조금 줄게요',\n",
       " '근데 말이야',\n",
       " '이 대가 개 서 있는 애가 차 방정식이 되면 지금의 이가 어떻게 될 된지 그 조건을 안 먹 거야',\n",
       " '이렇게 물어보라고 예를 들어서  제곱 플러스   에다가 오퍼스 치는   제곱 플러스 몹이를 주 나와 나비  가능할까요',\n",
       " '충 너무 어려우니까 갑자기  묽은 아스 내가 차 시기 되기 위한에 좁거나 구할 수 라고 묻더군요',\n",
       " '그러면 어쨌든 뭐  있는 것 같은데 그럼이고 선생님이자 검정 씨가 아니라고 하면 안 되고 싹 몰아넣었을 때 차 만 남고 능력 만들어 되잖아 가 많이 게일이 된다는 거 될까',\n",
       " ' 가 만약에 일이 된다면 어떤 상황이 벌어지는 야 이거 일이 된다면 양쪽에서 찍지 없어지긴 그 차 방 적이 될 수가 없는 것이 아 아 그러니까  야 너 그냥 아무거나 도 하고 싶은 다해',\n",
       " '에 일어 하고 싶은 거 다 하는데 다만 말 되지 않았으면 좋겠어',\n",
       " '이렇게 조건은 거주 되는 거야',\n",
       " '여기 가만히 게 얼른 거의 또 쳐 보자 그 뒤는 그냥 뭐 약간 아웃 오브 안중 이과 있는 분이 하고 식품에 다해 상황 없어 네가 이렇게 지 예비 지우 든 말든 난 어쨌든  제 곳만 살아있으면 되거든',\n",
       " '이렇게 이야기 좀 된 거 야',\n",
       " '봐서 첫 번째 난이도는 야도 이차방정식 이란 게 문제는 하하 일부러 분교 첫 번째 버릴 거예요',\n",
       " '자 그러다 많은 두 번째 난이도는 걸까도 번째 라이브는 약품도 차 방정식의 해라는 게 문제 알아 이렇게 물어봅니다',\n",
       " '그러나 장위 차 방정식 의해 되기 쉬운 거 아니에요',\n",
       " '그때 왜 이게 이거보다 더 어려운 많이 거예요',\n",
       " '왜냐면 잘 봐봐',\n",
       " '애들아 우리가 이런 연배 일차 방정식을 배울 때 어떤 내용 배움의 이렇게 됩니다',\n",
       " '액자나 플러스 삼은  이렇게 생긴 애가 있는데 이 향이라는 것을 알려주기 전에 일차방정식 의해라는 것은  가 여기 누가 들어가야지 애가 참이 되는 요 등 식을 만족하는 야를 찾아라',\n",
       " '이렇게 울어봐',\n",
       " '그다음에 서시 우리는 이제 이거를 아주 보아야 하고  패잖아요',\n",
       " '거의인데 이렇게 계산하는 것을 이 쉬운 방법을 되게 나중에 알려주고 처음엔 이걸 안 알려주면 어떻게 앉아라야',\n",
       " ' 에다가 잘 흡수될 수 있는 거 골라 봐 번 이번 회 한번  이런 식으로 해가지고  집어넣어서  더하기 은가 아니네',\n",
       " '아 이런 도 가닥 이동하게 사모가 많네',\n",
       " '억 음 너 가야  단계  뭔가 아니네 좀 더 탐하게 이런 벌을 갈 생이 누가 돼요',\n",
       " '근데 이게 막노동 같은데 이걸 왜 갔을까',\n",
       " '왜냐하면 내가 문제 더 어렵게 낼 거야',\n",
       " '이제 어떻게 할 거야',\n",
       " '여기다가를 박아 이렇게 이렇게 박은 남의 얍 짠 아 이거 차 방정식의 해가 지금은 이를 해로 같거든 그랬을 때 이는 모으게 이렇게 물어봅니다',\n",
       " '그러니까 이 애라는 것은 자리에 내가 그 해를 넣었을 때 지 음식이 소매 패야 돼',\n",
       " '근데 그 의미를 알고 입는지 모르고 있는지를 물어보기 위해서 얘를 이렇게 하나씩 하나씩 갖다 박는 연습을 시킨 것이 양 알려주고 저는 무대가 근데 이용하면 끝난 문제였는데 아해라는 것에 의미가 그렇구나라는 것을 알려주기 위해 수익금 그러면 여기에는 일차방정식 되고 이차방정식에서도 예 많이 참 맛이 똑같아요',\n",
       " '처음에는  제고 못 플러스 뭐    깨고 했었으니까 그 해볼게요',\n",
       " '능력 이렇게 나온 다음에 있잖아 여기에서  가 될 수 있는 해가 뭐가 있을까 하면서 하나씩 박아 박아 가 입 일 다 한번 봐봐 능한 아 아 용이한 되네',\n",
       " ' 일단 바가 이런 식으로 찾아낸다 고 나 근데 많이 선생님 엑셀 한번  넣어볼게요',\n",
       " '대추 자금  쭉 집어넣으면  오류 계선   호 그 형태 호머 룬을 호 거에 해놓은 유기 없겠구나',\n",
       " '이렇게 찾아낼 수 있는데 이렇게 하나씩 하나씩 갖다 박는 연습을 먼저 시킨 다음에 그다음에 뒤에 가서 야 근데 사실은 마음에 내가 너 이거 연습 열심히 했으니까 이차방정식 더 쉽게 찾아낼 방법이 제발 알려 주게 한 다음에 이차 방정 식해를 구하는 그 방법을 알려준다고 근데 희 가 뭔지 아는지 모르는지 이게 더 수만 거야',\n",
       " '차 감정 시계 해라고 했을 때 그걸 거기서 집어넣을 수 있는 이 없느냐가 관건이라고 왜냐',\n",
       " '여기서 이제 문 점 바꿀 것 같아요',\n",
       " '큰애가 이제 어떻게 앉아라',\n",
       " '얘가 여기에다가 여기다 이제 이걸 이렇게 뭐에 이렇게 보면 거야',\n",
       " '자 이렇게 생긴 애가 있는데 이미 녀석의 제 가는  이것 은  넌 목에 이렇게 똑같이 나온 거야',\n",
       " '자 차시기에서 차 식으로만 바뀌고 문제로까지 나오 거야',\n",
       " '그러나 어떻게 해야 된다고는 유기 더해라고 클라 액셀 유머 하겠네',\n",
       " '그럼에 제고  오거 타기   이거 영 되는구나',\n",
       " '이렇게 생각하는 거야',\n",
       " '아 그러면  많이 쪽으로 넘어오면 해이니까 아이가 유기 없겠구나',\n",
       " '이렇게 찾아낸 거야',\n",
       " '어떻게 앉아 기미 그래서 해외 내가 갖는 그 의미 차 방정식의 해 다라고 이야기했을 때  자렛 아가 그 녀석의 쏙 넣을 수 있어요',\n",
       " '되는구나',\n",
       " '그게 포인트입니다',\n",
       " '자 그러면 그 응용 버전은 뭘까 이의 용 뭐 전에서 아주 막 단화가 애들이 문제 풀면 을 어떻게 나왔니 차 방적 수박 개의 주기도 하고요',\n",
       " ' 해주는데 막 들고 어렵게 주기도한테 한번 잘 봐봐',\n",
       " '얘들아 어떤 이차방정식 있는데 하나는  말라는 아아    제고 온     오는 영어 그렇게 생긴 애가 있는데 얘는 는을 폐로 갖는다',\n",
       " '이렇게 이야기해요 자 그다음 두 번째 차 방정식이 있는데 개는  작업   월 어 이렇게 생겼을 때 근데 걔는 는을 하러 갔는데 애가 해외 작은데 문제에서 약간 더 지금부터 구애 바나 뭐고 했으면 좋겠냐 며는 제곱   플러스  제고   요것만 찾아뵐 이렇게 물어본다그 이익의 응용 것은 야 그럼 나는 내가 해 달하는 것은  자리에 다가 그대로 집어넣었을 때 등식 섭외 패 줘야 되는 거잖아',\n",
       " '같이 그럼에 일 그대로 집어넣으면 은  제곱     오는 영문에 꼭 그러면  제곱   널 많이 도전하고 그러면 여기 밑줄 친 다가 아너가 지금구나 요구를 찾아낼 수 있을 땐 거야',\n",
       " '그럼 두 번째 어버이의 피가 이거 해라고 그러면은  제곱         은비 제고   핀 얼마구나  나 금도 가  나 그 문제 선거를 하는 것을 얼마겠구나',\n",
       " '이거를 찾아낼 수 있느냐 없느냐가 이차 방정식을 내가 제대로 이해했는지 안 했는지를 결정하는 거예요',\n",
       " '그러니까 아 내가 뭔가 개념을 젤 안 들은 거 같아',\n",
       " '크지 차 범종 시우 차 방정식 은 분명 차 신형이라고 했는데 또 욕까지 열심히 공부하는데 그제야 열심히 공부했어요라고 한다면 여기까지 가지 못한 친구들은 해가 받는 의미에 대해서 아직 깊숙한 공부가 되죠',\n",
       " '가끔입니다 이제 너희는 할 수 있어',\n",
       " '그럼 한자 회색 마지막 더 어려운 아이도 까지 함 해볼게요',\n",
       " '그 문제에서 어떻게 나오기도 아니야',\n",
       " '이렇게 나온 거야',\n",
       " '이젠 안 그러면 제곱 어디를 저서   급 여기 이렇게 생긴 애가 있거든',\n",
       " '그 개가는 거를 괴로 가질 거야',\n",
       " '자 그 상태에서 너는 뭘 구했으면 좋겠냐는 말이야',\n",
       " '뭐 이렇게 메모  제곱  뭐  군의 오빠 분에 뭐 이런 거 찾아내라고 이렇게 물어본다고에 문의 이거 이런 이런 거 찾아내라고 해요',\n",
       " '이러고 그 이러면서 어떻게 해야 될까',\n",
       " '이런 거는에 일에 그대로 집어넣어 가짜 타 일단은 글 집어넣으면 제곱    운영자나 선생님얘는 축 어떻게 나도 안 나올 것 같아요',\n",
       " '안 나올 것 같지',\n",
       " '근데 가봐',\n",
       " '선생님이 일단은 여기에 헤매는 이를 잘 영원한 절대로 안 된다고 있는  직원은  이군요 어쨌든 우는 영은 아닐 거야',\n",
       " '그치 무조건  건 확실하죠',\n",
       " '그러면 선생님이에요',\n",
       " '양변을 노 다 아머 버린 거 어쨌든 우는 영은 아닌 거 확실하다는 그치 그러니까 애를 영웅 하며 나눠 볼게요',\n",
       " '그럼 어떤 현상이 일어난 냐 나눠보자 그러 면으로 나눈 니까  여기도 호 나니까  분의는 여기 이렇게 되겠네',\n",
       " '집 모여서 나누게 있어야 한 거라 영어 합니까 이렇게 되니까 어 그럼 안   에이브 네 이거 뭐가 된 거야',\n",
       " ' 넘어가니까 가 되겠네',\n",
       " '아 거지 뭐가 되는구나',\n",
       " '여기까지 제가 제일 어려운 아이가 다라고 생각하지 못해 그래서 문제에서 아 요 녀석의 한 근이 또는 한 해가   일대 요 녀석 찾아봐라고 물어본다고',\n",
       " '그런데 어떻게 한다를 일단은 집어넣어서 등이 이 등식이 성립하는 것을 확인한 다음에 양변을 노 나누어 주는 거야',\n",
       " '그럼 요렇게 생긴 애가 나오잖아',\n",
       " '그래서 내가 원하는 꼴 만 남기고 나머지 항 시켜서 제가 뭐가 된다',\n",
       " '이렇게 찾아내면 되겠습니다',\n",
       " '그래서 오늘은 선생님과 함께 이 이차방정식의 첫 번째 시간이었어요',\n",
       " '사실 이차방정식 이란 그 내용은 차시 기념이다',\n",
       " '그리고 차 밤 청소에 쉬게 해라는 것은 게를 그대로 집어넣었을 때 등식이 성립한다는 내용이 끝인데 그 내용에서 문제들이 이렇게까지 응용이 될 수 있다는 것과 저 친구들이 챙겨 가셔야 되겠죠',\n",
       " '자 오늘 배웠던 내용도 반드시 문제 많이 많이 풀어보시고 요 선생님 향은 강가에서 또 즐거운 모습으로 만나도록 할게요',\n",
       " '그 친구들 수고 많았어요',\n",
       " '음악',\n",
       " '이 음악 우리가 학교 수학에서 배우는 방정식 뜰은 대 개의 정수를 개수로 갖는다 음식들입니다',\n",
       " '그리고 이런 위에 방정식의 근을 찾는 문제가 나온다면 일반적으로 인수분해를 통해 그늘 찾게 되죠',\n",
       " '음악이 채널을 보시는 분들은 너무나 많은 인수 분의 문제를 풀어 보셨을 거라 익숙하게  짜 권법을 써서 암산으로 인수분해 한 후 그늘 찾으셨습니다',\n",
       " '반면에 그리 잘 보이지 않는 방영 시기 나온다면 어떻게 할까요',\n",
       " '귀찮겠지만 중학교 때의 주야장천 의 어떤 근의 공식을 사용해서 끝은 그늘 찾으실 것입니다',\n",
       " '차 이상의 방정식은 어떻게 할까요',\n",
       " '차 와 차까지는 일반적인 근의 공식이 있습니다',\n",
       " '하지만 교육과정 사는 배우지 않고 배워서 써먹는다에도 너무 어렵습니다',\n",
       " '그래서 우리는 불 반적으로 글이 될 것 같은 수도를 가져와서 이를 이용해 조리 비법을 사용합니다',\n",
       " '그리고 차수를 낮추면서 인수분해 를 하죠',\n",
       " '저는 이번 영상을 통해 일반 쪽으로 글이 될 것 같은 수를 찾는 스킬에 집중해 보고자 합니다',\n",
       " '여러분들이 다항식의 큰 을 찾을 때 가장 많이 사용하는 스킬은 상소 항에 약수를 근으로 생각하는 것입니다',\n",
       " '그리고 먹는 문제들에서는 곧잘 통합니다',\n",
       " '혹시 여기 법칙 같은 게 있을까요',\n",
       " '사실 정수를 개수로 갖는 다항식의 유리 수건을 찾는 방법에 대한 정리가 있습니다',\n",
       " '정수를 개수로 갖는다 음식의 리수 그는 윤은혜 이번에라고 한다면 애인은 최고 창의 개수에 약수 이고는 상소 항에 악수입니다',\n",
       " '이는 수업 시간에 선생님들이 많이 알려주시는 스킬이라 자주 사용하실 텐데 왜 이렇게 되는지 알아보죠',\n",
       " '명제를 보면 정수 계수 당시 길이 두 그늘 갖는다면 이는 가정에 와해는이므로 에를 대입하면 다음과 같이 식을 접을 수 있습니다',\n",
       " '이제 분모를 없애주기 울 양변에 제곱을 곱해주면 시기 다음과 같이 정리됩니다',\n",
       " '좌변에서 첫 번째 않을 우편으로 항시 켜주면 번씩 마지막 하늘 이양 시켜주면 이번 식인 등식을 얻게 됩니다',\n",
       " ' 번식은 모든 항의  가 곱해져있으므로 다음과 같이 묶어 줄 수 있고 이 번씩은 모든 항해 비가 곱해져 있음을 다음과 같이 묶어 줄 수 있습니다',\n",
       " '자 이렇게 본다면 이는 모두 정수이므로 두 신 모두 정수의 영산으로 되어있습니다',\n",
       " '즉 애인은   제곱의 약수이고 낸   제곱의 약수가 되는 것이죠',\n",
       " '음악 그런데 생각해 보면  와  는 서로 소입니다',\n",
       " '애인을 절대로 비를 나눌 수 없죠',\n",
       " '그 말은 바꿔 말하면 애인  에 약수라는 뜻입니다',\n",
       " '예를 들어 설명해 보겠습니다',\n",
       " ' 과오는 서로 소입니다',\n",
       " '서로를 남을 수 없죠',\n",
       " '그런데 이 된 곱하기 오해 내 직업의 약수라고 해 보겠습니다',\n",
       " '그렇다면 우를 아무리 많이 곱해 떠라도 은의 약수가 아닙니다',\n",
       " '다른 말로 삼은 글 나눌 수 없죠',\n",
       " '그럼에도 불구하고 삼은  곱하기 왜 내 제곱의 약수 여야만 하므로에 주고  아닌 나머지 즉 얘네 약수 해야만 합니다',\n",
       " '같은 논리로 애인은  악수 피는  의약 수입니다',\n",
       " '따라서 정숙에서 다음 식에 유리수 그는 반드시 최고 창의 개수에 약수 분의 상수 항의 약속 고려 야 말합니다',\n",
       " '이 명제가 갖는 의미를 조금 더 알아보겠습니다',\n",
       " '우선 이 명제에 가정은 유리수 그늘 가질 때입니다',\n",
       " '따라서 유리 수군이 아니라며 최고 창의 계수 나 상수 항을 의미가 없으며 다른 방법으로 그를 찾아야 합니다',\n",
       " '반대로 유리수 근 일 때 그 그는 반드시 최고 창이 개수 그리고 상수 암과 관계가 있습니다',\n",
       " '나아가 만약 최고 창의 개수가 일이라며 일에 약수는 플러스마이너스의 리무 유리 숙우 은유는 정수가 내면 이때 이정수 분은 상소 항에 약수가 되게 됩니다',\n",
       " '우리가 정수기에서 다항식 문제를 풀 때에 최고 창에 개수가 일인 경우가 자주 있었으므로 상수 항에 약수를 근해 후보로 두고 문제를 푸는 것은 옳은 판단이 어떤 거죠',\n",
       " '이외에도 여러분들이 아는 몇 가지 스킬들이 더 있을 것입니다',\n",
       " '예를 들어를 대입하면 개수들만 나무 모르 개수 들의 합이 이면 일이 그이라든가 같은 방법으로 개소 들에 불을 번갈아가며 더해서 이 되며  일이 흔히 된 것처럼 말이죠',\n",
       " '인수분해를 풀 때에 여러분들 만에 있으시다면 댓글로 남겨주시길 바라며 오늘 수업은 여기까지 음악',\n",
       " '지난 시간에 이제 인수분해 가 뭐냐라는 것에 대해서 조금 배워 봤는데 그래서 선생님이 인수를 첫 번째 스템 뭐라고 했어 리딩 공통 인수로 무 끼와 우리 겹쳐진 카드가 뭐냐',\n",
       " '요거했었잖아요',\n",
       " '오늘 할 내용은 어그 공통  수가 없을 수도 있잖아',\n",
       " '얘들아 그러면 그다음 스텝으로 넘어가야 되는데 그다음 스텝이 뭐냐',\n",
       " '위까지 그다음 스텟 예 번째 스태프인데요',\n",
       " '완전 제곱 식이니 아님 더 합쳐 고 직인이 한국 개한테 무섭 알 때 문제한테  그 말로 물어보면 은 사람들 좀 이상하게 생각할 수 있으니까 속으로 물어봐야 되겠죠',\n",
       " '얘도 완전 적 없이 그냥 그래도 합 찬양 이렇게 물어봐야 계 자 그러면 예를 들면 이름이 나올 수 있어 적그리스도가 어떤 내린 수분의 딱하려고 했어그랬는데 이거 어떻게 생겼나요',\n",
       " ' 제곱 플러스  프랑스  이렇게 생겨 거야',\n",
       " '어 공정인 수가 없네',\n",
       " '그럼 이제 물어봐야 완전 적 없이 기니 그 완전 재고  긴 이제 물어봐서 그럼 이제 확인을 해야 되잖아',\n",
       " '그럼 어떻게 아 얘는 분명히 앞에 있는 거의 제곱인데 어 예 얘는 플러스 사람 또는의 제곱인데 어 흐미 고파 그냥 주지 시험해 볼까 곱한다 메일을 고 펴 보자  유격수 넣어서 대박 사건 그러면 오는 아 또  플러스의 제곱에 전체 제곱이었구나',\n",
       " '이렇게 생각엔 쏘면 서버 문제 연기를 좀 되는데 그대로 문제 보내며 이렇게 생긴 애는 완전 적 주모 빨게 우디가 파악할 수가 있어 너무 쉽잖아',\n",
       " '또 진짜 쉬운 완전 제거 옵션 뭐 있어  제고 플러스 플러스 입법 완전 적 없이 긴 인물  해볼까  넥스 제국인에 얻어  또는  일이 제 고민의 어 코판 남의 두 배 하면 얘기 나오냐 또   전 재해 연기자 아니고  파형 기대 백수 하여  레저세 호비구나 업무 생산 해이렇게 해주면 돼',\n",
       " '그런데 문제가 뭐냐며 정말 적을 수 이렇게 쉬운 애들 많아 오겠니 우리한테 조금 익숙하지 않은 완전 제곱  선생님이야',\n",
       " '뭐 이제 막 적에 많이 해서 존재 익숙해지는데 처음에 곱셈 공식을 배우는 너희들의 얘는 뭐의 지원 전 조급 주교는 더블 몰 어찌 이렇게 생긴 애들이 많이 나와요',\n",
       " '그럼 그렇게 생기는지 예를 들면 어떤 애들이 냐 면 뭐 이런 거 언어 이들은 좀 검색하기 업계 작품에다가 아 슬 지워낼 거야',\n",
       " '네가 뭐 이렇게 하고서는 음복 일생임',\n",
       " '이렇게 나올 거야',\n",
       " '이웃 악 발생 완전 제곱 시기 딱 바로 떠올라 안 떠올라 살짝 찌 의심한다면 일 짝 공소 공포 미 순 없으니까 뭐는  맥스의 전체 제곱 된 거 같아',\n",
       " '오노는 앞에 이제 플러스 그도 이해 제고 긴것 업적에 곱한 다음까지 곱해 봐 액   곱하기 나오면 아 금 논을   플러스의 전체의 제곱 이구나',\n",
       " '이거를 이제 떠 올려야 된다',\n",
       " '또는 뭐가 있을까 회  자 위 런 것도 너희들한테 조금 어색 허어 지켜 더 라고 타고 생기네',\n",
       " '  의 전체 조곡 웬디 세제와 아 얘는  플러스회 전체의 제법이구나',\n",
       " '이렇게 우리가 떠올릴 수가 있어야 되는 거예요',\n",
       " '그런데 얘가 야 이거 완전 제곱  긴 거 맞춰 가지고 인수분해 해라',\n",
       " '이렇게 낼 수도 있지만 어떻게 되냐면 야애 층 완전 접시 있거든',\n",
       " '여기에 모드로 가야 될 참 맞춰 말해도 물어본다고',\n",
       " '그러니까 뭐 불러 방법 했었던 자쿠 약수 제곱 에다가 놓고서는 취 계단에 뭐 바닷물과 이 얘기 완전 제곱 씩 되기 위해서이고 얼마 들어가야 되니 이런 경우가 그럼 이제 압수를 먼저 찾아야 되는 거야',\n",
       " '아 얘는  맥스의 전체의 제곱이 없겠구나',\n",
       " '그다음에는  곱하기 압수 디스 자나 후원은  곱하기 앞에 거 찾아 스타맥스 그다음에 뒤에 거 뭔지 모르는데 생활 고칠까 그거 했더니   가 나온 상황이  그 격이 얼마 들어가야 될까요 금 유격 쓰잖아  액셀 얼마고 배지  억센 이 두 개 쓰이다가 이 곱해야 되겠죠',\n",
       " '그런 여유 들어가야 돼요',\n",
       " '그럼 뒤 순이익의 것이 아귀 지수의 제곱이 여기 들어가야 되겠죠',\n",
       " '얼마 들어가야 돼 이런 쉬고 찾아내기도 근데 뒤에 있는 에다가 네모칸 버틀러는 무대는 또 금방 잘 찾아 앞서 디스 만 찾으면 되니까 근데 내 혹하는 가운데 주기 더 이렇게 이렇게 저희 얼마 들어가야 되니 고려 방금 했으니까 이렇게 쓴다고 금일 띵 뺑 팥의 꽃 울타리 했다',\n",
       " '왜냐하면 얘들아 인사 맥스의 전체 제공이 맞아요',\n",
       " ' 세정 부자나 얘도 이제 고비 자 이렇게 생각할 수 있는데 이게 제국 그 생각 할 수 있는데 선생님이 여기 만약에  가 들어간다고 해도의의 절체 제곱이 다 이렇게 생각해도 괜찮잖아',\n",
       " '그러니까 여기에는 플러스마이너스 씨 미 가 들어가 줘야 되는 거야',\n",
       " '거기 가   플러스의 전체 제곱을 수도 있고  맥스의  전체 제품을 수도 있단 말이야',\n",
       " '그이가  이게 제곱을 수도 있는 것이 아예가 그래서 항상 가운데를 물어볼 때는 물 마를 같이 붙여줘야 된다는 것까지 자 그럼 완전 자국 시계 네 해가 주고 완전 제곱 씩 의심이 되는 애들은 완전 제곱식으로 써 주면 되는데 약간 우리가 앞에서 배웠던 그 공덕이 수로 먹는 거라 얘네들이 조금 합쳐져서 나올 때도 있어요 예를 들면 뭐 이런 거  예를 들면 뭐 다  제곱    플러스 국 이렇게 생기네',\n",
       " '그럼 아파 주의해야 맞는지 모여 게다가 만  뭐 게다가 검사로 묶으면 은  레고 여기다가  있을 수 없게아 회 게다가의 금호역이라고 하나 할게요',\n",
       " '어이 시작 물을 이렇게 생긴 애가 나올 수도 있어요',\n",
       " '그게 다로 묶어 돼 그러면 이로 묶었을 때  제곱   그다음이 얼마든보단 건수도 페 미아 미아 열 말을 바꿀 거냐면 일 거야',\n",
       " '후 여기에 내가 이렇게 엇 얼마 들어오니 기  이렇게 들어오자 나 그러는  제보   플러스 잡곡 그러는 기회가 또 완전 조금씩이잖아',\n",
       " '얘는 거의 선체 제곱인 겁니다',\n",
       " '   의 제곱 인가보다',\n",
       " '그리고  곱하기 압수수색 오지수 했나 보다 클래식에는 또 그래서 한담에  하신 게 전체 제곱 이렇게까지 해줘야 이렇게까지 해줘야 걔 진짜 인수분해 한 거라고 이야기할 수 있다고요',\n",
       " '자 그러면 완전 제곱 씩이냐라고 했을 때 오기까지 됐어',\n",
       " '그럼 하차하고 어떻게 나올 수 있을까 하찮은 왜 이런 식으로 나오겠지',\n",
       " '뭐 정말  정도 무직자 나 버티나 거냐며 뭐 이런 식으로 뭐 예를 들어서의 제곱  코피 작업 이런 식으로 나오겠지 오크 걔는 거의 전체 제곱이  얜에 전체 제곱 인해 어에 곱 책 차 요금 어떻게 인수분해 한 번에 더한다 한번 뺀다',\n",
       " '그러니까 이 이에   이런 식으로 인수 내가 된 거예요',\n",
       " '근데 마찬가지로 이 합 차 공식도 공동 인수 랑 짬 번데기 끔',\n",
       " '문제를 추기도 하겠죠',\n",
       " '예를 들면 은  세제곱에 이런 지으실 거야',\n",
       " '금언 첫 번째 뭐 붙어야 데 콩 통해서 묵어야 돼 공동 새인데 그렇게 되니  제곱  게 그 여기서 멈춰 안단테 왜냐면 일은 일에 제공이나 마찬가지잖아',\n",
       " '그럼 얘네들이 인숙은 약 한 번 더 장 거야',\n",
       " ' 의에  이런 식으로 예수 부대가 된 거예요',\n",
       " '여기까지 해줘야 인수분해 가 잘 됐다고 이야기해 쓴 거야 끔',\n",
       " '선생님 만약에 이렇게 되면 어떻게 될까',\n",
       " ' 제도이야 흐음 이거로 묶으면 은  에이즈의 곡   그때 여기서 멈추면 안 돼',\n",
       " '여기서 애인의 재고  이런 일에 내 제곱이라고도 표현할 수 있어요',\n",
       " '그러면 여기서 한 번 더  해에 제곱 플러스   제곱   이렇게 할 수 있겠죠',\n",
       " ' 제곱 차서 얘네들 나왔기에 있네',\n",
       " '근데 근데 근데 기회가 한 번 더 되잖아   일로 크게 인 어떻게 해야 돼',\n",
       " ' 에 요 제곱 플러스 이를 여기다 어떻게 한다     여기까지 해줘야 진짜인 수궁가 끝난 거라고 이야기할 수 있어요',\n",
       " '그래서 특별히 이 흡착 않아 온 애들 같은 경우에는요 뒤가 일이라고 쓸 때 진짜 끝까지 끝까지 정말 정말 파고들어서 예수분을 다 해줘요',\n",
       " '그래서 우리 친구들은 오늘은 여기까지 조금 연습을 많이 많이 해 줬으면 좋겠어요',\n",
       " '우리 인숙은 첫 번째 스템 뭐 타 공 품 인수로 묻기 두 번째 탭은 언어 안전 제곱 식이니 안도 합 차 공신이라고 물어봐서 애가 완전 제곱 씩 이면을 완전 제곱 씩 누구의 압수는 누구인지 시 쓰는 누구 이제 파악해 질고해주고 만약에 하차 금식이 면은 또 한 번은 더한다 한 번은 뺀다 해가지고 할 건데 끝까지 끝까지 계산해서 인수 분해를 결국엔 하하 짜리로 만들어 줘야 된다는 것까지 시작해 주면 되겠습니다',\n",
       " '그래서 우리 친구들 오늘 배운 내용 등까지 있는 여 조금 문제 많이 풀어볼 수 있으니까 문제 많이 많이 풀어보시고 선생님 이랑은 가음 강에서 또 즐거운 모습으로 만나도록 할게요',\n",
       " '제가 많았어요',\n",
       " '안녕',\n",
       " '음 오 오 오 오 오 오 추운 겨울을 따 산 행복감 때 설렘으로 물들은 위너의 크리스마스   가 깨를 다잡아 더에 나서지 못할  위너 위너 어디 더해 도리라고 안 좋을 쭉 월매 선데이 에 맞아야 않는 말이지',\n",
       " '것 여자 다리 꺼려지고  맡은 반대로 첫 번째로 오늘 위도와 시작한 다섯 번째 시간이고요',\n",
       " '우리는 접아 직은 아주 중요한 부분이에요',\n",
       " '어 뭐 배웠어요',\n",
       " '뭐 어찌하더라',\n",
       " '그리고 그거 배웠어요',\n",
       " '가장 중요한 이 약의 나머지정리 관련된 이야기했어요',\n",
       " '어항 등 식으로 바꾼 느낌부터 여러분 다시 한번 복습을 해 보면 글로 나르고 몫이 키우고 나머지가 알이 다시를 비롯 아는데 혹시 키우고 나머지가 앓이라는 말은 느라고 시작을 하고 목숨 곱하고 나머진 당한다 목숨 곱하고 나머진 다 기억나 줘',\n",
       " '크는 곱해 주고 나머지 알은 더해 줄 때 크게 바로 검산 식이 아니라 각각이 다항식이었을 때  와  가  가는 시켰을 때는 그 시기 항등식이 된다 그랬죠',\n",
       " '그렇게 항쟁 식으로 바꾸려면 수치도 입법과 계수 비법을 이용해서 미정 기술 구할 수 있는 거고 머릿속에 다 정리되세요',\n",
       " '그래서 결국은 차로 다른 나머지를 구하라 차로 다른 나머지를 구하세요',\n",
       " '원 않은 나머지  고아서 그 어떤 걸 보더라도 우리는 항 등식을 세움으로써 받을 수 있다 서비스 만 되지 않습니다',\n",
       " '예인데 이걸 언제 줘',\n",
       " '아 음 그런데 이처럼 다른 아버지는  있죠',\n",
       " '천억 안 들음',\n",
       " '나머지는 있자 차 원하는 나머지는 차 일자 나가는 나머지는 향수 그중에 서버에 관련된 게 바로 나머지 종료 세용 차로 나는 나머지 른 나 뭐 전기를 쓰면 된다 모두 아지작 등식으로도 받기 싫다고 그래서 그냥 크 나누는 식  일차 시각 으로 만들  값을 어 그 시기나 대입한 거 그거 바로 나머지 아닌데 함수    알파로 다른 나머지는  퍽 아니겠느냐라는 것을 적어 세우고 있던 나머지정리라고 해 줘',\n",
       " '어 더욱더 중요한 말이 거냐 함수에 팩트가 위너 님 잠시 좀 해주세요 함',\n",
       " ' 팩스나  일로 나누어떨어졌다',\n",
       " '  일로나 땐 아버지가 이영희 다일 수록 않는다 못하듯 음악 모두 다 나머지가 이라는 뜻이니까  대신 이를 대 입었을 때 그 결과 얼마 되지 줘 음악 오늘은  짜증 나는 못 간 아버지를 지구상에서 가장 빠르게 구할 수 있는 조 입체 뻑 으 노 시작합니다',\n",
       " '음악에 그랬어요',\n",
       " '자 여러분 저번 시간에의 세지고 많은 사이트 해주고 플러스  플러스 에의  일로 나누었을 때  음 나누었을 때의 나머지 망 구하라 원래 나머지 관람 황경식 하는 건데 차로 나는 나머지 구할 때는 그것의 은 시간도 필요 없다',\n",
       " '괜 차례 영어로만 들어있을까 값을 역이나 대입한 게 바로 나머지가 아니겠느냐',\n",
       " '그 액체세제 이렇게 돼서       아니겠느냐에 이겼어요',\n",
       " '그러다 볼 마시자  끝 이렇게 풀었던 게 저번에 말씀드렸던 나머지정리 차로 나는 나머지는 차원 나는 나머지 너무 전 한 나머지 너무 차로 다른 나머지 레지 구상에서 가장 쉽게 구하는 방법은 그  자식을 영어로만 된  값을 여기가 대입한 돼',\n",
       " '그런데 오늘은 뭘로 시작하는 거냐면 나머지 단가라 것이 아니라 녹두 바랍니다',\n",
       " '이 말에 어 선생님 목 두고 가라고 어 그럼 직접 나누는 번 밖에 없을 것 같은데 해볼까요',\n",
       " ' 해지고에 대해서 제거 플러스  플러스 길을 합니다',\n",
       " '알아보기 잘 잡아야 요걸   일러 나누라 그래요',\n",
       " '우리 직접 낡은 것은 예전부터 공부해 봤어 짜 나야',\n",
       " '그치 최고 창만 비교하면서 아 여기다가  이제  빼야지',\n",
       " '이렇게 될 것이다',\n",
       " '모두의 단 하고 판을 에이 대해서 세지고  에이트리 좀 뭐 한데 땐 나 때는 플러스 바뀌면서의 제곱  내려와  그런 다음에 다시 비교 여기에다가 뭐래 곱해야 지 이렇게 됐다',\n",
       " '   를 곱해야 되는 내어쎔곱하면 마이라  백색  맥스 니까    즉 있으니까 또 뭐한데 시작된다',\n",
       " '때로  또 하나 내려와 얼마 시작 어 차로 날 나머지는 상수가 돼야 되니까 같은 차수가 아직 이 안 끝난 거야',\n",
       " '다시 한번 내 앞에 있는 최고 체온계 스킬을 비교 때 이 모델의  타며 마이 라이이니까 빼니까 얼마 시작  엘 지금 사회가 제일 빠르게 관해 뭐 이 바로 나머지정리 없잖아요',\n",
       " '근데 지금 몫을 구하라 그러니까 얘가 몫이죠',\n",
       " '그렇게 얘기해야에 대해서 지금 마이라   플러스 이가 몫입니다',\n",
       " '이렇게 처리하는 건 뭐 그래서 직접 나누는 방법이 있을 텐데 이거 조이스 이제 어 뭐라고요',\n",
       " '이거 시간이 오래 걸려요',\n",
       " '그래서 조립 째 법이라는 걸 설명할 거예요',\n",
       " '조립 책도 나누는 방법인데 이게 나무 짜 거지야 대순환 가지고 나누는 방법을 사람들이 조 개 법이라 그러거든요',\n",
       " '앞으로 어떻게 하는 거냐 면 자 다 얘를 예로 나오잖아 차 식으로 났을 때 무 깟 아버지를 구하는 방법은 이 착란을 못 가 나오지 안돼 삼창 나는 못 갈아 보지 안 되고 회차는 알았을 때 나머지만 바닥은 나머지정리 지만 몫까지 다 하고 하고 싶다고 했을 때 재미 빠른 먹는 조기 개 법인데 어떻게 처리하는 거냐',\n",
       " '이렇게 하는 거예요',\n",
       " '최고 창의 계수부터 개점한 쓰기 시작   오후     되다 봤어그런 다음에 차를 크게 그래 이 인자를 일이 좋아지기 그냥 여기다 뭐 어떤 숫자를 쓰는 야당 거 같이 또래 그 차시 걸 알았다 고 했잖아요',\n",
       " '차 식을 이로 만들  값을 좀 약속 끝에까지 하중이 채 법의 시작이에요',\n",
       " '끝나고 제가 어떻게 하는데요',\n",
       " '내려와요',\n",
       " '내려가는 시작일 곱해 전이나 시잖아요',\n",
       " '예 더해 달랐어요',\n",
       " '시작  끝남 이렇게 곱해서 여인아 쓰는 거야',\n",
       " ' 끈 다음에 더 하는 거예요',\n",
       " '이 그런 다음에 이렇게 곱하는 것이죠',\n",
       " '이 끈 다음에 더하는 것이자 끝 어떻게 하기야 일단은 내려와요',\n",
       " '너 빨리겠지',\n",
       " '그다음에 잘 봐요',\n",
       " '아 천천히 다시 얘기 일단은 내려와 그다음에 하는 방법은 내가 매번 내려온 하고 그다음에 여기 있는 숫자  일자로 이렇게 곱해서 그 다음간이에요',\n",
       " ' 이렇게 그런 다음에 무조건 더해요',\n",
       " ' 각 그다음에 또 있는 숫자는 여기에 듣자 랑 곱해서 여기다 쓰는 것이 이상 바이라서 그냥 얘 무조건 더해요',\n",
       " '그런 다음에 여기에는  짱 여행에 숫자를 곱한 답에 엉 되어서 그냥 에 무조건 동안 하니까 그런다면 내 마지막 있는 숫자가 무조건 나머지입니다',\n",
       " '와우 신기하죠',\n",
       " '맨 마지막에 들어온 숫자 무조건 나머지 고요 여기서부터 여기까지 감옥 신데 우리가 대선 안 가지고 그렇기 때문에 내가 바로 몫의 개수의 야 근데 여러분 차 천원 않았으니까 무슨 몇 할까요 이 차일 거 아냐',\n",
       " '그래서 얘가 차 시기 되는 거야',\n",
       " '어 예 그래서 얘가 상수 항 차 개수 위치해서 이렇게 돼요',\n",
       " '그래서 답은   제곱    플러스 이를 그대로 써 준 거죠',\n",
       " '진짜 자 있습니다',\n",
       " '어 이거 뭐라고 시작 조립 쩝 저희 잽 하는 방법이 중요한 것이 아니라 조립 째 법을 언제 쓰느냐가 제일 중요합니다',\n",
       " '언제 해 쓰냐 언제 제일 딩요',\n",
       " '언제든 야 언제 승리 이렇게 물어보신다면 일이 차로 나왔을 때 못 가 나머지 구할 수 있는 제시한 방법이 다 이렇게 여가 줍니다',\n",
       " '너 차로 차로 나는 못가 나머지를 차  나를 못 갈아 버질 더 구할 때 나머지만 뵐 때는 나 뭐 저보다 더 쉽고 뭇 깔아 버지를 더 구할 때는 조립 째 법이 제일 쉽다고 말씀해 때 주시는 겁니다',\n",
       " '한 번 더   에 대해서 내저어  얘기해서 조     을  플러스로 나왔을 때 몫과 나머지를 고 하죠',\n",
       " '선생님 차관은 못 받 아버지를 중세가 장식 떼고 나면 보통 개 버블스 줘그렇죠',\n",
       " '저도 같은 생각입니다',\n",
       " '조립 깨 법을 한번 써본 줘',\n",
       " '존이 째 법을 한번 써 보 모조리 째 법을 한번 써 보 조 최고 차에 계속돼 서시 작사 여러분의 사창 의해서라면  상의에 수를 쓸  니까 그다음에 이 창에서 써야 되니 창이 없어요',\n",
       " '그럴 때 영어로 채워 내리고 조심해야 돼요',\n",
       " '아무도 없다 그냥 곧바로 쓰면 안 돼요',\n",
       " '얘가 사창 되시면 장 계속이나 이창기 수일 참 긴 상상 이렇게 써야 돼',\n",
       " '그다음에  창 개수 가 들어가야 되니까 오라고 쓰시고요',\n",
       " '맨 마지막에 상승 근데 무슨 자 위은 짤을 크겠습니다',\n",
       " '이렇게 써요',\n",
       " '근데 여기에 뭘 세라 그래서 기억나요',\n",
       " '아 예를 이로 만들어 있으니까 그 차로 나눈다 했는데 그 차 식을 경우로 만들었을까 얼마입니까 집니다',\n",
       " '  여 다르겠습니까',\n",
       " '그냥 내려오는 거야',\n",
       " '시 이 작사 끝나고 패고 패 시 이자   그다음에 무조건 더 하니까  이렇게 곱하면  없었어해 보시죠',\n",
       " ' 뻐꾹 팔이며 아교 일이 커진다  더해 나이라서  와 이렇게 곱해 식이죠',\n",
       " '대 진짜 진짜 진짜 진짜 커진 애인의 아 그런데 낸 마지막 나온 숫자가 무조건 나머지라고 해서 담당을 맛이죠',\n",
       " '세 법 그 않거나 뭐가 나요',\n",
       " '몫이 읽어야지',\n",
       " '근데 여러분 차 일처럼 소리가 목 센 차가 되는 거예요',\n",
       " '예를  차려놨으니까 몫이 차 가 돼야 창에 개선한 나온 거니까 대 시작 사회의 세제곱    제곱 플러스     가 답이다',\n",
       " '들이 총 진다의 세제곱  씹의 제곱 플러스     까 이런 느낌을 절약 뭐라고 시작 조리개 법 배역 조립 제법 얘기야',\n",
       " '뭐라고 조리 책 법 그래서 얘기를 다시 한번 쓰면 얘기지 잡아요',\n",
       " '이렇게 하는 거야',\n",
       " '옛 예 예로 나왔던 이해가 몫이 궁예가 나머지니까 혹시나 뭐 굳이 쓸 필요 없지만 항 등식으로 써봐라',\n",
       " '그러면 얘를 예로 나왔으니까 옛골 예 루시아 가겠죠',\n",
       " '사이트에 내주고에 대해서  주고 플러스    꼴  플러스 이 목숨 없다',\n",
       " '고 나머지 너 한다 먹고 쓴 거 없다고 나머진 더한다 몫을 곱하고 나머진 다한다 목 쓴 목 쓰 목 쓴 고파 나머지는 더한다 이 게바라 있어야 그 이제 등 식이 된다 끝 이렇게 될 거야',\n",
       " '재밌어요',\n",
       " '근데 치명적인 야 어머 어떡해요 야',\n",
       " '이렇게 편리한 조리 있게 법도 아주 치명적인 약점이 떠 래요',\n",
       " '미치겠어요',\n",
       " '안타까워서 무승 적 심 영적 정말 치명적인 약점이 딴다 거라 정말 치명적인 약점이 있어 그에게 내가 잠깐 야매로 따 예이가 한번 풀어 볼게요',\n",
       " '여러분 진짜 치명적인 약점이 있어 차 시고 날 때 묵가 나머지를 구한다 있다',\n",
       " '둘이 집어 묘 안되지부터 서버 시저 그다음에 차 없으니까  그다음에 차  그다음에 상승 김 무슨 차 위원 진짜 차시 강으로 만들어 있다로 만들기 시작 뇌 내려와  오페 이번에 더해 회 예고 폐 분의 이 더의  아화요 루프 먹어 있으니까  아 어떻게 아우 어떻게 하지',\n",
       " '아 더 이동 시 금  분의    분이니까  드시고 꼬 폐   아 아 아 진짜 이쯤 더 해 시 이자  회 즉 이렇게 알겠어요',\n",
       " '아 어 너무 복잡하잖아',\n",
       " '그렇게 안 하고 이렇게 할게요',\n",
       " '여러분 자꾸 문제 바꿀 거야',\n",
       " '이게 더 여러분 기업 외우기 더 쉬울 거야',\n",
       " '이어 얘도 외국 쉽겠지',\n",
       " '이 외의 란입니다',\n",
       " '이게 더 여러분 이야기 쉽겠다 자당 읽다가 떠 또또 또 넣어 너 너 너 너 이것만큼 됐는데 아빠 스테이 얘를 여울 안돼',\n",
       " '다시 장 어 어 좋아괴롭게 요 예 열어봐',\n",
       " '이 모태가 될 터이고 파지 예  더 해봐',\n",
       " '많이 하다 못해 바빠야 봐요',\n",
       " '그대 아이 것도 여러분 이렇게 쓰는 거  돼 직업 다 액셀  를 뭘로 아는 거야',\n",
       " '  이런 않는 거잖아요',\n",
       " '그치 그러니까 그럼 직접 나눌 땐 뭘 보자의 제거 브라 분의   시골 가서 맞짱이야',\n",
       " '이렇게 고 파니까 이렇게 곱하는 것이자에 대해서 해주고 그냥 이렇게 고 파니까   이제 그냥 빼는 거죠',\n",
       " '그럼 여기 뭐가 되고요',\n",
       " ' 즉 내려오니까   뭐가 필요해 분의에 대해서  가 필요하지',\n",
       " '그래서 이렇게 다시 곱한 이걸 마시자',\n",
       " '역시에 대해서 직업 이렇게 곱한 거야',\n",
       " '  그냥 때 빼면 마시자    플라스크에 그 한 번 더 해야지',\n",
       " '내 앞에 있는 것만 생각해 보니까 시작  부 예상이 필요하지  루에 회 새기고 파니까    끝까지 바 이렇게 뭐 파니까 플레이어인데 때니까   가 생깁니다',\n",
       " '나머지 시자 목질 얘기할 아시죠',\n",
       " '분의   해지고 플러스   니까 얘가 원래 답이겠죠',\n",
       " '그런데 봐요',\n",
       " '이렇게 종의 잽 뽑으라면 심경적인 약점이라는 게 뭐냐면 나머지가 집니다',\n",
       " '까진 데에 그런데 몫이에 나가 된 게 원래 여러분 애가 차 식으로 만들려면 애가 묵시라고 했고 애가 차 식이라면  제곱 플러스의 답이야 되잖아요',\n",
       " ' 해지고 플러스해야 되는데 보시다시피 애가 답이에요',\n",
       " '이게 진짜 담이 것은 그런데 조리 채 벗었더니 가짜 답이 나왔어요',\n",
       " '왜 이러니 발생했을까 이것 땜에 그래요',\n",
       " '우리가 여기다가 이를 수 없다는 것은 여기가  잃었을 때 라 비 아 그렇다 한마디로 의해서 이런 느낌이라는 거야',\n",
       " '조립 째 법에서 나온 해를 그대로 읽으려면 조립 개 법의 결과를 힐러 하려면  창에서 가 일대 신뢰할 수 있지 이렇게 일대는 신뢰가 안 돼요',\n",
       " '다 봐 여기 언제  썼어',\n",
       " '여기에   리 왔다며 내가 탄 바자 그렇게 빠르게   일로 나눈 못 가 나머지를 구하라 그러면 애가 몫이라 구요이게 목 맞아요',\n",
       " '얘가 나머지 맞아요',\n",
       " '그러니까 한 등식을 살 때 어떻게 쓰는 거냐며 직접 생존    플러스 이퀄   께 왜 예로 나왔으니까 그다음에 뭐 큰 곱하고 나머진 더 한다니까 얘는 곱해야 지 끝까지 마시 이자에 대해서 제곱 플러스  말한 사람 곱하고 나머지는 더 한다니까  이를 맨 마지막이 시작 도래 중 되지 이게 바로 완벽한 황등 십니다',\n",
       " '다  해석하면 예를 예로 하면 예나 복식  애가 나머지라니까 근데 잘 봐요',\n",
       " '지금 몰라 그랬어 액트  일어나리라는 문제니까 사실 여기에 이 가 붙어서 예언하는 못 갈아 보지 구하라는 거지',\n",
       " '그러니까 그러면 멀쩡한 시계다 갑자기 회 놨으니 다시 뭐야',\n",
       " '돼요',\n",
       " '이 문의를 곱해 하지 원상복구가 될 거 아니에요',\n",
       " ' 만족할 거예요',\n",
       " '아니 멋 좋아지게 각계 이루고 빼라 쓰니까 다시 이후에를 곱하고 원상 복구잖아',\n",
       " '그러니까 되고 어깨까지 이냐 애가 몫이 미아 아니지 얘를 예로 났으면 애가 몫이 된다는 보고 애가 나머지가 된다니까 결국 현경이 남은  제곱 플러스  말이야 이 아니라 이후에 렉스 제고 플러시    부 내 삶이라는 애가 몫이 될 하라는 거야',\n",
       " '나머지를 문제가 없더라도 여기서 좀 조정하셔야 된다는 거죠',\n",
       " '그러면 이 문장을 보고 이해되지 않습니까',\n",
       " '만약에 문제가 익었다 생각해 줘의   원하는 무과 나머지를 구하라 그럼 여러분에게 모아야 해 보니까  맥 쇼  화 되는 거니까 여기다 뭘 곱해 줘야 분의  곡병 자지 원칙에 변화 없죠',\n",
       " '끄니까 우로 나는 목수 뭐가 되는 것이자 분의   해지고 플러스분의    일이 될 것이라는 거야',\n",
       " '그래서 얻어 내리는 최종적인 결론이 바로 뭐냐면 예로 나라 꼴아 예로 난 없거나 모두 다 이것처럼 풀기는 시작하는 거야',\n",
       " '개로 만드는  값을 여기다가 대입한 다 똑같아 그리고 탑이 나왔어요',\n",
       " '에 이렇게 답을 시즌  떠난 앞으로 그러지 말고 좀 저희 주는 보였으니까 앞으로 맨 마지막에 보정해 준다',\n",
       " ' 의 개수가 일이 아닐 때는 그의 개수에 역수를 최종적으로 곱해줘야 하지만 총장이 답이 나올 것이다',\n",
       " '그 말씀을 드리고 싶었던 거야',\n",
       " '으음 샘이 싫어',\n",
       " '역시 초  초 도 어쩔 수 없어 이게 조립 째 법의 치명적인 단점도 왜 그런 진제가 존재 보여 드렸으니 까 그런 느낌으로 해석하면 되지 않을까',\n",
       " '그래서 얘 제 번 곧바로 같다 얘기  번 보시죠',\n",
       " '조리 째 법을 이용하여 다음다음 식을 차시 고려했을 때 몫과 나머지를 고 알아서 개 주 꼭 시 작았을 때      뭐라고 쓰고 진짜 닌자 내가 뭐 있어요',\n",
       " '그렇지 차 식을 영어로만 되어 있을 것이죠',\n",
       " '예 내려와 곱해 더해 말 곱해서의 말 배 예 예 뭐랄 시작 나머지 얘 뭐라 그래 시작 차  가 일이니까 있는 그대로 다 읽어주시면 됩니다',\n",
       " '답을 글러브 주세 이작     파일  과목 주시고요',\n",
       " '그어 나머지를 시작  회 버림',\n",
       " '채용된다 비고 플러스 일할 때 못가 나머지를 구하라 그러면 여기에 뭐 할지 바람 되니까  집 어르신 되죠',\n",
       " '내가 곱하고 더한 고파 거 더하고 곱하고 따라서 예를 도안은   가 될 테니 목 셀 얘기해라',\n",
       " '그럼 다 같이 시이 작      플러스 오라고 얘기하지만 나머지는 시작  고 그래서 최종적인 답이 된다',\n",
       " '이가 여러분 그 밑에  찌게 작가만 보여주시네요',\n",
       " '유지 차 까만 받아 기 제 차 까만 해봐야죠',\n",
       " '유재 있는 문제도  풀어주자 이제 색감 어 주 세 요 님 어 걸 어 그래 그 밑에 여러분이 제 번 잠깐 보세 번 법 번만 받아 싶어요',\n",
       " '번 번 그래 거기 있잖아',\n",
       " '나의 이 얘기 해주려고 여름 번 이렇게 돼 이유 제 번 야 어디 갔어요',\n",
       " ' 뿅뿅 뼈  루시퍼 예 이제 번이 잠깐 보여줄  해지고 이렇게 됐네',\n",
       " ' 헤이지 했고 그다음에  잭     포플러 살을 차 식 먼로 시장  플러스 일로 나누었을 때 시작 몫과 나머지를 구하시고 왠지 알겠지 시대의 그치고 아래 이것 때문에 안 거야',\n",
       " '최고 차용해서 차하게 개수가 일이 아니잖아 이럴 때는 맨 마지막에 역수를 곱해 줘야 된다는 거지 임업 세다가 그 말씀을 드린 거 아니야 하지만 시작은 똑같아요',\n",
       " '최 고창의 계속 또  그다음에 시자  그냥 장에서 없으니까 영우  창업자 너 그다음에 상수 황사 이렇게 쓰시오',\n",
       " '어 얘를 이로 만들어 있었다',\n",
       " ' 분의 을 얘기할 수 몇 가지 똑같게 내려와 고 팩 더해 고 폐 더해 곱해 더해 예까지 똑같으니까 끄니까 까니까 똑같으니까 그러니까 나머지 일과 시작됐어요',\n",
       " '묵 셀과 락은 아니 원래는 얘를 섞게 쯔 의해 시자  제고   있어요',\n",
       " '플러스 이로써 걔는 아 얘는  플러스 일로 나눴을 때 묵가 나머지라는 맞아 조리개 법에서 나오는 결과야 아 차에게 수가 이럴 때 볶아라고 줘',\n",
       " '근데 여기서 고기를 곳도 있으니까 미국제 다그침에 다시 임의로 곱해줘야지',\n",
       " '다 별거 아냐',\n",
       " '그래서 언제나 기억할 때는 이 나누는 차 시계에게 소일 창이 개수가 일이 아닐 때는 나온 가 베다가 나온 끝까지를 또 이렇게 부정하지 말고 나온다 베다가 맨 마지막에 그  창 계에서 역술 고파돼요',\n",
       " '원리를 여러분이 하고 기억하세요',\n",
       " '월 이해하고 기억하죠',\n",
       " '어 어 어 어 써 어 얼었어',\n",
       " '어 어 어 수 있다고 이렇게 되는데 대청 세다고의 시작의 제곱   플러스 일이 바로 무 키고 예단하고 있어요',\n",
       " '원래 한 번만 더에게 자 옷 입힐 안에서 내가 여러분 조금 전에 나왔었던 이목과 기 나머지는 어떻게 나온 거라고 어 이걸 풀었을 때 니까 결국에는 예우 빡이 예  그 항쟁 식이지요',\n",
       " '어떻게 얜 이거 곱하기 이거  상근에 갑자기 열어 주었으며 남쪽이라고 이루고 파란 얘기 아냐',\n",
       " '그건 시계 뭐라고 슬라브 뒤에라도 이번에 다시 곱해 줘야 될 거 아니 그  함 이렇게 말로 설명을 하시오 않은 게 그겁니다 이제가 여러 가지 첫 시간부터 많이 잔소리했었던 알아야 된다',\n",
       " '여러분이라고 말씀드렸던 게 그런 내용이니까 확실하게 좀 알고 넘어가셨으면 좋겠어요',\n",
       " '그렇게 까지 가 여러분 나머지정리에 관련된 이야기가 다 끝난 겁니다',\n",
       " '그럼 기본 핵심 문제는 여러분 집에서 한번 프로 보시길 바라고요',\n",
       " '아주 어렵지는 않으니까 여러분이 직접 해 보시고요',\n",
       " '우리 오빠로 다음 단원으로 넘어가 보도록 할게요',\n",
       " '이제 부른다는 게 일쑤 분이라는 다름이 자 인수분해부터 또 차근 차 명은 정리해 보도록 하겠습니다',\n",
       " '여러분 다시 한번 노파심에서 말씀드리는데 이거는 중학생 간격이 개 학교 학년 감자가 아냐 중학생 또는 꼭 잇던 고  또는 재수생에게 아주 알맞은 당 자예요',\n",
       " '고려 과정에 대해서 너무 모르는 친구들에게는 이 강좌가 추 거예요',\n",
       " '완벽한 강좌라고 볼 수 있어요',\n",
       " '정말이에요',\n",
       " '그런데 딱 대상에게는 패하게 감자 눕고 이곳  내신 대비를 이걸 알면 큰일 하면 고의 안되는 고  관점도 차리게 나요',\n",
       " '수능을 대비한 되는 거 고 학생들이 공부 한라 그래도 이 훨씬 더 좋은 거야',\n",
       " '재생 말할 것도 없고 왜 예수님의 머리 문제나 어려운 게 데리고 하나도 안 되죠',\n",
       " '그 개념만 완벽하게 훑고 지나가는 거니까 혹시 여러분들이 단계 양건이라면 무슨 강자 수학의 왕도라고 입에 또 있습니다',\n",
       " '학기 과정은 제가 또 이아영 생 심지어  이렇게 세 분이 수학의 왕 도산의 다 찍어보았고요',\n",
       " '약간 뚱뚱한 사람을 좋아하시면 제 수업을 들으시면 돼요 주 이렇게 신림 한 남자 샘을 원하시면 신격 선생님 색 수업이 되십니다',\n",
       " '그리고 여자 샘을 원한다 그러면 이아영 셈을 주시오 세서 갑자 못생긴 명에서 있었다',\n",
       " '이 왜 그때 느 어 달러에 걸로 입에서 해보면 그 막처럼 취했기 때문에 말씀드린 것도 오해하지 마세요',\n",
       " ' 하거든요',\n",
       " '심적  메이 않습니다',\n",
       " '그 해명이 만들어낸 강자가 수학의 왕조상 그거 들이시면 파멸의 여러분  대학교 학년 가죠',\n",
       " '완벽하게 내신대비까지 할 수 있습니다',\n",
       " '그걸 들으셔야 되고 고이라면 학기가 좀 수학의 왕도하라는 건데 그거는 연아 땅 잘 해놨어요 가지고 아 맨 앞에 집합 그다음에 명제 이쪽 파트 이하영의 하셨고요',\n",
       " '함수 파트는 심적 생의하셨고 맨 마지막에 경우에서 밭에는 제가 또 강의해 온 게 있으니까 그렇게 또 공부를 해 시면 될 거라는 말씀을 되겠습니까',\n",
       " '이 강좌는 중  고  고  재수생 을 양한 가식 고 을 위한 강좌 엔 아이라는 말씀을 다시 한번 드리면서 인수분해 락을 뭐 여성의 민소매 아까 공부했었잖아',\n",
       " '아 그래서 제일 중요하니 수분이 가 고차 식의 인수분해 내 구체적인 수반되는 인수 정밀한 걸 이용해야 되거든요',\n",
       " '그래서 이 부분에 대해서 조금 전에 항 등식을 공부한 다음에 다시 이수근이를 가게 돼요',\n",
       " '    입주에 더러운 몇 가지를 다시 한번 정리해 보면 우리 전개 공식을 하면 이은숙 내고 식을 않은 거나 마찬가지잖아',\n",
       " ' 작업 요구 한번 해볼 거 고요  플러스 와이파이 제트의 전체적 누구 한번 전개하는 방법에 대해서 다시 한번 생각을 해보도록 하고 그다음에요 거 네 여러분  번의 공식으로 반드시 알아 두라 고 했잖아요',\n",
       " '그 다음에의 대해서 해주고   해주고 요 정도까지만 연습을 조금만 해주고요',\n",
       " '아 그다음부턴 여러분 곧바로 공식으로 인쇄하는 방법에 대해서 설명해 정도로 같아요',\n",
       " '여러분 이거 정리하라고 뭐 어떻게 하나요',\n",
       " '예 해버려 예 예 번이 한 번의 한번 얘 번 되세요',\n",
       " '이렇게 격에 따다 땅 땅 땅 땅 땅 따다 따다 시 이 자해 번 한번   콜 뭐라 그래 덱스 제고와   한 번에  한 번  두 번씩 이자   제곱  만 집 오 그럼 거꾸로 얘 이렇게 밖으로 가지고 뭐라 이걸 인수분해 라 그러니까 앞으로 이런 문제가 나오면 아기 이렇게 처리하는 거야',\n",
       " '이걸 보고 이거라는 걸 금방 알 수 있나요',\n",
       " '어려운 사실 그래서 이런 얘기는 냄새를 좀 맡는 거야',\n",
       " '그냥 개  조합이  일인데 이것만 가지고 예를 알게는 좀 힘들다고 불러 이건 기본적인 니까 알 수 있겠지만 조금 어려운 일이야',\n",
       " '그래서 이런 걸 이유 두 번 할 때는 어떻게 해주면 해주는 게 좋냐며 뇨',\n",
       " '이런 거는 꼭  그건가 프라이어 해보는 거야',\n",
       " '아따  무슨 말인지 모르겠습니다',\n",
       " '이쪽을 보시죠',\n",
       " '첫 번째 문제를 보시면 무슨 말인지 알 수 있을 때때 이것은 기본 핵심 문제는 여러분이 직접 해보시고 여러분 여기에 이번 문제를 보십시오 언어이건 보고 인수분해 가 곧바로 되는 사람은 지구상에 없습니다',\n",
       " '그래서 노 발이 더 쌀 돼 에디스  아영어 넘어올래요',\n",
       " '애절 수는 에이즈 소프트웨어 디스 이걸 보자마자 곧바로 이 문제를 풀 수 있는 사람은 아무도 없다',\n",
       " '그가 어떻게 보니까 냄새를 맡는 거야',\n",
       " '이걸로 잠깐만 여쭤보세요',\n",
       " '이거 없이 아니까 냄새 받는 거야',\n",
       " '혹시 따른 양 땅 땅 땅 땅 땅 따당따당 게 아닐까 걸려 멋져 안되는 야매 패자  지금 꼬맹 기회가 세지고 뵙기로 의심해 봐라',\n",
       " '이렇게 말씀드릴까요',\n",
       " '맨 앞에 도 세제곱이고 맨 교회도 주 그럴 때는  의심해 봐라 낸 앞에는 뭐 해지고 병 시 이자 이렇게 해주고  메뉴에는 뭐해 주고의 세제곱 혹 그럴 때는 의심의 모르 거야',\n",
       " '얘가 되는지 그래서 되면 좋은 거고 안되면 말고 이거예요',\n",
       " '진짜요',\n",
       " '그래서 따다닥 만 내 땅 따다 땅 하면 따다 하면 쓰지만 땅 하면 이와이니까 이상에 그리고 많이 오버 줘 땅 따다 하면 이게 사가 되고 숫자 먼저 보심 되잖아  심의 애교 아 저거 마조 따라 자가 면이 맞이 뽑아 줘',\n",
       " '그래서 얘는 최종적으로  플러스 그 이유와 이에 대해서 새 이렇게 쓸 거예요',\n",
       " '됐어요',\n",
       " '아아 이렇게 써 꿀로 가는 과정은 의심의 군 언제 의심하라 리스 그 중요한 말이 시 자 매 앞에도 세제곱 맨 주에도 대주고 뵐게요',\n",
       " '얘 뭐에 조 그러니까 이 와인이 전쟁해주고 보니까 여기 마르게 화해줘',\n",
       " '그러면 이 문제는 그거 아니야 미쳤구나',\n",
       " '요 치료한 것을 해주고 수가 아니잖아요',\n",
       " '어서 이드  접수가 나오고 여기도 조 겁이 났을 때 그때는 의심해 봐라 이런 뜻입니다',\n",
       " '두 번째 요것도 아나 보죠',\n",
       " ' 플러스  플라스틱 태  완전 제법인데 항 개짜리 사망 시 왜 지금은 제법 자극적 밑단 테니 짠 텐바이텐 창 경 나십니까 제의 자의 제곱 파이의 제법 제 테 제곱이 찬 자료 올까요',\n",
       " '헤이 작 예수 아이 또 유아 이제 또 이제 섹스 여기까지 그러니까 예 이쪽으로 바꾼 걸 뭐라고 것이자  내라 그래요',\n",
       " '어 당시 글 단 한 것이고 바꾸는 거 합 차 골을 곳 꼴로 받고 있는 거예요',\n",
       " '왜 이러나 먹겠네요',\n",
       " '또 냄새가 나는지 보는 건데 그런데 냈다',\n",
       " '아우 되새기며 뒤로 께요',\n",
       " '냄새가 나잖아요',\n",
       " '냄새 하잖아요',\n",
       " '어떤 냄새 제곱 제법 제곱이 보이면 이것도 신화를 마음이 이렇게 보는 거야',\n",
       " '얘는 뭐니 조금 있네요',\n",
       " '엑셀 이브 얘는 뭐 이 직업인데 와이어 작업이죠',\n",
       " ' 지태 지금 뭐 지금인데요',\n",
       " '이제 택연 체제 법이니까 혹시나 본다 나 연결부가 나빴어요',\n",
       " '원래는 전부터 플러스가 놓은 게 아니라 요렇게 안 해 보러 가기 어떻게 그래  이제 테 이렇게 놓고 출발해 볼까요',\n",
       " '그냥 내가 어떻게 내 앞에 것부터 제 분해 각 맵 제공해 봐',\n",
       " '이거 좋아의 시 이자 역시 급 외주로 사적 없이 이렇게 똑같이 할 이렇게 제곱 만지고 사실 직업이 찌 앉자니까  와우 아후  어와 우 와우 와우 와우 타 형들 보프 하실 수밖에 없겠군 끝 이렇게 처리하는 거 예 생간 냄새 맡는 거예요',\n",
       " '열차 이렇게 써 써 드릴게요',\n",
       " '냄새 냄새 놀이 아세요',\n",
       " '그런 거 무나 널 너무나 너를 사랑했었어 그만큼 널 보내야 했어 그 그늘 보시죠',\n",
       " '넌 모를 거야',\n",
       " '근데 굉장히 그들이 진짜 좋으니까 제가 억 안테 소개를 살짝 시켜 드릴게요',\n",
       " '그래서 진짜 좋은 거거든',\n",
       " '아 없나 보다 정말 아깝다 쓸 텐데 으 그만 춥게 제가 있습니다',\n",
       " '음악  음악넬 있어야 음악 그랬어 느   이제 왔어 음악  득남 왜 유리 날은 진짜 그랬어 말아줍니다',\n",
       " '으 아 지금 음악   음악          음악 냄새 이 모습을 보면 아 혹시 이해가 아니까 냄새 맛 좋아 겨운 된 지가 자 좋아하고 냄새는 이것도 냄새나 저는 언젠가 냄새 한다고 매일 앞에 것도 주 고백 마지막 곳도 주 보일 때는 멀다 따라 냄새가 타라 이런 말씀을 드리고 또 여러분들 지금 예수 분의 중에서 공식으로 인수 분해 하는 방법에 대해서 말씀을 드리고 있고요',\n",
       " '연습하고 계십니다',\n",
       " '그리고 이런 예미 되었습니다',\n",
       " '앞선 시간에서  짜  짜 개 있는 거의 인수라는 뭐 이건  전개로 외우지 말고  수들의 공식으로 기억하라 고 했잖아요',\n",
       " '살짝 감자 개 있는 거인 수레는  자살자 두 개를 대고 그대로 쓴 되십니까',\n",
       " ' 플러스  뒤에 있는 가을처럼 방법은 여기를 바라보면서 기억나십니까',\n",
       " '제곱 앞에 꺼지고 곱해서 뭐 바꾸고 될 것이고 앞에 꺼지고 판매 네크  제곱 곱한  도 바꾸니까   뒤에 꺼지고 파니까 플러스와 이에 대해서 제곱 이게 바로 첫 번째 연결부가 플러스  던진  는지 무조건 성공합니다',\n",
       " ' 짜 자 개는 와인 수그린 자 자 없앤다면 그대로 시이 작    개인전 가로를 채우는 방법은 앞의 거 제 겁 곱해서 부바 굳이 그 똑같으니까 앞에 꺼지고 팜의 주거비 줘 앞에 꽃도 있고 곱하면   와인 데고 바꾸니까 플러스  뒤에 거는의 제곱이지만 제곱 타면 플러스로 같을 테니까 요렇게 되는데 되죠',\n",
       " '요런 느낌 이것도 보이고 정말 보이잖아요',\n",
       " '외에서 해주고 또 얜보니까 그 사망의 전 제 조 법이니까 사마의 전체적으로  와 이해해 줘 법이니까 요런 느낌으로 처리할 수 있을까 얘기해야 와 우  짜 자 개인 거 있으면  짝  짜 개 없앤다면 그대로 써라 그대로 써 시작  플러스  말이야 뒤는 너를 재원 방울은 아끼꺼지고 곱해서 무하 꾸어 뒤 끝이고 앞에 꺼지고 곱하면   크고 팔이 타사 맥스와인데 뭐 바꾸니까     돼 커지고 구해 제모 구해주고 구해주고 끝 웨어 너무 잘해 열어보니까 완벽한 것 같아요',\n",
       " '난 자 여러분이 비상 이치에 좋아요',\n",
       " '조금 더 심한 냄새도 맡을 수 있겠습니다',\n",
       " '나 이거 냄새나는데 저는 냄새를 합니다',\n",
       " '염료 됨 합니까 남이나 포토 포엠 흘러갑니다',\n",
       " '뭐야',\n",
       " ' 접했고 와  지급했고  플러스 좋겠습니까',\n",
       " '   플러스  혹시나 이게 아닐까',\n",
       " '이거 하나로 보는 거죠',\n",
       " '잡으세요',\n",
       " '예전 하셨어 예전 하게 어 예전 파리가 어 이 쫙쫙 더 아 있자',\n",
       " '우와 이 쫙쫙 봐 다 맞았어 끝 답 뜻 탈이야',\n",
       " '이렇게 써요',\n",
       " '그런데 조금 보기가 싫으니까  하게 있으니 뭘로 써 준 게 좋아그렇죠',\n",
       " '가로 안에 살짝 정리의 다듬어주는 해줬지',\n",
       " '이렇게 처리하시면 되는 거야',\n",
       " '이렇게 소재가 이렇게 써 때는 사실 내 일반적으로는 여러분 대가식을 줄 쨈이 이렇게 이렇게 답을 워낙 에지 아니야',\n",
       " '아니야 이렇게 다뤄야겠지',\n",
       " '그런데 여러분 개 살 때 항상 요런 느낌으로 냄새가 나 차라리 지그 아큐브라서 아이리 여러 개 간다는 거야',\n",
       " '선생님 이 반이며 이번 도 마찬가지 이에요',\n",
       " '이 먼저 마찬가지라 국시원 그럼 이번만 내어 선생님  제 호 최고급 차 경계 일도  적 얘도 세제곱이니까 혹시나 옛 앞에 꼬고 얘가 되게 아니까 그래서 여기 혹시 아닐까 생각해 보는 거야',\n",
       " '냄새를 맡았어요',\n",
       " '그다음에 이렇게 가는 거지',\n",
       " '이것의 주고 또 따다가 노희영 있어삼다 담다 오역이 땅 따다 우왓 따다 와때으 이거  안테 또  아름다운 결과를 원하신다면 유 캔 다듬다가 영어로 뭐예요',\n",
       " '이해가 이를 나니까의 줘 세제 검색해다듬다 맥 그대를 야  맥 다를 거야',\n",
       " '언제나 이렇게 예쁘게 다듬어 수 있다는 거죠',\n",
       " '되죠',\n",
       " '아 좋아 한번 가죠',\n",
       " '한번 놀러 갔다 차  자극에 있는 건 인수 그린 것 같은데 여기 도살자 있고 여긴 자가 있으니까 짝  짝 되겠는걸 인순이는 차 자 없앤다면 그대로 더 그대로 쓰니까 아펙스 브라질이 야 하나요 뒤에 게임이에요',\n",
       " '그다음에 연결 보호는 차 살짝 없앤다면 그대로 있는 거니까 플라 쓸 거고요',\n",
       " '그다음에 뒤에 있는가 롤의 어떻게 만들라고 했냐면 시 이 작 앞에 꽃의 덮치자 오페 서모 바꾸는데  과를 곱하면  플러스 부어 바꾸니까 그다음에 됐고 제국 파랑 가니까 그래서 이 끝 그렇게 그런데 아름다운 결과를 원하신다면 다음과 같이 쓰는 게 아름답지 않겠습니까',\n",
       " ' 더하기 은이니까요',\n",
       " ' 에 대해서 제곱이고 장에서 덱스 빼니까  되잖아  이거 없어졌는데 플러스 크기 있습니까',\n",
       " '최종적 인가 깨끗 이런 느낌으로 처리하실 수 있다 엘레강스 하게 이렇게 정리해 주시면 되지 않을까라는 말씀을 드리면 여기까지가 공식에 대한 인수되었고요',\n",
       " '오늘의 마지막 이야기 않아도 할 텐데 그것이 바로 너무나 너무나 소중하고 중요한 것들이 가서 여러분에게 또 칠판 한번 씌우고 뭐지  실파 한번 치우고 들어가 보도록 하겠습니다',\n",
       " '여러분이 또 들려주고 싶은 노래 중에서 문 따님에 노래가 있어요',\n",
       " '잠깐만 들어볼까요',\n",
       " '자 책방에서의 음악 힘내서 초기에 어떤 학창 시절에 서 스 특별히 기용하는 것 좀 꺼 같아서 더 쉬울 착해도 줍다 개요 아카이브 폭탄은 홍대 좀 세대는 잘 하던데 혹시 잘해서 투표 이만기 네 그렇죠',\n",
       " '더 한거 같아서 여러분 눈치채지 모르겠지만 저는쯤 이렇게 그 언플러그드에 뮤직을 되게 좋아해요',\n",
       " '그 말이 케 막부 것보다는 이렇게 이쪽 음 전에 그 융단 다니니 했었던 노래 또는 뭐 어 여성  레비 시 하는 그런 노래 피아노 나 그런 그 기타 통기타 가지고 트는 약제 해직자 돼요',\n",
       " '이제 장범준 시 라든가 아시죠',\n",
       " '그 뭐 여수 밤 버터 먹으러 너 아니면 키 김건모 시간은 피아노만 가지고 하는 거 있잖아요',\n",
       " '허구한 날 매일 이런 거 말고 그냥 피안으로 그 애가 나를 떠나고 다 이런 거 정권들이 되기 좋아하거든요',\n",
       " '혼자 있을 때도 조용한 노래 듣고 그래서 그래서 우리 그에서는 여러분 살짝 여러분에게 제가 추천해 드릴 만난 노래를 가지고 같이 한번 오프닝 다 뭐 사용을 해보고 어제 방송국이라서 예 저작권 협약에 어차피 다 되어 있거든요',\n",
       " '그래서 짧게 짧게 나만 몇십 초 정도밖에 안 쓰겠지만 여러분 장같이 한번 음악을 통해서 여러 분양 공감도 하고 싶고 그런 바 음 그런 마음의 저희 그곳도 이거 이거 앉아 이거 안 되는 거 아니에요',\n",
       " '그 최선 보이 우선님여기 몸 잃었어요',\n",
       " '오 이거 촌스러운 거예요',\n",
       " ' 이거 볼게요',\n",
       " '이 옷에 포인트 미라  여러분 거예요',\n",
       " '제가요 살 때요',\n",
       " '거기 그  하신 분 저희  타신 분이 저렇게 세탁소에 막히게 꼭 말씀하셔요',\n",
       " '이것의 텍스트 얘기 안 하고 이거 다 끊어 버리면 지금 이 순간 이거 지금 산지 년 되는데 내반 세탁 때가 깨끗이 닦아 벌씩 이거 이거 짜리 싶었던 핵  이 핵심이겠지',\n",
       " '이거 완전 디자인이 멈춰 꽃이 수어쩜 그 디자이닝 어 이거 묻은 거 아니야 디자인 야아 준 짤은 얘기할 건데 어떻게까지 시간이 운 법 된다면서 진짜 어려우니까 잠깐 얘기하고 다음 생까지 이어질 것 같은데 얘기 다시 알라 그래요',\n",
       " ' 를 그리게 회 볼게 아   일로 나한 어어어 떨어진 야 얘 다리를 쓰면 좀 이상하잖아   년   일로 나루 나누어떨어지는 이날과 똑같은 말이 뭐라 그랬어 노 나누면 시작 나머지가 이 해 되죠',\n",
       " '그다음에 또 알아   일을 시작 인수로 같았다 하는 말이지',\n",
       " '아 왜 얘기잖아요',\n",
       " '앱 배필을  슬론 아론 떨어진다는 얘기를 늘    를 빌어 다룬다',\n",
       " '에잇 엄폐 몫을 교파 고 나머지를 더 한다는 데 목숨 모르니까 비어 주더라도 나머진 이래 매 지워도 되죠 보니까 나누어떨어진다 이 말이나 나머지가 이 다이 말이나   가   곱하기 어떤 걸로 된다는 얘기가 그런데 얘기 아니에요',\n",
       " '에프엑스가 이렇게  웬 단 뜻일까요',\n",
       " '이거 일드 야',\n",
       " '뭐야 아니에요',\n",
       " '얘를  두고 얘도 일쑤고 일들 한 것은 곡으로 연결된 각각을  들어보니까 결국  플러스하라는 얘기는 이게 바로 첨부된 결과물이 한건 똑같아 그러니까 뭘  들어갔는데 시작     들어간 된다',\n",
       " '이 말과 똑같은 거예요',\n",
       " '그래서 여러분 이런 말을 쓸 수 있는 거야',\n",
       " ' 에 트는 잘 들어 이제 끝났어   일에 인수로 갖는다라는 얘 기는라는 말로 이했으니까   일로 나눠서 나로 떨어진다는 얘기니까 예의로 만들어 그 값을 대입하면 나머지가 생기고 그게 얼마나 에 똑같이 시자 너 희라는 얘기를 또 봤다',\n",
       " '이 거지 맞아요',\n",
       " '그 거래 시 한번 닦으면   자라 좀  일이 영이라는 말을 가지고도 거 끌려가서 일이 이면 이는   이래 일수록 않는다라는 것 그 얘기를 따라 반드시 자를 인수하면    인수로 가진다는 것까지도 이야기할 줄 아셔야 된다는 거죠',\n",
       " '이거를 사람들이 뭐라 그러냐',\n",
       " '이거를 예정이라고 해요',\n",
       " '아 뭐라 된다고 지점 일정해야 뭐냐면   에다가   에다가 일 대입해서  댔다',\n",
       " '그 얘기 면  머리 긴 들어간다    인수가 안된다 개입해서 연기했다 그러면    일수로 받는다나 이 라 스를 갭에 서영 됐다는 얘기는 에프엑스는 시작  플러스를 인수로 갖는다  레드의께서 영대 따른 이기는 아아  안에 뭐가 들어 있다 플러스 오라는 일수가 들어 있다  플러스 고를 인수로 갖는다 라는 뜻과 마찬가지 라든가 그것을 교화 성이 어떻게 됐냐 면  파이 콜 제로이며 너 알파를 대입해서  됐으면 아이 일  데이 되세요',\n",
       " '무 됐으면 알파를 대입해서 됐으면  낼 몇 년 멀리 줄 안되지 자   알파를 인수로 갖는다는 이것이 바로 그 유명한 무슨 정리 인수 정리라는 거야',\n",
       " '오늘은 여기까지 공부할 거야',\n",
       " '원래 그 정도 있으면 알파 대입해서  됐으면 멀린 속한다   인수 가능 거야',\n",
       " '만약에  대입해서 영대 짜다 여 그러면 이를 뭐를  들어가는데 시작   이를 일수록 않는다 라는 거지 바 방 잡아 아 이 개까지  됐어',\n",
       " '그럼 멀리서 시작 벅스를 인수로 갔겠지',\n",
       " '여러분 바바 예를 이 수분이 아래 어렵지',\n",
       " '요거 됐네',\n",
       " '근데 이럴 때 뭐라고 하냐면 뭐 데이트에서  되는지를 보는 거 여러분 여기다가 야백스 대신 일을 한번 대입해 볼게요',\n",
       " ' 신이를 개입하면   사더라도 얼마야 후 여러 모델의 패턴이 데 패턴이  잊어라 대입해서  됐다는 것은 얘네 멀린 그러하듯이 자의  일을 잃어 가는 거니까 아 얘를 인수 분의 최종적인 완벽한 결과로 모르더라도 그 옌 수준의 어느 하나가  일이라는 것을 찾아냈다',\n",
       " '이거야',\n",
       " '그러니까 뭐 만 더 찾아내면 끗이 있다 시작 여기만 더 찾아내면 끝이라는 거지',\n",
       " '이거 어떻게 쳐져요',\n",
       " '이거 이렇게 살 거야',\n",
       " '예를 아 얘로 나름의 가버 시작 뭐 키고 나머지가 명입니다',\n",
       " '흠 질에서 얘 래 예로 나누면 애가 목 중 하다 보니까 여러분 차 식으로 다른 몫일 구하는 제 심 방법 뭐랄까 저희 째 그 애가 저리 째 볼 여기서 마무리 짓는 거예요',\n",
       " '얘를 예로 나는 몫이 여기 니까 조리 째 법     말해  왜 얘는 여러 앉아 있었다 내려가고 곱하고 더하고 곱하고 더하고 곱하면  이거 영 환자가 안되겠지',\n",
       " '여기는 왜 나머지  발병하니까 그이 자리에 들어갈 거 뭐 요 이거 아니 오해 보러 가시죠',\n",
       " ' 법   클럽 그래야 정 재계 절어요',\n",
       " '이창 개서 차 기상 사니까 보세요',\n",
       " '여러 미술 했잖아요',\n",
       " '너무 행복하지 않아요',\n",
       " '어 이거 이인수 정도의 영화를 보니까 앞으로 곧 자식 예수가 어떻게 하느냐 차신 차시 긴 질문에는  한번 되고 이 한번 언제 연결 질문 거예요',\n",
       " '그래서 개에 대해 오염돼 있다는 얘기는    인수로 가는 거고 괜한 거 못 치니까 조립 째 법을 이용해서 풀면 되는 여러분의 인생에 한 번 더 되자 뭐야',\n",
       " '  이에 대해서   일이니까 최종적으로   이 두 개 있으니까 답 쓸 때는 어떻게 써야 그렇지',\n",
       " '이렇게 쓰는 거야',\n",
       " '여러분 정말 신기하지 않아요',\n",
       " '우리 예수했어요',\n",
       " '당시 글 고 꿀 단 항시 그로 바꿨습니다',\n",
       " '이게 끝이야',\n",
       " '쪼금 알 것 같으면서도 드렸죠',\n",
       " '다음 시간에 여기에 관련된 문제 풀고 곧바로 복서로 들어가도록 하겠습니다',\n",
       " '수고 많이 하셨습니다',\n",
       " '가지입니다',\n",
       " '쩔 친구들 우리 드디어 대왕의 복잡한 식의 인수분해의 파트 추가되겠습니다',\n",
       " '선생님이 지난 시간에 요 내용 진짜 어려우니까 좀 마음의 준비를 하고 와라라고 이야기했는데 혹시 마음의 준비 없이 그냥 클릭한 친구들이 있다면 끄세요',\n",
       " '이게 마음의 준비를 진짜 하고 와야 내 득 비자 너 마음에 드 라 와야 되니까 뭐야',\n",
       " '젖어 이제 마음의 준비됐어 영생이 뭐 들어오세요',\n",
       " '약간 이렇게 어젠 친구들만 우리 친구들은 강의를 들어 주면 되겠고요',\n",
       " '혹시 이 복잡한 식의 인수분해 가 어려워서 클릭한 친구가 있다면 요가 미가 맞습니다',\n",
       " '선생님 이로 나누어서 이야기를 했는데 여기가 진짜 어려운 부분이고 선생님이 지난 시간에도 이야기했지만 여기 있는 중학교 학년 이렇게 통틀어서 가장 어려움 파트이기도 하고요',\n",
       " '더불어서 요 내용들은 고등 수학의 그대로 나와있다 선생님이 고상하게 거제의 가지고 오면 똑같은 문제가 찾아낼 수 있다',\n",
       " '그래서 요것이 어 준 수학이기도 하지만 또 고 헤일 수 아니기도 하다가는 거 우리 친구들 같이 알아줬으면 좋겠고 요 고등학교 학년 친구들도 유광 예를 들어도 괜찮습니다',\n",
       " '자 그럼 이제 본격적으로 복잡한 식의 인수분해  이제 시약을 해 보도록 할 텐데 좀 선생님이 억에 아파트를 나눠 놨으니까 그래서 이 파트를 나눠 넣기 전에 너희들이 즉 기억해야 되는 건 뭐냐',\n",
       " '얘네들은 일단은 내가 턴 히말라야 됩니다',\n",
       " '클로버 포인트 볼 거 편 다 줄게 야 근데 이드라',\n",
       " '우리가 만약에 진단 얘기를 한다고 생각해 봐반해서 즐 다 되기를 할 건데 남자애들 여자애들 일단 나눠 거죠',\n",
       " '평가를 길을 했어 알판 그렇게 했나 중 자리를 해서 그러면 뭐 모든 학생들의 다 그런 건 아니지만 남자야',\n",
       " '된 그 조금 예가 섀도 세잔의 요새 애들에 비해서 그러니까 국회 마늘 약간 여자애들 반발했겠죠',\n",
       " '오금 제니 거의 꼭 어떤가요 너 다시 자요 이럴 거 아니야',\n",
       " '그치 그래서 약간 네가 일으키자 교수 대체 주자 비해서 좀 공평한 할렘 적절하게 속과 되지 않겠니 인수분해 해서 복잡한 식의 인수분해 할 때 우리의 얘네들을 적절하게 섞어야 되는데 및 호 갈리기도 했다 가 대로 가르게 더 했다가 아니요 조금 또 다른 방법을 쓰기 됐다가 파트를 나은 살 건데 너희들도 이 생각 한 순서가 아앗 대로 한번 나눠볼까 반띵 해가지고 데이로 남았을 때 인수분해 고대나 안 되나 기 스태프 보험 했다',\n",
       " '크 리 스 템 원을 안되면 두 번째  대로 한번 갈라 볼까 익어갈 근데 대로 도안 갈라진 상황이면 마지막 스텝을 써야 되는 건데 그러면 첫 번째 스텝부터 언제 보여드리도록 할게요',\n",
       " ' 데이로 가르는가를 건데 이렇게 예를 들어서 이자   플러스     그 생각이 나왔어라는  베이로 갈라 볼 거야',\n",
       " '근데 대로 가를 때 우리가 무턱대고 막 가르마 안되고 내 머릿속에 뭐가 있어야 되냐에 난 왜 이걸 가르면서 공통인 술을 만들어 낼 거야 하는 게임 어리숙한 택이 있어야 돼요',\n",
       " '그래서 만약에 내가로 갈라 있는데 공동 민수가 안 나온다',\n",
       " '그러면 답이 안 나오는 것이라 자',\n",
       " '그럼 한번 해 볼게요',\n",
       " '자      돼요',\n",
       " '근데 여기서는 공통인수를 보통 두 번 해',\n",
       " '그래서 공통 예수를 두 번 묻는다 가 코에  아픔 엇 자금 여기 봐봐',\n",
       " '이렇게 한 생 님이 얘 내  얘네 둘 이렇게 갈라 볼게요',\n",
       " '그럼 요렇게 명을 가르는 앞에 있는 애는  가 공통 있었잖아 같이 금  로 묶어서  플러스  이렇게 나오겠지 그러면 나머지 명을 찔러 보여서 그 생각 해야 돼 아실 있는데 비 플러스를 나와 된 어떻게 방법이 없을까 이익의 모을 수가 있어요',\n",
       " '그래 예를 째려봐',\n",
       " '키프러스를 만들 수 있긴 있어   만들 수 있을 거 같잖아 묶음 되사겠지 선생님은  묶고 과별 거야',\n",
       " '그럼 뒤에 있는에 빅플러스에 생겼네',\n",
       " '오케이 독 나는 목적 달성한 거야',\n",
       " '공동 인수 가 만들어져 짜 나 공동 있어 어두운 데  금단 이제 어떻게 할 거야',\n",
       " ' 플러스 일로 무 꿀 거야',\n",
       " '그 여기 공통 인수가  일이었으니까 플러스 있는 묶어서 흠 어떻게 되니 앞에서는 누가 나  가 낮고 뒤에선 아무것도 안 남 네 명이나 없으면 안 되고 물어   그래서를 연  돼서 뒤에서 아무것도 안 나오니까 이렇게 써서 인수 분해 가 가 된 거예요',\n",
       " '그런데 예술 촉박한 롤 매너처럼 보이잖아 알파벳 순서대로 조금 나은 예뻐 보이지 않겠니 그래서 이거를 뭐    이렇게 인습을 해야 될까라고 이야기할 수 있는 거야',\n",
       " '근데 두 번째 내어 밥 아이들아 어쨌든 얘네 이게 이도 갈 때는 콩 통행 수감 악법 주범이 된다는 게 포인트야',\n",
       " '그러면 안 선생님의 마찬가지로 이래를 이렇게 이렇게만 가볼게 근데 내 머릿속 뭐가 있어야 된다 공통 인수를 되찾아 내과 이게 있어야 된다고 이게 이렇게 않았을 때 근데 이렇게 두 명을 가르면에   시간아 끝난 뒤 이를 째려보면서 뭐 생 어떤 생각 해야 돼   씨가 나와 될 텐트 화 재벌    가 나왔으면 좋겠다 했는데 얘 누구를 느낄 수 있니 뒤로 묶고 받자  피로 묻고 맡자  플러스 이렇게 나와 공통 민수가 안 나옴 그럴까',\n",
       " '이렇게 무조건 순서대로 묻는다고 해서 공통 있을 것 이 예수 그 내가 다되는 것은 아니다 하는 게 있어요 뭐요 그러면 이렇게 이렇게 이렇게 난 되는 거 있는지 짝이 아닌 거야',\n",
       " '다른 짝짝 찾아가야 돼',\n",
       " '그러나 커플을 내가 다시 만들어 줘야 되겠죠',\n",
       " '어떤 커플을 만들어 줘 공통해서 나올까',\n",
       " '그래서 선생님 이번엔 요렇게 무겁게 일상 이자로 묶어 볼게요',\n",
       " '그러면 사 머드겠니 제곱   제곱 이상 어떻게 묶일 수 있겠니 이사는  씨가 동야 캐치 그러면 이사를 묶으면 이로 묶어서 선생님이 말라 씨로 그러면은 앞에서는 누가 남아 앞에서는  가 낮고 뒤에서는  씨가 묶어져 나갔으니까 플러스 피가 남겠죠',\n",
       " '왜 그랬니 그럼 않으나 앞에 두면 두고 예수 분의 가능하잖아 제곱 제곱 차니까      나오겠네',\n",
       " '그다음에 꿈 선수 제벌 세 회 아마 섭외를 해야 된다고 그러면 요거 어떻게 된 거야',\n",
       " '앞에 있는에는    이렇게 되고 뒤에 있는 애가  씨의   이렇게 유수분을 했으니까 공동에서 찾았네',\n",
       " '누구 피로 찾았구나',\n",
       " '끈다 이래도 다시 먹는 거야',\n",
       " ' 없는 거야',\n",
       " '그럼 어떻게 남아 앞에서는   피가 나나요',\n",
       " '   뒤에서 누가 남아요',\n",
       " ' 씨가 남는다',\n",
       " '그래서 이렇게 인수분해 가 될 거예요',\n",
       " ' 카세인 네 아 그래서 아  데이로 묶을 때는 포인트가 보다 국토 예수를 찾았는데 그게 나의 목적이고 그 목적을 달성해야 예수 분해가 가능하다 아니에요',\n",
       " '그런데 그냥부터 빼고   번  석원 이렇게 묻는 것은 안 될 수도 있으니까 이렇게 딴 되면      웃음이 거 보는 거야',\n",
       " '네 이제 요기 안 되면 채 두 번째 스텝 세 번째 탭 갈 건데 가기 선생님이 조금 미리 이야기하자면 가지 바쳐',\n",
       " '그러니까 이게 요 방법을 몰라서 못한 친구들이 있는데 선생님이 이제 여기 번 까지 가 짠 네 스프레이 정말 많은 학생들을 가르쳐 보고 정말 대치동에서 도 좀 어썸 한다는 애들 짜 많이 가르쳐 봤는데 여기에서는 처음 배울 때 누구나 다 고려해 내가 수학적인 조금 감각이 있어서 한 저는요',\n",
       " '그냥 탁월한 립과 같아요라고 이야기해 써서 아이 저도 얘를 처음에 왔을 때나 어려워했다',\n",
       " '고 그러니까 너희들이 요 내용 배우면서 내가 얻어 조금 모르겠네 있고 좀 어렵네 한다고 이걸 자 차가 필요 없고 하던 되게 평범한 사람이 분하다 되게 지극히 정상적인 거구나',\n",
       " '이렇게 생각해 준 돼요',\n",
       " '이거 어렵다고 해서 막 논을 막 써 포기해도 그런 거 절대 아니다',\n",
       " '자 그래서 대로 갈라 놓는 데 안된 경우 생리 언제 이렇게 와봐 예서 쌍의 개 짜리인데 이렇게 묻거든',\n",
       " ' 로 묶으면   다  가너 요즘 뭐 공통  수도 없어',\n",
       " '그래서 이렇게  유리막 해서 안될 것 같은데 이렇게 묶어 봤죠',\n",
       " '플러스    꼭 해봤자 안된다고 그 그럴 땐 어떡해야 되면 대로 가 잘 아니까 배인 그네 대에서의 포인트 뭐냐',\n",
       " '합 차 검색 그럴까 재고 제곱 차 이걸 만드는 게    일품인 돼요',\n",
       " '그 많은 선생님이 예가 문제가 쉽게 나머지 너 냐 면 예 예를 순서대로 케 준다  로지 해 줘',\n",
       " '그런데 한눈에 뼈가 보이고자 아 생각 합쳐서 완',\n",
       " '난 조금씩 이구나 게 딱 보이는데 지금은 잘 안 볼 거야',\n",
       " '약간 어렵게 죽거든 문제를 흠 선생님이 이걸 어떻게 바꿔볼 거냐 순서는 바뀔 해도 순서만 바꿔 깨자 그러면  제곱   와니 플러스사와 이제 곧 게다가에요',\n",
       " '그러면 대로 봤을 때 이렇게 명 합쳐서 완전 제곱 시기 얘는 누구의 지고 미미의 제곱이 자나 가운데  벽에 그러면 제곱 제곱 차관 성 됐죠',\n",
       " '그게 어떻게 되니    와 위에 전체의 제곱 회 족해요',\n",
       " '제국 제 차 배 짠 아 그럼 어떻게 한다',\n",
       " '한 번 더 안 한 번 뺀다   플러스 사고까지 정리해 주면 되는 거예요',\n",
       " '이렇게 됐니 아 그래서 대로 묶인 거 그냥  어떤 밥값 얘도 마찬가지로 일에 이어 한번 해본다 처박아 일단 시작은 대로 되는 게 있나 없나를 본 거야',\n",
       " ' 대의 안되네',\n",
       " '이렇게 맞춰 공통 인수 안 나올 거 같고 요렇게 해봤자 공통 민수 역시 안 나오네',\n",
       " '요금 은은 대로 묶어 되는데 선생님이 대 일이든 대의 든 그놈이 그놈의 하더라 큰 거는 어떻게 해야지',\n",
       " '완전 조금씩 만들 수 있을까로 낮 고민하게 명을 뽑아내서 완전 재 급식을 가야 된다고 어떻게 명이 완전 조금씩 될 것 같아 신 테는 이 피 씨의 있겠죠',\n",
       " '앞에 거 제곱 더하기  곱하기 앞서 질 수가 없이 지수 적 없잖아',\n",
       " '그치흐미 배씨가 누구를 압수 지수를 해야 될지를 결정해 주는 거라고 아 그 삐삐 씨를 보면서 아 비즈 씨족을 필요한데 꼭  탑    글자 타 묶어 버리는 거야',\n",
       " '그는  만 빼놓고  제고 빼놓고 뒤에 있는 싹 다로 묶어 버리면 제곱 플러스  제곱으로 시니 포 시아 순서만 바꿔서 이렇게 쓰면 조금 더 잘 보이게  예 아 금기는 거의 전체 제곱이 분한 갈 수 있겠지',\n",
       " ...]"
      ]
     },
     "execution_count": 66,
     "metadata": {},
     "output_type": "execute_result"
    }
   ],
   "source": [
    "texts"
   ]
  },
  {
   "cell_type": "code",
   "execution_count": 68,
   "metadata": {},
   "outputs": [],
   "source": [
    "class CustomTokenizer:\n",
    "    def __init__(self, tagger):\n",
    "        self.tagger = tagger\n",
    "    def __call__(self, sent):\n",
    "        word_tokens = self.tagger.nouns(sent)\n",
    "        result = [word for word in word_tokens if len(word) > 1]\n",
    "        return result\n",
    "    \n",
    "custom_tokenizer = CustomTokenizer(Mecab())"
   ]
  },
  {
   "cell_type": "code",
   "execution_count": 69,
   "metadata": {},
   "outputs": [],
   "source": [
    "vectorizer = CountVectorizer(tokenizer=custom_tokenizer, max_features=3000)"
   ]
  },
  {
   "cell_type": "code",
   "execution_count": 70,
   "metadata": {},
   "outputs": [],
   "source": [
    "model = BERTopic(embedding_model=\"sentence-transformers/xlm-r-100langs-bert-base-nli-stsb-mean-tokens\", \\\n",
    "                 vectorizer_model=vectorizer,\n",
    "                 nr_topics=50,\n",
    "                 top_n_words=10,\n",
    "                 calculate_probabilities=True)"
   ]
  },
  {
   "cell_type": "code",
   "execution_count": 71,
   "metadata": {},
   "outputs": [],
   "source": [
    "topics, probs = model.fit_transform(texts)\n"
   ]
  },
  {
   "cell_type": "code",
   "execution_count": 72,
   "metadata": {},
   "outputs": [
    {
     "data": {
      "application/vnd.plotly.v1+json": {
       "config": {
        "plotlyServerURL": "https://plot.ly"
       },
       "data": [
        {
         "customdata": [
          [
           0,
           "인수 | 제곱 | 분해 | 플러스 | 하나",
           271
          ],
          [
           1,
           "나머지 | 이거 | 다음 | 선생 | 여기",
           237
          ],
          [
           2,
           "예정 | 박수 | 에스 | 어미 | 파면",
           153
          ],
          [
           3,
           "수학 | 중학교 | 공부 | 과정 | 고등학교",
           116
          ],
          [
           4,
           "얘기 | 공동 | 여기 | 이거 | 아무",
           113
          ],
          [
           5,
           "우린 | 준비 | 미라 | 점수 | 오거",
           110
          ],
          [
           6,
           "냄새 | 라지 | 마음 | 양파 | 놀이",
           91
          ],
          [
           7,
           "시비 | 와이프 | 높이 | 공통 | 여기",
           91
          ],
          [
           8,
           "이거 | 그게 | 마지막 | 전격 | 이게",
           89
          ],
          [
           9,
           "마음 | 얼마 | 흑발 | 클라 | 만담",
           89
          ],
          [
           10,
           "집중 | 목표 | 하나 | 여기 | 렌즈",
           89
          ],
          [
           11,
           "절반 | 얼마 | 뭔데 | 이게 | 자체",
           69
          ],
          [
           12,
           "시점 | 죠이 | 누구 | 시선 | 엑스",
           43
          ],
          [
           13,
           "세로 | 가루 | 이게 | 겁니다 | 루트",
           41
          ],
          [
           14,
           "단계 | 댓글 | 다섯 | 가량 | 증거",
           40
          ],
          [
           15,
           "단계 | 관련 | 무엇 | 문제 | 겁니다",
           35
          ],
          [
           16,
           "세타 | 엇각 | 엘마 | 어유 | 정리",
           32
          ],
          [
           17,
           "연속 | 상승 | 양변 | 전체 | 성질",
           29
          ],
          [
           18,
           "소수 | 내용 | 이치 | 다만 | 만능",
           29
          ],
          [
           19,
           "히로 | 오우 | 러스트 | 유류 | 분량",
           29
          ],
          [
           20,
           "경험 | 단원 | 교제 | 브레인 | 로스",
           28
          ],
          [
           21,
           " |  |  |  | ",
           28
          ],
          [
           22,
           "상황 | 화한 | 약본 | 악대 | 최대한",
           27
          ],
          [
           23,
           "예미 | 원칙 | 교과서 | 원리 | 지금",
           26
          ],
          [
           24,
           "양주 | 급수 | 대의 | 이미지 | 이유",
           24
          ],
          [
           25,
           "다섯 | 거지 | 겁니다 |  | ",
           23
          ],
          [
           26,
           "형태 | 복소수 | 가루 | 지금 | 대로",
           23
          ],
          [
           27,
           "의미 | 이모 | 하루 | 사랑 | 시간",
           23
          ],
          [
           28,
           "제곱 | 다항식 | 세제곱 | 네모 | 용제",
           23
          ],
          [
           29,
           "법칙 | 수분 | 분배 | 분해 | 바움",
           21
          ],
          [
           30,
           "연결 | 묶음 | 가운데 | 노조 | 이은숙",
           21
          ],
          [
           31,
           "고지 | 영속 | 덧셈 | 절반 | 용어",
           20
          ],
          [
           32,
           "학생 | 단계 | 중학교 | 질문 | 오늘",
           18
          ],
          [
           33,
           "바퀴 | 반지름 | 궤적 | 원점 | 이탈",
           17
          ],
          [
           34,
           "거랑 | 플러스마이너스 | 가로 | 고분 | 포토",
           17
          ],
          [
           35,
           "천억 | 프로톤 | 반대 | 분배 | 문제",
           16
          ],
          [
           36,
           "통로 | 요단 | 오드 | 목격 | 어서",
           15
          ],
          [
           37,
           "동그라미 | 세모 | 네모 | 더하기 | 계산",
           15
          ],
          [
           38,
           "신뢰 | 조건 | 강조 | 무언가 | 오른쪽",
           14
          ],
          [
           39,
           "주위 | 한국 | 자금 | 겁니까 | 포인트",
           14
          ],
          [
           40,
           "공식 | 여러분 |  |  | ",
           14
          ],
          [
           41,
           "결론 | 요건 | 이제 | 고요 | 그때",
           13
          ],
          [
           42,
           "결국 | 방정식 | 예시 | 얘긴데 | 일반",
           13
          ],
          [
           43,
           "영업자 | 배경 | 건데요 | 매핑 | 가이",
           13
          ],
          [
           44,
           "직교 | 고무 | 극좌표 | 형태 | 표기",
           12
          ],
          [
           45,
           "이쪽 | 확인 | 이것 | 이걸 | 이거",
           12
          ],
          [
           46,
           "대표 | 일까 | 여자 | 관련 | 가루",
           11
          ],
          [
           47,
           "고부 | 뭘로 | 그것 | 이상 | 어디",
           11
          ],
          [
           48,
           "파자 | 렉스 | 해석 | 교과서 | 상황",
           10
          ]
         ],
         "hovertemplate": "<b>Topic %{customdata[0]}</b><br>%{customdata[1]}<br>Size: %{customdata[2]}",
         "legendgroup": "",
         "marker": {
          "color": "#B0BEC5",
          "line": {
           "color": "DarkSlateGrey",
           "width": 2
          },
          "size": [
           271,
           237,
           153,
           116,
           113,
           110,
           91,
           91,
           89,
           89,
           89,
           69,
           43,
           41,
           40,
           35,
           32,
           29,
           29,
           29,
           28,
           28,
           27,
           26,
           24,
           23,
           23,
           23,
           23,
           21,
           21,
           20,
           18,
           17,
           17,
           16,
           15,
           15,
           14,
           14,
           14,
           13,
           13,
           13,
           12,
           12,
           11,
           11,
           10
          ],
          "sizemode": "area",
          "sizeref": 0.169375,
          "symbol": "circle"
         },
         "mode": "markers",
         "name": "",
         "orientation": "v",
         "showlegend": false,
         "type": "scatter",
         "x": [
          8.470338821411133,
          -5.331974506378174,
          10.022634506225586,
          -5.116404056549072,
          -12.496780395507812,
          18.506874084472656,
          5.365651607513428,
          -12.255441665649414,
          11.389780044555664,
          18.37410545349121,
          5.666111946105957,
          1.3159347772598267,
          10.463508605957031,
          5.5222344398498535,
          2.8359525203704834,
          3.3556082248687744,
          17.62067985534668,
          -5.16485071182251,
          5.171065330505371,
          5.6508965492248535,
          3.5614395141601562,
          11.56246280670166,
          17.328231811523438,
          5.465732574462891,
          12.237296104431152,
          11.869441986083984,
          -5.502485752105713,
          5.4512038230896,
          5.539636135101318,
          8.451202392578125,
          3.546617031097412,
          5.7271318435668945,
          3.6363728046417236,
          8.599932670593262,
          17.695178985595703,
          12.344923973083496,
          18.08744239807129,
          17.04937744140625,
          -12.308910369873047,
          1.716192603111267,
          10.90234088897705,
          5.648991107940674,
          3.509734630584717,
          3.0432355403900146,
          17.190980911254883,
          9.895835876464844,
          1.612092137336731,
          1.4300742149353027,
          5.541877746582031
         ],
         "xaxis": "x",
         "y": [
          3.796555519104004,
          7.307440280914307,
          8.293476104736328,
          7.0920515060424805,
          -8.599893569946289,
          -3.0069363117218018,
          -4.33950662612915,
          -8.358521461486816,
          7.96620512008667,
          -3.0011849403381348,
          -2.954408884048462,
          -10.523453712463379,
          8.194001197814941,
          -2.0191903114318848,
          18.90709114074707,
          18.869125366210938,
          -2.4610772132873535,
          7.140379428863525,
          -4.523351669311523,
          -3.664497137069702,
          18.71605682373047,
          7.889086723327637,
          -2.6923625469207764,
          -2.814459800720215,
          7.436538219451904,
          7.696322441101074,
          7.478124141693115,
          -4.289696216583252,
          -1.9597967863082886,
          3.816560745239258,
          18.371034622192383,
          -3.665823221206665,
          18.9760799407959,
          3.6680665016174316,
          -2.5178239345550537,
          7.347368240356445,
          -2.7748382091522217,
          -2.4886319637298584,
          -8.412013053894043,
          -10.123927116394043,
          8.072373390197754,
          -3.2707324028015137,
          18.216949462890625,
          18.957565307617188,
          -2.4814040660858154,
          8.309968948364258,
          -10.228226661682129,
          -10.409567832946777,
          -2.3281707763671875
         ],
         "yaxis": "y"
        }
       ],
       "layout": {
        "annotations": [
         {
          "showarrow": false,
          "text": "D1",
          "x": -14.371297454833984,
          "y": 4.860260081291199,
          "yshift": 10
         },
         {
          "showarrow": false,
          "text": "D2",
          "x": 3.455803871154786,
          "xshift": 10,
          "y": 21.822491931915284
         }
        ],
        "height": 650,
        "hoverlabel": {
         "bgcolor": "white",
         "font": {
          "family": "Rockwell",
          "size": 16
         }
        },
        "legend": {
         "itemsizing": "constant",
         "tracegroupgap": 0
        },
        "margin": {
         "t": 60
        },
        "shapes": [
         {
          "line": {
           "color": "#CFD8DC",
           "width": 2
          },
          "type": "line",
          "x0": 3.455803871154786,
          "x1": 3.455803871154786,
          "y0": -12.101971769332886,
          "y1": 21.822491931915284
         },
         {
          "line": {
           "color": "#9E9E9E",
           "width": 2
          },
          "type": "line",
          "x0": -14.371297454833984,
          "x1": 21.282905197143556,
          "y0": 4.860260081291199,
          "y1": 4.860260081291199
         }
        ],
        "sliders": [
         {
          "active": 0,
          "pad": {
           "t": 50
          },
          "steps": [
           {
            "args": [
             {
              "marker.color": [
               [
                "red",
                "#B0BEC5",
                "#B0BEC5",
                "#B0BEC5",
                "#B0BEC5",
                "#B0BEC5",
                "#B0BEC5",
                "#B0BEC5",
                "#B0BEC5",
                "#B0BEC5",
                "#B0BEC5",
                "#B0BEC5",
                "#B0BEC5",
                "#B0BEC5",
                "#B0BEC5",
                "#B0BEC5",
                "#B0BEC5",
                "#B0BEC5",
                "#B0BEC5",
                "#B0BEC5",
                "#B0BEC5",
                "#B0BEC5",
                "#B0BEC5",
                "#B0BEC5",
                "#B0BEC5",
                "#B0BEC5",
                "#B0BEC5",
                "#B0BEC5",
                "#B0BEC5",
                "#B0BEC5",
                "#B0BEC5",
                "#B0BEC5",
                "#B0BEC5",
                "#B0BEC5",
                "#B0BEC5",
                "#B0BEC5",
                "#B0BEC5",
                "#B0BEC5",
                "#B0BEC5",
                "#B0BEC5",
                "#B0BEC5",
                "#B0BEC5",
                "#B0BEC5",
                "#B0BEC5",
                "#B0BEC5",
                "#B0BEC5",
                "#B0BEC5",
                "#B0BEC5",
                "#B0BEC5"
               ]
              ]
             }
            ],
            "label": "Topic 0",
            "method": "update"
           },
           {
            "args": [
             {
              "marker.color": [
               [
                "#B0BEC5",
                "red",
                "#B0BEC5",
                "#B0BEC5",
                "#B0BEC5",
                "#B0BEC5",
                "#B0BEC5",
                "#B0BEC5",
                "#B0BEC5",
                "#B0BEC5",
                "#B0BEC5",
                "#B0BEC5",
                "#B0BEC5",
                "#B0BEC5",
                "#B0BEC5",
                "#B0BEC5",
                "#B0BEC5",
                "#B0BEC5",
                "#B0BEC5",
                "#B0BEC5",
                "#B0BEC5",
                "#B0BEC5",
                "#B0BEC5",
                "#B0BEC5",
                "#B0BEC5",
                "#B0BEC5",
                "#B0BEC5",
                "#B0BEC5",
                "#B0BEC5",
                "#B0BEC5",
                "#B0BEC5",
                "#B0BEC5",
                "#B0BEC5",
                "#B0BEC5",
                "#B0BEC5",
                "#B0BEC5",
                "#B0BEC5",
                "#B0BEC5",
                "#B0BEC5",
                "#B0BEC5",
                "#B0BEC5",
                "#B0BEC5",
                "#B0BEC5",
                "#B0BEC5",
                "#B0BEC5",
                "#B0BEC5",
                "#B0BEC5",
                "#B0BEC5",
                "#B0BEC5"
               ]
              ]
             }
            ],
            "label": "Topic 1",
            "method": "update"
           },
           {
            "args": [
             {
              "marker.color": [
               [
                "#B0BEC5",
                "#B0BEC5",
                "red",
                "#B0BEC5",
                "#B0BEC5",
                "#B0BEC5",
                "#B0BEC5",
                "#B0BEC5",
                "#B0BEC5",
                "#B0BEC5",
                "#B0BEC5",
                "#B0BEC5",
                "#B0BEC5",
                "#B0BEC5",
                "#B0BEC5",
                "#B0BEC5",
                "#B0BEC5",
                "#B0BEC5",
                "#B0BEC5",
                "#B0BEC5",
                "#B0BEC5",
                "#B0BEC5",
                "#B0BEC5",
                "#B0BEC5",
                "#B0BEC5",
                "#B0BEC5",
                "#B0BEC5",
                "#B0BEC5",
                "#B0BEC5",
                "#B0BEC5",
                "#B0BEC5",
                "#B0BEC5",
                "#B0BEC5",
                "#B0BEC5",
                "#B0BEC5",
                "#B0BEC5",
                "#B0BEC5",
                "#B0BEC5",
                "#B0BEC5",
                "#B0BEC5",
                "#B0BEC5",
                "#B0BEC5",
                "#B0BEC5",
                "#B0BEC5",
                "#B0BEC5",
                "#B0BEC5",
                "#B0BEC5",
                "#B0BEC5",
                "#B0BEC5"
               ]
              ]
             }
            ],
            "label": "Topic 2",
            "method": "update"
           },
           {
            "args": [
             {
              "marker.color": [
               [
                "#B0BEC5",
                "#B0BEC5",
                "#B0BEC5",
                "red",
                "#B0BEC5",
                "#B0BEC5",
                "#B0BEC5",
                "#B0BEC5",
                "#B0BEC5",
                "#B0BEC5",
                "#B0BEC5",
                "#B0BEC5",
                "#B0BEC5",
                "#B0BEC5",
                "#B0BEC5",
                "#B0BEC5",
                "#B0BEC5",
                "#B0BEC5",
                "#B0BEC5",
                "#B0BEC5",
                "#B0BEC5",
                "#B0BEC5",
                "#B0BEC5",
                "#B0BEC5",
                "#B0BEC5",
                "#B0BEC5",
                "#B0BEC5",
                "#B0BEC5",
                "#B0BEC5",
                "#B0BEC5",
                "#B0BEC5",
                "#B0BEC5",
                "#B0BEC5",
                "#B0BEC5",
                "#B0BEC5",
                "#B0BEC5",
                "#B0BEC5",
                "#B0BEC5",
                "#B0BEC5",
                "#B0BEC5",
                "#B0BEC5",
                "#B0BEC5",
                "#B0BEC5",
                "#B0BEC5",
                "#B0BEC5",
                "#B0BEC5",
                "#B0BEC5",
                "#B0BEC5",
                "#B0BEC5"
               ]
              ]
             }
            ],
            "label": "Topic 3",
            "method": "update"
           },
           {
            "args": [
             {
              "marker.color": [
               [
                "#B0BEC5",
                "#B0BEC5",
                "#B0BEC5",
                "#B0BEC5",
                "red",
                "#B0BEC5",
                "#B0BEC5",
                "#B0BEC5",
                "#B0BEC5",
                "#B0BEC5",
                "#B0BEC5",
                "#B0BEC5",
                "#B0BEC5",
                "#B0BEC5",
                "#B0BEC5",
                "#B0BEC5",
                "#B0BEC5",
                "#B0BEC5",
                "#B0BEC5",
                "#B0BEC5",
                "#B0BEC5",
                "#B0BEC5",
                "#B0BEC5",
                "#B0BEC5",
                "#B0BEC5",
                "#B0BEC5",
                "#B0BEC5",
                "#B0BEC5",
                "#B0BEC5",
                "#B0BEC5",
                "#B0BEC5",
                "#B0BEC5",
                "#B0BEC5",
                "#B0BEC5",
                "#B0BEC5",
                "#B0BEC5",
                "#B0BEC5",
                "#B0BEC5",
                "#B0BEC5",
                "#B0BEC5",
                "#B0BEC5",
                "#B0BEC5",
                "#B0BEC5",
                "#B0BEC5",
                "#B0BEC5",
                "#B0BEC5",
                "#B0BEC5",
                "#B0BEC5",
                "#B0BEC5"
               ]
              ]
             }
            ],
            "label": "Topic 4",
            "method": "update"
           },
           {
            "args": [
             {
              "marker.color": [
               [
                "#B0BEC5",
                "#B0BEC5",
                "#B0BEC5",
                "#B0BEC5",
                "#B0BEC5",
                "red",
                "#B0BEC5",
                "#B0BEC5",
                "#B0BEC5",
                "#B0BEC5",
                "#B0BEC5",
                "#B0BEC5",
                "#B0BEC5",
                "#B0BEC5",
                "#B0BEC5",
                "#B0BEC5",
                "#B0BEC5",
                "#B0BEC5",
                "#B0BEC5",
                "#B0BEC5",
                "#B0BEC5",
                "#B0BEC5",
                "#B0BEC5",
                "#B0BEC5",
                "#B0BEC5",
                "#B0BEC5",
                "#B0BEC5",
                "#B0BEC5",
                "#B0BEC5",
                "#B0BEC5",
                "#B0BEC5",
                "#B0BEC5",
                "#B0BEC5",
                "#B0BEC5",
                "#B0BEC5",
                "#B0BEC5",
                "#B0BEC5",
                "#B0BEC5",
                "#B0BEC5",
                "#B0BEC5",
                "#B0BEC5",
                "#B0BEC5",
                "#B0BEC5",
                "#B0BEC5",
                "#B0BEC5",
                "#B0BEC5",
                "#B0BEC5",
                "#B0BEC5",
                "#B0BEC5"
               ]
              ]
             }
            ],
            "label": "Topic 5",
            "method": "update"
           },
           {
            "args": [
             {
              "marker.color": [
               [
                "#B0BEC5",
                "#B0BEC5",
                "#B0BEC5",
                "#B0BEC5",
                "#B0BEC5",
                "#B0BEC5",
                "red",
                "#B0BEC5",
                "#B0BEC5",
                "#B0BEC5",
                "#B0BEC5",
                "#B0BEC5",
                "#B0BEC5",
                "#B0BEC5",
                "#B0BEC5",
                "#B0BEC5",
                "#B0BEC5",
                "#B0BEC5",
                "#B0BEC5",
                "#B0BEC5",
                "#B0BEC5",
                "#B0BEC5",
                "#B0BEC5",
                "#B0BEC5",
                "#B0BEC5",
                "#B0BEC5",
                "#B0BEC5",
                "#B0BEC5",
                "#B0BEC5",
                "#B0BEC5",
                "#B0BEC5",
                "#B0BEC5",
                "#B0BEC5",
                "#B0BEC5",
                "#B0BEC5",
                "#B0BEC5",
                "#B0BEC5",
                "#B0BEC5",
                "#B0BEC5",
                "#B0BEC5",
                "#B0BEC5",
                "#B0BEC5",
                "#B0BEC5",
                "#B0BEC5",
                "#B0BEC5",
                "#B0BEC5",
                "#B0BEC5",
                "#B0BEC5",
                "#B0BEC5"
               ]
              ]
             }
            ],
            "label": "Topic 6",
            "method": "update"
           },
           {
            "args": [
             {
              "marker.color": [
               [
                "#B0BEC5",
                "#B0BEC5",
                "#B0BEC5",
                "#B0BEC5",
                "#B0BEC5",
                "#B0BEC5",
                "#B0BEC5",
                "red",
                "#B0BEC5",
                "#B0BEC5",
                "#B0BEC5",
                "#B0BEC5",
                "#B0BEC5",
                "#B0BEC5",
                "#B0BEC5",
                "#B0BEC5",
                "#B0BEC5",
                "#B0BEC5",
                "#B0BEC5",
                "#B0BEC5",
                "#B0BEC5",
                "#B0BEC5",
                "#B0BEC5",
                "#B0BEC5",
                "#B0BEC5",
                "#B0BEC5",
                "#B0BEC5",
                "#B0BEC5",
                "#B0BEC5",
                "#B0BEC5",
                "#B0BEC5",
                "#B0BEC5",
                "#B0BEC5",
                "#B0BEC5",
                "#B0BEC5",
                "#B0BEC5",
                "#B0BEC5",
                "#B0BEC5",
                "#B0BEC5",
                "#B0BEC5",
                "#B0BEC5",
                "#B0BEC5",
                "#B0BEC5",
                "#B0BEC5",
                "#B0BEC5",
                "#B0BEC5",
                "#B0BEC5",
                "#B0BEC5",
                "#B0BEC5"
               ]
              ]
             }
            ],
            "label": "Topic 7",
            "method": "update"
           },
           {
            "args": [
             {
              "marker.color": [
               [
                "#B0BEC5",
                "#B0BEC5",
                "#B0BEC5",
                "#B0BEC5",
                "#B0BEC5",
                "#B0BEC5",
                "#B0BEC5",
                "#B0BEC5",
                "red",
                "#B0BEC5",
                "#B0BEC5",
                "#B0BEC5",
                "#B0BEC5",
                "#B0BEC5",
                "#B0BEC5",
                "#B0BEC5",
                "#B0BEC5",
                "#B0BEC5",
                "#B0BEC5",
                "#B0BEC5",
                "#B0BEC5",
                "#B0BEC5",
                "#B0BEC5",
                "#B0BEC5",
                "#B0BEC5",
                "#B0BEC5",
                "#B0BEC5",
                "#B0BEC5",
                "#B0BEC5",
                "#B0BEC5",
                "#B0BEC5",
                "#B0BEC5",
                "#B0BEC5",
                "#B0BEC5",
                "#B0BEC5",
                "#B0BEC5",
                "#B0BEC5",
                "#B0BEC5",
                "#B0BEC5",
                "#B0BEC5",
                "#B0BEC5",
                "#B0BEC5",
                "#B0BEC5",
                "#B0BEC5",
                "#B0BEC5",
                "#B0BEC5",
                "#B0BEC5",
                "#B0BEC5",
                "#B0BEC5"
               ]
              ]
             }
            ],
            "label": "Topic 8",
            "method": "update"
           },
           {
            "args": [
             {
              "marker.color": [
               [
                "#B0BEC5",
                "#B0BEC5",
                "#B0BEC5",
                "#B0BEC5",
                "#B0BEC5",
                "#B0BEC5",
                "#B0BEC5",
                "#B0BEC5",
                "#B0BEC5",
                "red",
                "#B0BEC5",
                "#B0BEC5",
                "#B0BEC5",
                "#B0BEC5",
                "#B0BEC5",
                "#B0BEC5",
                "#B0BEC5",
                "#B0BEC5",
                "#B0BEC5",
                "#B0BEC5",
                "#B0BEC5",
                "#B0BEC5",
                "#B0BEC5",
                "#B0BEC5",
                "#B0BEC5",
                "#B0BEC5",
                "#B0BEC5",
                "#B0BEC5",
                "#B0BEC5",
                "#B0BEC5",
                "#B0BEC5",
                "#B0BEC5",
                "#B0BEC5",
                "#B0BEC5",
                "#B0BEC5",
                "#B0BEC5",
                "#B0BEC5",
                "#B0BEC5",
                "#B0BEC5",
                "#B0BEC5",
                "#B0BEC5",
                "#B0BEC5",
                "#B0BEC5",
                "#B0BEC5",
                "#B0BEC5",
                "#B0BEC5",
                "#B0BEC5",
                "#B0BEC5",
                "#B0BEC5"
               ]
              ]
             }
            ],
            "label": "Topic 9",
            "method": "update"
           },
           {
            "args": [
             {
              "marker.color": [
               [
                "#B0BEC5",
                "#B0BEC5",
                "#B0BEC5",
                "#B0BEC5",
                "#B0BEC5",
                "#B0BEC5",
                "#B0BEC5",
                "#B0BEC5",
                "#B0BEC5",
                "#B0BEC5",
                "red",
                "#B0BEC5",
                "#B0BEC5",
                "#B0BEC5",
                "#B0BEC5",
                "#B0BEC5",
                "#B0BEC5",
                "#B0BEC5",
                "#B0BEC5",
                "#B0BEC5",
                "#B0BEC5",
                "#B0BEC5",
                "#B0BEC5",
                "#B0BEC5",
                "#B0BEC5",
                "#B0BEC5",
                "#B0BEC5",
                "#B0BEC5",
                "#B0BEC5",
                "#B0BEC5",
                "#B0BEC5",
                "#B0BEC5",
                "#B0BEC5",
                "#B0BEC5",
                "#B0BEC5",
                "#B0BEC5",
                "#B0BEC5",
                "#B0BEC5",
                "#B0BEC5",
                "#B0BEC5",
                "#B0BEC5",
                "#B0BEC5",
                "#B0BEC5",
                "#B0BEC5",
                "#B0BEC5",
                "#B0BEC5",
                "#B0BEC5",
                "#B0BEC5",
                "#B0BEC5"
               ]
              ]
             }
            ],
            "label": "Topic 10",
            "method": "update"
           },
           {
            "args": [
             {
              "marker.color": [
               [
                "#B0BEC5",
                "#B0BEC5",
                "#B0BEC5",
                "#B0BEC5",
                "#B0BEC5",
                "#B0BEC5",
                "#B0BEC5",
                "#B0BEC5",
                "#B0BEC5",
                "#B0BEC5",
                "#B0BEC5",
                "red",
                "#B0BEC5",
                "#B0BEC5",
                "#B0BEC5",
                "#B0BEC5",
                "#B0BEC5",
                "#B0BEC5",
                "#B0BEC5",
                "#B0BEC5",
                "#B0BEC5",
                "#B0BEC5",
                "#B0BEC5",
                "#B0BEC5",
                "#B0BEC5",
                "#B0BEC5",
                "#B0BEC5",
                "#B0BEC5",
                "#B0BEC5",
                "#B0BEC5",
                "#B0BEC5",
                "#B0BEC5",
                "#B0BEC5",
                "#B0BEC5",
                "#B0BEC5",
                "#B0BEC5",
                "#B0BEC5",
                "#B0BEC5",
                "#B0BEC5",
                "#B0BEC5",
                "#B0BEC5",
                "#B0BEC5",
                "#B0BEC5",
                "#B0BEC5",
                "#B0BEC5",
                "#B0BEC5",
                "#B0BEC5",
                "#B0BEC5",
                "#B0BEC5"
               ]
              ]
             }
            ],
            "label": "Topic 11",
            "method": "update"
           },
           {
            "args": [
             {
              "marker.color": [
               [
                "#B0BEC5",
                "#B0BEC5",
                "#B0BEC5",
                "#B0BEC5",
                "#B0BEC5",
                "#B0BEC5",
                "#B0BEC5",
                "#B0BEC5",
                "#B0BEC5",
                "#B0BEC5",
                "#B0BEC5",
                "#B0BEC5",
                "red",
                "#B0BEC5",
                "#B0BEC5",
                "#B0BEC5",
                "#B0BEC5",
                "#B0BEC5",
                "#B0BEC5",
                "#B0BEC5",
                "#B0BEC5",
                "#B0BEC5",
                "#B0BEC5",
                "#B0BEC5",
                "#B0BEC5",
                "#B0BEC5",
                "#B0BEC5",
                "#B0BEC5",
                "#B0BEC5",
                "#B0BEC5",
                "#B0BEC5",
                "#B0BEC5",
                "#B0BEC5",
                "#B0BEC5",
                "#B0BEC5",
                "#B0BEC5",
                "#B0BEC5",
                "#B0BEC5",
                "#B0BEC5",
                "#B0BEC5",
                "#B0BEC5",
                "#B0BEC5",
                "#B0BEC5",
                "#B0BEC5",
                "#B0BEC5",
                "#B0BEC5",
                "#B0BEC5",
                "#B0BEC5",
                "#B0BEC5"
               ]
              ]
             }
            ],
            "label": "Topic 12",
            "method": "update"
           },
           {
            "args": [
             {
              "marker.color": [
               [
                "#B0BEC5",
                "#B0BEC5",
                "#B0BEC5",
                "#B0BEC5",
                "#B0BEC5",
                "#B0BEC5",
                "#B0BEC5",
                "#B0BEC5",
                "#B0BEC5",
                "#B0BEC5",
                "#B0BEC5",
                "#B0BEC5",
                "#B0BEC5",
                "red",
                "#B0BEC5",
                "#B0BEC5",
                "#B0BEC5",
                "#B0BEC5",
                "#B0BEC5",
                "#B0BEC5",
                "#B0BEC5",
                "#B0BEC5",
                "#B0BEC5",
                "#B0BEC5",
                "#B0BEC5",
                "#B0BEC5",
                "#B0BEC5",
                "#B0BEC5",
                "#B0BEC5",
                "#B0BEC5",
                "#B0BEC5",
                "#B0BEC5",
                "#B0BEC5",
                "#B0BEC5",
                "#B0BEC5",
                "#B0BEC5",
                "#B0BEC5",
                "#B0BEC5",
                "#B0BEC5",
                "#B0BEC5",
                "#B0BEC5",
                "#B0BEC5",
                "#B0BEC5",
                "#B0BEC5",
                "#B0BEC5",
                "#B0BEC5",
                "#B0BEC5",
                "#B0BEC5",
                "#B0BEC5"
               ]
              ]
             }
            ],
            "label": "Topic 13",
            "method": "update"
           },
           {
            "args": [
             {
              "marker.color": [
               [
                "#B0BEC5",
                "#B0BEC5",
                "#B0BEC5",
                "#B0BEC5",
                "#B0BEC5",
                "#B0BEC5",
                "#B0BEC5",
                "#B0BEC5",
                "#B0BEC5",
                "#B0BEC5",
                "#B0BEC5",
                "#B0BEC5",
                "#B0BEC5",
                "#B0BEC5",
                "red",
                "#B0BEC5",
                "#B0BEC5",
                "#B0BEC5",
                "#B0BEC5",
                "#B0BEC5",
                "#B0BEC5",
                "#B0BEC5",
                "#B0BEC5",
                "#B0BEC5",
                "#B0BEC5",
                "#B0BEC5",
                "#B0BEC5",
                "#B0BEC5",
                "#B0BEC5",
                "#B0BEC5",
                "#B0BEC5",
                "#B0BEC5",
                "#B0BEC5",
                "#B0BEC5",
                "#B0BEC5",
                "#B0BEC5",
                "#B0BEC5",
                "#B0BEC5",
                "#B0BEC5",
                "#B0BEC5",
                "#B0BEC5",
                "#B0BEC5",
                "#B0BEC5",
                "#B0BEC5",
                "#B0BEC5",
                "#B0BEC5",
                "#B0BEC5",
                "#B0BEC5",
                "#B0BEC5"
               ]
              ]
             }
            ],
            "label": "Topic 14",
            "method": "update"
           },
           {
            "args": [
             {
              "marker.color": [
               [
                "#B0BEC5",
                "#B0BEC5",
                "#B0BEC5",
                "#B0BEC5",
                "#B0BEC5",
                "#B0BEC5",
                "#B0BEC5",
                "#B0BEC5",
                "#B0BEC5",
                "#B0BEC5",
                "#B0BEC5",
                "#B0BEC5",
                "#B0BEC5",
                "#B0BEC5",
                "#B0BEC5",
                "red",
                "#B0BEC5",
                "#B0BEC5",
                "#B0BEC5",
                "#B0BEC5",
                "#B0BEC5",
                "#B0BEC5",
                "#B0BEC5",
                "#B0BEC5",
                "#B0BEC5",
                "#B0BEC5",
                "#B0BEC5",
                "#B0BEC5",
                "#B0BEC5",
                "#B0BEC5",
                "#B0BEC5",
                "#B0BEC5",
                "#B0BEC5",
                "#B0BEC5",
                "#B0BEC5",
                "#B0BEC5",
                "#B0BEC5",
                "#B0BEC5",
                "#B0BEC5",
                "#B0BEC5",
                "#B0BEC5",
                "#B0BEC5",
                "#B0BEC5",
                "#B0BEC5",
                "#B0BEC5",
                "#B0BEC5",
                "#B0BEC5",
                "#B0BEC5",
                "#B0BEC5"
               ]
              ]
             }
            ],
            "label": "Topic 15",
            "method": "update"
           },
           {
            "args": [
             {
              "marker.color": [
               [
                "#B0BEC5",
                "#B0BEC5",
                "#B0BEC5",
                "#B0BEC5",
                "#B0BEC5",
                "#B0BEC5",
                "#B0BEC5",
                "#B0BEC5",
                "#B0BEC5",
                "#B0BEC5",
                "#B0BEC5",
                "#B0BEC5",
                "#B0BEC5",
                "#B0BEC5",
                "#B0BEC5",
                "#B0BEC5",
                "red",
                "#B0BEC5",
                "#B0BEC5",
                "#B0BEC5",
                "#B0BEC5",
                "#B0BEC5",
                "#B0BEC5",
                "#B0BEC5",
                "#B0BEC5",
                "#B0BEC5",
                "#B0BEC5",
                "#B0BEC5",
                "#B0BEC5",
                "#B0BEC5",
                "#B0BEC5",
                "#B0BEC5",
                "#B0BEC5",
                "#B0BEC5",
                "#B0BEC5",
                "#B0BEC5",
                "#B0BEC5",
                "#B0BEC5",
                "#B0BEC5",
                "#B0BEC5",
                "#B0BEC5",
                "#B0BEC5",
                "#B0BEC5",
                "#B0BEC5",
                "#B0BEC5",
                "#B0BEC5",
                "#B0BEC5",
                "#B0BEC5",
                "#B0BEC5"
               ]
              ]
             }
            ],
            "label": "Topic 16",
            "method": "update"
           },
           {
            "args": [
             {
              "marker.color": [
               [
                "#B0BEC5",
                "#B0BEC5",
                "#B0BEC5",
                "#B0BEC5",
                "#B0BEC5",
                "#B0BEC5",
                "#B0BEC5",
                "#B0BEC5",
                "#B0BEC5",
                "#B0BEC5",
                "#B0BEC5",
                "#B0BEC5",
                "#B0BEC5",
                "#B0BEC5",
                "#B0BEC5",
                "#B0BEC5",
                "#B0BEC5",
                "red",
                "#B0BEC5",
                "#B0BEC5",
                "#B0BEC5",
                "#B0BEC5",
                "#B0BEC5",
                "#B0BEC5",
                "#B0BEC5",
                "#B0BEC5",
                "#B0BEC5",
                "#B0BEC5",
                "#B0BEC5",
                "#B0BEC5",
                "#B0BEC5",
                "#B0BEC5",
                "#B0BEC5",
                "#B0BEC5",
                "#B0BEC5",
                "#B0BEC5",
                "#B0BEC5",
                "#B0BEC5",
                "#B0BEC5",
                "#B0BEC5",
                "#B0BEC5",
                "#B0BEC5",
                "#B0BEC5",
                "#B0BEC5",
                "#B0BEC5",
                "#B0BEC5",
                "#B0BEC5",
                "#B0BEC5",
                "#B0BEC5"
               ]
              ]
             }
            ],
            "label": "Topic 17",
            "method": "update"
           },
           {
            "args": [
             {
              "marker.color": [
               [
                "#B0BEC5",
                "#B0BEC5",
                "#B0BEC5",
                "#B0BEC5",
                "#B0BEC5",
                "#B0BEC5",
                "#B0BEC5",
                "#B0BEC5",
                "#B0BEC5",
                "#B0BEC5",
                "#B0BEC5",
                "#B0BEC5",
                "#B0BEC5",
                "#B0BEC5",
                "#B0BEC5",
                "#B0BEC5",
                "#B0BEC5",
                "#B0BEC5",
                "red",
                "#B0BEC5",
                "#B0BEC5",
                "#B0BEC5",
                "#B0BEC5",
                "#B0BEC5",
                "#B0BEC5",
                "#B0BEC5",
                "#B0BEC5",
                "#B0BEC5",
                "#B0BEC5",
                "#B0BEC5",
                "#B0BEC5",
                "#B0BEC5",
                "#B0BEC5",
                "#B0BEC5",
                "#B0BEC5",
                "#B0BEC5",
                "#B0BEC5",
                "#B0BEC5",
                "#B0BEC5",
                "#B0BEC5",
                "#B0BEC5",
                "#B0BEC5",
                "#B0BEC5",
                "#B0BEC5",
                "#B0BEC5",
                "#B0BEC5",
                "#B0BEC5",
                "#B0BEC5",
                "#B0BEC5"
               ]
              ]
             }
            ],
            "label": "Topic 18",
            "method": "update"
           },
           {
            "args": [
             {
              "marker.color": [
               [
                "#B0BEC5",
                "#B0BEC5",
                "#B0BEC5",
                "#B0BEC5",
                "#B0BEC5",
                "#B0BEC5",
                "#B0BEC5",
                "#B0BEC5",
                "#B0BEC5",
                "#B0BEC5",
                "#B0BEC5",
                "#B0BEC5",
                "#B0BEC5",
                "#B0BEC5",
                "#B0BEC5",
                "#B0BEC5",
                "#B0BEC5",
                "#B0BEC5",
                "#B0BEC5",
                "red",
                "#B0BEC5",
                "#B0BEC5",
                "#B0BEC5",
                "#B0BEC5",
                "#B0BEC5",
                "#B0BEC5",
                "#B0BEC5",
                "#B0BEC5",
                "#B0BEC5",
                "#B0BEC5",
                "#B0BEC5",
                "#B0BEC5",
                "#B0BEC5",
                "#B0BEC5",
                "#B0BEC5",
                "#B0BEC5",
                "#B0BEC5",
                "#B0BEC5",
                "#B0BEC5",
                "#B0BEC5",
                "#B0BEC5",
                "#B0BEC5",
                "#B0BEC5",
                "#B0BEC5",
                "#B0BEC5",
                "#B0BEC5",
                "#B0BEC5",
                "#B0BEC5",
                "#B0BEC5"
               ]
              ]
             }
            ],
            "label": "Topic 19",
            "method": "update"
           },
           {
            "args": [
             {
              "marker.color": [
               [
                "#B0BEC5",
                "#B0BEC5",
                "#B0BEC5",
                "#B0BEC5",
                "#B0BEC5",
                "#B0BEC5",
                "#B0BEC5",
                "#B0BEC5",
                "#B0BEC5",
                "#B0BEC5",
                "#B0BEC5",
                "#B0BEC5",
                "#B0BEC5",
                "#B0BEC5",
                "#B0BEC5",
                "#B0BEC5",
                "#B0BEC5",
                "#B0BEC5",
                "#B0BEC5",
                "#B0BEC5",
                "red",
                "#B0BEC5",
                "#B0BEC5",
                "#B0BEC5",
                "#B0BEC5",
                "#B0BEC5",
                "#B0BEC5",
                "#B0BEC5",
                "#B0BEC5",
                "#B0BEC5",
                "#B0BEC5",
                "#B0BEC5",
                "#B0BEC5",
                "#B0BEC5",
                "#B0BEC5",
                "#B0BEC5",
                "#B0BEC5",
                "#B0BEC5",
                "#B0BEC5",
                "#B0BEC5",
                "#B0BEC5",
                "#B0BEC5",
                "#B0BEC5",
                "#B0BEC5",
                "#B0BEC5",
                "#B0BEC5",
                "#B0BEC5",
                "#B0BEC5",
                "#B0BEC5"
               ]
              ]
             }
            ],
            "label": "Topic 20",
            "method": "update"
           },
           {
            "args": [
             {
              "marker.color": [
               [
                "#B0BEC5",
                "#B0BEC5",
                "#B0BEC5",
                "#B0BEC5",
                "#B0BEC5",
                "#B0BEC5",
                "#B0BEC5",
                "#B0BEC5",
                "#B0BEC5",
                "#B0BEC5",
                "#B0BEC5",
                "#B0BEC5",
                "#B0BEC5",
                "#B0BEC5",
                "#B0BEC5",
                "#B0BEC5",
                "#B0BEC5",
                "#B0BEC5",
                "#B0BEC5",
                "#B0BEC5",
                "#B0BEC5",
                "red",
                "#B0BEC5",
                "#B0BEC5",
                "#B0BEC5",
                "#B0BEC5",
                "#B0BEC5",
                "#B0BEC5",
                "#B0BEC5",
                "#B0BEC5",
                "#B0BEC5",
                "#B0BEC5",
                "#B0BEC5",
                "#B0BEC5",
                "#B0BEC5",
                "#B0BEC5",
                "#B0BEC5",
                "#B0BEC5",
                "#B0BEC5",
                "#B0BEC5",
                "#B0BEC5",
                "#B0BEC5",
                "#B0BEC5",
                "#B0BEC5",
                "#B0BEC5",
                "#B0BEC5",
                "#B0BEC5",
                "#B0BEC5",
                "#B0BEC5"
               ]
              ]
             }
            ],
            "label": "Topic 21",
            "method": "update"
           },
           {
            "args": [
             {
              "marker.color": [
               [
                "#B0BEC5",
                "#B0BEC5",
                "#B0BEC5",
                "#B0BEC5",
                "#B0BEC5",
                "#B0BEC5",
                "#B0BEC5",
                "#B0BEC5",
                "#B0BEC5",
                "#B0BEC5",
                "#B0BEC5",
                "#B0BEC5",
                "#B0BEC5",
                "#B0BEC5",
                "#B0BEC5",
                "#B0BEC5",
                "#B0BEC5",
                "#B0BEC5",
                "#B0BEC5",
                "#B0BEC5",
                "#B0BEC5",
                "#B0BEC5",
                "red",
                "#B0BEC5",
                "#B0BEC5",
                "#B0BEC5",
                "#B0BEC5",
                "#B0BEC5",
                "#B0BEC5",
                "#B0BEC5",
                "#B0BEC5",
                "#B0BEC5",
                "#B0BEC5",
                "#B0BEC5",
                "#B0BEC5",
                "#B0BEC5",
                "#B0BEC5",
                "#B0BEC5",
                "#B0BEC5",
                "#B0BEC5",
                "#B0BEC5",
                "#B0BEC5",
                "#B0BEC5",
                "#B0BEC5",
                "#B0BEC5",
                "#B0BEC5",
                "#B0BEC5",
                "#B0BEC5",
                "#B0BEC5"
               ]
              ]
             }
            ],
            "label": "Topic 22",
            "method": "update"
           },
           {
            "args": [
             {
              "marker.color": [
               [
                "#B0BEC5",
                "#B0BEC5",
                "#B0BEC5",
                "#B0BEC5",
                "#B0BEC5",
                "#B0BEC5",
                "#B0BEC5",
                "#B0BEC5",
                "#B0BEC5",
                "#B0BEC5",
                "#B0BEC5",
                "#B0BEC5",
                "#B0BEC5",
                "#B0BEC5",
                "#B0BEC5",
                "#B0BEC5",
                "#B0BEC5",
                "#B0BEC5",
                "#B0BEC5",
                "#B0BEC5",
                "#B0BEC5",
                "#B0BEC5",
                "#B0BEC5",
                "red",
                "#B0BEC5",
                "#B0BEC5",
                "#B0BEC5",
                "#B0BEC5",
                "#B0BEC5",
                "#B0BEC5",
                "#B0BEC5",
                "#B0BEC5",
                "#B0BEC5",
                "#B0BEC5",
                "#B0BEC5",
                "#B0BEC5",
                "#B0BEC5",
                "#B0BEC5",
                "#B0BEC5",
                "#B0BEC5",
                "#B0BEC5",
                "#B0BEC5",
                "#B0BEC5",
                "#B0BEC5",
                "#B0BEC5",
                "#B0BEC5",
                "#B0BEC5",
                "#B0BEC5",
                "#B0BEC5"
               ]
              ]
             }
            ],
            "label": "Topic 23",
            "method": "update"
           },
           {
            "args": [
             {
              "marker.color": [
               [
                "#B0BEC5",
                "#B0BEC5",
                "#B0BEC5",
                "#B0BEC5",
                "#B0BEC5",
                "#B0BEC5",
                "#B0BEC5",
                "#B0BEC5",
                "#B0BEC5",
                "#B0BEC5",
                "#B0BEC5",
                "#B0BEC5",
                "#B0BEC5",
                "#B0BEC5",
                "#B0BEC5",
                "#B0BEC5",
                "#B0BEC5",
                "#B0BEC5",
                "#B0BEC5",
                "#B0BEC5",
                "#B0BEC5",
                "#B0BEC5",
                "#B0BEC5",
                "#B0BEC5",
                "red",
                "#B0BEC5",
                "#B0BEC5",
                "#B0BEC5",
                "#B0BEC5",
                "#B0BEC5",
                "#B0BEC5",
                "#B0BEC5",
                "#B0BEC5",
                "#B0BEC5",
                "#B0BEC5",
                "#B0BEC5",
                "#B0BEC5",
                "#B0BEC5",
                "#B0BEC5",
                "#B0BEC5",
                "#B0BEC5",
                "#B0BEC5",
                "#B0BEC5",
                "#B0BEC5",
                "#B0BEC5",
                "#B0BEC5",
                "#B0BEC5",
                "#B0BEC5",
                "#B0BEC5"
               ]
              ]
             }
            ],
            "label": "Topic 24",
            "method": "update"
           },
           {
            "args": [
             {
              "marker.color": [
               [
                "#B0BEC5",
                "#B0BEC5",
                "#B0BEC5",
                "#B0BEC5",
                "#B0BEC5",
                "#B0BEC5",
                "#B0BEC5",
                "#B0BEC5",
                "#B0BEC5",
                "#B0BEC5",
                "#B0BEC5",
                "#B0BEC5",
                "#B0BEC5",
                "#B0BEC5",
                "#B0BEC5",
                "#B0BEC5",
                "#B0BEC5",
                "#B0BEC5",
                "#B0BEC5",
                "#B0BEC5",
                "#B0BEC5",
                "#B0BEC5",
                "#B0BEC5",
                "#B0BEC5",
                "#B0BEC5",
                "red",
                "#B0BEC5",
                "#B0BEC5",
                "#B0BEC5",
                "#B0BEC5",
                "#B0BEC5",
                "#B0BEC5",
                "#B0BEC5",
                "#B0BEC5",
                "#B0BEC5",
                "#B0BEC5",
                "#B0BEC5",
                "#B0BEC5",
                "#B0BEC5",
                "#B0BEC5",
                "#B0BEC5",
                "#B0BEC5",
                "#B0BEC5",
                "#B0BEC5",
                "#B0BEC5",
                "#B0BEC5",
                "#B0BEC5",
                "#B0BEC5",
                "#B0BEC5"
               ]
              ]
             }
            ],
            "label": "Topic 25",
            "method": "update"
           },
           {
            "args": [
             {
              "marker.color": [
               [
                "#B0BEC5",
                "#B0BEC5",
                "#B0BEC5",
                "#B0BEC5",
                "#B0BEC5",
                "#B0BEC5",
                "#B0BEC5",
                "#B0BEC5",
                "#B0BEC5",
                "#B0BEC5",
                "#B0BEC5",
                "#B0BEC5",
                "#B0BEC5",
                "#B0BEC5",
                "#B0BEC5",
                "#B0BEC5",
                "#B0BEC5",
                "#B0BEC5",
                "#B0BEC5",
                "#B0BEC5",
                "#B0BEC5",
                "#B0BEC5",
                "#B0BEC5",
                "#B0BEC5",
                "#B0BEC5",
                "#B0BEC5",
                "red",
                "#B0BEC5",
                "#B0BEC5",
                "#B0BEC5",
                "#B0BEC5",
                "#B0BEC5",
                "#B0BEC5",
                "#B0BEC5",
                "#B0BEC5",
                "#B0BEC5",
                "#B0BEC5",
                "#B0BEC5",
                "#B0BEC5",
                "#B0BEC5",
                "#B0BEC5",
                "#B0BEC5",
                "#B0BEC5",
                "#B0BEC5",
                "#B0BEC5",
                "#B0BEC5",
                "#B0BEC5",
                "#B0BEC5",
                "#B0BEC5"
               ]
              ]
             }
            ],
            "label": "Topic 26",
            "method": "update"
           },
           {
            "args": [
             {
              "marker.color": [
               [
                "#B0BEC5",
                "#B0BEC5",
                "#B0BEC5",
                "#B0BEC5",
                "#B0BEC5",
                "#B0BEC5",
                "#B0BEC5",
                "#B0BEC5",
                "#B0BEC5",
                "#B0BEC5",
                "#B0BEC5",
                "#B0BEC5",
                "#B0BEC5",
                "#B0BEC5",
                "#B0BEC5",
                "#B0BEC5",
                "#B0BEC5",
                "#B0BEC5",
                "#B0BEC5",
                "#B0BEC5",
                "#B0BEC5",
                "#B0BEC5",
                "#B0BEC5",
                "#B0BEC5",
                "#B0BEC5",
                "#B0BEC5",
                "#B0BEC5",
                "red",
                "#B0BEC5",
                "#B0BEC5",
                "#B0BEC5",
                "#B0BEC5",
                "#B0BEC5",
                "#B0BEC5",
                "#B0BEC5",
                "#B0BEC5",
                "#B0BEC5",
                "#B0BEC5",
                "#B0BEC5",
                "#B0BEC5",
                "#B0BEC5",
                "#B0BEC5",
                "#B0BEC5",
                "#B0BEC5",
                "#B0BEC5",
                "#B0BEC5",
                "#B0BEC5",
                "#B0BEC5",
                "#B0BEC5"
               ]
              ]
             }
            ],
            "label": "Topic 27",
            "method": "update"
           },
           {
            "args": [
             {
              "marker.color": [
               [
                "#B0BEC5",
                "#B0BEC5",
                "#B0BEC5",
                "#B0BEC5",
                "#B0BEC5",
                "#B0BEC5",
                "#B0BEC5",
                "#B0BEC5",
                "#B0BEC5",
                "#B0BEC5",
                "#B0BEC5",
                "#B0BEC5",
                "#B0BEC5",
                "#B0BEC5",
                "#B0BEC5",
                "#B0BEC5",
                "#B0BEC5",
                "#B0BEC5",
                "#B0BEC5",
                "#B0BEC5",
                "#B0BEC5",
                "#B0BEC5",
                "#B0BEC5",
                "#B0BEC5",
                "#B0BEC5",
                "#B0BEC5",
                "#B0BEC5",
                "#B0BEC5",
                "red",
                "#B0BEC5",
                "#B0BEC5",
                "#B0BEC5",
                "#B0BEC5",
                "#B0BEC5",
                "#B0BEC5",
                "#B0BEC5",
                "#B0BEC5",
                "#B0BEC5",
                "#B0BEC5",
                "#B0BEC5",
                "#B0BEC5",
                "#B0BEC5",
                "#B0BEC5",
                "#B0BEC5",
                "#B0BEC5",
                "#B0BEC5",
                "#B0BEC5",
                "#B0BEC5",
                "#B0BEC5"
               ]
              ]
             }
            ],
            "label": "Topic 28",
            "method": "update"
           },
           {
            "args": [
             {
              "marker.color": [
               [
                "#B0BEC5",
                "#B0BEC5",
                "#B0BEC5",
                "#B0BEC5",
                "#B0BEC5",
                "#B0BEC5",
                "#B0BEC5",
                "#B0BEC5",
                "#B0BEC5",
                "#B0BEC5",
                "#B0BEC5",
                "#B0BEC5",
                "#B0BEC5",
                "#B0BEC5",
                "#B0BEC5",
                "#B0BEC5",
                "#B0BEC5",
                "#B0BEC5",
                "#B0BEC5",
                "#B0BEC5",
                "#B0BEC5",
                "#B0BEC5",
                "#B0BEC5",
                "#B0BEC5",
                "#B0BEC5",
                "#B0BEC5",
                "#B0BEC5",
                "#B0BEC5",
                "#B0BEC5",
                "red",
                "#B0BEC5",
                "#B0BEC5",
                "#B0BEC5",
                "#B0BEC5",
                "#B0BEC5",
                "#B0BEC5",
                "#B0BEC5",
                "#B0BEC5",
                "#B0BEC5",
                "#B0BEC5",
                "#B0BEC5",
                "#B0BEC5",
                "#B0BEC5",
                "#B0BEC5",
                "#B0BEC5",
                "#B0BEC5",
                "#B0BEC5",
                "#B0BEC5",
                "#B0BEC5"
               ]
              ]
             }
            ],
            "label": "Topic 29",
            "method": "update"
           },
           {
            "args": [
             {
              "marker.color": [
               [
                "#B0BEC5",
                "#B0BEC5",
                "#B0BEC5",
                "#B0BEC5",
                "#B0BEC5",
                "#B0BEC5",
                "#B0BEC5",
                "#B0BEC5",
                "#B0BEC5",
                "#B0BEC5",
                "#B0BEC5",
                "#B0BEC5",
                "#B0BEC5",
                "#B0BEC5",
                "#B0BEC5",
                "#B0BEC5",
                "#B0BEC5",
                "#B0BEC5",
                "#B0BEC5",
                "#B0BEC5",
                "#B0BEC5",
                "#B0BEC5",
                "#B0BEC5",
                "#B0BEC5",
                "#B0BEC5",
                "#B0BEC5",
                "#B0BEC5",
                "#B0BEC5",
                "#B0BEC5",
                "#B0BEC5",
                "red",
                "#B0BEC5",
                "#B0BEC5",
                "#B0BEC5",
                "#B0BEC5",
                "#B0BEC5",
                "#B0BEC5",
                "#B0BEC5",
                "#B0BEC5",
                "#B0BEC5",
                "#B0BEC5",
                "#B0BEC5",
                "#B0BEC5",
                "#B0BEC5",
                "#B0BEC5",
                "#B0BEC5",
                "#B0BEC5",
                "#B0BEC5",
                "#B0BEC5"
               ]
              ]
             }
            ],
            "label": "Topic 30",
            "method": "update"
           },
           {
            "args": [
             {
              "marker.color": [
               [
                "#B0BEC5",
                "#B0BEC5",
                "#B0BEC5",
                "#B0BEC5",
                "#B0BEC5",
                "#B0BEC5",
                "#B0BEC5",
                "#B0BEC5",
                "#B0BEC5",
                "#B0BEC5",
                "#B0BEC5",
                "#B0BEC5",
                "#B0BEC5",
                "#B0BEC5",
                "#B0BEC5",
                "#B0BEC5",
                "#B0BEC5",
                "#B0BEC5",
                "#B0BEC5",
                "#B0BEC5",
                "#B0BEC5",
                "#B0BEC5",
                "#B0BEC5",
                "#B0BEC5",
                "#B0BEC5",
                "#B0BEC5",
                "#B0BEC5",
                "#B0BEC5",
                "#B0BEC5",
                "#B0BEC5",
                "#B0BEC5",
                "red",
                "#B0BEC5",
                "#B0BEC5",
                "#B0BEC5",
                "#B0BEC5",
                "#B0BEC5",
                "#B0BEC5",
                "#B0BEC5",
                "#B0BEC5",
                "#B0BEC5",
                "#B0BEC5",
                "#B0BEC5",
                "#B0BEC5",
                "#B0BEC5",
                "#B0BEC5",
                "#B0BEC5",
                "#B0BEC5",
                "#B0BEC5"
               ]
              ]
             }
            ],
            "label": "Topic 31",
            "method": "update"
           },
           {
            "args": [
             {
              "marker.color": [
               [
                "#B0BEC5",
                "#B0BEC5",
                "#B0BEC5",
                "#B0BEC5",
                "#B0BEC5",
                "#B0BEC5",
                "#B0BEC5",
                "#B0BEC5",
                "#B0BEC5",
                "#B0BEC5",
                "#B0BEC5",
                "#B0BEC5",
                "#B0BEC5",
                "#B0BEC5",
                "#B0BEC5",
                "#B0BEC5",
                "#B0BEC5",
                "#B0BEC5",
                "#B0BEC5",
                "#B0BEC5",
                "#B0BEC5",
                "#B0BEC5",
                "#B0BEC5",
                "#B0BEC5",
                "#B0BEC5",
                "#B0BEC5",
                "#B0BEC5",
                "#B0BEC5",
                "#B0BEC5",
                "#B0BEC5",
                "#B0BEC5",
                "#B0BEC5",
                "red",
                "#B0BEC5",
                "#B0BEC5",
                "#B0BEC5",
                "#B0BEC5",
                "#B0BEC5",
                "#B0BEC5",
                "#B0BEC5",
                "#B0BEC5",
                "#B0BEC5",
                "#B0BEC5",
                "#B0BEC5",
                "#B0BEC5",
                "#B0BEC5",
                "#B0BEC5",
                "#B0BEC5",
                "#B0BEC5"
               ]
              ]
             }
            ],
            "label": "Topic 32",
            "method": "update"
           },
           {
            "args": [
             {
              "marker.color": [
               [
                "#B0BEC5",
                "#B0BEC5",
                "#B0BEC5",
                "#B0BEC5",
                "#B0BEC5",
                "#B0BEC5",
                "#B0BEC5",
                "#B0BEC5",
                "#B0BEC5",
                "#B0BEC5",
                "#B0BEC5",
                "#B0BEC5",
                "#B0BEC5",
                "#B0BEC5",
                "#B0BEC5",
                "#B0BEC5",
                "#B0BEC5",
                "#B0BEC5",
                "#B0BEC5",
                "#B0BEC5",
                "#B0BEC5",
                "#B0BEC5",
                "#B0BEC5",
                "#B0BEC5",
                "#B0BEC5",
                "#B0BEC5",
                "#B0BEC5",
                "#B0BEC5",
                "#B0BEC5",
                "#B0BEC5",
                "#B0BEC5",
                "#B0BEC5",
                "#B0BEC5",
                "red",
                "#B0BEC5",
                "#B0BEC5",
                "#B0BEC5",
                "#B0BEC5",
                "#B0BEC5",
                "#B0BEC5",
                "#B0BEC5",
                "#B0BEC5",
                "#B0BEC5",
                "#B0BEC5",
                "#B0BEC5",
                "#B0BEC5",
                "#B0BEC5",
                "#B0BEC5",
                "#B0BEC5"
               ]
              ]
             }
            ],
            "label": "Topic 33",
            "method": "update"
           },
           {
            "args": [
             {
              "marker.color": [
               [
                "#B0BEC5",
                "#B0BEC5",
                "#B0BEC5",
                "#B0BEC5",
                "#B0BEC5",
                "#B0BEC5",
                "#B0BEC5",
                "#B0BEC5",
                "#B0BEC5",
                "#B0BEC5",
                "#B0BEC5",
                "#B0BEC5",
                "#B0BEC5",
                "#B0BEC5",
                "#B0BEC5",
                "#B0BEC5",
                "#B0BEC5",
                "#B0BEC5",
                "#B0BEC5",
                "#B0BEC5",
                "#B0BEC5",
                "#B0BEC5",
                "#B0BEC5",
                "#B0BEC5",
                "#B0BEC5",
                "#B0BEC5",
                "#B0BEC5",
                "#B0BEC5",
                "#B0BEC5",
                "#B0BEC5",
                "#B0BEC5",
                "#B0BEC5",
                "#B0BEC5",
                "#B0BEC5",
                "red",
                "#B0BEC5",
                "#B0BEC5",
                "#B0BEC5",
                "#B0BEC5",
                "#B0BEC5",
                "#B0BEC5",
                "#B0BEC5",
                "#B0BEC5",
                "#B0BEC5",
                "#B0BEC5",
                "#B0BEC5",
                "#B0BEC5",
                "#B0BEC5",
                "#B0BEC5"
               ]
              ]
             }
            ],
            "label": "Topic 34",
            "method": "update"
           },
           {
            "args": [
             {
              "marker.color": [
               [
                "#B0BEC5",
                "#B0BEC5",
                "#B0BEC5",
                "#B0BEC5",
                "#B0BEC5",
                "#B0BEC5",
                "#B0BEC5",
                "#B0BEC5",
                "#B0BEC5",
                "#B0BEC5",
                "#B0BEC5",
                "#B0BEC5",
                "#B0BEC5",
                "#B0BEC5",
                "#B0BEC5",
                "#B0BEC5",
                "#B0BEC5",
                "#B0BEC5",
                "#B0BEC5",
                "#B0BEC5",
                "#B0BEC5",
                "#B0BEC5",
                "#B0BEC5",
                "#B0BEC5",
                "#B0BEC5",
                "#B0BEC5",
                "#B0BEC5",
                "#B0BEC5",
                "#B0BEC5",
                "#B0BEC5",
                "#B0BEC5",
                "#B0BEC5",
                "#B0BEC5",
                "#B0BEC5",
                "#B0BEC5",
                "red",
                "#B0BEC5",
                "#B0BEC5",
                "#B0BEC5",
                "#B0BEC5",
                "#B0BEC5",
                "#B0BEC5",
                "#B0BEC5",
                "#B0BEC5",
                "#B0BEC5",
                "#B0BEC5",
                "#B0BEC5",
                "#B0BEC5",
                "#B0BEC5"
               ]
              ]
             }
            ],
            "label": "Topic 35",
            "method": "update"
           },
           {
            "args": [
             {
              "marker.color": [
               [
                "#B0BEC5",
                "#B0BEC5",
                "#B0BEC5",
                "#B0BEC5",
                "#B0BEC5",
                "#B0BEC5",
                "#B0BEC5",
                "#B0BEC5",
                "#B0BEC5",
                "#B0BEC5",
                "#B0BEC5",
                "#B0BEC5",
                "#B0BEC5",
                "#B0BEC5",
                "#B0BEC5",
                "#B0BEC5",
                "#B0BEC5",
                "#B0BEC5",
                "#B0BEC5",
                "#B0BEC5",
                "#B0BEC5",
                "#B0BEC5",
                "#B0BEC5",
                "#B0BEC5",
                "#B0BEC5",
                "#B0BEC5",
                "#B0BEC5",
                "#B0BEC5",
                "#B0BEC5",
                "#B0BEC5",
                "#B0BEC5",
                "#B0BEC5",
                "#B0BEC5",
                "#B0BEC5",
                "#B0BEC5",
                "#B0BEC5",
                "red",
                "#B0BEC5",
                "#B0BEC5",
                "#B0BEC5",
                "#B0BEC5",
                "#B0BEC5",
                "#B0BEC5",
                "#B0BEC5",
                "#B0BEC5",
                "#B0BEC5",
                "#B0BEC5",
                "#B0BEC5",
                "#B0BEC5"
               ]
              ]
             }
            ],
            "label": "Topic 36",
            "method": "update"
           },
           {
            "args": [
             {
              "marker.color": [
               [
                "#B0BEC5",
                "#B0BEC5",
                "#B0BEC5",
                "#B0BEC5",
                "#B0BEC5",
                "#B0BEC5",
                "#B0BEC5",
                "#B0BEC5",
                "#B0BEC5",
                "#B0BEC5",
                "#B0BEC5",
                "#B0BEC5",
                "#B0BEC5",
                "#B0BEC5",
                "#B0BEC5",
                "#B0BEC5",
                "#B0BEC5",
                "#B0BEC5",
                "#B0BEC5",
                "#B0BEC5",
                "#B0BEC5",
                "#B0BEC5",
                "#B0BEC5",
                "#B0BEC5",
                "#B0BEC5",
                "#B0BEC5",
                "#B0BEC5",
                "#B0BEC5",
                "#B0BEC5",
                "#B0BEC5",
                "#B0BEC5",
                "#B0BEC5",
                "#B0BEC5",
                "#B0BEC5",
                "#B0BEC5",
                "#B0BEC5",
                "#B0BEC5",
                "red",
                "#B0BEC5",
                "#B0BEC5",
                "#B0BEC5",
                "#B0BEC5",
                "#B0BEC5",
                "#B0BEC5",
                "#B0BEC5",
                "#B0BEC5",
                "#B0BEC5",
                "#B0BEC5",
                "#B0BEC5"
               ]
              ]
             }
            ],
            "label": "Topic 37",
            "method": "update"
           },
           {
            "args": [
             {
              "marker.color": [
               [
                "#B0BEC5",
                "#B0BEC5",
                "#B0BEC5",
                "#B0BEC5",
                "#B0BEC5",
                "#B0BEC5",
                "#B0BEC5",
                "#B0BEC5",
                "#B0BEC5",
                "#B0BEC5",
                "#B0BEC5",
                "#B0BEC5",
                "#B0BEC5",
                "#B0BEC5",
                "#B0BEC5",
                "#B0BEC5",
                "#B0BEC5",
                "#B0BEC5",
                "#B0BEC5",
                "#B0BEC5",
                "#B0BEC5",
                "#B0BEC5",
                "#B0BEC5",
                "#B0BEC5",
                "#B0BEC5",
                "#B0BEC5",
                "#B0BEC5",
                "#B0BEC5",
                "#B0BEC5",
                "#B0BEC5",
                "#B0BEC5",
                "#B0BEC5",
                "#B0BEC5",
                "#B0BEC5",
                "#B0BEC5",
                "#B0BEC5",
                "#B0BEC5",
                "#B0BEC5",
                "red",
                "#B0BEC5",
                "#B0BEC5",
                "#B0BEC5",
                "#B0BEC5",
                "#B0BEC5",
                "#B0BEC5",
                "#B0BEC5",
                "#B0BEC5",
                "#B0BEC5",
                "#B0BEC5"
               ]
              ]
             }
            ],
            "label": "Topic 38",
            "method": "update"
           },
           {
            "args": [
             {
              "marker.color": [
               [
                "#B0BEC5",
                "#B0BEC5",
                "#B0BEC5",
                "#B0BEC5",
                "#B0BEC5",
                "#B0BEC5",
                "#B0BEC5",
                "#B0BEC5",
                "#B0BEC5",
                "#B0BEC5",
                "#B0BEC5",
                "#B0BEC5",
                "#B0BEC5",
                "#B0BEC5",
                "#B0BEC5",
                "#B0BEC5",
                "#B0BEC5",
                "#B0BEC5",
                "#B0BEC5",
                "#B0BEC5",
                "#B0BEC5",
                "#B0BEC5",
                "#B0BEC5",
                "#B0BEC5",
                "#B0BEC5",
                "#B0BEC5",
                "#B0BEC5",
                "#B0BEC5",
                "#B0BEC5",
                "#B0BEC5",
                "#B0BEC5",
                "#B0BEC5",
                "#B0BEC5",
                "#B0BEC5",
                "#B0BEC5",
                "#B0BEC5",
                "#B0BEC5",
                "#B0BEC5",
                "#B0BEC5",
                "red",
                "#B0BEC5",
                "#B0BEC5",
                "#B0BEC5",
                "#B0BEC5",
                "#B0BEC5",
                "#B0BEC5",
                "#B0BEC5",
                "#B0BEC5",
                "#B0BEC5"
               ]
              ]
             }
            ],
            "label": "Topic 39",
            "method": "update"
           },
           {
            "args": [
             {
              "marker.color": [
               [
                "#B0BEC5",
                "#B0BEC5",
                "#B0BEC5",
                "#B0BEC5",
                "#B0BEC5",
                "#B0BEC5",
                "#B0BEC5",
                "#B0BEC5",
                "#B0BEC5",
                "#B0BEC5",
                "#B0BEC5",
                "#B0BEC5",
                "#B0BEC5",
                "#B0BEC5",
                "#B0BEC5",
                "#B0BEC5",
                "#B0BEC5",
                "#B0BEC5",
                "#B0BEC5",
                "#B0BEC5",
                "#B0BEC5",
                "#B0BEC5",
                "#B0BEC5",
                "#B0BEC5",
                "#B0BEC5",
                "#B0BEC5",
                "#B0BEC5",
                "#B0BEC5",
                "#B0BEC5",
                "#B0BEC5",
                "#B0BEC5",
                "#B0BEC5",
                "#B0BEC5",
                "#B0BEC5",
                "#B0BEC5",
                "#B0BEC5",
                "#B0BEC5",
                "#B0BEC5",
                "#B0BEC5",
                "#B0BEC5",
                "red",
                "#B0BEC5",
                "#B0BEC5",
                "#B0BEC5",
                "#B0BEC5",
                "#B0BEC5",
                "#B0BEC5",
                "#B0BEC5",
                "#B0BEC5"
               ]
              ]
             }
            ],
            "label": "Topic 40",
            "method": "update"
           },
           {
            "args": [
             {
              "marker.color": [
               [
                "#B0BEC5",
                "#B0BEC5",
                "#B0BEC5",
                "#B0BEC5",
                "#B0BEC5",
                "#B0BEC5",
                "#B0BEC5",
                "#B0BEC5",
                "#B0BEC5",
                "#B0BEC5",
                "#B0BEC5",
                "#B0BEC5",
                "#B0BEC5",
                "#B0BEC5",
                "#B0BEC5",
                "#B0BEC5",
                "#B0BEC5",
                "#B0BEC5",
                "#B0BEC5",
                "#B0BEC5",
                "#B0BEC5",
                "#B0BEC5",
                "#B0BEC5",
                "#B0BEC5",
                "#B0BEC5",
                "#B0BEC5",
                "#B0BEC5",
                "#B0BEC5",
                "#B0BEC5",
                "#B0BEC5",
                "#B0BEC5",
                "#B0BEC5",
                "#B0BEC5",
                "#B0BEC5",
                "#B0BEC5",
                "#B0BEC5",
                "#B0BEC5",
                "#B0BEC5",
                "#B0BEC5",
                "#B0BEC5",
                "#B0BEC5",
                "red",
                "#B0BEC5",
                "#B0BEC5",
                "#B0BEC5",
                "#B0BEC5",
                "#B0BEC5",
                "#B0BEC5",
                "#B0BEC5"
               ]
              ]
             }
            ],
            "label": "Topic 41",
            "method": "update"
           },
           {
            "args": [
             {
              "marker.color": [
               [
                "#B0BEC5",
                "#B0BEC5",
                "#B0BEC5",
                "#B0BEC5",
                "#B0BEC5",
                "#B0BEC5",
                "#B0BEC5",
                "#B0BEC5",
                "#B0BEC5",
                "#B0BEC5",
                "#B0BEC5",
                "#B0BEC5",
                "#B0BEC5",
                "#B0BEC5",
                "#B0BEC5",
                "#B0BEC5",
                "#B0BEC5",
                "#B0BEC5",
                "#B0BEC5",
                "#B0BEC5",
                "#B0BEC5",
                "#B0BEC5",
                "#B0BEC5",
                "#B0BEC5",
                "#B0BEC5",
                "#B0BEC5",
                "#B0BEC5",
                "#B0BEC5",
                "#B0BEC5",
                "#B0BEC5",
                "#B0BEC5",
                "#B0BEC5",
                "#B0BEC5",
                "#B0BEC5",
                "#B0BEC5",
                "#B0BEC5",
                "#B0BEC5",
                "#B0BEC5",
                "#B0BEC5",
                "#B0BEC5",
                "#B0BEC5",
                "#B0BEC5",
                "red",
                "#B0BEC5",
                "#B0BEC5",
                "#B0BEC5",
                "#B0BEC5",
                "#B0BEC5",
                "#B0BEC5"
               ]
              ]
             }
            ],
            "label": "Topic 42",
            "method": "update"
           },
           {
            "args": [
             {
              "marker.color": [
               [
                "#B0BEC5",
                "#B0BEC5",
                "#B0BEC5",
                "#B0BEC5",
                "#B0BEC5",
                "#B0BEC5",
                "#B0BEC5",
                "#B0BEC5",
                "#B0BEC5",
                "#B0BEC5",
                "#B0BEC5",
                "#B0BEC5",
                "#B0BEC5",
                "#B0BEC5",
                "#B0BEC5",
                "#B0BEC5",
                "#B0BEC5",
                "#B0BEC5",
                "#B0BEC5",
                "#B0BEC5",
                "#B0BEC5",
                "#B0BEC5",
                "#B0BEC5",
                "#B0BEC5",
                "#B0BEC5",
                "#B0BEC5",
                "#B0BEC5",
                "#B0BEC5",
                "#B0BEC5",
                "#B0BEC5",
                "#B0BEC5",
                "#B0BEC5",
                "#B0BEC5",
                "#B0BEC5",
                "#B0BEC5",
                "#B0BEC5",
                "#B0BEC5",
                "#B0BEC5",
                "#B0BEC5",
                "#B0BEC5",
                "#B0BEC5",
                "#B0BEC5",
                "#B0BEC5",
                "red",
                "#B0BEC5",
                "#B0BEC5",
                "#B0BEC5",
                "#B0BEC5",
                "#B0BEC5"
               ]
              ]
             }
            ],
            "label": "Topic 43",
            "method": "update"
           },
           {
            "args": [
             {
              "marker.color": [
               [
                "#B0BEC5",
                "#B0BEC5",
                "#B0BEC5",
                "#B0BEC5",
                "#B0BEC5",
                "#B0BEC5",
                "#B0BEC5",
                "#B0BEC5",
                "#B0BEC5",
                "#B0BEC5",
                "#B0BEC5",
                "#B0BEC5",
                "#B0BEC5",
                "#B0BEC5",
                "#B0BEC5",
                "#B0BEC5",
                "#B0BEC5",
                "#B0BEC5",
                "#B0BEC5",
                "#B0BEC5",
                "#B0BEC5",
                "#B0BEC5",
                "#B0BEC5",
                "#B0BEC5",
                "#B0BEC5",
                "#B0BEC5",
                "#B0BEC5",
                "#B0BEC5",
                "#B0BEC5",
                "#B0BEC5",
                "#B0BEC5",
                "#B0BEC5",
                "#B0BEC5",
                "#B0BEC5",
                "#B0BEC5",
                "#B0BEC5",
                "#B0BEC5",
                "#B0BEC5",
                "#B0BEC5",
                "#B0BEC5",
                "#B0BEC5",
                "#B0BEC5",
                "#B0BEC5",
                "#B0BEC5",
                "red",
                "#B0BEC5",
                "#B0BEC5",
                "#B0BEC5",
                "#B0BEC5"
               ]
              ]
             }
            ],
            "label": "Topic 44",
            "method": "update"
           },
           {
            "args": [
             {
              "marker.color": [
               [
                "#B0BEC5",
                "#B0BEC5",
                "#B0BEC5",
                "#B0BEC5",
                "#B0BEC5",
                "#B0BEC5",
                "#B0BEC5",
                "#B0BEC5",
                "#B0BEC5",
                "#B0BEC5",
                "#B0BEC5",
                "#B0BEC5",
                "#B0BEC5",
                "#B0BEC5",
                "#B0BEC5",
                "#B0BEC5",
                "#B0BEC5",
                "#B0BEC5",
                "#B0BEC5",
                "#B0BEC5",
                "#B0BEC5",
                "#B0BEC5",
                "#B0BEC5",
                "#B0BEC5",
                "#B0BEC5",
                "#B0BEC5",
                "#B0BEC5",
                "#B0BEC5",
                "#B0BEC5",
                "#B0BEC5",
                "#B0BEC5",
                "#B0BEC5",
                "#B0BEC5",
                "#B0BEC5",
                "#B0BEC5",
                "#B0BEC5",
                "#B0BEC5",
                "#B0BEC5",
                "#B0BEC5",
                "#B0BEC5",
                "#B0BEC5",
                "#B0BEC5",
                "#B0BEC5",
                "#B0BEC5",
                "#B0BEC5",
                "red",
                "#B0BEC5",
                "#B0BEC5",
                "#B0BEC5"
               ]
              ]
             }
            ],
            "label": "Topic 45",
            "method": "update"
           },
           {
            "args": [
             {
              "marker.color": [
               [
                "#B0BEC5",
                "#B0BEC5",
                "#B0BEC5",
                "#B0BEC5",
                "#B0BEC5",
                "#B0BEC5",
                "#B0BEC5",
                "#B0BEC5",
                "#B0BEC5",
                "#B0BEC5",
                "#B0BEC5",
                "#B0BEC5",
                "#B0BEC5",
                "#B0BEC5",
                "#B0BEC5",
                "#B0BEC5",
                "#B0BEC5",
                "#B0BEC5",
                "#B0BEC5",
                "#B0BEC5",
                "#B0BEC5",
                "#B0BEC5",
                "#B0BEC5",
                "#B0BEC5",
                "#B0BEC5",
                "#B0BEC5",
                "#B0BEC5",
                "#B0BEC5",
                "#B0BEC5",
                "#B0BEC5",
                "#B0BEC5",
                "#B0BEC5",
                "#B0BEC5",
                "#B0BEC5",
                "#B0BEC5",
                "#B0BEC5",
                "#B0BEC5",
                "#B0BEC5",
                "#B0BEC5",
                "#B0BEC5",
                "#B0BEC5",
                "#B0BEC5",
                "#B0BEC5",
                "#B0BEC5",
                "#B0BEC5",
                "#B0BEC5",
                "red",
                "#B0BEC5",
                "#B0BEC5"
               ]
              ]
             }
            ],
            "label": "Topic 46",
            "method": "update"
           },
           {
            "args": [
             {
              "marker.color": [
               [
                "#B0BEC5",
                "#B0BEC5",
                "#B0BEC5",
                "#B0BEC5",
                "#B0BEC5",
                "#B0BEC5",
                "#B0BEC5",
                "#B0BEC5",
                "#B0BEC5",
                "#B0BEC5",
                "#B0BEC5",
                "#B0BEC5",
                "#B0BEC5",
                "#B0BEC5",
                "#B0BEC5",
                "#B0BEC5",
                "#B0BEC5",
                "#B0BEC5",
                "#B0BEC5",
                "#B0BEC5",
                "#B0BEC5",
                "#B0BEC5",
                "#B0BEC5",
                "#B0BEC5",
                "#B0BEC5",
                "#B0BEC5",
                "#B0BEC5",
                "#B0BEC5",
                "#B0BEC5",
                "#B0BEC5",
                "#B0BEC5",
                "#B0BEC5",
                "#B0BEC5",
                "#B0BEC5",
                "#B0BEC5",
                "#B0BEC5",
                "#B0BEC5",
                "#B0BEC5",
                "#B0BEC5",
                "#B0BEC5",
                "#B0BEC5",
                "#B0BEC5",
                "#B0BEC5",
                "#B0BEC5",
                "#B0BEC5",
                "#B0BEC5",
                "#B0BEC5",
                "red",
                "#B0BEC5"
               ]
              ]
             }
            ],
            "label": "Topic 47",
            "method": "update"
           },
           {
            "args": [
             {
              "marker.color": [
               [
                "#B0BEC5",
                "#B0BEC5",
                "#B0BEC5",
                "#B0BEC5",
                "#B0BEC5",
                "#B0BEC5",
                "#B0BEC5",
                "#B0BEC5",
                "#B0BEC5",
                "#B0BEC5",
                "#B0BEC5",
                "#B0BEC5",
                "#B0BEC5",
                "#B0BEC5",
                "#B0BEC5",
                "#B0BEC5",
                "#B0BEC5",
                "#B0BEC5",
                "#B0BEC5",
                "#B0BEC5",
                "#B0BEC5",
                "#B0BEC5",
                "#B0BEC5",
                "#B0BEC5",
                "#B0BEC5",
                "#B0BEC5",
                "#B0BEC5",
                "#B0BEC5",
                "#B0BEC5",
                "#B0BEC5",
                "#B0BEC5",
                "#B0BEC5",
                "#B0BEC5",
                "#B0BEC5",
                "#B0BEC5",
                "#B0BEC5",
                "#B0BEC5",
                "#B0BEC5",
                "#B0BEC5",
                "#B0BEC5",
                "#B0BEC5",
                "#B0BEC5",
                "#B0BEC5",
                "#B0BEC5",
                "#B0BEC5",
                "#B0BEC5",
                "#B0BEC5",
                "#B0BEC5",
                "red"
               ]
              ]
             }
            ],
            "label": "Topic 48",
            "method": "update"
           }
          ]
         }
        ],
        "template": {
         "data": {
          "bar": [
           {
            "error_x": {
             "color": "rgb(36,36,36)"
            },
            "error_y": {
             "color": "rgb(36,36,36)"
            },
            "marker": {
             "line": {
              "color": "white",
              "width": 0.5
             },
             "pattern": {
              "fillmode": "overlay",
              "size": 10,
              "solidity": 0.2
             }
            },
            "type": "bar"
           }
          ],
          "barpolar": [
           {
            "marker": {
             "line": {
              "color": "white",
              "width": 0.5
             },
             "pattern": {
              "fillmode": "overlay",
              "size": 10,
              "solidity": 0.2
             }
            },
            "type": "barpolar"
           }
          ],
          "carpet": [
           {
            "aaxis": {
             "endlinecolor": "rgb(36,36,36)",
             "gridcolor": "white",
             "linecolor": "white",
             "minorgridcolor": "white",
             "startlinecolor": "rgb(36,36,36)"
            },
            "baxis": {
             "endlinecolor": "rgb(36,36,36)",
             "gridcolor": "white",
             "linecolor": "white",
             "minorgridcolor": "white",
             "startlinecolor": "rgb(36,36,36)"
            },
            "type": "carpet"
           }
          ],
          "choropleth": [
           {
            "colorbar": {
             "outlinewidth": 1,
             "tickcolor": "rgb(36,36,36)",
             "ticks": "outside"
            },
            "type": "choropleth"
           }
          ],
          "contour": [
           {
            "colorbar": {
             "outlinewidth": 1,
             "tickcolor": "rgb(36,36,36)",
             "ticks": "outside"
            },
            "colorscale": [
             [
              0,
              "#440154"
             ],
             [
              0.1111111111111111,
              "#482878"
             ],
             [
              0.2222222222222222,
              "#3e4989"
             ],
             [
              0.3333333333333333,
              "#31688e"
             ],
             [
              0.4444444444444444,
              "#26828e"
             ],
             [
              0.5555555555555556,
              "#1f9e89"
             ],
             [
              0.6666666666666666,
              "#35b779"
             ],
             [
              0.7777777777777778,
              "#6ece58"
             ],
             [
              0.8888888888888888,
              "#b5de2b"
             ],
             [
              1,
              "#fde725"
             ]
            ],
            "type": "contour"
           }
          ],
          "contourcarpet": [
           {
            "colorbar": {
             "outlinewidth": 1,
             "tickcolor": "rgb(36,36,36)",
             "ticks": "outside"
            },
            "type": "contourcarpet"
           }
          ],
          "heatmap": [
           {
            "colorbar": {
             "outlinewidth": 1,
             "tickcolor": "rgb(36,36,36)",
             "ticks": "outside"
            },
            "colorscale": [
             [
              0,
              "#440154"
             ],
             [
              0.1111111111111111,
              "#482878"
             ],
             [
              0.2222222222222222,
              "#3e4989"
             ],
             [
              0.3333333333333333,
              "#31688e"
             ],
             [
              0.4444444444444444,
              "#26828e"
             ],
             [
              0.5555555555555556,
              "#1f9e89"
             ],
             [
              0.6666666666666666,
              "#35b779"
             ],
             [
              0.7777777777777778,
              "#6ece58"
             ],
             [
              0.8888888888888888,
              "#b5de2b"
             ],
             [
              1,
              "#fde725"
             ]
            ],
            "type": "heatmap"
           }
          ],
          "heatmapgl": [
           {
            "colorbar": {
             "outlinewidth": 1,
             "tickcolor": "rgb(36,36,36)",
             "ticks": "outside"
            },
            "colorscale": [
             [
              0,
              "#440154"
             ],
             [
              0.1111111111111111,
              "#482878"
             ],
             [
              0.2222222222222222,
              "#3e4989"
             ],
             [
              0.3333333333333333,
              "#31688e"
             ],
             [
              0.4444444444444444,
              "#26828e"
             ],
             [
              0.5555555555555556,
              "#1f9e89"
             ],
             [
              0.6666666666666666,
              "#35b779"
             ],
             [
              0.7777777777777778,
              "#6ece58"
             ],
             [
              0.8888888888888888,
              "#b5de2b"
             ],
             [
              1,
              "#fde725"
             ]
            ],
            "type": "heatmapgl"
           }
          ],
          "histogram": [
           {
            "marker": {
             "line": {
              "color": "white",
              "width": 0.6
             }
            },
            "type": "histogram"
           }
          ],
          "histogram2d": [
           {
            "colorbar": {
             "outlinewidth": 1,
             "tickcolor": "rgb(36,36,36)",
             "ticks": "outside"
            },
            "colorscale": [
             [
              0,
              "#440154"
             ],
             [
              0.1111111111111111,
              "#482878"
             ],
             [
              0.2222222222222222,
              "#3e4989"
             ],
             [
              0.3333333333333333,
              "#31688e"
             ],
             [
              0.4444444444444444,
              "#26828e"
             ],
             [
              0.5555555555555556,
              "#1f9e89"
             ],
             [
              0.6666666666666666,
              "#35b779"
             ],
             [
              0.7777777777777778,
              "#6ece58"
             ],
             [
              0.8888888888888888,
              "#b5de2b"
             ],
             [
              1,
              "#fde725"
             ]
            ],
            "type": "histogram2d"
           }
          ],
          "histogram2dcontour": [
           {
            "colorbar": {
             "outlinewidth": 1,
             "tickcolor": "rgb(36,36,36)",
             "ticks": "outside"
            },
            "colorscale": [
             [
              0,
              "#440154"
             ],
             [
              0.1111111111111111,
              "#482878"
             ],
             [
              0.2222222222222222,
              "#3e4989"
             ],
             [
              0.3333333333333333,
              "#31688e"
             ],
             [
              0.4444444444444444,
              "#26828e"
             ],
             [
              0.5555555555555556,
              "#1f9e89"
             ],
             [
              0.6666666666666666,
              "#35b779"
             ],
             [
              0.7777777777777778,
              "#6ece58"
             ],
             [
              0.8888888888888888,
              "#b5de2b"
             ],
             [
              1,
              "#fde725"
             ]
            ],
            "type": "histogram2dcontour"
           }
          ],
          "mesh3d": [
           {
            "colorbar": {
             "outlinewidth": 1,
             "tickcolor": "rgb(36,36,36)",
             "ticks": "outside"
            },
            "type": "mesh3d"
           }
          ],
          "parcoords": [
           {
            "line": {
             "colorbar": {
              "outlinewidth": 1,
              "tickcolor": "rgb(36,36,36)",
              "ticks": "outside"
             }
            },
            "type": "parcoords"
           }
          ],
          "pie": [
           {
            "automargin": true,
            "type": "pie"
           }
          ],
          "scatter": [
           {
            "fillpattern": {
             "fillmode": "overlay",
             "size": 10,
             "solidity": 0.2
            },
            "type": "scatter"
           }
          ],
          "scatter3d": [
           {
            "line": {
             "colorbar": {
              "outlinewidth": 1,
              "tickcolor": "rgb(36,36,36)",
              "ticks": "outside"
             }
            },
            "marker": {
             "colorbar": {
              "outlinewidth": 1,
              "tickcolor": "rgb(36,36,36)",
              "ticks": "outside"
             }
            },
            "type": "scatter3d"
           }
          ],
          "scattercarpet": [
           {
            "marker": {
             "colorbar": {
              "outlinewidth": 1,
              "tickcolor": "rgb(36,36,36)",
              "ticks": "outside"
             }
            },
            "type": "scattercarpet"
           }
          ],
          "scattergeo": [
           {
            "marker": {
             "colorbar": {
              "outlinewidth": 1,
              "tickcolor": "rgb(36,36,36)",
              "ticks": "outside"
             }
            },
            "type": "scattergeo"
           }
          ],
          "scattergl": [
           {
            "marker": {
             "colorbar": {
              "outlinewidth": 1,
              "tickcolor": "rgb(36,36,36)",
              "ticks": "outside"
             }
            },
            "type": "scattergl"
           }
          ],
          "scattermapbox": [
           {
            "marker": {
             "colorbar": {
              "outlinewidth": 1,
              "tickcolor": "rgb(36,36,36)",
              "ticks": "outside"
             }
            },
            "type": "scattermapbox"
           }
          ],
          "scatterpolar": [
           {
            "marker": {
             "colorbar": {
              "outlinewidth": 1,
              "tickcolor": "rgb(36,36,36)",
              "ticks": "outside"
             }
            },
            "type": "scatterpolar"
           }
          ],
          "scatterpolargl": [
           {
            "marker": {
             "colorbar": {
              "outlinewidth": 1,
              "tickcolor": "rgb(36,36,36)",
              "ticks": "outside"
             }
            },
            "type": "scatterpolargl"
           }
          ],
          "scatterternary": [
           {
            "marker": {
             "colorbar": {
              "outlinewidth": 1,
              "tickcolor": "rgb(36,36,36)",
              "ticks": "outside"
             }
            },
            "type": "scatterternary"
           }
          ],
          "surface": [
           {
            "colorbar": {
             "outlinewidth": 1,
             "tickcolor": "rgb(36,36,36)",
             "ticks": "outside"
            },
            "colorscale": [
             [
              0,
              "#440154"
             ],
             [
              0.1111111111111111,
              "#482878"
             ],
             [
              0.2222222222222222,
              "#3e4989"
             ],
             [
              0.3333333333333333,
              "#31688e"
             ],
             [
              0.4444444444444444,
              "#26828e"
             ],
             [
              0.5555555555555556,
              "#1f9e89"
             ],
             [
              0.6666666666666666,
              "#35b779"
             ],
             [
              0.7777777777777778,
              "#6ece58"
             ],
             [
              0.8888888888888888,
              "#b5de2b"
             ],
             [
              1,
              "#fde725"
             ]
            ],
            "type": "surface"
           }
          ],
          "table": [
           {
            "cells": {
             "fill": {
              "color": "rgb(237,237,237)"
             },
             "line": {
              "color": "white"
             }
            },
            "header": {
             "fill": {
              "color": "rgb(217,217,217)"
             },
             "line": {
              "color": "white"
             }
            },
            "type": "table"
           }
          ]
         },
         "layout": {
          "annotationdefaults": {
           "arrowhead": 0,
           "arrowwidth": 1
          },
          "autotypenumbers": "strict",
          "coloraxis": {
           "colorbar": {
            "outlinewidth": 1,
            "tickcolor": "rgb(36,36,36)",
            "ticks": "outside"
           }
          },
          "colorscale": {
           "diverging": [
            [
             0,
             "rgb(103,0,31)"
            ],
            [
             0.1,
             "rgb(178,24,43)"
            ],
            [
             0.2,
             "rgb(214,96,77)"
            ],
            [
             0.3,
             "rgb(244,165,130)"
            ],
            [
             0.4,
             "rgb(253,219,199)"
            ],
            [
             0.5,
             "rgb(247,247,247)"
            ],
            [
             0.6,
             "rgb(209,229,240)"
            ],
            [
             0.7,
             "rgb(146,197,222)"
            ],
            [
             0.8,
             "rgb(67,147,195)"
            ],
            [
             0.9,
             "rgb(33,102,172)"
            ],
            [
             1,
             "rgb(5,48,97)"
            ]
           ],
           "sequential": [
            [
             0,
             "#440154"
            ],
            [
             0.1111111111111111,
             "#482878"
            ],
            [
             0.2222222222222222,
             "#3e4989"
            ],
            [
             0.3333333333333333,
             "#31688e"
            ],
            [
             0.4444444444444444,
             "#26828e"
            ],
            [
             0.5555555555555556,
             "#1f9e89"
            ],
            [
             0.6666666666666666,
             "#35b779"
            ],
            [
             0.7777777777777778,
             "#6ece58"
            ],
            [
             0.8888888888888888,
             "#b5de2b"
            ],
            [
             1,
             "#fde725"
            ]
           ],
           "sequentialminus": [
            [
             0,
             "#440154"
            ],
            [
             0.1111111111111111,
             "#482878"
            ],
            [
             0.2222222222222222,
             "#3e4989"
            ],
            [
             0.3333333333333333,
             "#31688e"
            ],
            [
             0.4444444444444444,
             "#26828e"
            ],
            [
             0.5555555555555556,
             "#1f9e89"
            ],
            [
             0.6666666666666666,
             "#35b779"
            ],
            [
             0.7777777777777778,
             "#6ece58"
            ],
            [
             0.8888888888888888,
             "#b5de2b"
            ],
            [
             1,
             "#fde725"
            ]
           ]
          },
          "colorway": [
           "#1F77B4",
           "#FF7F0E",
           "#2CA02C",
           "#D62728",
           "#9467BD",
           "#8C564B",
           "#E377C2",
           "#7F7F7F",
           "#BCBD22",
           "#17BECF"
          ],
          "font": {
           "color": "rgb(36,36,36)"
          },
          "geo": {
           "bgcolor": "white",
           "lakecolor": "white",
           "landcolor": "white",
           "showlakes": true,
           "showland": true,
           "subunitcolor": "white"
          },
          "hoverlabel": {
           "align": "left"
          },
          "hovermode": "closest",
          "mapbox": {
           "style": "light"
          },
          "paper_bgcolor": "white",
          "plot_bgcolor": "white",
          "polar": {
           "angularaxis": {
            "gridcolor": "rgb(232,232,232)",
            "linecolor": "rgb(36,36,36)",
            "showgrid": false,
            "showline": true,
            "ticks": "outside"
           },
           "bgcolor": "white",
           "radialaxis": {
            "gridcolor": "rgb(232,232,232)",
            "linecolor": "rgb(36,36,36)",
            "showgrid": false,
            "showline": true,
            "ticks": "outside"
           }
          },
          "scene": {
           "xaxis": {
            "backgroundcolor": "white",
            "gridcolor": "rgb(232,232,232)",
            "gridwidth": 2,
            "linecolor": "rgb(36,36,36)",
            "showbackground": true,
            "showgrid": false,
            "showline": true,
            "ticks": "outside",
            "zeroline": false,
            "zerolinecolor": "rgb(36,36,36)"
           },
           "yaxis": {
            "backgroundcolor": "white",
            "gridcolor": "rgb(232,232,232)",
            "gridwidth": 2,
            "linecolor": "rgb(36,36,36)",
            "showbackground": true,
            "showgrid": false,
            "showline": true,
            "ticks": "outside",
            "zeroline": false,
            "zerolinecolor": "rgb(36,36,36)"
           },
           "zaxis": {
            "backgroundcolor": "white",
            "gridcolor": "rgb(232,232,232)",
            "gridwidth": 2,
            "linecolor": "rgb(36,36,36)",
            "showbackground": true,
            "showgrid": false,
            "showline": true,
            "ticks": "outside",
            "zeroline": false,
            "zerolinecolor": "rgb(36,36,36)"
           }
          },
          "shapedefaults": {
           "fillcolor": "black",
           "line": {
            "width": 0
           },
           "opacity": 0.3
          },
          "ternary": {
           "aaxis": {
            "gridcolor": "rgb(232,232,232)",
            "linecolor": "rgb(36,36,36)",
            "showgrid": false,
            "showline": true,
            "ticks": "outside"
           },
           "baxis": {
            "gridcolor": "rgb(232,232,232)",
            "linecolor": "rgb(36,36,36)",
            "showgrid": false,
            "showline": true,
            "ticks": "outside"
           },
           "bgcolor": "white",
           "caxis": {
            "gridcolor": "rgb(232,232,232)",
            "linecolor": "rgb(36,36,36)",
            "showgrid": false,
            "showline": true,
            "ticks": "outside"
           }
          },
          "title": {
           "x": 0.05
          },
          "xaxis": {
           "automargin": true,
           "gridcolor": "rgb(232,232,232)",
           "linecolor": "rgb(36,36,36)",
           "showgrid": false,
           "showline": true,
           "ticks": "outside",
           "title": {
            "standoff": 15
           },
           "zeroline": false,
           "zerolinecolor": "rgb(36,36,36)"
          },
          "yaxis": {
           "automargin": true,
           "gridcolor": "rgb(232,232,232)",
           "linecolor": "rgb(36,36,36)",
           "showgrid": false,
           "showline": true,
           "ticks": "outside",
           "title": {
            "standoff": 15
           },
           "zeroline": false,
           "zerolinecolor": "rgb(36,36,36)"
          }
         }
        },
        "title": {
         "font": {
          "color": "Black",
          "size": 22
         },
         "text": "<b>Intertopic Distance Map</b>",
         "x": 0.5,
         "xanchor": "center",
         "y": 0.95,
         "yanchor": "top"
        },
        "width": 650,
        "xaxis": {
         "anchor": "y",
         "domain": [
          0,
          1
         ],
         "range": [
          -14.371297454833984,
          21.282905197143556
         ],
         "title": {
          "text": ""
         },
         "visible": false
        },
        "yaxis": {
         "anchor": "x",
         "domain": [
          0,
          1
         ],
         "range": [
          -12.101971769332886,
          21.822491931915284
         ],
         "title": {
          "text": ""
         },
         "visible": false
        }
       }
      }
     },
     "metadata": {},
     "output_type": "display_data"
    }
   ],
   "source": [
    "model.visualize_topics()\n"
   ]
  },
  {
   "cell_type": "code",
   "execution_count": 73,
   "metadata": {},
   "outputs": [
    {
     "data": {
      "application/vnd.plotly.v1+json": {
       "config": {
        "plotlyServerURL": "https://plot.ly"
       },
       "data": [
        {
         "marker": {
          "color": "#C8D2D7",
          "line": {
           "color": "#6E8484",
           "width": 1
          }
         },
         "orientation": "h",
         "type": "bar",
         "x": [
          0.036546545193582164,
          0.015155207348779728,
          0.03472662320162941,
          0.015043809430995068,
          0.027270413146823033,
          0.02749210204884768,
          0.015186115653432418
         ],
         "y": [
          "<b>Topic 2</b>: 예정_박수_에스_어미_파면",
          "<b>Topic 10</b>: 집중_목표_하나_여기_렌즈",
          "<b>Topic 12</b>: 시점_죠이_누구_시선_엑스",
          "<b>Topic 23</b>: 예미_원칙_교과서_원리_지금",
          "<b>Topic 24</b>: 양주_급수_대의_이미지_이유",
          "<b>Topic 25</b>: 다섯_거지_겁니다__",
          "<b>Topic 40</b>: 공식_여러분___"
         ]
        }
       ],
       "layout": {
        "height": 600,
        "hoverlabel": {
         "bgcolor": "white",
         "font": {
          "family": "Rockwell",
          "size": 16
         }
        },
        "template": {
         "data": {
          "bar": [
           {
            "error_x": {
             "color": "rgb(36,36,36)"
            },
            "error_y": {
             "color": "rgb(36,36,36)"
            },
            "marker": {
             "line": {
              "color": "white",
              "width": 0.5
             },
             "pattern": {
              "fillmode": "overlay",
              "size": 10,
              "solidity": 0.2
             }
            },
            "type": "bar"
           }
          ],
          "barpolar": [
           {
            "marker": {
             "line": {
              "color": "white",
              "width": 0.5
             },
             "pattern": {
              "fillmode": "overlay",
              "size": 10,
              "solidity": 0.2
             }
            },
            "type": "barpolar"
           }
          ],
          "carpet": [
           {
            "aaxis": {
             "endlinecolor": "rgb(36,36,36)",
             "gridcolor": "white",
             "linecolor": "white",
             "minorgridcolor": "white",
             "startlinecolor": "rgb(36,36,36)"
            },
            "baxis": {
             "endlinecolor": "rgb(36,36,36)",
             "gridcolor": "white",
             "linecolor": "white",
             "minorgridcolor": "white",
             "startlinecolor": "rgb(36,36,36)"
            },
            "type": "carpet"
           }
          ],
          "choropleth": [
           {
            "colorbar": {
             "outlinewidth": 1,
             "tickcolor": "rgb(36,36,36)",
             "ticks": "outside"
            },
            "type": "choropleth"
           }
          ],
          "contour": [
           {
            "colorbar": {
             "outlinewidth": 1,
             "tickcolor": "rgb(36,36,36)",
             "ticks": "outside"
            },
            "colorscale": [
             [
              0,
              "#440154"
             ],
             [
              0.1111111111111111,
              "#482878"
             ],
             [
              0.2222222222222222,
              "#3e4989"
             ],
             [
              0.3333333333333333,
              "#31688e"
             ],
             [
              0.4444444444444444,
              "#26828e"
             ],
             [
              0.5555555555555556,
              "#1f9e89"
             ],
             [
              0.6666666666666666,
              "#35b779"
             ],
             [
              0.7777777777777778,
              "#6ece58"
             ],
             [
              0.8888888888888888,
              "#b5de2b"
             ],
             [
              1,
              "#fde725"
             ]
            ],
            "type": "contour"
           }
          ],
          "contourcarpet": [
           {
            "colorbar": {
             "outlinewidth": 1,
             "tickcolor": "rgb(36,36,36)",
             "ticks": "outside"
            },
            "type": "contourcarpet"
           }
          ],
          "heatmap": [
           {
            "colorbar": {
             "outlinewidth": 1,
             "tickcolor": "rgb(36,36,36)",
             "ticks": "outside"
            },
            "colorscale": [
             [
              0,
              "#440154"
             ],
             [
              0.1111111111111111,
              "#482878"
             ],
             [
              0.2222222222222222,
              "#3e4989"
             ],
             [
              0.3333333333333333,
              "#31688e"
             ],
             [
              0.4444444444444444,
              "#26828e"
             ],
             [
              0.5555555555555556,
              "#1f9e89"
             ],
             [
              0.6666666666666666,
              "#35b779"
             ],
             [
              0.7777777777777778,
              "#6ece58"
             ],
             [
              0.8888888888888888,
              "#b5de2b"
             ],
             [
              1,
              "#fde725"
             ]
            ],
            "type": "heatmap"
           }
          ],
          "heatmapgl": [
           {
            "colorbar": {
             "outlinewidth": 1,
             "tickcolor": "rgb(36,36,36)",
             "ticks": "outside"
            },
            "colorscale": [
             [
              0,
              "#440154"
             ],
             [
              0.1111111111111111,
              "#482878"
             ],
             [
              0.2222222222222222,
              "#3e4989"
             ],
             [
              0.3333333333333333,
              "#31688e"
             ],
             [
              0.4444444444444444,
              "#26828e"
             ],
             [
              0.5555555555555556,
              "#1f9e89"
             ],
             [
              0.6666666666666666,
              "#35b779"
             ],
             [
              0.7777777777777778,
              "#6ece58"
             ],
             [
              0.8888888888888888,
              "#b5de2b"
             ],
             [
              1,
              "#fde725"
             ]
            ],
            "type": "heatmapgl"
           }
          ],
          "histogram": [
           {
            "marker": {
             "line": {
              "color": "white",
              "width": 0.6
             }
            },
            "type": "histogram"
           }
          ],
          "histogram2d": [
           {
            "colorbar": {
             "outlinewidth": 1,
             "tickcolor": "rgb(36,36,36)",
             "ticks": "outside"
            },
            "colorscale": [
             [
              0,
              "#440154"
             ],
             [
              0.1111111111111111,
              "#482878"
             ],
             [
              0.2222222222222222,
              "#3e4989"
             ],
             [
              0.3333333333333333,
              "#31688e"
             ],
             [
              0.4444444444444444,
              "#26828e"
             ],
             [
              0.5555555555555556,
              "#1f9e89"
             ],
             [
              0.6666666666666666,
              "#35b779"
             ],
             [
              0.7777777777777778,
              "#6ece58"
             ],
             [
              0.8888888888888888,
              "#b5de2b"
             ],
             [
              1,
              "#fde725"
             ]
            ],
            "type": "histogram2d"
           }
          ],
          "histogram2dcontour": [
           {
            "colorbar": {
             "outlinewidth": 1,
             "tickcolor": "rgb(36,36,36)",
             "ticks": "outside"
            },
            "colorscale": [
             [
              0,
              "#440154"
             ],
             [
              0.1111111111111111,
              "#482878"
             ],
             [
              0.2222222222222222,
              "#3e4989"
             ],
             [
              0.3333333333333333,
              "#31688e"
             ],
             [
              0.4444444444444444,
              "#26828e"
             ],
             [
              0.5555555555555556,
              "#1f9e89"
             ],
             [
              0.6666666666666666,
              "#35b779"
             ],
             [
              0.7777777777777778,
              "#6ece58"
             ],
             [
              0.8888888888888888,
              "#b5de2b"
             ],
             [
              1,
              "#fde725"
             ]
            ],
            "type": "histogram2dcontour"
           }
          ],
          "mesh3d": [
           {
            "colorbar": {
             "outlinewidth": 1,
             "tickcolor": "rgb(36,36,36)",
             "ticks": "outside"
            },
            "type": "mesh3d"
           }
          ],
          "parcoords": [
           {
            "line": {
             "colorbar": {
              "outlinewidth": 1,
              "tickcolor": "rgb(36,36,36)",
              "ticks": "outside"
             }
            },
            "type": "parcoords"
           }
          ],
          "pie": [
           {
            "automargin": true,
            "type": "pie"
           }
          ],
          "scatter": [
           {
            "fillpattern": {
             "fillmode": "overlay",
             "size": 10,
             "solidity": 0.2
            },
            "type": "scatter"
           }
          ],
          "scatter3d": [
           {
            "line": {
             "colorbar": {
              "outlinewidth": 1,
              "tickcolor": "rgb(36,36,36)",
              "ticks": "outside"
             }
            },
            "marker": {
             "colorbar": {
              "outlinewidth": 1,
              "tickcolor": "rgb(36,36,36)",
              "ticks": "outside"
             }
            },
            "type": "scatter3d"
           }
          ],
          "scattercarpet": [
           {
            "marker": {
             "colorbar": {
              "outlinewidth": 1,
              "tickcolor": "rgb(36,36,36)",
              "ticks": "outside"
             }
            },
            "type": "scattercarpet"
           }
          ],
          "scattergeo": [
           {
            "marker": {
             "colorbar": {
              "outlinewidth": 1,
              "tickcolor": "rgb(36,36,36)",
              "ticks": "outside"
             }
            },
            "type": "scattergeo"
           }
          ],
          "scattergl": [
           {
            "marker": {
             "colorbar": {
              "outlinewidth": 1,
              "tickcolor": "rgb(36,36,36)",
              "ticks": "outside"
             }
            },
            "type": "scattergl"
           }
          ],
          "scattermapbox": [
           {
            "marker": {
             "colorbar": {
              "outlinewidth": 1,
              "tickcolor": "rgb(36,36,36)",
              "ticks": "outside"
             }
            },
            "type": "scattermapbox"
           }
          ],
          "scatterpolar": [
           {
            "marker": {
             "colorbar": {
              "outlinewidth": 1,
              "tickcolor": "rgb(36,36,36)",
              "ticks": "outside"
             }
            },
            "type": "scatterpolar"
           }
          ],
          "scatterpolargl": [
           {
            "marker": {
             "colorbar": {
              "outlinewidth": 1,
              "tickcolor": "rgb(36,36,36)",
              "ticks": "outside"
             }
            },
            "type": "scatterpolargl"
           }
          ],
          "scatterternary": [
           {
            "marker": {
             "colorbar": {
              "outlinewidth": 1,
              "tickcolor": "rgb(36,36,36)",
              "ticks": "outside"
             }
            },
            "type": "scatterternary"
           }
          ],
          "surface": [
           {
            "colorbar": {
             "outlinewidth": 1,
             "tickcolor": "rgb(36,36,36)",
             "ticks": "outside"
            },
            "colorscale": [
             [
              0,
              "#440154"
             ],
             [
              0.1111111111111111,
              "#482878"
             ],
             [
              0.2222222222222222,
              "#3e4989"
             ],
             [
              0.3333333333333333,
              "#31688e"
             ],
             [
              0.4444444444444444,
              "#26828e"
             ],
             [
              0.5555555555555556,
              "#1f9e89"
             ],
             [
              0.6666666666666666,
              "#35b779"
             ],
             [
              0.7777777777777778,
              "#6ece58"
             ],
             [
              0.8888888888888888,
              "#b5de2b"
             ],
             [
              1,
              "#fde725"
             ]
            ],
            "type": "surface"
           }
          ],
          "table": [
           {
            "cells": {
             "fill": {
              "color": "rgb(237,237,237)"
             },
             "line": {
              "color": "white"
             }
            },
            "header": {
             "fill": {
              "color": "rgb(217,217,217)"
             },
             "line": {
              "color": "white"
             }
            },
            "type": "table"
           }
          ]
         },
         "layout": {
          "annotationdefaults": {
           "arrowhead": 0,
           "arrowwidth": 1
          },
          "autotypenumbers": "strict",
          "coloraxis": {
           "colorbar": {
            "outlinewidth": 1,
            "tickcolor": "rgb(36,36,36)",
            "ticks": "outside"
           }
          },
          "colorscale": {
           "diverging": [
            [
             0,
             "rgb(103,0,31)"
            ],
            [
             0.1,
             "rgb(178,24,43)"
            ],
            [
             0.2,
             "rgb(214,96,77)"
            ],
            [
             0.3,
             "rgb(244,165,130)"
            ],
            [
             0.4,
             "rgb(253,219,199)"
            ],
            [
             0.5,
             "rgb(247,247,247)"
            ],
            [
             0.6,
             "rgb(209,229,240)"
            ],
            [
             0.7,
             "rgb(146,197,222)"
            ],
            [
             0.8,
             "rgb(67,147,195)"
            ],
            [
             0.9,
             "rgb(33,102,172)"
            ],
            [
             1,
             "rgb(5,48,97)"
            ]
           ],
           "sequential": [
            [
             0,
             "#440154"
            ],
            [
             0.1111111111111111,
             "#482878"
            ],
            [
             0.2222222222222222,
             "#3e4989"
            ],
            [
             0.3333333333333333,
             "#31688e"
            ],
            [
             0.4444444444444444,
             "#26828e"
            ],
            [
             0.5555555555555556,
             "#1f9e89"
            ],
            [
             0.6666666666666666,
             "#35b779"
            ],
            [
             0.7777777777777778,
             "#6ece58"
            ],
            [
             0.8888888888888888,
             "#b5de2b"
            ],
            [
             1,
             "#fde725"
            ]
           ],
           "sequentialminus": [
            [
             0,
             "#440154"
            ],
            [
             0.1111111111111111,
             "#482878"
            ],
            [
             0.2222222222222222,
             "#3e4989"
            ],
            [
             0.3333333333333333,
             "#31688e"
            ],
            [
             0.4444444444444444,
             "#26828e"
            ],
            [
             0.5555555555555556,
             "#1f9e89"
            ],
            [
             0.6666666666666666,
             "#35b779"
            ],
            [
             0.7777777777777778,
             "#6ece58"
            ],
            [
             0.8888888888888888,
             "#b5de2b"
            ],
            [
             1,
             "#fde725"
            ]
           ]
          },
          "colorway": [
           "#1F77B4",
           "#FF7F0E",
           "#2CA02C",
           "#D62728",
           "#9467BD",
           "#8C564B",
           "#E377C2",
           "#7F7F7F",
           "#BCBD22",
           "#17BECF"
          ],
          "font": {
           "color": "rgb(36,36,36)"
          },
          "geo": {
           "bgcolor": "white",
           "lakecolor": "white",
           "landcolor": "white",
           "showlakes": true,
           "showland": true,
           "subunitcolor": "white"
          },
          "hoverlabel": {
           "align": "left"
          },
          "hovermode": "closest",
          "mapbox": {
           "style": "light"
          },
          "paper_bgcolor": "white",
          "plot_bgcolor": "white",
          "polar": {
           "angularaxis": {
            "gridcolor": "rgb(232,232,232)",
            "linecolor": "rgb(36,36,36)",
            "showgrid": false,
            "showline": true,
            "ticks": "outside"
           },
           "bgcolor": "white",
           "radialaxis": {
            "gridcolor": "rgb(232,232,232)",
            "linecolor": "rgb(36,36,36)",
            "showgrid": false,
            "showline": true,
            "ticks": "outside"
           }
          },
          "scene": {
           "xaxis": {
            "backgroundcolor": "white",
            "gridcolor": "rgb(232,232,232)",
            "gridwidth": 2,
            "linecolor": "rgb(36,36,36)",
            "showbackground": true,
            "showgrid": false,
            "showline": true,
            "ticks": "outside",
            "zeroline": false,
            "zerolinecolor": "rgb(36,36,36)"
           },
           "yaxis": {
            "backgroundcolor": "white",
            "gridcolor": "rgb(232,232,232)",
            "gridwidth": 2,
            "linecolor": "rgb(36,36,36)",
            "showbackground": true,
            "showgrid": false,
            "showline": true,
            "ticks": "outside",
            "zeroline": false,
            "zerolinecolor": "rgb(36,36,36)"
           },
           "zaxis": {
            "backgroundcolor": "white",
            "gridcolor": "rgb(232,232,232)",
            "gridwidth": 2,
            "linecolor": "rgb(36,36,36)",
            "showbackground": true,
            "showgrid": false,
            "showline": true,
            "ticks": "outside",
            "zeroline": false,
            "zerolinecolor": "rgb(36,36,36)"
           }
          },
          "shapedefaults": {
           "fillcolor": "black",
           "line": {
            "width": 0
           },
           "opacity": 0.3
          },
          "ternary": {
           "aaxis": {
            "gridcolor": "rgb(232,232,232)",
            "linecolor": "rgb(36,36,36)",
            "showgrid": false,
            "showline": true,
            "ticks": "outside"
           },
           "baxis": {
            "gridcolor": "rgb(232,232,232)",
            "linecolor": "rgb(36,36,36)",
            "showgrid": false,
            "showline": true,
            "ticks": "outside"
           },
           "bgcolor": "white",
           "caxis": {
            "gridcolor": "rgb(232,232,232)",
            "linecolor": "rgb(36,36,36)",
            "showgrid": false,
            "showline": true,
            "ticks": "outside"
           }
          },
          "title": {
           "x": 0.05
          },
          "xaxis": {
           "automargin": true,
           "gridcolor": "rgb(232,232,232)",
           "linecolor": "rgb(36,36,36)",
           "showgrid": false,
           "showline": true,
           "ticks": "outside",
           "title": {
            "standoff": 15
           },
           "zeroline": false,
           "zerolinecolor": "rgb(36,36,36)"
          },
          "yaxis": {
           "automargin": true,
           "gridcolor": "rgb(232,232,232)",
           "linecolor": "rgb(36,36,36)",
           "showgrid": false,
           "showline": true,
           "ticks": "outside",
           "title": {
            "standoff": 15
           },
           "zeroline": false,
           "zerolinecolor": "rgb(36,36,36)"
          }
         }
        },
        "title": {
         "font": {
          "color": "Black",
          "size": 22
         },
         "text": "<b>Topic Probability Distribution</b>",
         "x": 0.5,
         "xanchor": "center",
         "y": 0.95,
         "yanchor": "top"
        },
        "width": 800,
        "xaxis": {
         "title": {
          "text": "Probability"
         }
        }
       }
      }
     },
     "metadata": {},
     "output_type": "display_data"
    }
   ],
   "source": [
    "model.visualize_distribution(probs[0])\n"
   ]
  },
  {
   "cell_type": "code",
   "execution_count": 74,
   "metadata": {},
   "outputs": [
    {
     "name": "stdout",
     "output_type": "stream",
     "text": [
      "0 번째 토픽 : [('인수', 0.03092274552523218), ('제곱', 0.028094043900919425), ('분해', 0.026984671247785644), ('플러스', 0.02356075948419046), ('하나', 0.02002584907306349), ('공식', 0.01894297966310428), ('이용', 0.018942818935379233), ('분자', 0.01787327825703319), ('수분', 0.01704720746029579), ('복소수', 0.0165941444891013)]\n",
      "1 번째 토픽 : [('나머지', 0.01937214029713615), ('이거', 0.019266592809407627), ('다음', 0.0166420521871706), ('선생', 0.014723377534046716), ('여기', 0.014134551102670213), ('제곱', 0.014034810688259952), ('플러스', 0.013566203591887543), ('생각', 0.012355872174402644), ('이게', 0.011773599451036077), ('얘기', 0.011682082200124845)]\n",
      "2 번째 토픽 : [('예정', 0.09616628283655299), ('박수', 0.06818710218189587), ('에스', 0.054593371522327426), ('어미', 0.054593371522327426), ('파면', 0.054593371522327426), ('회답', 0.054593371522327426), ('식이', 0.054593371522327426), ('과일', 0.054593371522327426), ('환영', 0.054593371522327426), ('타령', 0.054593371522327426)]\n",
      "3 번째 토픽 : [('수학', 0.059507154354550146), ('중학교', 0.04769119441083245), ('공부', 0.04059337588460703), ('과정', 0.03813082011254064), ('고등학교', 0.03680413960575802), ('학년', 0.03397305194377663), ('여러분', 0.031803615539168224), ('기본', 0.02898283664649082), ('학생', 0.027389211508644196), ('시간', 0.025248767423344354)]\n",
      "4 번째 토픽 : [('얘기', 0.037321379986234915), ('공동', 0.036675747032465), ('여기', 0.03289967383215619), ('이거', 0.03165532783164049), ('아무', 0.028916481243576927), ('수도', 0.02747314584935361), ('와인', 0.02445049802164333), ('만약', 0.024009280587215256), ('처리', 0.022421087784687436), ('소스', 0.021870008397143353)]\n",
      "5 번째 토픽 : [('우린', 0.05690017276961911), ('준비', 0.04663117955665137), ('미라', 0.03733482181526908), ('점수', 0.03733482181526908), ('오거', 0.03733482181526908), ('오방', 0.03733482181526908), ('위치', 0.03733482181526908), ('여유', 0.03733482181526908), ('기저', 0.03733482181526908), ('악마', 0.03733482181526908)]\n",
      "6 번째 토픽 : [('냄새', 0.12656942859899417), ('라지', 0.07082095061700426), ('마음', 0.06798430566763856), ('양파', 0.06429885979296342), ('놀이', 0.06429885979296342), ('공정', 0.06429885979296342), ('행복', 0.06429885979296342), ('거주', 0.06429885979296342), ('히말라야', 0.06429885979296342), ('간장', 0.06429885979296342)]\n",
      "7 번째 토픽 : [('시비', 0.03409239458419604), ('와이프', 0.029496745081240675), ('높이', 0.026825143184943192), ('공통', 0.026790868531410394), ('여기', 0.025663428436848178), ('때문', 0.025058262323505116), ('이거', 0.02421791385112964), ('저희', 0.0197147738412694), ('분의', 0.019550690553693833), ('비례제', 0.01935417184403581)]\n",
      "8 번째 토픽 : [('이거', 0.14198345571544632), ('그게', 0.10282746926297391), ('마지막', 0.09126821702484213), ('전격', 0.08510143207892217), ('이게', 0.08216335445776514), ('현재', 0.07495313221084277), ('우리', 0.07212303201496043), ('파일', 0.0690353135252358), ('시조', 0.0690353135252358), ('얘긴', 0.0690353135252358)]\n",
      "9 번째 토픽 : [('마음', 0.037308460427362626), ('얼마', 0.03665565705784147), ('흑발', 0.03528595964247993), ('클라', 0.03528595964247993), ('만담', 0.03528595964247993), ('맥주', 0.03528595964247993), ('멜크', 0.03528595964247993), ('돼지', 0.03528595964247993), ('우면', 0.03528595964247993), ('나니', 0.03528595964247993)]\n",
      "10 번째 토픽 : [('집중', 0.09241124019364416), ('목표', 0.06718380087028122), ('하나', 0.053626225228271915), ('여기', 0.05317647333761334), ('렌즈', 0.05213421064294331), ('총회', 0.05213421064294331), ('여객', 0.05213421064294331), ('매트', 0.05213421064294331), ('예랑', 0.05213421064294331), ('일밤', 0.05213421064294331)]\n",
      "11 번째 토픽 : [('절반', 0.11110163951213355), ('얼마', 0.10864206790637351), ('뭔데', 0.1062593587866381), ('이게', 0.09424037764312337), ('자체', 0.08708232326844534), ('뭡니까', 0.07850835031377065), ('이거', 0.07754919669598674), ('전자', 0.06972165519718926), ('영토', 0.06972165519718926), ('여담', 0.06972165519718926)]\n",
      "12 번째 토픽 : [('시점', 0.22257297620641184), ('죠이', 0.22257297620641184), ('누구', 0.1877648866436065), ('시선', 0.18055389691215518), ('엑스', 0.12531140530851856), ('거지', 0.12257472222173814), ('작업', 0.10150220498520225), ('마찬가지', 0.10010344944016861), ('그것', 0.09747167487531126), ('수분', 0.08695084515251462)]\n",
      "13 번째 토픽 : [('세로', 0.08499382273099518), ('가루', 0.0610703554579308), ('이게', 0.05830025846742291), ('겁니다', 0.05114067254026536), ('루트', 0.0509239770568731), ('이향', 0.05032084679449311), ('중국인', 0.05032084679449311), ('양식', 0.05032084679449311), ('미풍', 0.05032084679449311), ('무기', 0.05032084679449311)]\n",
      "14 번째 토픽 : [('단계', 0.1273456998677496), ('댓글', 0.12060077562066172), ('다섯', 0.11293488798876504), ('가량', 0.09042027158385481), ('증거', 0.09042027158385481), ('쟁점', 0.09042027158385481), ('유사', 0.09042027158385481), ('유리아', 0.09042027158385481), ('여섯', 0.09042027158385481), ('야권', 0.09042027158385481)]\n",
      "15 번째 토픽 : [('단계', 0.08907240209328934), ('관련', 0.08886679710591347), ('무엇', 0.0632659806534619), ('문제', 0.06248317626321855), ('겁니다', 0.06025796457100938), ('복습', 0.05924453140394232), ('정리', 0.056346953495748676), ('이야기', 0.053843532303511195), ('여관', 0.047433585093169736), ('치인', 0.047433585093169736)]\n",
      "16 번째 토픽 : [('세타', 0.10966767495001788), ('엇각', 0.08510143207892217), ('엘마', 0.08510143207892217), ('어유', 0.08510143207892217), ('정리', 0.08087445089978046), ('정비', 0.07495313221084277), ('인술', 0.0690353135252358), ('일상', 0.0690353135252358), ('게요', 0.06484946161243355), ('등장', 0.06484946161243355)]\n",
      "17 번째 토픽 : [('연속', 0.04884761067642717), ('상승', 0.04734388317432945), ('양변', 0.04370307568816245), ('전체', 0.04153644848847216), ('성질', 0.03659087110940109), ('이래', 0.03659087110940109), ('제곱', 0.03554668209253612), ('인사', 0.03502496861265508), ('제국', 0.034572803444741375), ('우변', 0.030668519116428126)]\n",
      "18 번째 토픽 : [('소수', 0.16717160552136776), ('내용', 0.11098686170364269), ('이치', 0.1071647663216057), ('다만', 0.1071647663216057), ('만능', 0.1071647663216057), ('비가', 0.1071647663216057), ('결계', 0.1071647663216057), ('걱정', 0.09438542574698718), ('오염', 0.09438542574698718), ('정책', 0.09438542574698718)]\n",
      "19 번째 토픽 : [('히로', 0.1205603621118064), ('오우', 0.1205603621118064), ('러스트', 0.1205603621118064), ('유류', 0.1205603621118064), ('분량', 0.1205603621118064), ('프랑스', 0.10618360396536058), ('오븐', 0.10618360396536058), ('블러', 0.09780002749408404), ('스푼', 0.09780002749408404), ('로드', 0.09780002749408404)]\n",
      "20 번째 토픽 : [('경험', 0.06784251368685355), ('단원', 0.05260332134099745), ('교제', 0.044514595241282366), ('브레인', 0.044514595241282366), ('로스', 0.044514595241282366), ('이광재', 0.044514595241282366), ('주제곡', 0.044514595241282366), ('먼저', 0.044514595241282366), ('기로', 0.044514595241282366), ('전환', 0.044514595241282366)]\n",
      "21 번째 토픽 : [('', 1e-05), ('', 1e-05), ('', 1e-05), ('', 1e-05), ('', 1e-05), ('', 1e-05), ('', 1e-05), ('', 1e-05), ('', 1e-05), ('', 1e-05)]\n",
      "22 번째 토픽 : [('상황', 0.07901001054450625), ('화한', 0.07325186558692034), ('약본', 0.07325186558692034), ('악대', 0.07325186558692034), ('최대한', 0.07325186558692034), ('책의', 0.07325186558692034), ('타이틀', 0.07325186558692034), ('우승', 0.07325186558692034), ('문제', 0.07236975478587972), ('바깥', 0.064516620130852)]\n",
      "23 번째 토픽 : [('예미', 0.16533992518190593), ('원칙', 0.119704421200755), ('교과서', 0.10653431280858879), ('원리', 0.10325475473258518), ('지금', 0.09529075087326747), ('제곱근', 0.08274864794877022), ('그거', 0.07880806647395837), ('녀석', 0.07648623119584233), ('말씀', 0.0743625624412681), ('이거', 0.06896339277607393)]\n",
      "24 번째 토픽 : [('양주', 0.4451459524128237), ('급수', 0.4451459524128237), ('대의', 0.36110779382431035), ('이미지', 0.30848914662684673), ('이유', 0.2121755635837341), ('생각', 0.17256897056958342), ('여러분', 0.13172104735453075), ('이것', 0.10272728341080627), ('문제', 0.07329757215492945), ('인수', 0.05062755297768308)]\n",
      "25 번째 토픽 : [('다섯', 1.2046388052134938), ('거지', 1.0623142592550638), ('겁니다', 0.49009811184420965), ('', 1e-05), ('', 1e-05), ('', 1e-05), ('', 1e-05), ('', 1e-05), ('', 1e-05), ('', 1e-05)]\n",
      "26 번째 토픽 : [('형태', 0.10194389592909436), ('복소수', 0.096130057457025), ('가루', 0.05663782965856485), ('지금', 0.05379316581555421), ('대로', 0.05254994416163681), ('존재', 0.05254994416163681), ('만족', 0.0484128611775224), ('조부모', 0.04666852726908635), ('고역', 0.04666852726908635), ('임의', 0.04666852726908635)]\n",
      "27 번째 토픽 : [('의미', 0.213982859132814), ('이모', 0.21236720793072117), ('하루', 0.18374014123522836), ('사랑', 0.17456894758443436), ('시간', 0.15374695877429329), ('이걸로', 0.15057985065168672), ('시계', 0.1274705731268223), ('이수근', 0.12506655804193287), ('뭔가', 0.12067511159195657), ('상태', 0.11492843027452262)]\n",
      "28 번째 토픽 : [('제곱', 0.1391045160621208), ('다항식', 0.10474489847804595), ('세제곱', 0.10316613660172119), ('네모', 0.0926940579632994), ('용제', 0.07325186558692034), ('이겁니다', 0.07325186558692034), ('영입', 0.07325186558692034), ('육아', 0.064516620130852), ('세모', 0.060355074048967595), ('은의', 0.05942280151539284)]\n",
      "29 번째 토픽 : [('법칙', 0.10215619036440021), ('수분', 0.09290638249172795), ('분배', 0.09137469261820168), ('분해', 0.08690206705700333), ('바움', 0.07927256686803709), ('인수', 0.07212692479012382), ('당시', 0.07035052902996625), ('차수', 0.06981935603201792), ('국내', 0.06430686739337033), ('방법', 0.06176227148102056)]\n",
      "30 번째 토픽 : [('연결', 0.0729110770315901), ('묶음', 0.06853140612724137), ('가운데', 0.061513591704173726), ('노조', 0.042240126871289835), ('이은숙', 0.042240126871289835), ('사장', 0.042240126871289835), ('아궁', 0.042240126871289835), ('하우스', 0.042240126871289835), ('열전', 0.042240126871289835), ('불어', 0.042240126871289835)]\n",
      "31 번째 토픽 : [('고지', 0.13152039503106155), ('영속', 0.13152039503106155), ('덧셈', 0.10669093908445533), ('절반', 0.10478904635803506), ('용어', 0.10022189521921548), ('사망', 0.10022189521921548), ('요게', 0.09521942595514603), ('대부분', 0.09114452059429563), ('멜빵', 0.09114452059429563), ('스텝', 0.08474320337046835)]\n",
      "32 번째 토픽 : [('학생', 0.1334245874921096), ('단계', 0.1293670601831107), ('중학교', 0.12227591950446515), ('질문', 0.10587861208140828), ('오늘', 0.09907604496850783), ('어부', 0.09185551398994773), ('개봉', 0.09185551398994773), ('현단', 0.09185551398994773), ('이야긴데', 0.09185551398994773), ('계제', 0.09185551398994773)]\n",
      "33 번째 토픽 : [('바퀴', 0.4182643341711748), ('반지름', 0.3264813191276608), ('궤적', 0.2067195312447942), ('원점', 0.14518766968193922), ('이탈', 0.13638443473130354), ('정도', 0.10588842513788735), ('정의역', 0.10574894496386085), ('공력', 0.0795716457703335), ('해당', 0.07688043192372387), ('세계', 0.0671772482066285)]\n",
      "34 번째 토픽 : [('거랑', 0.1202619916137808), ('플러스마이너스', 0.11504351882852294), ('가로', 0.11326782615118448), ('고분', 0.10918674304465485), ('포토', 0.10918674304465485), ('기념', 0.10918674304465485), ('포엠', 0.10918674304465485), ('인데', 0.10918674304465485), ('유근', 0.10918674304465485), ('염료', 0.10918674304465485)]\n",
      "35 번째 토픽 : [('천억', 0.8266996259095296), ('프로톤', 0.8266996259095296), ('반대', 0.5326715640429439), ('분배', 0.4764537543663373), ('문제', 0.1361240625734404), ('여러분', 0.12231240111492139), ('이거', 0.1149389879601232), ('', 1e-05), ('', 1e-05), ('', 1e-05)]\n",
      "36 번째 토픽 : [('통로', 0.2756589157043696), ('요단', 0.2066749064773824), ('오드', 0.2066749064773824), ('목격', 0.2066749064773824), ('어서', 0.2066749064773824), ('청크', 0.2066749064773824), ('전시', 0.2066749064773824), ('할아버지', 0.18202903536918957), ('이영희', 0.18202903536918957), ('요우', 0.18202903536918957)]\n",
      "37 번째 토픽 : [('동그라미', 0.23549690199793313), ('세모', 0.17566503131094252), ('네모', 0.12847071191404652), ('더하기', 0.1079752385420474), ('계산', 0.07053449120548719), ('하나', 0.0626580105298756), ('한상', 0.06091470927754429), ('데모', 0.06091470927754429), ('책임', 0.06091470927754429), ('의지', 0.05365066305618219)]\n",
      "38 번째 토픽 : [('신뢰', 0.13963871206403583), ('조건', 0.1388637559867448), ('강조', 0.12861373478674065), ('무언가', 0.1208154353327529), ('오른쪽', 0.10987284674380841), ('적용', 0.0936771475935571), ('조립', 0.08074955313067878), ('바래', 0.07927256686803709), ('하드', 0.07927256686803709), ('식과', 0.07927256686803709)]\n",
      "39 번째 토픽 : [('주위', 0.20387251961349231), ('한국', 0.167586189681057), ('자금', 0.16041435624596032), ('겁니까', 0.15436899279444702), ('포인트', 0.14455665662561926), ('요것', 0.14455665662561926), ('거지', 0.12747771111060766), ('소리', 0.12747771111060766), ('여기', 0.11805177080950163), ('시자', 0.11789434757079102)]\n",
      "40 번째 토픽 : [('공식', 0.6047721655405884), ('여러분', 0.2853956026014832), ('', 1e-05), ('', 1e-05), ('', 1e-05), ('', 1e-05), ('', 1e-05), ('', 1e-05), ('', 1e-05), ('', 1e-05)]\n",
      "41 번째 토픽 : [('결론', 0.3353143799797167), ('요건', 0.2992610530018875), ('이제', 0.24422970622605955), ('고요', 0.23272118128724872), ('그때', 0.2105256206621268), ('전개', 0.17818506947331922), ('계산', 0.159542301536221), ('가지', 0.151900500723019), ('다음', 0.10791492225718077), ('방법', 0.10734870995510716)]\n",
      "42 번째 토픽 : [('결국', 0.11222728856859238), ('방정식', 0.10197471960493391), ('예시', 0.06651606185478974), ('얘긴데', 0.06651606185478974), ('일반', 0.06441186982377704), ('가영', 0.05858405736019894), ('복소', 0.05858405736019894), ('중요', 0.052430489636357394), ('결과', 0.05188084309283827), ('제품', 0.05068693551316645)]\n",
      "43 번째 토픽 : [('영업자', 0.19954818556436923), ('배경', 0.17575217208059682), ('건데요', 0.17575217208059682), ('매핑', 0.16187590757641496), ('가이', 0.16187590757641496), ('형태', 0.1452993459219276), ('본격', 0.144470853173325), ('증명', 0.13307671792624742), ('영상', 0.12461780743587866), ('하나', 0.12315540000699689)]\n",
      "44 번째 토픽 : [('직교', 0.1205603621118064), ('고무', 0.10618360396536058), ('극좌표', 0.10618360396536058), ('형태', 0.08778502149449792), ('표기', 0.08728447379221718), ('일부분', 0.08728447379221718), ('공력', 0.08040051708044114), ('좌표', 0.07768126975626266), ('불의', 0.07768126975626266), ('공동', 0.07768126975626266)]\n",
      "45 번째 토픽 : [('이쪽', 0.6670352561128723), ('확인', 0.46107180397535424), ('이것', 0.26709093686809626), ('이걸', 0.2645770291158942), ('이거', 0.1609145831441725), ('', 1e-05), ('', 1e-05), ('', 1e-05), ('', 1e-05), ('', 1e-05)]\n",
      "46 번째 토픽 : [('대표', 0.4822414484472256), ('일까', 0.42473441586144234), ('여자', 0.33419657551241727), ('관련', 0.30115970130337344), ('가루', 0.29262878656925173), ('표현', 0.198668785411185), ('이게', 0.18623693677093428), ('이야기', 0.13685231127142428), ('이걸', 0.11024042879828924), ('공식', 0.07559652069257355)]\n",
      "47 번째 토픽 : [('고부', 0.4133498129547648), ('뭘로', 0.26633578202147196), ('그것', 0.18101882476843517), ('이상', 0.17228570564142232), ('어디', 0.17228570564142232), ('표현', 0.1702875303524443), ('우리', 0.11677062326231685), ('방법', 0.10734870995510716), ('이걸', 0.09449179611281935), ('방정식', 0.07921250540740402)]\n",
      "48 번째 토픽 : [('파자', 0.2755665419698432), ('렉스', 0.24270538049225276), ('해석', 0.199507368667925), ('교과서', 0.17755718801431464), ('상황', 0.14861406745276176), ('영어', 0.1356101020703509), ('제거', 0.11623540601747066), ('수분', 0.10765342733168476), ('결과', 0.10746746069230784), ('플러스', 0.10180137681890815)]\n",
      "49 번째 토픽 : False\n"
     ]
    }
   ],
   "source": [
    "for i in range(0, 50):\n",
    "  print(i,'번째 토픽 :', model.get_topic(i))"
   ]
  },
  {
   "cell_type": "code",
   "execution_count": null,
   "metadata": {},
   "outputs": [],
   "source": []
  },
  {
   "cell_type": "code",
   "execution_count": null,
   "metadata": {},
   "outputs": [],
   "source": []
  },
  {
   "cell_type": "code",
   "execution_count": null,
   "metadata": {},
   "outputs": [],
   "source": []
  }
 ],
 "metadata": {
  "kernelspec": {
   "display_name": "venv",
   "language": "python",
   "name": "python3"
  },
  "language_info": {
   "codemirror_mode": {
    "name": "ipython",
    "version": 3
   },
   "file_extension": ".py",
   "mimetype": "text/x-python",
   "name": "python",
   "nbconvert_exporter": "python",
   "pygments_lexer": "ipython3",
   "version": "3.10.11"
  },
  "orig_nbformat": 4
 },
 "nbformat": 4,
 "nbformat_minor": 2
}
