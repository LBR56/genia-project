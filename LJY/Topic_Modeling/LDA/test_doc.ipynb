{
 "cells": [
  {
   "attachments": {},
   "cell_type": "markdown",
   "metadata": {},
   "source": [
    "## LDA Topic Modeling \n",
    "    - TEST DOC"
   ]
  },
  {
   "cell_type": "code",
   "execution_count": 1,
   "metadata": {},
   "outputs": [],
   "source": [
    "import pandas as pd\n",
    "import numpy as np\n",
    "from tqdm.notebook import tqdm\n",
    "from hanspell import spell_checker\n",
    "\n",
    "from Preprocess import load\n",
    "from Preprocess.load import DataLoad\n",
    "from Preprocess.text_preprocess import Preprocess\n",
    "from Model.evaluate import get_best_topics_df, lda_visualize, get_topics_df\n",
    "from Model.model import LDAModeling\n",
    "\n",
    "from gensim.models.ldamodel import LdaModel\n",
    "from gensim import corpora\n",
    "import pyLDAvis.gensim_models as gensimvis\n",
    "import pyLDAvis"
   ]
  },
  {
   "cell_type": "code",
   "execution_count": 2,
   "metadata": {},
   "outputs": [],
   "source": [
    "loader = DataLoad(\n",
    "    tran_path=\"./Data/csv/sample_transcripts.csv\",\n",
    "    meta_path=\"./Data/csv/sample_videos.csv\"\n",
    ")"
   ]
  },
  {
   "cell_type": "code",
   "execution_count": 3,
   "metadata": {},
   "outputs": [
    {
     "name": "stdout",
     "output_type": "stream",
     "text": [
      "30\n",
      "30\n"
     ]
    }
   ],
   "source": [
    "texts_dict_popular, texts_dict_unpopular = loader.get_data_set()\n",
    "print(len(texts_dict_popular))\n",
    "print(len(texts_dict_unpopular))"
   ]
  },
  {
   "cell_type": "code",
   "execution_count": 28,
   "metadata": {},
   "outputs": [],
   "source": [
    "df = loader.load_transcripts()\n",
    "df_meta = loader.load_meta()"
   ]
  },
  {
   "cell_type": "code",
   "execution_count": 74,
   "metadata": {},
   "outputs": [],
   "source": [
    "idx = [i for i in df_meta['id'] if i not in df[\"video_id\"].tolist()]\n",
    "df_meta = df_meta[df_meta[\"id\"].apply(lambda x : x not in idx)]\n"
   ]
  },
  {
   "cell_type": "code",
   "execution_count": null,
   "metadata": {},
   "outputs": [],
   "source": []
  },
  {
   "cell_type": "code",
   "execution_count": null,
   "metadata": {},
   "outputs": [],
   "source": []
  },
  {
   "cell_type": "code",
   "execution_count": null,
   "metadata": {},
   "outputs": [],
   "source": []
  },
  {
   "cell_type": "code",
   "execution_count": 17,
   "metadata": {},
   "outputs": [
    {
     "data": {
      "text/plain": [
       "[]"
      ]
     },
     "execution_count": 17,
     "metadata": {},
     "output_type": "execute_result"
    }
   ],
   "source": [
    "texts_dict_popular[\"12\"]"
   ]
  },
  {
   "cell_type": "code",
   "execution_count": 6,
   "metadata": {},
   "outputs": [
    {
     "data": {
      "text/plain": [
       "['으 으',\n",
       " '송년 친구들 안녕하세요 사 온 셈입니다 오늘의 학습 목표는 은혜 공식을',\n",
       " '이용하여 이차방정식 의 볼수 있다 입니다',\n",
       " '이차 방정식을 푸는 마지막 방법인 그네 공식을 공부할 거에요',\n",
       " '우리가 지금까지 배운 이차 방정식을 푸는 방법이 뭐가 있었죠',\n",
       " '그쵸 인수분해 를 이용한 방법',\n",
       " '제곱근을 이용한 방법이 있었어요 이제 오늘 그 4강 시까지 배우며',\n",
       " '여러분이 해결하지 못하는 이차 방정식 은 없습니다',\n",
       " '지난 시간에 배웠던 완전 제곱 식을 이용하여 이차 방정식을 푸는 과정을',\n",
       " '복습해 볼게요']"
      ]
     },
     "execution_count": 6,
     "metadata": {},
     "output_type": "execute_result"
    }
   ],
   "source": [
    "texts_dict_unpopular[\"0\"][:10]"
   ]
  },
  {
   "cell_type": "code",
   "execution_count": 7,
   "metadata": {},
   "outputs": [
    {
     "data": {
      "text/plain": [
       "['안녕하세요',\n",
       " '[음악]',\n",
       " '오늘은',\n",
       " '분 술에 선수로 따 5초만에 닦은',\n",
       " '다음 법',\n",
       " '[음악]',\n",
       " '자아',\n",
       " '이거 폼 여는',\n",
       " '클랑 약 0.5 채워 채워줘요',\n",
       " '어떻게 이렇게 빨리 할 수 있느냐']"
      ]
     },
     "execution_count": 7,
     "metadata": {},
     "output_type": "execute_result"
    }
   ],
   "source": [
    "texts_dict_popular[\"0\"][:10]"
   ]
  },
  {
   "cell_type": "code",
   "execution_count": 8,
   "metadata": {},
   "outputs": [],
   "source": [
    "stop_words = loader.load_stopwords()"
   ]
  },
  {
   "cell_type": "code",
   "execution_count": 9,
   "metadata": {},
   "outputs": [],
   "source": [
    "preprocessor = Preprocess(stopwords=stop_words)"
   ]
  },
  {
   "cell_type": "code",
   "execution_count": 10,
   "metadata": {},
   "outputs": [
    {
     "name": "stderr",
     "output_type": "stream",
     "text": [
      "[Kss]: Oh! You have konlpy.tag.Mecab in your environment. Kss will take this as a backend! :D\n",
      "\n"
     ]
    },
    {
     "data": {
      "application/vnd.jupyter.widget-view+json": {
       "model_id": "fa6b67d884484bd9b75e75b942f00ecc",
       "version_major": 2,
       "version_minor": 0
      },
      "text/plain": [
       "  0%|          | 0/42 [00:00<?, ?it/s]"
      ]
     },
     "metadata": {},
     "output_type": "display_data"
    },
    {
     "data": {
      "application/vnd.jupyter.widget-view+json": {
       "model_id": "45655f34aad34c8884ce728f38cbf75e",
       "version_major": 2,
       "version_minor": 0
      },
      "text/plain": [
       "  0%|          | 0/142 [00:00<?, ?it/s]"
      ]
     },
     "metadata": {},
     "output_type": "display_data"
    },
    {
     "data": {
      "application/vnd.jupyter.widget-view+json": {
       "model_id": "7b1654d1823d4813a9159e8e5fbf32cb",
       "version_major": 2,
       "version_minor": 0
      },
      "text/plain": [
       "  0%|          | 0/97 [00:00<?, ?it/s]"
      ]
     },
     "metadata": {},
     "output_type": "display_data"
    },
    {
     "data": {
      "application/vnd.jupyter.widget-view+json": {
       "model_id": "c43073d569664b32acac10d52c915055",
       "version_major": 2,
       "version_minor": 0
      },
      "text/plain": [
       "  0%|          | 0/134 [00:00<?, ?it/s]"
      ]
     },
     "metadata": {},
     "output_type": "display_data"
    },
    {
     "data": {
      "application/vnd.jupyter.widget-view+json": {
       "model_id": "6a911b591309466cbaa9a20afd36a28f",
       "version_major": 2,
       "version_minor": 0
      },
      "text/plain": [
       "  0%|          | 0/44 [00:00<?, ?it/s]"
      ]
     },
     "metadata": {},
     "output_type": "display_data"
    },
    {
     "data": {
      "application/vnd.jupyter.widget-view+json": {
       "model_id": "9f6000531c7c446da5f68b5dd24f263f",
       "version_major": 2,
       "version_minor": 0
      },
      "text/plain": [
       "  0%|          | 0/69 [00:00<?, ?it/s]"
      ]
     },
     "metadata": {},
     "output_type": "display_data"
    },
    {
     "data": {
      "application/vnd.jupyter.widget-view+json": {
       "model_id": "93657d64ecee4247aa037c1029b194e3",
       "version_major": 2,
       "version_minor": 0
      },
      "text/plain": [
       "  0%|          | 0/389 [00:00<?, ?it/s]"
      ]
     },
     "metadata": {},
     "output_type": "display_data"
    },
    {
     "data": {
      "application/vnd.jupyter.widget-view+json": {
       "model_id": "c0c33436dac44b4890335b03378c171e",
       "version_major": 2,
       "version_minor": 0
      },
      "text/plain": [
       "  0%|          | 0/149 [00:00<?, ?it/s]"
      ]
     },
     "metadata": {},
     "output_type": "display_data"
    },
    {
     "data": {
      "application/vnd.jupyter.widget-view+json": {
       "model_id": "b818f8d4d4284f2b8b2f6e8739981708",
       "version_major": 2,
       "version_minor": 0
      },
      "text/plain": [
       "  0%|          | 0/355 [00:00<?, ?it/s]"
      ]
     },
     "metadata": {},
     "output_type": "display_data"
    },
    {
     "data": {
      "application/vnd.jupyter.widget-view+json": {
       "model_id": "cb7b3b32418642118a4becedf84dd0a1",
       "version_major": 2,
       "version_minor": 0
      },
      "text/plain": [
       "  0%|          | 0/88 [00:00<?, ?it/s]"
      ]
     },
     "metadata": {},
     "output_type": "display_data"
    },
    {
     "data": {
      "application/vnd.jupyter.widget-view+json": {
       "model_id": "9e53aff3759349b88d70d4edfe9196c1",
       "version_major": 2,
       "version_minor": 0
      },
      "text/plain": [
       "  0%|          | 0/84 [00:00<?, ?it/s]"
      ]
     },
     "metadata": {},
     "output_type": "display_data"
    },
    {
     "data": {
      "application/vnd.jupyter.widget-view+json": {
       "model_id": "64fc98b199e04d439412ead1c5e865a6",
       "version_major": 2,
       "version_minor": 0
      },
      "text/plain": [
       "  0%|          | 0/104 [00:00<?, ?it/s]"
      ]
     },
     "metadata": {},
     "output_type": "display_data"
    },
    {
     "data": {
      "application/vnd.jupyter.widget-view+json": {
       "model_id": "c72b934c2a624527af83932a827eb561",
       "version_major": 2,
       "version_minor": 0
      },
      "text/plain": [
       "0it [00:00, ?it/s]"
      ]
     },
     "metadata": {},
     "output_type": "display_data"
    },
    {
     "data": {
      "application/vnd.jupyter.widget-view+json": {
       "model_id": "8dc1a28391554f08b54102b17dea898d",
       "version_major": 2,
       "version_minor": 0
      },
      "text/plain": [
       "  0%|          | 0/101 [00:00<?, ?it/s]"
      ]
     },
     "metadata": {},
     "output_type": "display_data"
    },
    {
     "data": {
      "application/vnd.jupyter.widget-view+json": {
       "model_id": "4bc829d6ae7743cbb300df34a28c1119",
       "version_major": 2,
       "version_minor": 0
      },
      "text/plain": [
       "  0%|          | 0/61 [00:00<?, ?it/s]"
      ]
     },
     "metadata": {},
     "output_type": "display_data"
    },
    {
     "data": {
      "application/vnd.jupyter.widget-view+json": {
       "model_id": "70b1b3219ef746f2890fc4aa276cd78e",
       "version_major": 2,
       "version_minor": 0
      },
      "text/plain": [
       "  0%|          | 0/86 [00:00<?, ?it/s]"
      ]
     },
     "metadata": {},
     "output_type": "display_data"
    },
    {
     "data": {
      "application/vnd.jupyter.widget-view+json": {
       "model_id": "2fcef20018f24ac29965673bed7c6100",
       "version_major": 2,
       "version_minor": 0
      },
      "text/plain": [
       "  0%|          | 0/52 [00:00<?, ?it/s]"
      ]
     },
     "metadata": {},
     "output_type": "display_data"
    },
    {
     "data": {
      "application/vnd.jupyter.widget-view+json": {
       "model_id": "ed8f70eb197d4ebe9c0370187c086c88",
       "version_major": 2,
       "version_minor": 0
      },
      "text/plain": [
       "  0%|          | 0/251 [00:00<?, ?it/s]"
      ]
     },
     "metadata": {},
     "output_type": "display_data"
    },
    {
     "data": {
      "application/vnd.jupyter.widget-view+json": {
       "model_id": "9f11a7ee959543f0a105f5ef3dd87627",
       "version_major": 2,
       "version_minor": 0
      },
      "text/plain": [
       "  0%|          | 0/527 [00:00<?, ?it/s]"
      ]
     },
     "metadata": {},
     "output_type": "display_data"
    },
    {
     "data": {
      "application/vnd.jupyter.widget-view+json": {
       "model_id": "b51822a0b7b84022a3d132af7c933dc4",
       "version_major": 2,
       "version_minor": 0
      },
      "text/plain": [
       "  0%|          | 0/75 [00:00<?, ?it/s]"
      ]
     },
     "metadata": {},
     "output_type": "display_data"
    },
    {
     "data": {
      "application/vnd.jupyter.widget-view+json": {
       "model_id": "eb8ddcdcfb174a09a7666544896a6c0f",
       "version_major": 2,
       "version_minor": 0
      },
      "text/plain": [
       "  0%|          | 0/70 [00:00<?, ?it/s]"
      ]
     },
     "metadata": {},
     "output_type": "display_data"
    },
    {
     "data": {
      "application/vnd.jupyter.widget-view+json": {
       "model_id": "e75433dd12814cda8754a12cf810c7e4",
       "version_major": 2,
       "version_minor": 0
      },
      "text/plain": [
       "  0%|          | 0/53 [00:00<?, ?it/s]"
      ]
     },
     "metadata": {},
     "output_type": "display_data"
    },
    {
     "data": {
      "application/vnd.jupyter.widget-view+json": {
       "model_id": "8b7854e7e77b42d4b2d5fd6b11d5024f",
       "version_major": 2,
       "version_minor": 0
      },
      "text/plain": [
       "  0%|          | 0/85 [00:00<?, ?it/s]"
      ]
     },
     "metadata": {},
     "output_type": "display_data"
    },
    {
     "data": {
      "application/vnd.jupyter.widget-view+json": {
       "model_id": "07d986bf2c7b40babaf9a941d1d69f4f",
       "version_major": 2,
       "version_minor": 0
      },
      "text/plain": [
       "  0%|          | 0/43 [00:00<?, ?it/s]"
      ]
     },
     "metadata": {},
     "output_type": "display_data"
    },
    {
     "data": {
      "application/vnd.jupyter.widget-view+json": {
       "model_id": "a6bff5c7dc5e4963a1cfd85f77cacba2",
       "version_major": 2,
       "version_minor": 0
      },
      "text/plain": [
       "  0%|          | 0/64 [00:00<?, ?it/s]"
      ]
     },
     "metadata": {},
     "output_type": "display_data"
    },
    {
     "data": {
      "application/vnd.jupyter.widget-view+json": {
       "model_id": "3b116b2223d3405392f161dfe0e68930",
       "version_major": 2,
       "version_minor": 0
      },
      "text/plain": [
       "  0%|          | 0/820 [00:00<?, ?it/s]"
      ]
     },
     "metadata": {},
     "output_type": "display_data"
    },
    {
     "data": {
      "application/vnd.jupyter.widget-view+json": {
       "model_id": "737663f429b64af8a86f32040a8c324f",
       "version_major": 2,
       "version_minor": 0
      },
      "text/plain": [
       "  0%|          | 0/205 [00:00<?, ?it/s]"
      ]
     },
     "metadata": {},
     "output_type": "display_data"
    },
    {
     "data": {
      "application/vnd.jupyter.widget-view+json": {
       "model_id": "7b81281755e34df18745f5fe4369c72c",
       "version_major": 2,
       "version_minor": 0
      },
      "text/plain": [
       "  0%|          | 0/151 [00:00<?, ?it/s]"
      ]
     },
     "metadata": {},
     "output_type": "display_data"
    },
    {
     "data": {
      "application/vnd.jupyter.widget-view+json": {
       "model_id": "71d39737a8d142df94449e4820406f95",
       "version_major": 2,
       "version_minor": 0
      },
      "text/plain": [
       "  0%|          | 0/36 [00:00<?, ?it/s]"
      ]
     },
     "metadata": {},
     "output_type": "display_data"
    },
    {
     "data": {
      "application/vnd.jupyter.widget-view+json": {
       "model_id": "9342744d6f1340fa9b79a06fd5237559",
       "version_major": 2,
       "version_minor": 0
      },
      "text/plain": [
       "  0%|          | 0/76 [00:00<?, ?it/s]"
      ]
     },
     "metadata": {},
     "output_type": "display_data"
    },
    {
     "data": {
      "application/vnd.jupyter.widget-view+json": {
       "model_id": "23d08e8d9aaf43c19c71be63b8351308",
       "version_major": 2,
       "version_minor": 0
      },
      "text/plain": [
       "  0%|          | 0/48 [00:00<?, ?it/s]"
      ]
     },
     "metadata": {},
     "output_type": "display_data"
    },
    {
     "data": {
      "application/vnd.jupyter.widget-view+json": {
       "model_id": "d191c57cef84408890c6d59700004113",
       "version_major": 2,
       "version_minor": 0
      },
      "text/plain": [
       "  0%|          | 0/104 [00:00<?, ?it/s]"
      ]
     },
     "metadata": {},
     "output_type": "display_data"
    },
    {
     "data": {
      "application/vnd.jupyter.widget-view+json": {
       "model_id": "d80b3e458dc848caa111fc80c676b15e",
       "version_major": 2,
       "version_minor": 0
      },
      "text/plain": [
       "  0%|          | 0/290 [00:00<?, ?it/s]"
      ]
     },
     "metadata": {},
     "output_type": "display_data"
    },
    {
     "data": {
      "application/vnd.jupyter.widget-view+json": {
       "model_id": "6942af782e5c4012aba2a6d7d713ae49",
       "version_major": 2,
       "version_minor": 0
      },
      "text/plain": [
       "  0%|          | 0/33 [00:00<?, ?it/s]"
      ]
     },
     "metadata": {},
     "output_type": "display_data"
    },
    {
     "data": {
      "application/vnd.jupyter.widget-view+json": {
       "model_id": "b54542746f8d47339e2454a66d2ac935",
       "version_major": 2,
       "version_minor": 0
      },
      "text/plain": [
       "  0%|          | 0/13 [00:00<?, ?it/s]"
      ]
     },
     "metadata": {},
     "output_type": "display_data"
    },
    {
     "data": {
      "application/vnd.jupyter.widget-view+json": {
       "model_id": "251deac10c8f4bb999f1e7a07893f353",
       "version_major": 2,
       "version_minor": 0
      },
      "text/plain": [
       "  0%|          | 0/181 [00:00<?, ?it/s]"
      ]
     },
     "metadata": {},
     "output_type": "display_data"
    },
    {
     "data": {
      "application/vnd.jupyter.widget-view+json": {
       "model_id": "a21c3404c1f04cb5830a51f933b11e29",
       "version_major": 2,
       "version_minor": 0
      },
      "text/plain": [
       "  0%|          | 0/318 [00:00<?, ?it/s]"
      ]
     },
     "metadata": {},
     "output_type": "display_data"
    },
    {
     "data": {
      "application/vnd.jupyter.widget-view+json": {
       "model_id": "8b91ed63b3af49b2aabbddab0cff14a5",
       "version_major": 2,
       "version_minor": 0
      },
      "text/plain": [
       "  0%|          | 0/377 [00:00<?, ?it/s]"
      ]
     },
     "metadata": {},
     "output_type": "display_data"
    },
    {
     "data": {
      "application/vnd.jupyter.widget-view+json": {
       "model_id": "d75ad625f4f049dca6c991c056e14248",
       "version_major": 2,
       "version_minor": 0
      },
      "text/plain": [
       "  0%|          | 0/444 [00:00<?, ?it/s]"
      ]
     },
     "metadata": {},
     "output_type": "display_data"
    },
    {
     "data": {
      "application/vnd.jupyter.widget-view+json": {
       "model_id": "6bd49cdd58d8445fbe7c7142586db619",
       "version_major": 2,
       "version_minor": 0
      },
      "text/plain": [
       "  0%|          | 0/181 [00:00<?, ?it/s]"
      ]
     },
     "metadata": {},
     "output_type": "display_data"
    },
    {
     "data": {
      "application/vnd.jupyter.widget-view+json": {
       "model_id": "4e2c4bfed4954d6ab07cc9b2ae76f47d",
       "version_major": 2,
       "version_minor": 0
      },
      "text/plain": [
       "  0%|          | 0/60 [00:00<?, ?it/s]"
      ]
     },
     "metadata": {},
     "output_type": "display_data"
    },
    {
     "data": {
      "application/vnd.jupyter.widget-view+json": {
       "model_id": "efb8c83c9d724d4fb3ca35cdb0659c02",
       "version_major": 2,
       "version_minor": 0
      },
      "text/plain": [
       "  0%|          | 0/108 [00:00<?, ?it/s]"
      ]
     },
     "metadata": {},
     "output_type": "display_data"
    },
    {
     "data": {
      "application/vnd.jupyter.widget-view+json": {
       "model_id": "54e62de0ef7f4795a15b164813baaa83",
       "version_major": 2,
       "version_minor": 0
      },
      "text/plain": [
       "  0%|          | 0/362 [00:00<?, ?it/s]"
      ]
     },
     "metadata": {},
     "output_type": "display_data"
    },
    {
     "data": {
      "application/vnd.jupyter.widget-view+json": {
       "model_id": "aa2fe7534d3f45b19f1d9396a2729a50",
       "version_major": 2,
       "version_minor": 0
      },
      "text/plain": [
       "  0%|          | 0/185 [00:00<?, ?it/s]"
      ]
     },
     "metadata": {},
     "output_type": "display_data"
    },
    {
     "data": {
      "application/vnd.jupyter.widget-view+json": {
       "model_id": "3e580b64a81f4c928ffa44f3cdfe3fc8",
       "version_major": 2,
       "version_minor": 0
      },
      "text/plain": [
       "  0%|          | 0/39 [00:00<?, ?it/s]"
      ]
     },
     "metadata": {},
     "output_type": "display_data"
    },
    {
     "data": {
      "application/vnd.jupyter.widget-view+json": {
       "model_id": "f5b8ec5f1d694fdc87e63eb49ae2d079",
       "version_major": 2,
       "version_minor": 0
      },
      "text/plain": [
       "  0%|          | 0/84 [00:00<?, ?it/s]"
      ]
     },
     "metadata": {},
     "output_type": "display_data"
    },
    {
     "data": {
      "application/vnd.jupyter.widget-view+json": {
       "model_id": "986a30fc40a446e0af838befae47db92",
       "version_major": 2,
       "version_minor": 0
      },
      "text/plain": [
       "  0%|          | 0/365 [00:00<?, ?it/s]"
      ]
     },
     "metadata": {},
     "output_type": "display_data"
    },
    {
     "data": {
      "application/vnd.jupyter.widget-view+json": {
       "model_id": "80d7f0261b524c65a91333207e1cca4c",
       "version_major": 2,
       "version_minor": 0
      },
      "text/plain": [
       "  0%|          | 0/105 [00:00<?, ?it/s]"
      ]
     },
     "metadata": {},
     "output_type": "display_data"
    },
    {
     "data": {
      "application/vnd.jupyter.widget-view+json": {
       "model_id": "3601a906e8ae46bf8cdf05049a3ffa43",
       "version_major": 2,
       "version_minor": 0
      },
      "text/plain": [
       "  0%|          | 0/35 [00:00<?, ?it/s]"
      ]
     },
     "metadata": {},
     "output_type": "display_data"
    },
    {
     "data": {
      "application/vnd.jupyter.widget-view+json": {
       "model_id": "086beb78de7243cea527f8089b26e785",
       "version_major": 2,
       "version_minor": 0
      },
      "text/plain": [
       "  0%|          | 0/78 [00:00<?, ?it/s]"
      ]
     },
     "metadata": {},
     "output_type": "display_data"
    },
    {
     "data": {
      "application/vnd.jupyter.widget-view+json": {
       "model_id": "2df9d780df614066838e054bc78d3492",
       "version_major": 2,
       "version_minor": 0
      },
      "text/plain": [
       "0it [00:00, ?it/s]"
      ]
     },
     "metadata": {},
     "output_type": "display_data"
    },
    {
     "data": {
      "application/vnd.jupyter.widget-view+json": {
       "model_id": "e0db62d34c17490ab272bfa4588a564f",
       "version_major": 2,
       "version_minor": 0
      },
      "text/plain": [
       "  0%|          | 0/92 [00:00<?, ?it/s]"
      ]
     },
     "metadata": {},
     "output_type": "display_data"
    },
    {
     "data": {
      "application/vnd.jupyter.widget-view+json": {
       "model_id": "67341e80b8bc48c1a4ded7f8c2bffc83",
       "version_major": 2,
       "version_minor": 0
      },
      "text/plain": [
       "  0%|          | 0/108 [00:00<?, ?it/s]"
      ]
     },
     "metadata": {},
     "output_type": "display_data"
    },
    {
     "data": {
      "application/vnd.jupyter.widget-view+json": {
       "model_id": "3860fd6a37954b41ad96d25de155c815",
       "version_major": 2,
       "version_minor": 0
      },
      "text/plain": [
       "  0%|          | 0/41 [00:00<?, ?it/s]"
      ]
     },
     "metadata": {},
     "output_type": "display_data"
    },
    {
     "data": {
      "application/vnd.jupyter.widget-view+json": {
       "model_id": "56099204822e4db9b25fde89df7f8336",
       "version_major": 2,
       "version_minor": 0
      },
      "text/plain": [
       "  0%|          | 0/168 [00:00<?, ?it/s]"
      ]
     },
     "metadata": {},
     "output_type": "display_data"
    },
    {
     "data": {
      "application/vnd.jupyter.widget-view+json": {
       "model_id": "7104b23b5f704aa0a2908acfdf0b97dd",
       "version_major": 2,
       "version_minor": 0
      },
      "text/plain": [
       "  0%|          | 0/74 [00:00<?, ?it/s]"
      ]
     },
     "metadata": {},
     "output_type": "display_data"
    },
    {
     "data": {
      "application/vnd.jupyter.widget-view+json": {
       "model_id": "7c33425565d8433399e0a04a57accba9",
       "version_major": 2,
       "version_minor": 0
      },
      "text/plain": [
       "  0%|          | 0/50 [00:00<?, ?it/s]"
      ]
     },
     "metadata": {},
     "output_type": "display_data"
    },
    {
     "data": {
      "application/vnd.jupyter.widget-view+json": {
       "model_id": "e16de57b6c9d40cab5633bc9b8446814",
       "version_major": 2,
       "version_minor": 0
      },
      "text/plain": [
       "  0%|          | 0/36 [00:00<?, ?it/s]"
      ]
     },
     "metadata": {},
     "output_type": "display_data"
    },
    {
     "data": {
      "application/vnd.jupyter.widget-view+json": {
       "model_id": "47f01988ed6b4244bb8c44c302b1c7f7",
       "version_major": 2,
       "version_minor": 0
      },
      "text/plain": [
       "  0%|          | 0/72 [00:00<?, ?it/s]"
      ]
     },
     "metadata": {},
     "output_type": "display_data"
    },
    {
     "data": {
      "application/vnd.jupyter.widget-view+json": {
       "model_id": "f24081abab6f4a41935ed87b93120b44",
       "version_major": 2,
       "version_minor": 0
      },
      "text/plain": [
       "  0%|          | 0/46 [00:00<?, ?it/s]"
      ]
     },
     "metadata": {},
     "output_type": "display_data"
    }
   ],
   "source": [
    "popular_cleaned = preprocessor.get_cleaned_dict(texts_dict_popular)\n",
    "unpopular_cleaned = preprocessor.get_cleaned_dict(texts_dict_unpopular)"
   ]
  },
  {
   "cell_type": "code",
   "execution_count": 11,
   "metadata": {},
   "outputs": [
    {
     "data": {
      "application/vnd.jupyter.widget-view+json": {
       "model_id": "5f287c51b80c436382b7637d73fcab5c",
       "version_major": 2,
       "version_minor": 0
      },
      "text/plain": [
       "  0%|          | 0/42 [00:00<?, ?it/s]"
      ]
     },
     "metadata": {},
     "output_type": "display_data"
    },
    {
     "data": {
      "application/vnd.jupyter.widget-view+json": {
       "model_id": "79b4c9c2396042cea18ac9fc4e999ad7",
       "version_major": 2,
       "version_minor": 0
      },
      "text/plain": [
       "  0%|          | 0/142 [00:00<?, ?it/s]"
      ]
     },
     "metadata": {},
     "output_type": "display_data"
    },
    {
     "data": {
      "application/vnd.jupyter.widget-view+json": {
       "model_id": "2c0fcda1c3ed431fba88d73714fa1aa0",
       "version_major": 2,
       "version_minor": 0
      },
      "text/plain": [
       "  0%|          | 0/97 [00:00<?, ?it/s]"
      ]
     },
     "metadata": {},
     "output_type": "display_data"
    },
    {
     "data": {
      "application/vnd.jupyter.widget-view+json": {
       "model_id": "06f8b62616a641f791026e8721b25b05",
       "version_major": 2,
       "version_minor": 0
      },
      "text/plain": [
       "  0%|          | 0/134 [00:00<?, ?it/s]"
      ]
     },
     "metadata": {},
     "output_type": "display_data"
    },
    {
     "data": {
      "application/vnd.jupyter.widget-view+json": {
       "model_id": "93ca261a103c4bdb9ef209fbf76c3ebe",
       "version_major": 2,
       "version_minor": 0
      },
      "text/plain": [
       "  0%|          | 0/44 [00:00<?, ?it/s]"
      ]
     },
     "metadata": {},
     "output_type": "display_data"
    },
    {
     "data": {
      "application/vnd.jupyter.widget-view+json": {
       "model_id": "2d98edf457c94c99bea3c5873bd102be",
       "version_major": 2,
       "version_minor": 0
      },
      "text/plain": [
       "  0%|          | 0/69 [00:00<?, ?it/s]"
      ]
     },
     "metadata": {},
     "output_type": "display_data"
    },
    {
     "data": {
      "application/vnd.jupyter.widget-view+json": {
       "model_id": "996798c1c02b4313885a4a26a1f4369e",
       "version_major": 2,
       "version_minor": 0
      },
      "text/plain": [
       "  0%|          | 0/389 [00:00<?, ?it/s]"
      ]
     },
     "metadata": {},
     "output_type": "display_data"
    },
    {
     "data": {
      "application/vnd.jupyter.widget-view+json": {
       "model_id": "fe8cea8a5ae44ab5866bc1e6d2051736",
       "version_major": 2,
       "version_minor": 0
      },
      "text/plain": [
       "  0%|          | 0/149 [00:00<?, ?it/s]"
      ]
     },
     "metadata": {},
     "output_type": "display_data"
    },
    {
     "data": {
      "application/vnd.jupyter.widget-view+json": {
       "model_id": "5d5a386c4ce942969e17824de8bc509b",
       "version_major": 2,
       "version_minor": 0
      },
      "text/plain": [
       "  0%|          | 0/355 [00:00<?, ?it/s]"
      ]
     },
     "metadata": {},
     "output_type": "display_data"
    },
    {
     "data": {
      "application/vnd.jupyter.widget-view+json": {
       "model_id": "0165764194b94fa79bce226e71055b73",
       "version_major": 2,
       "version_minor": 0
      },
      "text/plain": [
       "  0%|          | 0/88 [00:00<?, ?it/s]"
      ]
     },
     "metadata": {},
     "output_type": "display_data"
    },
    {
     "data": {
      "application/vnd.jupyter.widget-view+json": {
       "model_id": "c415814c319546d88b242dbeb5826025",
       "version_major": 2,
       "version_minor": 0
      },
      "text/plain": [
       "  0%|          | 0/84 [00:00<?, ?it/s]"
      ]
     },
     "metadata": {},
     "output_type": "display_data"
    },
    {
     "data": {
      "application/vnd.jupyter.widget-view+json": {
       "model_id": "fa6cc42f493042f1a6f33a11555eda71",
       "version_major": 2,
       "version_minor": 0
      },
      "text/plain": [
       "  0%|          | 0/104 [00:00<?, ?it/s]"
      ]
     },
     "metadata": {},
     "output_type": "display_data"
    },
    {
     "data": {
      "application/vnd.jupyter.widget-view+json": {
       "model_id": "88fc10e5a4f3442e99e36bedebd88fd1",
       "version_major": 2,
       "version_minor": 0
      },
      "text/plain": [
       "0it [00:00, ?it/s]"
      ]
     },
     "metadata": {},
     "output_type": "display_data"
    },
    {
     "data": {
      "application/vnd.jupyter.widget-view+json": {
       "model_id": "d593fafb2c72489d9b77e084a9ac828b",
       "version_major": 2,
       "version_minor": 0
      },
      "text/plain": [
       "  0%|          | 0/101 [00:00<?, ?it/s]"
      ]
     },
     "metadata": {},
     "output_type": "display_data"
    },
    {
     "data": {
      "application/vnd.jupyter.widget-view+json": {
       "model_id": "c95b02095a304cc48a9dd3a336598a09",
       "version_major": 2,
       "version_minor": 0
      },
      "text/plain": [
       "  0%|          | 0/61 [00:00<?, ?it/s]"
      ]
     },
     "metadata": {},
     "output_type": "display_data"
    },
    {
     "data": {
      "application/vnd.jupyter.widget-view+json": {
       "model_id": "4688a3612fe84c05816f19f72c9ea6bd",
       "version_major": 2,
       "version_minor": 0
      },
      "text/plain": [
       "  0%|          | 0/86 [00:00<?, ?it/s]"
      ]
     },
     "metadata": {},
     "output_type": "display_data"
    },
    {
     "data": {
      "application/vnd.jupyter.widget-view+json": {
       "model_id": "c3ad39630d234c8ba1ded85dc81278c5",
       "version_major": 2,
       "version_minor": 0
      },
      "text/plain": [
       "  0%|          | 0/52 [00:00<?, ?it/s]"
      ]
     },
     "metadata": {},
     "output_type": "display_data"
    },
    {
     "data": {
      "application/vnd.jupyter.widget-view+json": {
       "model_id": "e270ff245e1243e3a493e14b86f8d020",
       "version_major": 2,
       "version_minor": 0
      },
      "text/plain": [
       "  0%|          | 0/251 [00:00<?, ?it/s]"
      ]
     },
     "metadata": {},
     "output_type": "display_data"
    },
    {
     "data": {
      "application/vnd.jupyter.widget-view+json": {
       "model_id": "3871be0f9a844283b38486037a2dbd73",
       "version_major": 2,
       "version_minor": 0
      },
      "text/plain": [
       "  0%|          | 0/527 [00:00<?, ?it/s]"
      ]
     },
     "metadata": {},
     "output_type": "display_data"
    },
    {
     "data": {
      "application/vnd.jupyter.widget-view+json": {
       "model_id": "a1d7c5eb33ec4af388017cca0a454d2a",
       "version_major": 2,
       "version_minor": 0
      },
      "text/plain": [
       "  0%|          | 0/75 [00:00<?, ?it/s]"
      ]
     },
     "metadata": {},
     "output_type": "display_data"
    },
    {
     "data": {
      "application/vnd.jupyter.widget-view+json": {
       "model_id": "998d67f96e1f4c1cbb00eb8384a72ec3",
       "version_major": 2,
       "version_minor": 0
      },
      "text/plain": [
       "  0%|          | 0/70 [00:00<?, ?it/s]"
      ]
     },
     "metadata": {},
     "output_type": "display_data"
    },
    {
     "data": {
      "application/vnd.jupyter.widget-view+json": {
       "model_id": "c30927395a874dd18996915f470a6b22",
       "version_major": 2,
       "version_minor": 0
      },
      "text/plain": [
       "  0%|          | 0/53 [00:00<?, ?it/s]"
      ]
     },
     "metadata": {},
     "output_type": "display_data"
    },
    {
     "data": {
      "application/vnd.jupyter.widget-view+json": {
       "model_id": "63c29ae795e841ed9e575fec728a6f98",
       "version_major": 2,
       "version_minor": 0
      },
      "text/plain": [
       "  0%|          | 0/85 [00:00<?, ?it/s]"
      ]
     },
     "metadata": {},
     "output_type": "display_data"
    },
    {
     "data": {
      "application/vnd.jupyter.widget-view+json": {
       "model_id": "1d45064d8fd2481ea613894aa1276eef",
       "version_major": 2,
       "version_minor": 0
      },
      "text/plain": [
       "  0%|          | 0/43 [00:00<?, ?it/s]"
      ]
     },
     "metadata": {},
     "output_type": "display_data"
    },
    {
     "data": {
      "application/vnd.jupyter.widget-view+json": {
       "model_id": "23a4da60d6f94b4e94da078841cbdcb6",
       "version_major": 2,
       "version_minor": 0
      },
      "text/plain": [
       "  0%|          | 0/64 [00:00<?, ?it/s]"
      ]
     },
     "metadata": {},
     "output_type": "display_data"
    },
    {
     "data": {
      "application/vnd.jupyter.widget-view+json": {
       "model_id": "d917a49d8e194124a2e89c1eccdc3e6b",
       "version_major": 2,
       "version_minor": 0
      },
      "text/plain": [
       "  0%|          | 0/820 [00:00<?, ?it/s]"
      ]
     },
     "metadata": {},
     "output_type": "display_data"
    },
    {
     "data": {
      "application/vnd.jupyter.widget-view+json": {
       "model_id": "bb971107d04b474ea8e8dc14f6f1cad9",
       "version_major": 2,
       "version_minor": 0
      },
      "text/plain": [
       "  0%|          | 0/205 [00:00<?, ?it/s]"
      ]
     },
     "metadata": {},
     "output_type": "display_data"
    },
    {
     "data": {
      "application/vnd.jupyter.widget-view+json": {
       "model_id": "8a529e52232d4a008233e0d1d182636c",
       "version_major": 2,
       "version_minor": 0
      },
      "text/plain": [
       "  0%|          | 0/151 [00:00<?, ?it/s]"
      ]
     },
     "metadata": {},
     "output_type": "display_data"
    },
    {
     "data": {
      "application/vnd.jupyter.widget-view+json": {
       "model_id": "fed9d42a10914540aec90582a9919907",
       "version_major": 2,
       "version_minor": 0
      },
      "text/plain": [
       "  0%|          | 0/36 [00:00<?, ?it/s]"
      ]
     },
     "metadata": {},
     "output_type": "display_data"
    },
    {
     "data": {
      "application/vnd.jupyter.widget-view+json": {
       "model_id": "dea3fa0756d44e238cf7d03880c6b7a0",
       "version_major": 2,
       "version_minor": 0
      },
      "text/plain": [
       "  0%|          | 0/76 [00:00<?, ?it/s]"
      ]
     },
     "metadata": {},
     "output_type": "display_data"
    },
    {
     "data": {
      "application/vnd.jupyter.widget-view+json": {
       "model_id": "7e6a27a2b96840079fdfc82c68e8310e",
       "version_major": 2,
       "version_minor": 0
      },
      "text/plain": [
       "  0%|          | 0/48 [00:00<?, ?it/s]"
      ]
     },
     "metadata": {},
     "output_type": "display_data"
    },
    {
     "data": {
      "application/vnd.jupyter.widget-view+json": {
       "model_id": "ed98f2d92135471bb0d9f66b09c8eab5",
       "version_major": 2,
       "version_minor": 0
      },
      "text/plain": [
       "  0%|          | 0/104 [00:00<?, ?it/s]"
      ]
     },
     "metadata": {},
     "output_type": "display_data"
    },
    {
     "data": {
      "application/vnd.jupyter.widget-view+json": {
       "model_id": "3963497718f94c8fa4616d66c8f60e98",
       "version_major": 2,
       "version_minor": 0
      },
      "text/plain": [
       "  0%|          | 0/290 [00:00<?, ?it/s]"
      ]
     },
     "metadata": {},
     "output_type": "display_data"
    },
    {
     "data": {
      "application/vnd.jupyter.widget-view+json": {
       "model_id": "ccb14be190594bb697bf84a60cbe9d94",
       "version_major": 2,
       "version_minor": 0
      },
      "text/plain": [
       "  0%|          | 0/33 [00:00<?, ?it/s]"
      ]
     },
     "metadata": {},
     "output_type": "display_data"
    },
    {
     "data": {
      "application/vnd.jupyter.widget-view+json": {
       "model_id": "e540306133604611b61fa404b406eac9",
       "version_major": 2,
       "version_minor": 0
      },
      "text/plain": [
       "  0%|          | 0/13 [00:00<?, ?it/s]"
      ]
     },
     "metadata": {},
     "output_type": "display_data"
    },
    {
     "data": {
      "application/vnd.jupyter.widget-view+json": {
       "model_id": "41dfb5530cf74aadb4f01c3af30f9a1e",
       "version_major": 2,
       "version_minor": 0
      },
      "text/plain": [
       "  0%|          | 0/181 [00:00<?, ?it/s]"
      ]
     },
     "metadata": {},
     "output_type": "display_data"
    },
    {
     "data": {
      "application/vnd.jupyter.widget-view+json": {
       "model_id": "2ac8126c9ef4496bad47a50a6b5d21a4",
       "version_major": 2,
       "version_minor": 0
      },
      "text/plain": [
       "  0%|          | 0/318 [00:00<?, ?it/s]"
      ]
     },
     "metadata": {},
     "output_type": "display_data"
    },
    {
     "data": {
      "application/vnd.jupyter.widget-view+json": {
       "model_id": "b9c0ea27b5c94342a253a2c4b06923c5",
       "version_major": 2,
       "version_minor": 0
      },
      "text/plain": [
       "  0%|          | 0/377 [00:00<?, ?it/s]"
      ]
     },
     "metadata": {},
     "output_type": "display_data"
    },
    {
     "data": {
      "application/vnd.jupyter.widget-view+json": {
       "model_id": "3e9c954ee7a84a3abfb25ccc1d906f87",
       "version_major": 2,
       "version_minor": 0
      },
      "text/plain": [
       "  0%|          | 0/444 [00:00<?, ?it/s]"
      ]
     },
     "metadata": {},
     "output_type": "display_data"
    },
    {
     "data": {
      "application/vnd.jupyter.widget-view+json": {
       "model_id": "125b6a91f508472dad435ec862588b25",
       "version_major": 2,
       "version_minor": 0
      },
      "text/plain": [
       "  0%|          | 0/181 [00:00<?, ?it/s]"
      ]
     },
     "metadata": {},
     "output_type": "display_data"
    },
    {
     "data": {
      "application/vnd.jupyter.widget-view+json": {
       "model_id": "ac7a0c6a630e4c26ab4133b317a1e029",
       "version_major": 2,
       "version_minor": 0
      },
      "text/plain": [
       "  0%|          | 0/60 [00:00<?, ?it/s]"
      ]
     },
     "metadata": {},
     "output_type": "display_data"
    },
    {
     "data": {
      "application/vnd.jupyter.widget-view+json": {
       "model_id": "4eddd9bcad1241b1b9da6e7a93a85102",
       "version_major": 2,
       "version_minor": 0
      },
      "text/plain": [
       "  0%|          | 0/108 [00:00<?, ?it/s]"
      ]
     },
     "metadata": {},
     "output_type": "display_data"
    },
    {
     "data": {
      "application/vnd.jupyter.widget-view+json": {
       "model_id": "748e21dbea4c484cb0240b00a5ca9e25",
       "version_major": 2,
       "version_minor": 0
      },
      "text/plain": [
       "  0%|          | 0/362 [00:00<?, ?it/s]"
      ]
     },
     "metadata": {},
     "output_type": "display_data"
    },
    {
     "data": {
      "application/vnd.jupyter.widget-view+json": {
       "model_id": "bc93705d01a5429fa239caff50cbc6ae",
       "version_major": 2,
       "version_minor": 0
      },
      "text/plain": [
       "  0%|          | 0/185 [00:00<?, ?it/s]"
      ]
     },
     "metadata": {},
     "output_type": "display_data"
    },
    {
     "data": {
      "application/vnd.jupyter.widget-view+json": {
       "model_id": "ceaac72394e3428090df3f35ee27ce95",
       "version_major": 2,
       "version_minor": 0
      },
      "text/plain": [
       "  0%|          | 0/39 [00:00<?, ?it/s]"
      ]
     },
     "metadata": {},
     "output_type": "display_data"
    },
    {
     "data": {
      "application/vnd.jupyter.widget-view+json": {
       "model_id": "9614eaa17268438c94846671828a7f42",
       "version_major": 2,
       "version_minor": 0
      },
      "text/plain": [
       "  0%|          | 0/84 [00:00<?, ?it/s]"
      ]
     },
     "metadata": {},
     "output_type": "display_data"
    },
    {
     "data": {
      "application/vnd.jupyter.widget-view+json": {
       "model_id": "d53e3f9106fc4c6fb10c9daffca02251",
       "version_major": 2,
       "version_minor": 0
      },
      "text/plain": [
       "  0%|          | 0/365 [00:00<?, ?it/s]"
      ]
     },
     "metadata": {},
     "output_type": "display_data"
    },
    {
     "data": {
      "application/vnd.jupyter.widget-view+json": {
       "model_id": "6dcdda44db3b4f3c9f7375065622e0ce",
       "version_major": 2,
       "version_minor": 0
      },
      "text/plain": [
       "  0%|          | 0/105 [00:00<?, ?it/s]"
      ]
     },
     "metadata": {},
     "output_type": "display_data"
    },
    {
     "data": {
      "application/vnd.jupyter.widget-view+json": {
       "model_id": "45a011139f4f488fbd5e6fa4d80ef882",
       "version_major": 2,
       "version_minor": 0
      },
      "text/plain": [
       "  0%|          | 0/35 [00:00<?, ?it/s]"
      ]
     },
     "metadata": {},
     "output_type": "display_data"
    },
    {
     "data": {
      "application/vnd.jupyter.widget-view+json": {
       "model_id": "f48aab78ea6f4412925223d2b327c0d6",
       "version_major": 2,
       "version_minor": 0
      },
      "text/plain": [
       "  0%|          | 0/78 [00:00<?, ?it/s]"
      ]
     },
     "metadata": {},
     "output_type": "display_data"
    },
    {
     "data": {
      "application/vnd.jupyter.widget-view+json": {
       "model_id": "eadcb2fba4594d02aadb859eaad08b7b",
       "version_major": 2,
       "version_minor": 0
      },
      "text/plain": [
       "0it [00:00, ?it/s]"
      ]
     },
     "metadata": {},
     "output_type": "display_data"
    },
    {
     "data": {
      "application/vnd.jupyter.widget-view+json": {
       "model_id": "60520c654db94b6785d77c3fb67219eb",
       "version_major": 2,
       "version_minor": 0
      },
      "text/plain": [
       "  0%|          | 0/92 [00:00<?, ?it/s]"
      ]
     },
     "metadata": {},
     "output_type": "display_data"
    },
    {
     "data": {
      "application/vnd.jupyter.widget-view+json": {
       "model_id": "f3ee913a2aa74380bcf23fc6c115dcb8",
       "version_major": 2,
       "version_minor": 0
      },
      "text/plain": [
       "  0%|          | 0/108 [00:00<?, ?it/s]"
      ]
     },
     "metadata": {},
     "output_type": "display_data"
    },
    {
     "data": {
      "application/vnd.jupyter.widget-view+json": {
       "model_id": "0884b867c924411fb0197bc1e5dd8ade",
       "version_major": 2,
       "version_minor": 0
      },
      "text/plain": [
       "  0%|          | 0/41 [00:00<?, ?it/s]"
      ]
     },
     "metadata": {},
     "output_type": "display_data"
    },
    {
     "data": {
      "application/vnd.jupyter.widget-view+json": {
       "model_id": "247097672a6f40ebb1fb018a106bf19a",
       "version_major": 2,
       "version_minor": 0
      },
      "text/plain": [
       "  0%|          | 0/168 [00:00<?, ?it/s]"
      ]
     },
     "metadata": {},
     "output_type": "display_data"
    },
    {
     "data": {
      "application/vnd.jupyter.widget-view+json": {
       "model_id": "6f62b650255547229033ed5fe8e083e7",
       "version_major": 2,
       "version_minor": 0
      },
      "text/plain": [
       "  0%|          | 0/74 [00:00<?, ?it/s]"
      ]
     },
     "metadata": {},
     "output_type": "display_data"
    },
    {
     "data": {
      "application/vnd.jupyter.widget-view+json": {
       "model_id": "71d0baf7aa5f440c84a8d0f2d5a86cac",
       "version_major": 2,
       "version_minor": 0
      },
      "text/plain": [
       "  0%|          | 0/50 [00:00<?, ?it/s]"
      ]
     },
     "metadata": {},
     "output_type": "display_data"
    },
    {
     "data": {
      "application/vnd.jupyter.widget-view+json": {
       "model_id": "ca8b64f26d25434f89d21d233ef89894",
       "version_major": 2,
       "version_minor": 0
      },
      "text/plain": [
       "  0%|          | 0/36 [00:00<?, ?it/s]"
      ]
     },
     "metadata": {},
     "output_type": "display_data"
    },
    {
     "data": {
      "application/vnd.jupyter.widget-view+json": {
       "model_id": "4b624c612ac248f1958437f7af18c584",
       "version_major": 2,
       "version_minor": 0
      },
      "text/plain": [
       "  0%|          | 0/72 [00:00<?, ?it/s]"
      ]
     },
     "metadata": {},
     "output_type": "display_data"
    },
    {
     "data": {
      "application/vnd.jupyter.widget-view+json": {
       "model_id": "4e6bb894d6264b4bae1205d771498bab",
       "version_major": 2,
       "version_minor": 0
      },
      "text/plain": [
       "  0%|          | 0/46 [00:00<?, ?it/s]"
      ]
     },
     "metadata": {},
     "output_type": "display_data"
    }
   ],
   "source": [
    "popular_tokenized = preprocessor.tokenize(popular_cleaned)\n",
    "unpopular_tokenized = preprocessor.tokenize(unpopular_cleaned)"
   ]
  },
  {
   "cell_type": "code",
   "execution_count": 12,
   "metadata": {},
   "outputs": [],
   "source": [
    "texts_po, dictionary_po, corpus_po = preprocessor.get_lda_inputs(popular_tokenized)\n",
    "texts_unpo, dictionary_unpo, corpus_unpo = preprocessor.get_lda_inputs(unpopular_tokenized)"
   ]
  },
  {
   "cell_type": "code",
   "execution_count": 13,
   "metadata": {},
   "outputs": [],
   "source": [
    "model_popular = LDAModeling(\n",
    "    texts=texts_po,\n",
    "    dictionary=dictionary_po,\n",
    "    corpus=corpus_po,\n",
    "    limit=20,\n",
    ")\n",
    "\n",
    "model_unpopular = LDAModeling(\n",
    "    texts=texts_unpo,\n",
    "    dictionary=dictionary_unpo,\n",
    "    corpus=corpus_unpo,\n",
    "    limit=20,\n",
    ")"
   ]
  },
  {
   "cell_type": "code",
   "execution_count": 14,
   "metadata": {},
   "outputs": [
    {
     "data": {
      "image/png": "[encoded data removed]",
      "text/plain": [
       "<Figure size 432x288 with 2 Axes>"
      ]
     },
     "metadata": {
      "needs_background": "light"
     },
     "output_type": "display_data"
    }
   ],
   "source": [
    "model_popular.plot_optimal_number_of_topics()"
   ]
  },
  {
   "cell_type": "code",
   "execution_count": 15,
   "metadata": {},
   "outputs": [
    {
     "data": {
      "image/png": "[encoded data removed]",
      "text/plain": [
       "<Figure size 432x288 with 2 Axes>"
      ]
     },
     "metadata": {
      "needs_background": "light"
     },
     "output_type": "display_data"
    }
   ],
   "source": [
    "model_unpopular.plot_optimal_number_of_topics()"
   ]
  },
  {
   "cell_type": "code",
   "execution_count": 16,
   "metadata": {},
   "outputs": [],
   "source": [
    "model_po = model_popular.get_lda_model(14)\n",
    "model_unpo = model_unpopular.get_lda_model(14)"
   ]
  },
  {
   "cell_type": "code",
   "execution_count": 28,
   "metadata": {},
   "outputs": [
    {
     "data": {
      "text/plain": [
       "[(0, '0.001*\"플러스\" + 0.001*\"제곱\" + 0.001*\"얘기\" + 0.001*\"나머지\" + 0.001*\"문제\"'),\n",
       " (1, '0.054*\"제곱\" + 0.038*\"플러스\" + 0.028*\"나머지\" + 0.025*\"인수\" + 0.022*\"공식\"'),\n",
       " (2, '0.060*\"제곱\" + 0.027*\"인수\" + 0.021*\"형태\" + 0.020*\"플러스\" + 0.016*\"분해\"'),\n",
       " (3, '0.046*\"얘기\" + 0.036*\"플러스\" + 0.035*\"제곱\" + 0.026*\"루트\" + 0.022*\"전개\"'),\n",
       " (4, '0.001*\"방정식\" + 0.001*\"제곱\" + 0.001*\"얘기\" + 0.001*\"플러스\" + 0.001*\"공식\"'),\n",
       " (5, '0.081*\"제곱\" + 0.029*\"공식\" + 0.026*\"문제\" + 0.023*\"인수\" + 0.022*\"개수\"'),\n",
       " (6, '0.032*\"플러스\" + 0.028*\"개수\" + 0.028*\"인수\" + 0.026*\"결과\" + 0.016*\"상수\"'),\n",
       " (7, '0.056*\"제곱\" + 0.052*\"플러스\" + 0.023*\"문제\" + 0.020*\"공식\" + 0.018*\"방정식\"'),\n",
       " (8, '0.091*\"나머지\" + 0.023*\"인수\" + 0.017*\"분해\" + 0.017*\"제곱\" + 0.014*\"음수\"'),\n",
       " (9, '0.036*\"인수\" + 0.030*\"당시\" + 0.022*\"분해\" + 0.021*\"다항식\" + 0.015*\"제곱\"'),\n",
       " (10, '0.061*\"방정식\" + 0.026*\"문제\" + 0.019*\"제곱\" + 0.014*\"내용\" + 0.014*\"선생\"'),\n",
       " (11, '0.003*\"제곱\" + 0.003*\"인수\" + 0.002*\"플러스\" + 0.002*\"분해\" + 0.001*\"수분\"'),\n",
       " (12, '0.069*\"인수\" + 0.048*\"제곱\" + 0.031*\"공식\" + 0.029*\"전개\" + 0.029*\"플러스\"'),\n",
       " (13, '0.047*\"인수\" + 0.023*\"공통\" + 0.022*\"복소수\" + 0.019*\"방정식\" + 0.017*\"반지름\"')]"
      ]
     },
     "execution_count": 28,
     "metadata": {},
     "output_type": "execute_result"
    }
   ],
   "source": [
    "model_po.print_topics(num_words=5)"
   ]
  },
  {
   "cell_type": "code",
   "execution_count": 29,
   "metadata": {},
   "outputs": [
    {
     "data": {
      "text/plain": [
       "[(0, '0.011*\"과정\" + 0.009*\"공식\" + 0.009*\"연습\" + 0.009*\"개수\" + 0.008*\"방법\"'),\n",
       " (1, '0.080*\"제곱\" + 0.045*\"공식\" + 0.029*\"플러스\" + 0.027*\"루트\" + 0.024*\"인수\"'),\n",
       " (2, '0.035*\"방정식\" + 0.021*\"개수\" + 0.021*\"방법\" + 0.020*\"공식\" + 0.016*\"적용\"'),\n",
       " (3, '0.001*\"인수\" + 0.001*\"플러스\" + 0.001*\"분해\" + 0.001*\"문제\" + 0.001*\"방정식\"'),\n",
       " (4, '0.032*\"플러스\" + 0.024*\"방정식\" + 0.021*\"공식\" + 0.020*\"그래프\" + 0.017*\"플러스마이너스\"'),\n",
       " (5, '0.058*\"플러스\" + 0.047*\"인수\" + 0.031*\"문제\" + 0.022*\"분해\" + 0.019*\"정리\"'),\n",
       " (6, '0.001*\"인수\" + 0.001*\"제곱\" + 0.001*\"공식\" + 0.001*\"분해\" + 0.001*\"플러스\"'),\n",
       " (7, '0.001*\"제곱\" + 0.001*\"공식\" + 0.001*\"플러스\" + 0.000*\"계산\" + 0.000*\"양변\"'),\n",
       " (8, '0.029*\"플러스마이너스\" + 0.025*\"공식\" + 0.025*\"플러스\" + 0.020*\"루트\" + 0.015*\"연습\"'),\n",
       " (9, '0.055*\"공식\" + 0.036*\"제곱\" + 0.025*\"플러스\" + 0.016*\"루트\" + 0.015*\"짝수\"'),\n",
       " (10, '0.017*\"학생\" + 0.014*\"공식\" + 0.009*\"교육\" + 0.009*\"암기\" + 0.009*\"이해\"'),\n",
       " (11, '0.082*\"제곱\" + 0.051*\"공식\" + 0.050*\"인수\" + 0.036*\"세모\" + 0.036*\"세제곱\"'),\n",
       " (12, '0.001*\"공식\" + 0.001*\"방정식\" + 0.001*\"제곱\" + 0.001*\"플러스\" + 0.001*\"플러스마이너스\"'),\n",
       " (13, '0.019*\"제목\" + 0.015*\"문제\" + 0.012*\"개수\" + 0.012*\"과정\" + 0.010*\"제고\"')]"
      ]
     },
     "execution_count": 29,
     "metadata": {},
     "output_type": "execute_result"
    }
   ],
   "source": [
    "model_unpo.print_topics(num_words=5)"
   ]
  },
  {
   "cell_type": "code",
   "execution_count": 19,
   "metadata": {},
   "outputs": [
    {
     "data": {
      "text/html": [
       "<div>\n",
       "<style scoped>\n",
       "    .dataframe tbody tr th:only-of-type {\n",
       "        vertical-align: middle;\n",
       "    }\n",
       "\n",
       "    .dataframe tbody tr th {\n",
       "        vertical-align: top;\n",
       "    }\n",
       "\n",
       "    .dataframe thead th {\n",
       "        text-align: right;\n",
       "    }\n",
       "</style>\n",
       "<table border=\"1\" class=\"dataframe\">\n",
       "  <thead>\n",
       "    <tr style=\"text-align: right;\">\n",
       "      <th></th>\n",
       "      <th>Dominant_Topic</th>\n",
       "      <th>Perc_Contribution</th>\n",
       "      <th>Topic_Keywords</th>\n",
       "      <th>Original_Texts</th>\n",
       "    </tr>\n",
       "  </thead>\n",
       "  <tbody>\n",
       "    <tr>\n",
       "      <th>0</th>\n",
       "      <td>13</td>\n",
       "      <td>0.9889</td>\n",
       "      <td>인수, 공통, 복소수, 방정식, 반지름, 제곱, 표현, 분해, 얘기, 수분</td>\n",
       "      <td>[송년, 학습, 목표, 은혜, 공식, 방정식, 방정식, 방법, 그네, 공식, 공부,...</td>\n",
       "    </tr>\n",
       "    <tr>\n",
       "      <th>1</th>\n",
       "      <td>13</td>\n",
       "      <td>0.9985</td>\n",
       "      <td>인수, 공통, 복소수, 방정식, 반지름, 제곱, 표현, 분해, 얘기, 수분</td>\n",
       "      <td>[제곱, 완전체, 제곱, 표현, 제곱, 시기, 예수, 보리, 절임, 어사, 모양, ...</td>\n",
       "    </tr>\n",
       "    <tr>\n",
       "      <th>2</th>\n",
       "      <td>13</td>\n",
       "      <td>0.9974</td>\n",
       "      <td>인수, 공통, 복소수, 방정식, 반지름, 제곱, 표현, 분해, 얘기, 수분</td>\n",
       "      <td>[방정식, 공식, 방정식, 보식, 수학, 공부, 오랫동안, 기억, 내고, 시기, 그...</td>\n",
       "    </tr>\n",
       "    <tr>\n",
       "      <th>3</th>\n",
       "      <td>10</td>\n",
       "      <td>0.9776</td>\n",
       "      <td>방정식, 문제, 제곱, 내용, 선생, 시기, 플러스, 이야기, 연습, 단원</td>\n",
       "      <td>[도식, 수문, 당황, 기본, 인수, 위원회, 분해, 부등식, 기본, 방법, 함수,...</td>\n",
       "    </tr>\n",
       "    <tr>\n",
       "      <th>4</th>\n",
       "      <td>5</td>\n",
       "      <td>0.9947</td>\n",
       "      <td>제곱, 공식, 문제, 인수, 개수, 절반, 플러스, 분해, 세모, 얘기</td>\n",
       "      <td>[음악계, 문제, 공식, 풀이, 공식, 짝수, 계산, 확인, 대입, 서식, 계산, ...</td>\n",
       "    </tr>\n",
       "    <tr>\n",
       "      <th>5</th>\n",
       "      <td>7</td>\n",
       "      <td>0.9965</td>\n",
       "      <td>제곱, 플러스, 문제, 공식, 방정식, 얘기, 루트, 선생, 인수, 수분</td>\n",
       "      <td>[공식, 방정식, 풀이, 해결, 문제, 풀이, 대응, 정리, 차원, 정신, 플러스,...</td>\n",
       "    </tr>\n",
       "    <tr>\n",
       "      <th>6</th>\n",
       "      <td>1</td>\n",
       "      <td>0.9992</td>\n",
       "      <td>제곱, 플러스, 나머지, 인수, 공식, 수분, 시작, 얘기, 정리, 분해</td>\n",
       "      <td>[인수, 공부, 인수, 분해, 내용, 정리, 중단원, 마무리, 문제, 수분, 내용,...</td>\n",
       "    </tr>\n",
       "    <tr>\n",
       "      <th>7</th>\n",
       "      <td>7</td>\n",
       "      <td>0.9980</td>\n",
       "      <td>제곱, 플러스, 문제, 공식, 방정식, 얘기, 루트, 선생, 인수, 수분</td>\n",
       "      <td>[올인, 선생, 대단원, 단원, 다항식, 코스, 코스, 인수, 분해, 코스, 수분,...</td>\n",
       "    </tr>\n",
       "    <tr>\n",
       "      <th>8</th>\n",
       "      <td>1</td>\n",
       "      <td>0.9985</td>\n",
       "      <td>제곱, 플러스, 나머지, 인수, 공식, 수분, 시작, 얘기, 정리, 분해</td>\n",
       "      <td>[자평, 여학생, 방정식, 방정식, 체계, 제곱근, 무리수, 아이드, 곱셈, 공식,...</td>\n",
       "    </tr>\n",
       "    <tr>\n",
       "      <th>9</th>\n",
       "      <td>7</td>\n",
       "      <td>0.9970</td>\n",
       "      <td>제곱, 플러스, 문제, 공식, 방정식, 얘기, 루트, 선생, 인수, 수분</td>\n",
       "      <td>[공식, 예상, 방정식, 방정식, 장식, 중요, 개념, 계정, 제곱근, 개념, 이참...</td>\n",
       "    </tr>\n",
       "    <tr>\n",
       "      <th>10</th>\n",
       "      <td>5</td>\n",
       "      <td>0.9953</td>\n",
       "      <td>제곱, 공식, 문제, 인수, 개수, 절반, 플러스, 분해, 세모, 얘기</td>\n",
       "      <td>[차원, 의식, 그네, 공식, 설명, 플러스, 플러스, 제로, 방정식, 방법, 인수...</td>\n",
       "    </tr>\n",
       "    <tr>\n",
       "      <th>11</th>\n",
       "      <td>12</td>\n",
       "      <td>0.9971</td>\n",
       "      <td>인수, 제곱, 공식, 전개, 플러스, 분해, 수분, 선생, 얘기, 곱셈</td>\n",
       "      <td>[수학, 강의, 시작, 방정식, 공식, 공부, 인수, 분해, 방정식, 제곱, 암기,...</td>\n",
       "    </tr>\n",
       "    <tr>\n",
       "      <th>12</th>\n",
       "      <td>0</td>\n",
       "      <td>0.0714</td>\n",
       "      <td>플러스, 제곱, 얘기, 나머지, 문제, 인수, 공식, 방정식, 시작, 루트</td>\n",
       "      <td>[방정식, 공식, 공식, 방정식, 풀이, 열쇠, 그네, 음식, 방정식, 문제, 제곱...</td>\n",
       "    </tr>\n",
       "    <tr>\n",
       "      <th>13</th>\n",
       "      <td>12</td>\n",
       "      <td>0.9967</td>\n",
       "      <td>인수, 제곱, 공식, 전개, 플러스, 분해, 수분, 선생, 얘기, 곱셈</td>\n",
       "      <td>[내용, 설명, 내용, 화면, 축소, 내용, 제곱, 플러스, 방정식, 우변, 이양,...</td>\n",
       "    </tr>\n",
       "    <tr>\n",
       "      <th>14</th>\n",
       "      <td>7</td>\n",
       "      <td>0.9956</td>\n",
       "      <td>제곱, 플러스, 문제, 공식, 방정식, 얘기, 루트, 선생, 인수, 수분</td>\n",
       "      <td>[그네, 공식, 짝수, 그해, 시카고, 선생, 증명, 방정식, 감동, 과정, 선생,...</td>\n",
       "    </tr>\n",
       "    <tr>\n",
       "      <th>15</th>\n",
       "      <td>13</td>\n",
       "      <td>0.9956</td>\n",
       "      <td>인수, 공통, 복소수, 방정식, 반지름, 제곱, 표현, 분해, 얘기, 수분</td>\n",
       "      <td>[공무원, 시험, 문제, 풀이, 영상, 이유, 유튜브, 공식, 증명, 영상, 고등학...</td>\n",
       "    </tr>\n",
       "    <tr>\n",
       "      <th>16</th>\n",
       "      <td>5</td>\n",
       "      <td>0.6866</td>\n",
       "      <td>제곱, 공식, 문제, 인수, 개수, 절반, 플러스, 분해, 세모, 얘기</td>\n",
       "      <td>[고등, 수학, 강의, 우수정, 공부, 인수, 분해, 스텝, 개념, 인수, 분해, ...</td>\n",
       "    </tr>\n",
       "    <tr>\n",
       "      <th>17</th>\n",
       "      <td>1</td>\n",
       "      <td>0.9979</td>\n",
       "      <td>제곱, 플러스, 나머지, 인수, 공식, 수분, 시작, 얘기, 정리, 분해</td>\n",
       "      <td>[방정식, 방정식, 형태, 플러스, 픽스, 플러스, 경인, 형태, 얘기, 태구, 증...</td>\n",
       "    </tr>\n",
       "    <tr>\n",
       "      <th>18</th>\n",
       "      <td>3</td>\n",
       "      <td>0.9994</td>\n",
       "      <td>얘기, 플러스, 제곱, 루트, 전개, 직업, 인수, 과정, 연결, 부모</td>\n",
       "      <td>[사회, 악살, 바아, 재국, 리그, 제고, 플러스, 유리, 천왕, 제고, 기수, ...</td>\n",
       "    </tr>\n",
       "    <tr>\n",
       "      <th>19</th>\n",
       "      <td>8</td>\n",
       "      <td>0.9932</td>\n",
       "      <td>나머지, 인수, 분해, 제곱, 음수, 이미지, 특허, 박스, 형태, 음각</td>\n",
       "      <td>[방정식, 예수, 인턴, 구체, 이유정, 조랑말, 찬미, 구시대, 도유, 분칠, 매...</td>\n",
       "    </tr>\n",
       "    <tr>\n",
       "      <th>20</th>\n",
       "      <td>2</td>\n",
       "      <td>0.9941</td>\n",
       "      <td>제곱, 인수, 형태, 플러스, 분해, 정리, 나머지, 얘기, 수학, 사회</td>\n",
       "      <td>[]</td>\n",
       "    </tr>\n",
       "    <tr>\n",
       "      <th>21</th>\n",
       "      <td>5</td>\n",
       "      <td>0.9951</td>\n",
       "      <td>제곱, 공식, 문제, 인수, 개수, 절반, 플러스, 분해, 세모, 얘기</td>\n",
       "      <td>[출판사, 종교, 중상, 과정, 감상, 활용, 구매, 음식, 갱신, 설명, 위기, ...</td>\n",
       "    </tr>\n",
       "    <tr>\n",
       "      <th>22</th>\n",
       "      <td>6</td>\n",
       "      <td>0.9957</td>\n",
       "      <td>플러스, 개수, 인수, 결과, 상수, 대각선, 뒤쪽, 방법, 분해, 공식</td>\n",
       "      <td>[방정식, 공식, 방정식, 계수, 선생, 유도, 편의, 예수, 수일, 성립, 공식,...</td>\n",
       "    </tr>\n",
       "    <tr>\n",
       "      <th>23</th>\n",
       "      <td>5</td>\n",
       "      <td>0.9933</td>\n",
       "      <td>제곱, 공식, 문제, 인수, 개수, 절반, 플러스, 분해, 세모, 얘기</td>\n",
       "      <td>[선생, 방정식, 공식, 유도, 공식, 자근, 공식, 공식, 유도자, 공식, 제곱,...</td>\n",
       "    </tr>\n",
       "    <tr>\n",
       "      <th>24</th>\n",
       "      <td>5</td>\n",
       "      <td>0.9952</td>\n",
       "      <td>제곱, 공식, 문제, 인수, 개수, 절반, 플러스, 분해, 세모, 얘기</td>\n",
       "      <td>[방정식, 공식, 선생, 정원, 설명, 얘기, 방법, 인수, 분해, 제곱근, 성질,...</td>\n",
       "    </tr>\n",
       "    <tr>\n",
       "      <th>25</th>\n",
       "      <td>7</td>\n",
       "      <td>0.9995</td>\n",
       "      <td>제곱, 플러스, 문제, 공식, 방정식, 얘기, 루트, 선생, 인수, 수분</td>\n",
       "      <td>[학년, 제곱, 방정식, 풀이, 제곱, 공식, 그대, 공식, 방법, 공식, 공식, ...</td>\n",
       "    </tr>\n",
       "    <tr>\n",
       "      <th>26</th>\n",
       "      <td>7</td>\n",
       "      <td>0.9977</td>\n",
       "      <td>제곱, 플러스, 문제, 공식, 방정식, 얘기, 루트, 선생, 인수, 수분</td>\n",
       "      <td>[타방, 경숙, 공식, 유도, 박수, 제곱, 근영, 형태, 방정식, 방정식, 상수,...</td>\n",
       "    </tr>\n",
       "    <tr>\n",
       "      <th>27</th>\n",
       "      <td>7</td>\n",
       "      <td>0.6677</td>\n",
       "      <td>제곱, 플러스, 문제, 공식, 방정식, 얘기, 루트, 선생, 인수, 수분</td>\n",
       "      <td>[쪽박, 루트, 계수, 편리, 인수, 루트, 계산, 기수, 계수, 공식, 동그라미,...</td>\n",
       "    </tr>\n",
       "    <tr>\n",
       "      <th>28</th>\n",
       "      <td>9</td>\n",
       "      <td>0.6524</td>\n",
       "      <td>인수, 당시, 분해, 다항식, 제곱, 전개, 플러스, 소인수, 가로, 넓이</td>\n",
       "      <td>[인수, 문제, 선생, 초등, 고등학교, 중학교, 이론, 정리, 개념, 설명, 개념...</td>\n",
       "    </tr>\n",
       "    <tr>\n",
       "      <th>29</th>\n",
       "      <td>5</td>\n",
       "      <td>0.9943</td>\n",
       "      <td>제곱, 공식, 문제, 인수, 개수, 절반, 플러스, 분해, 세모, 얘기</td>\n",
       "      <td>[제곱, 플러스, 플러스, 방정식, 그네, 자의, 플러스마이너스, 루트, 공시, 유...</td>\n",
       "    </tr>\n",
       "  </tbody>\n",
       "</table>\n",
       "</div>"
      ],
      "text/plain": [
       "    Dominant_Topic  Perc_Contribution  \\\n",
       "0               13             0.9889   \n",
       "1               13             0.9985   \n",
       "2               13             0.9974   \n",
       "3               10             0.9776   \n",
       "4                5             0.9947   \n",
       "5                7             0.9965   \n",
       "6                1             0.9992   \n",
       "7                7             0.9980   \n",
       "8                1             0.9985   \n",
       "9                7             0.9970   \n",
       "10               5             0.9953   \n",
       "11              12             0.9971   \n",
       "12               0             0.0714   \n",
       "13              12             0.9967   \n",
       "14               7             0.9956   \n",
       "15              13             0.9956   \n",
       "16               5             0.6866   \n",
       "17               1             0.9979   \n",
       "18               3             0.9994   \n",
       "19               8             0.9932   \n",
       "20               2             0.9941   \n",
       "21               5             0.9951   \n",
       "22               6             0.9957   \n",
       "23               5             0.9933   \n",
       "24               5             0.9952   \n",
       "25               7             0.9995   \n",
       "26               7             0.9977   \n",
       "27               7             0.6677   \n",
       "28               9             0.6524   \n",
       "29               5             0.9943   \n",
       "\n",
       "                               Topic_Keywords  \\\n",
       "0   인수, 공통, 복소수, 방정식, 반지름, 제곱, 표현, 분해, 얘기, 수분   \n",
       "1   인수, 공통, 복소수, 방정식, 반지름, 제곱, 표현, 분해, 얘기, 수분   \n",
       "2   인수, 공통, 복소수, 방정식, 반지름, 제곱, 표현, 분해, 얘기, 수분   \n",
       "3   방정식, 문제, 제곱, 내용, 선생, 시기, 플러스, 이야기, 연습, 단원   \n",
       "4     제곱, 공식, 문제, 인수, 개수, 절반, 플러스, 분해, 세모, 얘기   \n",
       "5    제곱, 플러스, 문제, 공식, 방정식, 얘기, 루트, 선생, 인수, 수분   \n",
       "6    제곱, 플러스, 나머지, 인수, 공식, 수분, 시작, 얘기, 정리, 분해   \n",
       "7    제곱, 플러스, 문제, 공식, 방정식, 얘기, 루트, 선생, 인수, 수분   \n",
       "8    제곱, 플러스, 나머지, 인수, 공식, 수분, 시작, 얘기, 정리, 분해   \n",
       "9    제곱, 플러스, 문제, 공식, 방정식, 얘기, 루트, 선생, 인수, 수분   \n",
       "10    제곱, 공식, 문제, 인수, 개수, 절반, 플러스, 분해, 세모, 얘기   \n",
       "11    인수, 제곱, 공식, 전개, 플러스, 분해, 수분, 선생, 얘기, 곱셈   \n",
       "12  플러스, 제곱, 얘기, 나머지, 문제, 인수, 공식, 방정식, 시작, 루트   \n",
       "13    인수, 제곱, 공식, 전개, 플러스, 분해, 수분, 선생, 얘기, 곱셈   \n",
       "14   제곱, 플러스, 문제, 공식, 방정식, 얘기, 루트, 선생, 인수, 수분   \n",
       "15  인수, 공통, 복소수, 방정식, 반지름, 제곱, 표현, 분해, 얘기, 수분   \n",
       "16    제곱, 공식, 문제, 인수, 개수, 절반, 플러스, 분해, 세모, 얘기   \n",
       "17   제곱, 플러스, 나머지, 인수, 공식, 수분, 시작, 얘기, 정리, 분해   \n",
       "18    얘기, 플러스, 제곱, 루트, 전개, 직업, 인수, 과정, 연결, 부모   \n",
       "19   나머지, 인수, 분해, 제곱, 음수, 이미지, 특허, 박스, 형태, 음각   \n",
       "20   제곱, 인수, 형태, 플러스, 분해, 정리, 나머지, 얘기, 수학, 사회   \n",
       "21    제곱, 공식, 문제, 인수, 개수, 절반, 플러스, 분해, 세모, 얘기   \n",
       "22   플러스, 개수, 인수, 결과, 상수, 대각선, 뒤쪽, 방법, 분해, 공식   \n",
       "23    제곱, 공식, 문제, 인수, 개수, 절반, 플러스, 분해, 세모, 얘기   \n",
       "24    제곱, 공식, 문제, 인수, 개수, 절반, 플러스, 분해, 세모, 얘기   \n",
       "25   제곱, 플러스, 문제, 공식, 방정식, 얘기, 루트, 선생, 인수, 수분   \n",
       "26   제곱, 플러스, 문제, 공식, 방정식, 얘기, 루트, 선생, 인수, 수분   \n",
       "27   제곱, 플러스, 문제, 공식, 방정식, 얘기, 루트, 선생, 인수, 수분   \n",
       "28  인수, 당시, 분해, 다항식, 제곱, 전개, 플러스, 소인수, 가로, 넓이   \n",
       "29    제곱, 공식, 문제, 인수, 개수, 절반, 플러스, 분해, 세모, 얘기   \n",
       "\n",
       "                                       Original_Texts  \n",
       "0   [송년, 학습, 목표, 은혜, 공식, 방정식, 방정식, 방법, 그네, 공식, 공부,...  \n",
       "1   [제곱, 완전체, 제곱, 표현, 제곱, 시기, 예수, 보리, 절임, 어사, 모양, ...  \n",
       "2   [방정식, 공식, 방정식, 보식, 수학, 공부, 오랫동안, 기억, 내고, 시기, 그...  \n",
       "3   [도식, 수문, 당황, 기본, 인수, 위원회, 분해, 부등식, 기본, 방법, 함수,...  \n",
       "4   [음악계, 문제, 공식, 풀이, 공식, 짝수, 계산, 확인, 대입, 서식, 계산, ...  \n",
       "5   [공식, 방정식, 풀이, 해결, 문제, 풀이, 대응, 정리, 차원, 정신, 플러스,...  \n",
       "6   [인수, 공부, 인수, 분해, 내용, 정리, 중단원, 마무리, 문제, 수분, 내용,...  \n",
       "7   [올인, 선생, 대단원, 단원, 다항식, 코스, 코스, 인수, 분해, 코스, 수분,...  \n",
       "8   [자평, 여학생, 방정식, 방정식, 체계, 제곱근, 무리수, 아이드, 곱셈, 공식,...  \n",
       "9   [공식, 예상, 방정식, 방정식, 장식, 중요, 개념, 계정, 제곱근, 개념, 이참...  \n",
       "10  [차원, 의식, 그네, 공식, 설명, 플러스, 플러스, 제로, 방정식, 방법, 인수...  \n",
       "11  [수학, 강의, 시작, 방정식, 공식, 공부, 인수, 분해, 방정식, 제곱, 암기,...  \n",
       "12  [방정식, 공식, 공식, 방정식, 풀이, 열쇠, 그네, 음식, 방정식, 문제, 제곱...  \n",
       "13  [내용, 설명, 내용, 화면, 축소, 내용, 제곱, 플러스, 방정식, 우변, 이양,...  \n",
       "14  [그네, 공식, 짝수, 그해, 시카고, 선생, 증명, 방정식, 감동, 과정, 선생,...  \n",
       "15  [공무원, 시험, 문제, 풀이, 영상, 이유, 유튜브, 공식, 증명, 영상, 고등학...  \n",
       "16  [고등, 수학, 강의, 우수정, 공부, 인수, 분해, 스텝, 개념, 인수, 분해, ...  \n",
       "17  [방정식, 방정식, 형태, 플러스, 픽스, 플러스, 경인, 형태, 얘기, 태구, 증...  \n",
       "18  [사회, 악살, 바아, 재국, 리그, 제고, 플러스, 유리, 천왕, 제고, 기수, ...  \n",
       "19  [방정식, 예수, 인턴, 구체, 이유정, 조랑말, 찬미, 구시대, 도유, 분칠, 매...  \n",
       "20                                                 []  \n",
       "21  [출판사, 종교, 중상, 과정, 감상, 활용, 구매, 음식, 갱신, 설명, 위기, ...  \n",
       "22  [방정식, 공식, 방정식, 계수, 선생, 유도, 편의, 예수, 수일, 성립, 공식,...  \n",
       "23  [선생, 방정식, 공식, 유도, 공식, 자근, 공식, 공식, 유도자, 공식, 제곱,...  \n",
       "24  [방정식, 공식, 선생, 정원, 설명, 얘기, 방법, 인수, 분해, 제곱근, 성질,...  \n",
       "25  [학년, 제곱, 방정식, 풀이, 제곱, 공식, 그대, 공식, 방법, 공식, 공식, ...  \n",
       "26  [타방, 경숙, 공식, 유도, 박수, 제곱, 근영, 형태, 방정식, 방정식, 상수,...  \n",
       "27  [쪽박, 루트, 계수, 편리, 인수, 루트, 계산, 기수, 계수, 공식, 동그라미,...  \n",
       "28  [인수, 문제, 선생, 초등, 고등학교, 중학교, 이론, 정리, 개념, 설명, 개념...  \n",
       "29  [제곱, 플러스, 플러스, 방정식, 그네, 자의, 플러스마이너스, 루트, 공시, 유...  "
      ]
     },
     "execution_count": 19,
     "metadata": {},
     "output_type": "execute_result"
    }
   ],
   "source": [
    "po_topics_df = pd.DataFrame(columns=['Dominant_Topic', 'Perc_Contribution', 'Topic_Keywords'])\n",
    "\n",
    "for idx, row in enumerate(model_po[corpus_po]):\n",
    "    row = sorted(row, key=lambda x: (x[1]), reverse=True)\n",
    "    for j, (topic_number, prob_topic) in enumerate(row):\n",
    "        if j == 0:\n",
    "            topics = model_po.show_topic(topic_number)\n",
    "            topic_keywords = \", \".join([word for word, prob in topics])\n",
    "            append_list = [int(topic_number), round(prob_topic, 4), topic_keywords]\n",
    "            po_topics_df.loc[idx] = append_list\n",
    "        else:\n",
    "            break\n",
    "\n",
    "po_topics_df[\"Original_Texts\"] = texts_unpo\n",
    "\n",
    "po_topics_df"
   ]
  },
  {
   "cell_type": "code",
   "execution_count": 20,
   "metadata": {},
   "outputs": [
    {
     "data": {
      "text/html": [
       "<div>\n",
       "<style scoped>\n",
       "    .dataframe tbody tr th:only-of-type {\n",
       "        vertical-align: middle;\n",
       "    }\n",
       "\n",
       "    .dataframe tbody tr th {\n",
       "        vertical-align: top;\n",
       "    }\n",
       "\n",
       "    .dataframe thead th {\n",
       "        text-align: right;\n",
       "    }\n",
       "</style>\n",
       "<table border=\"1\" class=\"dataframe\">\n",
       "  <thead>\n",
       "    <tr style=\"text-align: right;\">\n",
       "      <th></th>\n",
       "      <th>Dominant_Topic</th>\n",
       "      <th>Perc_Contribution</th>\n",
       "      <th>Topic_Keywords</th>\n",
       "      <th>Original_Texts</th>\n",
       "    </tr>\n",
       "  </thead>\n",
       "  <tbody>\n",
       "    <tr>\n",
       "      <th>0</th>\n",
       "      <td>2</td>\n",
       "      <td>0.5220</td>\n",
       "      <td>방정식, 개수, 방법, 공식, 적용, 소수, 분수, 공부, 제곱근, 음수</td>\n",
       "      <td>[송년, 학습, 목표, 은혜, 공식, 방정식, 방정식, 방법, 그네, 공식, 공부,...</td>\n",
       "    </tr>\n",
       "    <tr>\n",
       "      <th>1</th>\n",
       "      <td>9</td>\n",
       "      <td>0.9963</td>\n",
       "      <td>공식, 제곱, 플러스, 루트, 짝수, 표현, 플러스마이너스, 분해, 방법, 사회</td>\n",
       "      <td>[제곱, 완전체, 제곱, 표현, 제곱, 시기, 예수, 보리, 절임, 어사, 모양, ...</td>\n",
       "    </tr>\n",
       "    <tr>\n",
       "      <th>2</th>\n",
       "      <td>5</td>\n",
       "      <td>0.8794</td>\n",
       "      <td>플러스, 인수, 문제, 분해, 정리, 플러스마이너스, 수분, 제곱, 방법, 방정식</td>\n",
       "      <td>[방정식, 공식, 방정식, 보식, 수학, 공부, 오랫동안, 기억, 내고, 시기, 그...</td>\n",
       "    </tr>\n",
       "    <tr>\n",
       "      <th>3</th>\n",
       "      <td>4</td>\n",
       "      <td>0.9959</td>\n",
       "      <td>플러스, 방정식, 공식, 그래프, 플러스마이너스, 루트, 방법, 부등식, 판별, 관계</td>\n",
       "      <td>[도식, 수문, 당황, 기본, 인수, 위원회, 분해, 부등식, 기본, 방법, 함수,...</td>\n",
       "    </tr>\n",
       "    <tr>\n",
       "      <th>4</th>\n",
       "      <td>10</td>\n",
       "      <td>0.7948</td>\n",
       "      <td>학생, 공식, 교육, 암기, 이해, 계산, 과정, 효율, 방향, 서식</td>\n",
       "      <td>[음악계, 문제, 공식, 풀이, 공식, 짝수, 계산, 확인, 대입, 서식, 계산, ...</td>\n",
       "    </tr>\n",
       "    <tr>\n",
       "      <th>5</th>\n",
       "      <td>5</td>\n",
       "      <td>0.9983</td>\n",
       "      <td>플러스, 인수, 문제, 분해, 정리, 플러스마이너스, 수분, 제곱, 방법, 방정식</td>\n",
       "      <td>[공식, 방정식, 풀이, 해결, 문제, 풀이, 대응, 정리, 차원, 정신, 플러스,...</td>\n",
       "    </tr>\n",
       "    <tr>\n",
       "      <th>6</th>\n",
       "      <td>5</td>\n",
       "      <td>0.9869</td>\n",
       "      <td>플러스, 인수, 문제, 분해, 정리, 플러스마이너스, 수분, 제곱, 방법, 방정식</td>\n",
       "      <td>[인수, 공부, 인수, 분해, 내용, 정리, 중단원, 마무리, 문제, 수분, 내용,...</td>\n",
       "    </tr>\n",
       "    <tr>\n",
       "      <th>7</th>\n",
       "      <td>11</td>\n",
       "      <td>0.9990</td>\n",
       "      <td>제곱, 공식, 인수, 세모, 세제곱, 분해, 문제, 네모, 수분, 선생</td>\n",
       "      <td>[올인, 선생, 대단원, 단원, 다항식, 코스, 코스, 인수, 분해, 코스, 수분,...</td>\n",
       "    </tr>\n",
       "    <tr>\n",
       "      <th>8</th>\n",
       "      <td>1</td>\n",
       "      <td>0.9983</td>\n",
       "      <td>제곱, 공식, 플러스, 루트, 인수, 방정식, 플러스마이너스, 분해, 분의, 선생</td>\n",
       "      <td>[자평, 여학생, 방정식, 방정식, 체계, 제곱근, 무리수, 아이드, 곱셈, 공식,...</td>\n",
       "    </tr>\n",
       "    <tr>\n",
       "      <th>9</th>\n",
       "      <td>1</td>\n",
       "      <td>0.9979</td>\n",
       "      <td>제곱, 공식, 플러스, 루트, 인수, 방정식, 플러스마이너스, 분해, 분의, 선생</td>\n",
       "      <td>[공식, 예상, 방정식, 방정식, 장식, 중요, 개념, 계정, 제곱근, 개념, 이참...</td>\n",
       "    </tr>\n",
       "    <tr>\n",
       "      <th>10</th>\n",
       "      <td>9</td>\n",
       "      <td>0.9961</td>\n",
       "      <td>공식, 제곱, 플러스, 루트, 짝수, 표현, 플러스마이너스, 분해, 방법, 사회</td>\n",
       "      <td>[차원, 의식, 그네, 공식, 설명, 플러스, 플러스, 제로, 방정식, 방법, 인수...</td>\n",
       "    </tr>\n",
       "    <tr>\n",
       "      <th>11</th>\n",
       "      <td>9</td>\n",
       "      <td>0.9972</td>\n",
       "      <td>공식, 제곱, 플러스, 루트, 짝수, 표현, 플러스마이너스, 분해, 방법, 사회</td>\n",
       "      <td>[수학, 강의, 시작, 방정식, 공식, 공부, 인수, 분해, 방정식, 제곱, 암기,...</td>\n",
       "    </tr>\n",
       "    <tr>\n",
       "      <th>12</th>\n",
       "      <td>1</td>\n",
       "      <td>0.9985</td>\n",
       "      <td>제곱, 공식, 플러스, 루트, 인수, 방정식, 플러스마이너스, 분해, 분의, 선생</td>\n",
       "      <td>[방정식, 공식, 공식, 방정식, 풀이, 열쇠, 그네, 음식, 방정식, 문제, 제곱...</td>\n",
       "    </tr>\n",
       "    <tr>\n",
       "      <th>13</th>\n",
       "      <td>1</td>\n",
       "      <td>0.9970</td>\n",
       "      <td>제곱, 공식, 플러스, 루트, 인수, 방정식, 플러스마이너스, 분해, 분의, 선생</td>\n",
       "      <td>[내용, 설명, 내용, 화면, 축소, 내용, 제곱, 플러스, 방정식, 우변, 이양,...</td>\n",
       "    </tr>\n",
       "    <tr>\n",
       "      <th>14</th>\n",
       "      <td>1</td>\n",
       "      <td>0.9935</td>\n",
       "      <td>제곱, 공식, 플러스, 루트, 인수, 방정식, 플러스마이너스, 분해, 분의, 선생</td>\n",
       "      <td>[그네, 공식, 짝수, 그해, 시카고, 선생, 증명, 방정식, 감동, 과정, 선생,...</td>\n",
       "    </tr>\n",
       "    <tr>\n",
       "      <th>15</th>\n",
       "      <td>1</td>\n",
       "      <td>0.9966</td>\n",
       "      <td>제곱, 공식, 플러스, 루트, 인수, 방정식, 플러스마이너스, 분해, 분의, 선생</td>\n",
       "      <td>[공무원, 시험, 문제, 풀이, 영상, 이유, 유튜브, 공식, 증명, 영상, 고등학...</td>\n",
       "    </tr>\n",
       "    <tr>\n",
       "      <th>16</th>\n",
       "      <td>1</td>\n",
       "      <td>0.5351</td>\n",
       "      <td>제곱, 공식, 플러스, 루트, 인수, 방정식, 플러스마이너스, 분해, 분의, 선생</td>\n",
       "      <td>[고등, 수학, 강의, 우수정, 공부, 인수, 분해, 스텝, 개념, 인수, 분해, ...</td>\n",
       "    </tr>\n",
       "    <tr>\n",
       "      <th>17</th>\n",
       "      <td>4</td>\n",
       "      <td>0.9966</td>\n",
       "      <td>플러스, 방정식, 공식, 그래프, 플러스마이너스, 루트, 방법, 부등식, 판별, 관계</td>\n",
       "      <td>[방정식, 방정식, 형태, 플러스, 픽스, 플러스, 경인, 형태, 얘기, 태구, 증...</td>\n",
       "    </tr>\n",
       "    <tr>\n",
       "      <th>18</th>\n",
       "      <td>4</td>\n",
       "      <td>0.9939</td>\n",
       "      <td>플러스, 방정식, 공식, 그래프, 플러스마이너스, 루트, 방법, 부등식, 판별, 관계</td>\n",
       "      <td>[사회, 악살, 바아, 재국, 리그, 제고, 플러스, 유리, 천왕, 제고, 기수, ...</td>\n",
       "    </tr>\n",
       "    <tr>\n",
       "      <th>19</th>\n",
       "      <td>0</td>\n",
       "      <td>0.9975</td>\n",
       "      <td>과정, 공식, 연습, 개수, 방법, 얘기, 중요, 함수, 전개, 절반</td>\n",
       "      <td>[방정식, 예수, 인턴, 구체, 이유정, 조랑말, 찬미, 구시대, 도유, 분칠, 매...</td>\n",
       "    </tr>\n",
       "    <tr>\n",
       "      <th>20</th>\n",
       "      <td>0</td>\n",
       "      <td>0.0714</td>\n",
       "      <td>과정, 공식, 연습, 개수, 방법, 얘기, 중요, 함수, 전개, 절반</td>\n",
       "      <td>[]</td>\n",
       "    </tr>\n",
       "    <tr>\n",
       "      <th>21</th>\n",
       "      <td>13</td>\n",
       "      <td>0.9709</td>\n",
       "      <td>제목, 문제, 개수, 과정, 제고, 마우스, 사랑, 이해, 음식, 공식</td>\n",
       "      <td>[출판사, 종교, 중상, 과정, 감상, 활용, 구매, 음식, 갱신, 설명, 위기, ...</td>\n",
       "    </tr>\n",
       "    <tr>\n",
       "      <th>22</th>\n",
       "      <td>1</td>\n",
       "      <td>0.9958</td>\n",
       "      <td>제곱, 공식, 플러스, 루트, 인수, 방정식, 플러스마이너스, 분해, 분의, 선생</td>\n",
       "      <td>[방정식, 공식, 방정식, 계수, 선생, 유도, 편의, 예수, 수일, 성립, 공식,...</td>\n",
       "    </tr>\n",
       "    <tr>\n",
       "      <th>23</th>\n",
       "      <td>1</td>\n",
       "      <td>0.9916</td>\n",
       "      <td>제곱, 공식, 플러스, 루트, 인수, 방정식, 플러스마이너스, 분해, 분의, 선생</td>\n",
       "      <td>[선생, 방정식, 공식, 유도, 공식, 자근, 공식, 공식, 유도자, 공식, 제곱,...</td>\n",
       "    </tr>\n",
       "    <tr>\n",
       "      <th>24</th>\n",
       "      <td>1</td>\n",
       "      <td>0.9982</td>\n",
       "      <td>제곱, 공식, 플러스, 루트, 인수, 방정식, 플러스마이너스, 분해, 분의, 선생</td>\n",
       "      <td>[방정식, 공식, 선생, 정원, 설명, 얘기, 방법, 인수, 분해, 제곱근, 성질,...</td>\n",
       "    </tr>\n",
       "    <tr>\n",
       "      <th>25</th>\n",
       "      <td>1</td>\n",
       "      <td>0.9972</td>\n",
       "      <td>제곱, 공식, 플러스, 루트, 인수, 방정식, 플러스마이너스, 분해, 분의, 선생</td>\n",
       "      <td>[학년, 제곱, 방정식, 풀이, 제곱, 공식, 그대, 공식, 방법, 공식, 공식, ...</td>\n",
       "    </tr>\n",
       "    <tr>\n",
       "      <th>26</th>\n",
       "      <td>1</td>\n",
       "      <td>0.9950</td>\n",
       "      <td>제곱, 공식, 플러스, 루트, 인수, 방정식, 플러스마이너스, 분해, 분의, 선생</td>\n",
       "      <td>[타방, 경숙, 공식, 유도, 박수, 제곱, 근영, 형태, 방정식, 방정식, 상수,...</td>\n",
       "    </tr>\n",
       "    <tr>\n",
       "      <th>27</th>\n",
       "      <td>9</td>\n",
       "      <td>0.9908</td>\n",
       "      <td>공식, 제곱, 플러스, 루트, 짝수, 표현, 플러스마이너스, 분해, 방법, 사회</td>\n",
       "      <td>[쪽박, 루트, 계수, 편리, 인수, 루트, 계산, 기수, 계수, 공식, 동그라미,...</td>\n",
       "    </tr>\n",
       "    <tr>\n",
       "      <th>28</th>\n",
       "      <td>1</td>\n",
       "      <td>0.7758</td>\n",
       "      <td>제곱, 공식, 플러스, 루트, 인수, 방정식, 플러스마이너스, 분해, 분의, 선생</td>\n",
       "      <td>[인수, 문제, 선생, 초등, 고등학교, 중학교, 이론, 정리, 개념, 설명, 개념...</td>\n",
       "    </tr>\n",
       "    <tr>\n",
       "      <th>29</th>\n",
       "      <td>8</td>\n",
       "      <td>0.9958</td>\n",
       "      <td>플러스마이너스, 공식, 플러스, 루트, 연습, 제곱, 짝수, 분의, 개수, 유도</td>\n",
       "      <td>[제곱, 플러스, 플러스, 방정식, 그네, 자의, 플러스마이너스, 루트, 공시, 유...</td>\n",
       "    </tr>\n",
       "  </tbody>\n",
       "</table>\n",
       "</div>"
      ],
      "text/plain": [
       "    Dominant_Topic  Perc_Contribution  \\\n",
       "0                2             0.5220   \n",
       "1                9             0.9963   \n",
       "2                5             0.8794   \n",
       "3                4             0.9959   \n",
       "4               10             0.7948   \n",
       "5                5             0.9983   \n",
       "6                5             0.9869   \n",
       "7               11             0.9990   \n",
       "8                1             0.9983   \n",
       "9                1             0.9979   \n",
       "10               9             0.9961   \n",
       "11               9             0.9972   \n",
       "12               1             0.9985   \n",
       "13               1             0.9970   \n",
       "14               1             0.9935   \n",
       "15               1             0.9966   \n",
       "16               1             0.5351   \n",
       "17               4             0.9966   \n",
       "18               4             0.9939   \n",
       "19               0             0.9975   \n",
       "20               0             0.0714   \n",
       "21              13             0.9709   \n",
       "22               1             0.9958   \n",
       "23               1             0.9916   \n",
       "24               1             0.9982   \n",
       "25               1             0.9972   \n",
       "26               1             0.9950   \n",
       "27               9             0.9908   \n",
       "28               1             0.7758   \n",
       "29               8             0.9958   \n",
       "\n",
       "                                     Topic_Keywords  \\\n",
       "0          방정식, 개수, 방법, 공식, 적용, 소수, 분수, 공부, 제곱근, 음수   \n",
       "1      공식, 제곱, 플러스, 루트, 짝수, 표현, 플러스마이너스, 분해, 방법, 사회   \n",
       "2     플러스, 인수, 문제, 분해, 정리, 플러스마이너스, 수분, 제곱, 방법, 방정식   \n",
       "3   플러스, 방정식, 공식, 그래프, 플러스마이너스, 루트, 방법, 부등식, 판별, 관계   \n",
       "4            학생, 공식, 교육, 암기, 이해, 계산, 과정, 효율, 방향, 서식   \n",
       "5     플러스, 인수, 문제, 분해, 정리, 플러스마이너스, 수분, 제곱, 방법, 방정식   \n",
       "6     플러스, 인수, 문제, 분해, 정리, 플러스마이너스, 수분, 제곱, 방법, 방정식   \n",
       "7           제곱, 공식, 인수, 세모, 세제곱, 분해, 문제, 네모, 수분, 선생   \n",
       "8     제곱, 공식, 플러스, 루트, 인수, 방정식, 플러스마이너스, 분해, 분의, 선생   \n",
       "9     제곱, 공식, 플러스, 루트, 인수, 방정식, 플러스마이너스, 분해, 분의, 선생   \n",
       "10     공식, 제곱, 플러스, 루트, 짝수, 표현, 플러스마이너스, 분해, 방법, 사회   \n",
       "11     공식, 제곱, 플러스, 루트, 짝수, 표현, 플러스마이너스, 분해, 방법, 사회   \n",
       "12    제곱, 공식, 플러스, 루트, 인수, 방정식, 플러스마이너스, 분해, 분의, 선생   \n",
       "13    제곱, 공식, 플러스, 루트, 인수, 방정식, 플러스마이너스, 분해, 분의, 선생   \n",
       "14    제곱, 공식, 플러스, 루트, 인수, 방정식, 플러스마이너스, 분해, 분의, 선생   \n",
       "15    제곱, 공식, 플러스, 루트, 인수, 방정식, 플러스마이너스, 분해, 분의, 선생   \n",
       "16    제곱, 공식, 플러스, 루트, 인수, 방정식, 플러스마이너스, 분해, 분의, 선생   \n",
       "17  플러스, 방정식, 공식, 그래프, 플러스마이너스, 루트, 방법, 부등식, 판별, 관계   \n",
       "18  플러스, 방정식, 공식, 그래프, 플러스마이너스, 루트, 방법, 부등식, 판별, 관계   \n",
       "19           과정, 공식, 연습, 개수, 방법, 얘기, 중요, 함수, 전개, 절반   \n",
       "20           과정, 공식, 연습, 개수, 방법, 얘기, 중요, 함수, 전개, 절반   \n",
       "21          제목, 문제, 개수, 과정, 제고, 마우스, 사랑, 이해, 음식, 공식   \n",
       "22    제곱, 공식, 플러스, 루트, 인수, 방정식, 플러스마이너스, 분해, 분의, 선생   \n",
       "23    제곱, 공식, 플러스, 루트, 인수, 방정식, 플러스마이너스, 분해, 분의, 선생   \n",
       "24    제곱, 공식, 플러스, 루트, 인수, 방정식, 플러스마이너스, 분해, 분의, 선생   \n",
       "25    제곱, 공식, 플러스, 루트, 인수, 방정식, 플러스마이너스, 분해, 분의, 선생   \n",
       "26    제곱, 공식, 플러스, 루트, 인수, 방정식, 플러스마이너스, 분해, 분의, 선생   \n",
       "27     공식, 제곱, 플러스, 루트, 짝수, 표현, 플러스마이너스, 분해, 방법, 사회   \n",
       "28    제곱, 공식, 플러스, 루트, 인수, 방정식, 플러스마이너스, 분해, 분의, 선생   \n",
       "29     플러스마이너스, 공식, 플러스, 루트, 연습, 제곱, 짝수, 분의, 개수, 유도   \n",
       "\n",
       "                                       Original_Texts  \n",
       "0   [송년, 학습, 목표, 은혜, 공식, 방정식, 방정식, 방법, 그네, 공식, 공부,...  \n",
       "1   [제곱, 완전체, 제곱, 표현, 제곱, 시기, 예수, 보리, 절임, 어사, 모양, ...  \n",
       "2   [방정식, 공식, 방정식, 보식, 수학, 공부, 오랫동안, 기억, 내고, 시기, 그...  \n",
       "3   [도식, 수문, 당황, 기본, 인수, 위원회, 분해, 부등식, 기본, 방법, 함수,...  \n",
       "4   [음악계, 문제, 공식, 풀이, 공식, 짝수, 계산, 확인, 대입, 서식, 계산, ...  \n",
       "5   [공식, 방정식, 풀이, 해결, 문제, 풀이, 대응, 정리, 차원, 정신, 플러스,...  \n",
       "6   [인수, 공부, 인수, 분해, 내용, 정리, 중단원, 마무리, 문제, 수분, 내용,...  \n",
       "7   [올인, 선생, 대단원, 단원, 다항식, 코스, 코스, 인수, 분해, 코스, 수분,...  \n",
       "8   [자평, 여학생, 방정식, 방정식, 체계, 제곱근, 무리수, 아이드, 곱셈, 공식,...  \n",
       "9   [공식, 예상, 방정식, 방정식, 장식, 중요, 개념, 계정, 제곱근, 개념, 이참...  \n",
       "10  [차원, 의식, 그네, 공식, 설명, 플러스, 플러스, 제로, 방정식, 방법, 인수...  \n",
       "11  [수학, 강의, 시작, 방정식, 공식, 공부, 인수, 분해, 방정식, 제곱, 암기,...  \n",
       "12  [방정식, 공식, 공식, 방정식, 풀이, 열쇠, 그네, 음식, 방정식, 문제, 제곱...  \n",
       "13  [내용, 설명, 내용, 화면, 축소, 내용, 제곱, 플러스, 방정식, 우변, 이양,...  \n",
       "14  [그네, 공식, 짝수, 그해, 시카고, 선생, 증명, 방정식, 감동, 과정, 선생,...  \n",
       "15  [공무원, 시험, 문제, 풀이, 영상, 이유, 유튜브, 공식, 증명, 영상, 고등학...  \n",
       "16  [고등, 수학, 강의, 우수정, 공부, 인수, 분해, 스텝, 개념, 인수, 분해, ...  \n",
       "17  [방정식, 방정식, 형태, 플러스, 픽스, 플러스, 경인, 형태, 얘기, 태구, 증...  \n",
       "18  [사회, 악살, 바아, 재국, 리그, 제고, 플러스, 유리, 천왕, 제고, 기수, ...  \n",
       "19  [방정식, 예수, 인턴, 구체, 이유정, 조랑말, 찬미, 구시대, 도유, 분칠, 매...  \n",
       "20                                                 []  \n",
       "21  [출판사, 종교, 중상, 과정, 감상, 활용, 구매, 음식, 갱신, 설명, 위기, ...  \n",
       "22  [방정식, 공식, 방정식, 계수, 선생, 유도, 편의, 예수, 수일, 성립, 공식,...  \n",
       "23  [선생, 방정식, 공식, 유도, 공식, 자근, 공식, 공식, 유도자, 공식, 제곱,...  \n",
       "24  [방정식, 공식, 선생, 정원, 설명, 얘기, 방법, 인수, 분해, 제곱근, 성질,...  \n",
       "25  [학년, 제곱, 방정식, 풀이, 제곱, 공식, 그대, 공식, 방법, 공식, 공식, ...  \n",
       "26  [타방, 경숙, 공식, 유도, 박수, 제곱, 근영, 형태, 방정식, 방정식, 상수,...  \n",
       "27  [쪽박, 루트, 계수, 편리, 인수, 루트, 계산, 기수, 계수, 공식, 동그라미,...  \n",
       "28  [인수, 문제, 선생, 초등, 고등학교, 중학교, 이론, 정리, 개념, 설명, 개념...  \n",
       "29  [제곱, 플러스, 플러스, 방정식, 그네, 자의, 플러스마이너스, 루트, 공시, 유...  "
      ]
     },
     "execution_count": 20,
     "metadata": {},
     "output_type": "execute_result"
    }
   ],
   "source": [
    "unpo_topics_df = pd.DataFrame(columns=['Dominant_Topic', 'Perc_Contribution', 'Topic_Keywords'])\n",
    "\n",
    "for idx, row in enumerate(model_unpo[corpus_unpo]):\n",
    "    row = sorted(row, key=lambda x: (x[1]), reverse=True)\n",
    "    for j, (topic_number, prob_topic) in enumerate(row):\n",
    "        if j == 0:\n",
    "            topics = model_unpo.show_topic(topic_number)\n",
    "            topic_keywords = \", \".join([word for word, prob in topics])\n",
    "            append_list = [int(topic_number), round(prob_topic, 4), topic_keywords]\n",
    "            unpo_topics_df.loc[idx] = append_list\n",
    "        else:\n",
    "            break\n",
    "\n",
    "unpo_topics_df[\"Original_Texts\"] = texts_unpo\n",
    "\n",
    "unpo_topics_df"
   ]
  },
  {
   "cell_type": "code",
   "execution_count": null,
   "metadata": {},
   "outputs": [],
   "source": [
    "model_unpopular.plot_optimal_number_of_topics()"
   ]
  },
  {
   "cell_type": "code",
   "execution_count": 96,
   "metadata": {},
   "outputs": [],
   "source": [
    "visualization = gensimvis.prepare(model_po, corpus_po, dictionary, sort_topics=False)\n",
    "pyLDAvis.save_html(visualization, f\"/Users/jylee/Desktop/GeniA_project/Topic_Modeling/Data/po.html\")"
   ]
  },
  {
   "cell_type": "code",
   "execution_count": 97,
   "metadata": {},
   "outputs": [],
   "source": [
    "visualization = gensimvis.prepare(model_unpo, corpus_unpo, dictionary, sort_topics=False)\n",
    "pyLDAvis.save_html(visualization, f\"/Users/jylee/Desktop/GeniA_project/Topic_Modeling/Data/unpo.html\")"
   ]
  },
  {
   "attachments": {},
   "cell_type": "markdown",
   "metadata": {},
   "source": [
    "---\n",
    "## Total"
   ]
  },
  {
   "cell_type": "code",
   "execution_count": 108,
   "metadata": {},
   "outputs": [],
   "source": [
    "total_texts = texts_po + texts_unpo"
   ]
  },
  {
   "cell_type": "code",
   "execution_count": 109,
   "metadata": {},
   "outputs": [],
   "source": [
    "total_dict = corpora.Dictionary(total_texts)"
   ]
  },
  {
   "cell_type": "code",
   "execution_count": 110,
   "metadata": {},
   "outputs": [],
   "source": [
    "total_corpus = [total_dict.doc2bow(text) for text in total_texts]"
   ]
  },
  {
   "cell_type": "code",
   "execution_count": 101,
   "metadata": {},
   "outputs": [],
   "source": [
    "total_dict.filter_extremes(no_below=2)"
   ]
  },
  {
   "cell_type": "code",
   "execution_count": 102,
   "metadata": {},
   "outputs": [
    {
     "data": {
      "text/plain": [
       "1438"
      ]
     },
     "execution_count": 102,
     "metadata": {},
     "output_type": "execute_result"
    }
   ],
   "source": [
    "len(total_dict)"
   ]
  },
  {
   "cell_type": "code",
   "execution_count": 111,
   "metadata": {},
   "outputs": [],
   "source": [
    "model_total = LDAModeling(\n",
    "    texts=total_texts,\n",
    "    dictionary=total_dict,\n",
    "    corpus=total_corpus,\n",
    "    limit=20,\n",
    ")"
   ]
  },
  {
   "cell_type": "code",
   "execution_count": 112,
   "metadata": {},
   "outputs": [
    {
     "data": {
      "image/png": "[encoded data removed]",
      "text/plain": [
       "<Figure size 432x288 with 2 Axes>"
      ]
     },
     "metadata": {
      "needs_background": "light"
     },
     "output_type": "display_data"
    }
   ],
   "source": [
    "model_total.plot_optimal_number_of_topics()"
   ]
  },
  {
   "cell_type": "code",
   "execution_count": 113,
   "metadata": {},
   "outputs": [],
   "source": [
    "model = LdaModel(corpus=total_corpus, id2word=total_dict, num_topics=2, passes=20, random_state=42)"
   ]
  },
  {
   "cell_type": "code",
   "execution_count": 68,
   "metadata": {},
   "outputs": [
    {
     "data": {
      "text/html": [
       "<div>\n",
       "<style scoped>\n",
       "    .dataframe tbody tr th:only-of-type {\n",
       "        vertical-align: middle;\n",
       "    }\n",
       "\n",
       "    .dataframe tbody tr th {\n",
       "        vertical-align: top;\n",
       "    }\n",
       "\n",
       "    .dataframe thead th {\n",
       "        text-align: right;\n",
       "    }\n",
       "</style>\n",
       "<table border=\"1\" class=\"dataframe\">\n",
       "  <thead>\n",
       "    <tr style=\"text-align: right;\">\n",
       "      <th></th>\n",
       "      <th>Dominant_Topic</th>\n",
       "      <th>Perc_Contribution</th>\n",
       "      <th>Topic_Keywords</th>\n",
       "      <th>Original_Texts</th>\n",
       "    </tr>\n",
       "  </thead>\n",
       "  <tbody>\n",
       "    <tr>\n",
       "      <th>0</th>\n",
       "      <td>0</td>\n",
       "      <td>0.9919</td>\n",
       "      <td>제곱, 플러스, 공식, 루트, 얘기, 플러스마이너스, 방정식, 문제, 인수, 분의</td>\n",
       "      <td>[선수, 자아, 클랑, 분수, 소수, 이유, 순위, 크기, 가늠, 가능, 범행, 정...</td>\n",
       "    </tr>\n",
       "    <tr>\n",
       "      <th>1</th>\n",
       "      <td>1</td>\n",
       "      <td>0.9987</td>\n",
       "      <td>인수, 제곱, 플러스, 공식, 분해, 문제, 수분, 방정식, 선생, 얘기</td>\n",
       "      <td>[허수, 반감, 루트, 루트, 루트, 정의, 수확, 필요, 설명, 정의, 동기, 부...</td>\n",
       "    </tr>\n",
       "    <tr>\n",
       "      <th>2</th>\n",
       "      <td>1</td>\n",
       "      <td>0.9981</td>\n",
       "      <td>인수, 제곱, 플러스, 공식, 분해, 문제, 수분, 방정식, 선생, 얘기</td>\n",
       "      <td>[대망, 인수, 분해, 인수, 분해, 인순, 어데, 서민, 이인수, 문의, 제곱근,...</td>\n",
       "    </tr>\n",
       "    <tr>\n",
       "      <th>3</th>\n",
       "      <td>1</td>\n",
       "      <td>0.9981</td>\n",
       "      <td>인수, 제곱, 플러스, 공식, 분해, 문제, 수분, 방정식, 선생, 얘기</td>\n",
       "      <td>[방정식, 파트, 언정, 불줄, 인숙, 가능, 수분, 연습, 방정식, 클릭, 인수,...</td>\n",
       "    </tr>\n",
       "    <tr>\n",
       "      <th>4</th>\n",
       "      <td>0</td>\n",
       "      <td>0.9915</td>\n",
       "      <td>제곱, 플러스, 공식, 루트, 얘기, 플러스마이너스, 방정식, 문제, 인수, 분의</td>\n",
       "      <td>[수학, 방정식, 정수, 개수, 음식, 방정식, 문제, 인수, 분해, 그늘, 채널,...</td>\n",
       "    </tr>\n",
       "    <tr>\n",
       "      <th>5</th>\n",
       "      <td>0</td>\n",
       "      <td>0.7594</td>\n",
       "      <td>제곱, 플러스, 공식, 루트, 얘기, 플러스마이너스, 방정식, 문제, 인수, 분의</td>\n",
       "      <td>[수분, 선생, 인수, 스템, 리딩, 공통, 인수, 카드, 내용, 공통, 스텝, 스...</td>\n",
       "    </tr>\n",
       "    <tr>\n",
       "      <th>6</th>\n",
       "      <td>0</td>\n",
       "      <td>0.9993</td>\n",
       "      <td>제곱, 플러스, 공식, 루트, 얘기, 플러스마이너스, 방정식, 문제, 인수, 분의</td>\n",
       "      <td>[겨울, 행복감, 위너, 크리스마스, 위너, 위너, 도리, 월매, 선데이, 위도, ...</td>\n",
       "    </tr>\n",
       "    <tr>\n",
       "      <th>7</th>\n",
       "      <td>1</td>\n",
       "      <td>0.9985</td>\n",
       "      <td>인수, 제곱, 플러스, 공식, 분해, 문제, 수분, 방정식, 선생, 얘기</td>\n",
       "      <td>[대왕, 인수, 분해, 파트, 추가, 선생, 내용, 마음, 준비, 이야기, 마음, ...</td>\n",
       "    </tr>\n",
       "    <tr>\n",
       "      <th>8</th>\n",
       "      <td>1</td>\n",
       "      <td>0.9988</td>\n",
       "      <td>인수, 제곱, 플러스, 공식, 분해, 문제, 수분, 방정식, 선생, 얘기</td>\n",
       "      <td>[수학, 동주, 인수, 분해, 에다마메, 수업, 인수, 연습, 필요, 이해, 연습,...</td>\n",
       "    </tr>\n",
       "    <tr>\n",
       "      <th>9</th>\n",
       "      <td>0</td>\n",
       "      <td>0.9979</td>\n",
       "      <td>제곱, 플러스, 공식, 루트, 얘기, 플러스마이너스, 방정식, 문제, 인수, 분의</td>\n",
       "      <td>[대망, 그네, 공식, 선생, 노래, 이야기, 기대, 음치, 선생, 제곱근, 방정식...</td>\n",
       "    </tr>\n",
       "    <tr>\n",
       "      <th>10</th>\n",
       "      <td>0</td>\n",
       "      <td>0.9671</td>\n",
       "      <td>제곱, 플러스, 공식, 루트, 얘기, 플러스마이너스, 방정식, 문제, 인수, 분의</td>\n",
       "      <td>[수학, 공식, 공통, 인수, 인수, 분해, 급식, 인수, 분해, 교과서, 문제집,...</td>\n",
       "    </tr>\n",
       "    <tr>\n",
       "      <th>11</th>\n",
       "      <td>1</td>\n",
       "      <td>0.9977</td>\n",
       "      <td>인수, 제곱, 플러스, 공식, 분해, 문제, 수분, 방정식, 선생, 얘기</td>\n",
       "      <td>[선생, 업로드, 선생, 선생, 라이브, 그라, 선생, 컴맹, 라이브, 유튜브, 라...</td>\n",
       "    </tr>\n",
       "    <tr>\n",
       "      <th>12</th>\n",
       "      <td>0</td>\n",
       "      <td>0.5000</td>\n",
       "      <td>제곱, 플러스, 공식, 루트, 얘기, 플러스마이너스, 방정식, 문제, 인수, 분의</td>\n",
       "      <td>[]</td>\n",
       "    </tr>\n",
       "    <tr>\n",
       "      <th>13</th>\n",
       "      <td>1</td>\n",
       "      <td>0.9973</td>\n",
       "      <td>인수, 제곱, 플러스, 공식, 분해, 문제, 수분, 방정식, 선생, 얘기</td>\n",
       "      <td>[분해, 수분, 인수, 분해, 인수, 분해, 분해, 인수, 인수, 연결, 인수, 연...</td>\n",
       "    </tr>\n",
       "    <tr>\n",
       "      <th>14</th>\n",
       "      <td>0</td>\n",
       "      <td>0.9967</td>\n",
       "      <td>제곱, 플러스, 공식, 루트, 얘기, 플러스마이너스, 방정식, 문제, 인수, 분의</td>\n",
       "      <td>[선생, 공식, 유도, 과정, 유도, 과정, 기본, 베이스, 제곱근, 방정식, 수요...</td>\n",
       "    </tr>\n",
       "    <tr>\n",
       "      <th>15</th>\n",
       "      <td>1</td>\n",
       "      <td>0.9962</td>\n",
       "      <td>인수, 제곱, 플러스, 공식, 분해, 문제, 수분, 방정식, 선생, 얘기</td>\n",
       "      <td>[수학, 공부, 내용, 공통, 인수, 인수, 분해, 내용, 이해, 미용실, 커트, ...</td>\n",
       "    </tr>\n",
       "    <tr>\n",
       "      <th>16</th>\n",
       "      <td>0</td>\n",
       "      <td>0.9957</td>\n",
       "      <td>제곱, 플러스, 공식, 루트, 얘기, 플러스마이너스, 방정식, 문제, 인수, 분의</td>\n",
       "      <td>[수학, 공식, 유도, 과정, 제목, 유도, 과정, 방정식, 프리, 요인, 수분, ...</td>\n",
       "    </tr>\n",
       "    <tr>\n",
       "      <th>17</th>\n",
       "      <td>0</td>\n",
       "      <td>0.9984</td>\n",
       "      <td>제곱, 플러스, 공식, 루트, 얘기, 플러스마이너스, 방정식, 문제, 인수, 분의</td>\n",
       "      <td>[충주, 청자, 공식, 말씀, 동의, 요청, 공식, 공식, 공식, 그대, 공식, 제...</td>\n",
       "    </tr>\n",
       "    <tr>\n",
       "      <th>18</th>\n",
       "      <td>0</td>\n",
       "      <td>0.9995</td>\n",
       "      <td>제곱, 플러스, 공식, 루트, 얘기, 플러스마이너스, 방정식, 문제, 인수, 분의</td>\n",
       "      <td>[이광재, 전개, 인숙, 공부, 고등학교, 학년, 과정, 전격, 인수, 분해, 공부...</td>\n",
       "    </tr>\n",
       "    <tr>\n",
       "      <th>19</th>\n",
       "      <td>0</td>\n",
       "      <td>0.9935</td>\n",
       "      <td>제곱, 플러스, 공식, 루트, 얘기, 플러스마이너스, 방정식, 문제, 인수, 분의</td>\n",
       "      <td>[설명, 블라이즈, 특허, 세계, 음각, 수직, 질문, 나머지, 형태, 인수, 분해...</td>\n",
       "    </tr>\n",
       "    <tr>\n",
       "      <th>20</th>\n",
       "      <td>0</td>\n",
       "      <td>0.7786</td>\n",
       "      <td>제곱, 플러스, 공식, 루트, 얘기, 플러스마이너스, 방정식, 문제, 인수, 분의</td>\n",
       "      <td>[수학, 하위, 개인, 수계, 인수, 칠판, 항의, 다항식, 인수, 분해, 형태, ...</td>\n",
       "    </tr>\n",
       "    <tr>\n",
       "      <th>21</th>\n",
       "      <td>0</td>\n",
       "      <td>0.9966</td>\n",
       "      <td>제곱, 플러스, 공식, 루트, 얘기, 플러스마이너스, 방정식, 문제, 인수, 분의</td>\n",
       "      <td>[수학, 급식, 방정식, 방정식, 제곱근, 방정식, 프리, 개념, 상태, 클립, 이...</td>\n",
       "    </tr>\n",
       "    <tr>\n",
       "      <th>22</th>\n",
       "      <td>0</td>\n",
       "      <td>0.8152</td>\n",
       "      <td>제곱, 플러스, 공식, 루트, 얘기, 플러스마이너스, 방정식, 문제, 인수, 분의</td>\n",
       "      <td>[수학, 수분, 공식, 학기, 교과서, 배우, 주의, 인수, 분해, 파트, 인수, ...</td>\n",
       "    </tr>\n",
       "    <tr>\n",
       "      <th>23</th>\n",
       "      <td>1</td>\n",
       "      <td>0.6572</td>\n",
       "      <td>인수, 제곱, 플러스, 공식, 분해, 문제, 수분, 방정식, 선생, 얘기</td>\n",
       "      <td>[수학, 공식, 인수, 분해, 인수, 분해, 급식, 상수, 항의, 표현, 합의, 개...</td>\n",
       "    </tr>\n",
       "    <tr>\n",
       "      <th>24</th>\n",
       "      <td>1</td>\n",
       "      <td>0.9931</td>\n",
       "      <td>인수, 제곱, 플러스, 공식, 분해, 문제, 수분, 방정식, 선생, 얘기</td>\n",
       "      <td>[인수, 공부, 신경식, 이야기, 곱셈, 공식, 생고기, 제곱, 전개, 북방, 주제...</td>\n",
       "    </tr>\n",
       "    <tr>\n",
       "      <th>25</th>\n",
       "      <td>1</td>\n",
       "      <td>0.8958</td>\n",
       "      <td>인수, 제곱, 플러스, 공식, 분해, 문제, 수분, 방정식, 선생, 얘기</td>\n",
       "      <td>[강의, 시작, 방정식, 활용, 방정식, 개로, 방정식, 방정식, 방정식, 조건, ...</td>\n",
       "    </tr>\n",
       "    <tr>\n",
       "      <th>26</th>\n",
       "      <td>0</td>\n",
       "      <td>0.9983</td>\n",
       "      <td>제곱, 플러스, 공식, 루트, 얘기, 플러스마이너스, 방정식, 문제, 인수, 분의</td>\n",
       "      <td>[방정식, 공식, 공부, 이트, 공식, 중요, 내용, 수학, 포기, 공식, 부모, ...</td>\n",
       "    </tr>\n",
       "    <tr>\n",
       "      <th>27</th>\n",
       "      <td>1</td>\n",
       "      <td>0.9980</td>\n",
       "      <td>인수, 제곱, 플러스, 공식, 분해, 문제, 수분, 방정식, 선생, 얘기</td>\n",
       "      <td>[박수아, 소단원, 인수, 분해, 구간, 공부, 종합, 인수, 분해, 어인, 수분,...</td>\n",
       "    </tr>\n",
       "    <tr>\n",
       "      <th>28</th>\n",
       "      <td>1</td>\n",
       "      <td>0.9957</td>\n",
       "      <td>인수, 제곱, 플러스, 공식, 분해, 문제, 수분, 방정식, 선생, 얘기</td>\n",
       "      <td>[당시, 당시, 인수, 자연수, 약수, 용어, 임수, 약속, 인수, 소수, 소수, ...</td>\n",
       "    </tr>\n",
       "    <tr>\n",
       "      <th>29</th>\n",
       "      <td>0</td>\n",
       "      <td>0.9396</td>\n",
       "      <td>제곱, 플러스, 공식, 루트, 얘기, 플러스마이너스, 방정식, 문제, 인수, 분의</td>\n",
       "      <td>[수학, 인수, 분해, 파트, 시중, 문제, 이인수, 분해, 공부, 문제, 인수, ...</td>\n",
       "    </tr>\n",
       "    <tr>\n",
       "      <th>30</th>\n",
       "      <td>0</td>\n",
       "      <td>0.9946</td>\n",
       "      <td>제곱, 플러스, 공식, 루트, 얘기, 플러스마이너스, 방정식, 문제, 인수, 분의</td>\n",
       "      <td>[송년, 학습, 목표, 은혜, 공식, 방정식, 방정식, 방법, 그네, 공식, 공부,...</td>\n",
       "    </tr>\n",
       "    <tr>\n",
       "      <th>31</th>\n",
       "      <td>0</td>\n",
       "      <td>0.9957</td>\n",
       "      <td>제곱, 플러스, 공식, 루트, 얘기, 플러스마이너스, 방정식, 문제, 인수, 분의</td>\n",
       "      <td>[제곱, 완전체, 제곱, 표현, 제곱, 시기, 예수, 보리, 절임, 어사, 모양, ...</td>\n",
       "    </tr>\n",
       "    <tr>\n",
       "      <th>32</th>\n",
       "      <td>0</td>\n",
       "      <td>0.9987</td>\n",
       "      <td>제곱, 플러스, 공식, 루트, 얘기, 플러스마이너스, 방정식, 문제, 인수, 분의</td>\n",
       "      <td>[방정식, 공식, 방정식, 보식, 수학, 공부, 오랫동안, 기억, 내고, 시기, 그...</td>\n",
       "    </tr>\n",
       "    <tr>\n",
       "      <th>33</th>\n",
       "      <td>0</td>\n",
       "      <td>0.9584</td>\n",
       "      <td>제곱, 플러스, 공식, 루트, 얘기, 플러스마이너스, 방정식, 문제, 인수, 분의</td>\n",
       "      <td>[도식, 수문, 당황, 기본, 인수, 위원회, 분해, 부등식, 기본, 방법, 함수,...</td>\n",
       "    </tr>\n",
       "    <tr>\n",
       "      <th>34</th>\n",
       "      <td>0</td>\n",
       "      <td>0.9719</td>\n",
       "      <td>제곱, 플러스, 공식, 루트, 얘기, 플러스마이너스, 방정식, 문제, 인수, 분의</td>\n",
       "      <td>[음악계, 문제, 공식, 풀이, 공식, 짝수, 계산, 확인, 대입, 서식, 계산, ...</td>\n",
       "    </tr>\n",
       "    <tr>\n",
       "      <th>35</th>\n",
       "      <td>0</td>\n",
       "      <td>0.9985</td>\n",
       "      <td>제곱, 플러스, 공식, 루트, 얘기, 플러스마이너스, 방정식, 문제, 인수, 분의</td>\n",
       "      <td>[공식, 방정식, 풀이, 해결, 문제, 풀이, 대응, 정리, 차원, 정신, 플러스,...</td>\n",
       "    </tr>\n",
       "    <tr>\n",
       "      <th>36</th>\n",
       "      <td>1</td>\n",
       "      <td>0.9988</td>\n",
       "      <td>인수, 제곱, 플러스, 공식, 분해, 문제, 수분, 방정식, 선생, 얘기</td>\n",
       "      <td>[인수, 공부, 인수, 분해, 내용, 정리, 중단원, 마무리, 문제, 수분, 내용,...</td>\n",
       "    </tr>\n",
       "    <tr>\n",
       "      <th>37</th>\n",
       "      <td>1</td>\n",
       "      <td>0.9993</td>\n",
       "      <td>인수, 제곱, 플러스, 공식, 분해, 문제, 수분, 방정식, 선생, 얘기</td>\n",
       "      <td>[올인, 선생, 대단원, 단원, 다항식, 코스, 코스, 인수, 분해, 코스, 수분,...</td>\n",
       "    </tr>\n",
       "    <tr>\n",
       "      <th>38</th>\n",
       "      <td>0</td>\n",
       "      <td>0.9983</td>\n",
       "      <td>제곱, 플러스, 공식, 루트, 얘기, 플러스마이너스, 방정식, 문제, 인수, 분의</td>\n",
       "      <td>[자평, 여학생, 방정식, 방정식, 체계, 제곱근, 무리수, 아이드, 곱셈, 공식,...</td>\n",
       "    </tr>\n",
       "    <tr>\n",
       "      <th>39</th>\n",
       "      <td>1</td>\n",
       "      <td>0.9725</td>\n",
       "      <td>인수, 제곱, 플러스, 공식, 분해, 문제, 수분, 방정식, 선생, 얘기</td>\n",
       "      <td>[공식, 예상, 방정식, 방정식, 장식, 중요, 개념, 계정, 제곱근, 개념, 이참...</td>\n",
       "    </tr>\n",
       "    <tr>\n",
       "      <th>40</th>\n",
       "      <td>0</td>\n",
       "      <td>0.9925</td>\n",
       "      <td>제곱, 플러스, 공식, 루트, 얘기, 플러스마이너스, 방정식, 문제, 인수, 분의</td>\n",
       "      <td>[차원, 의식, 그네, 공식, 설명, 플러스, 플러스, 제로, 방정식, 방법, 인수...</td>\n",
       "    </tr>\n",
       "    <tr>\n",
       "      <th>41</th>\n",
       "      <td>0</td>\n",
       "      <td>0.9981</td>\n",
       "      <td>제곱, 플러스, 공식, 루트, 얘기, 플러스마이너스, 방정식, 문제, 인수, 분의</td>\n",
       "      <td>[수학, 강의, 시작, 방정식, 공식, 공부, 인수, 분해, 방정식, 제곱, 암기,...</td>\n",
       "    </tr>\n",
       "    <tr>\n",
       "      <th>42</th>\n",
       "      <td>0</td>\n",
       "      <td>0.9988</td>\n",
       "      <td>제곱, 플러스, 공식, 루트, 얘기, 플러스마이너스, 방정식, 문제, 인수, 분의</td>\n",
       "      <td>[방정식, 공식, 공식, 방정식, 풀이, 열쇠, 그네, 음식, 방정식, 문제, 제곱...</td>\n",
       "    </tr>\n",
       "    <tr>\n",
       "      <th>43</th>\n",
       "      <td>0</td>\n",
       "      <td>0.9979</td>\n",
       "      <td>제곱, 플러스, 공식, 루트, 얘기, 플러스마이너스, 방정식, 문제, 인수, 분의</td>\n",
       "      <td>[내용, 설명, 내용, 화면, 축소, 내용, 제곱, 플러스, 방정식, 우변, 이양,...</td>\n",
       "    </tr>\n",
       "    <tr>\n",
       "      <th>44</th>\n",
       "      <td>0</td>\n",
       "      <td>0.9951</td>\n",
       "      <td>제곱, 플러스, 공식, 루트, 얘기, 플러스마이너스, 방정식, 문제, 인수, 분의</td>\n",
       "      <td>[그네, 공식, 짝수, 그해, 시카고, 선생, 증명, 방정식, 감동, 과정, 선생,...</td>\n",
       "    </tr>\n",
       "    <tr>\n",
       "      <th>45</th>\n",
       "      <td>0</td>\n",
       "      <td>0.5661</td>\n",
       "      <td>제곱, 플러스, 공식, 루트, 얘기, 플러스마이너스, 방정식, 문제, 인수, 분의</td>\n",
       "      <td>[공무원, 시험, 문제, 풀이, 영상, 이유, 유튜브, 공식, 증명, 영상, 고등학...</td>\n",
       "    </tr>\n",
       "    <tr>\n",
       "      <th>46</th>\n",
       "      <td>1</td>\n",
       "      <td>0.9990</td>\n",
       "      <td>인수, 제곱, 플러스, 공식, 분해, 문제, 수분, 방정식, 선생, 얘기</td>\n",
       "      <td>[고등, 수학, 강의, 우수정, 공부, 인수, 분해, 스텝, 개념, 인수, 분해, ...</td>\n",
       "    </tr>\n",
       "    <tr>\n",
       "      <th>47</th>\n",
       "      <td>1</td>\n",
       "      <td>0.5273</td>\n",
       "      <td>인수, 제곱, 플러스, 공식, 분해, 문제, 수분, 방정식, 선생, 얘기</td>\n",
       "      <td>[방정식, 방정식, 형태, 플러스, 픽스, 플러스, 경인, 형태, 얘기, 태구, 증...</td>\n",
       "    </tr>\n",
       "    <tr>\n",
       "      <th>48</th>\n",
       "      <td>1</td>\n",
       "      <td>0.8397</td>\n",
       "      <td>인수, 제곱, 플러스, 공식, 분해, 문제, 수분, 방정식, 선생, 얘기</td>\n",
       "      <td>[사회, 악살, 바아, 재국, 리그, 제고, 플러스, 유리, 천왕, 제고, 기수, ...</td>\n",
       "    </tr>\n",
       "    <tr>\n",
       "      <th>49</th>\n",
       "      <td>0</td>\n",
       "      <td>0.9982</td>\n",
       "      <td>제곱, 플러스, 공식, 루트, 얘기, 플러스마이너스, 방정식, 문제, 인수, 분의</td>\n",
       "      <td>[방정식, 예수, 인턴, 구체, 이유정, 조랑말, 찬미, 구시대, 도유, 분칠, 매...</td>\n",
       "    </tr>\n",
       "    <tr>\n",
       "      <th>50</th>\n",
       "      <td>0</td>\n",
       "      <td>0.5000</td>\n",
       "      <td>제곱, 플러스, 공식, 루트, 얘기, 플러스마이너스, 방정식, 문제, 인수, 분의</td>\n",
       "      <td>[]</td>\n",
       "    </tr>\n",
       "    <tr>\n",
       "      <th>51</th>\n",
       "      <td>1</td>\n",
       "      <td>0.9717</td>\n",
       "      <td>인수, 제곱, 플러스, 공식, 분해, 문제, 수분, 방정식, 선생, 얘기</td>\n",
       "      <td>[출판사, 종교, 중상, 과정, 감상, 활용, 구매, 음식, 갱신, 설명, 위기, ...</td>\n",
       "    </tr>\n",
       "    <tr>\n",
       "      <th>52</th>\n",
       "      <td>0</td>\n",
       "      <td>0.9970</td>\n",
       "      <td>제곱, 플러스, 공식, 루트, 얘기, 플러스마이너스, 방정식, 문제, 인수, 분의</td>\n",
       "      <td>[방정식, 공식, 방정식, 계수, 선생, 유도, 편의, 예수, 수일, 성립, 공식,...</td>\n",
       "    </tr>\n",
       "    <tr>\n",
       "      <th>53</th>\n",
       "      <td>0</td>\n",
       "      <td>0.9903</td>\n",
       "      <td>제곱, 플러스, 공식, 루트, 얘기, 플러스마이너스, 방정식, 문제, 인수, 분의</td>\n",
       "      <td>[선생, 방정식, 공식, 유도, 공식, 자근, 공식, 공식, 유도자, 공식, 제곱,...</td>\n",
       "    </tr>\n",
       "    <tr>\n",
       "      <th>54</th>\n",
       "      <td>0</td>\n",
       "      <td>0.9987</td>\n",
       "      <td>제곱, 플러스, 공식, 루트, 얘기, 플러스마이너스, 방정식, 문제, 인수, 분의</td>\n",
       "      <td>[방정식, 공식, 선생, 정원, 설명, 얘기, 방법, 인수, 분해, 제곱근, 성질,...</td>\n",
       "    </tr>\n",
       "    <tr>\n",
       "      <th>55</th>\n",
       "      <td>0</td>\n",
       "      <td>0.9978</td>\n",
       "      <td>제곱, 플러스, 공식, 루트, 얘기, 플러스마이너스, 방정식, 문제, 인수, 분의</td>\n",
       "      <td>[학년, 제곱, 방정식, 풀이, 제곱, 공식, 그대, 공식, 방법, 공식, 공식, ...</td>\n",
       "    </tr>\n",
       "    <tr>\n",
       "      <th>56</th>\n",
       "      <td>0</td>\n",
       "      <td>0.9956</td>\n",
       "      <td>제곱, 플러스, 공식, 루트, 얘기, 플러스마이너스, 방정식, 문제, 인수, 분의</td>\n",
       "      <td>[타방, 경숙, 공식, 유도, 박수, 제곱, 근영, 형태, 방정식, 방정식, 상수,...</td>\n",
       "    </tr>\n",
       "    <tr>\n",
       "      <th>57</th>\n",
       "      <td>0</td>\n",
       "      <td>0.9933</td>\n",
       "      <td>제곱, 플러스, 공식, 루트, 얘기, 플러스마이너스, 방정식, 문제, 인수, 분의</td>\n",
       "      <td>[쪽박, 루트, 계수, 편리, 인수, 루트, 계산, 기수, 계수, 공식, 동그라미,...</td>\n",
       "    </tr>\n",
       "    <tr>\n",
       "      <th>58</th>\n",
       "      <td>1</td>\n",
       "      <td>0.9976</td>\n",
       "      <td>인수, 제곱, 플러스, 공식, 분해, 문제, 수분, 방정식, 선생, 얘기</td>\n",
       "      <td>[인수, 문제, 선생, 초등, 고등학교, 중학교, 이론, 정리, 개념, 설명, 개념...</td>\n",
       "    </tr>\n",
       "    <tr>\n",
       "      <th>59</th>\n",
       "      <td>0</td>\n",
       "      <td>0.9969</td>\n",
       "      <td>제곱, 플러스, 공식, 루트, 얘기, 플러스마이너스, 방정식, 문제, 인수, 분의</td>\n",
       "      <td>[제곱, 플러스, 플러스, 방정식, 그네, 자의, 플러스마이너스, 루트, 공시, 유...</td>\n",
       "    </tr>\n",
       "  </tbody>\n",
       "</table>\n",
       "</div>"
      ],
      "text/plain": [
       "    Dominant_Topic  Perc_Contribution  \\\n",
       "0                0             0.9919   \n",
       "1                1             0.9987   \n",
       "2                1             0.9981   \n",
       "3                1             0.9981   \n",
       "4                0             0.9915   \n",
       "5                0             0.7594   \n",
       "6                0             0.9993   \n",
       "7                1             0.9985   \n",
       "8                1             0.9988   \n",
       "9                0             0.9979   \n",
       "10               0             0.9671   \n",
       "11               1             0.9977   \n",
       "12               0             0.5000   \n",
       "13               1             0.9973   \n",
       "14               0             0.9967   \n",
       "15               1             0.9962   \n",
       "16               0             0.9957   \n",
       "17               0             0.9984   \n",
       "18               0             0.9995   \n",
       "19               0             0.9935   \n",
       "20               0             0.7786   \n",
       "21               0             0.9966   \n",
       "22               0             0.8152   \n",
       "23               1             0.6572   \n",
       "24               1             0.9931   \n",
       "25               1             0.8958   \n",
       "26               0             0.9983   \n",
       "27               1             0.9980   \n",
       "28               1             0.9957   \n",
       "29               0             0.9396   \n",
       "30               0             0.9946   \n",
       "31               0             0.9957   \n",
       "32               0             0.9987   \n",
       "33               0             0.9584   \n",
       "34               0             0.9719   \n",
       "35               0             0.9985   \n",
       "36               1             0.9988   \n",
       "37               1             0.9993   \n",
       "38               0             0.9983   \n",
       "39               1             0.9725   \n",
       "40               0             0.9925   \n",
       "41               0             0.9981   \n",
       "42               0             0.9988   \n",
       "43               0             0.9979   \n",
       "44               0             0.9951   \n",
       "45               0             0.5661   \n",
       "46               1             0.9990   \n",
       "47               1             0.5273   \n",
       "48               1             0.8397   \n",
       "49               0             0.9982   \n",
       "50               0             0.5000   \n",
       "51               1             0.9717   \n",
       "52               0             0.9970   \n",
       "53               0             0.9903   \n",
       "54               0             0.9987   \n",
       "55               0             0.9978   \n",
       "56               0             0.9956   \n",
       "57               0             0.9933   \n",
       "58               1             0.9976   \n",
       "59               0             0.9969   \n",
       "\n",
       "                                   Topic_Keywords  \\\n",
       "0   제곱, 플러스, 공식, 루트, 얘기, 플러스마이너스, 방정식, 문제, 인수, 분의   \n",
       "1        인수, 제곱, 플러스, 공식, 분해, 문제, 수분, 방정식, 선생, 얘기   \n",
       "2        인수, 제곱, 플러스, 공식, 분해, 문제, 수분, 방정식, 선생, 얘기   \n",
       "3        인수, 제곱, 플러스, 공식, 분해, 문제, 수분, 방정식, 선생, 얘기   \n",
       "4   제곱, 플러스, 공식, 루트, 얘기, 플러스마이너스, 방정식, 문제, 인수, 분의   \n",
       "5   제곱, 플러스, 공식, 루트, 얘기, 플러스마이너스, 방정식, 문제, 인수, 분의   \n",
       "6   제곱, 플러스, 공식, 루트, 얘기, 플러스마이너스, 방정식, 문제, 인수, 분의   \n",
       "7        인수, 제곱, 플러스, 공식, 분해, 문제, 수분, 방정식, 선생, 얘기   \n",
       "8        인수, 제곱, 플러스, 공식, 분해, 문제, 수분, 방정식, 선생, 얘기   \n",
       "9   제곱, 플러스, 공식, 루트, 얘기, 플러스마이너스, 방정식, 문제, 인수, 분의   \n",
       "10  제곱, 플러스, 공식, 루트, 얘기, 플러스마이너스, 방정식, 문제, 인수, 분의   \n",
       "11       인수, 제곱, 플러스, 공식, 분해, 문제, 수분, 방정식, 선생, 얘기   \n",
       "12  제곱, 플러스, 공식, 루트, 얘기, 플러스마이너스, 방정식, 문제, 인수, 분의   \n",
       "13       인수, 제곱, 플러스, 공식, 분해, 문제, 수분, 방정식, 선생, 얘기   \n",
       "14  제곱, 플러스, 공식, 루트, 얘기, 플러스마이너스, 방정식, 문제, 인수, 분의   \n",
       "15       인수, 제곱, 플러스, 공식, 분해, 문제, 수분, 방정식, 선생, 얘기   \n",
       "16  제곱, 플러스, 공식, 루트, 얘기, 플러스마이너스, 방정식, 문제, 인수, 분의   \n",
       "17  제곱, 플러스, 공식, 루트, 얘기, 플러스마이너스, 방정식, 문제, 인수, 분의   \n",
       "18  제곱, 플러스, 공식, 루트, 얘기, 플러스마이너스, 방정식, 문제, 인수, 분의   \n",
       "19  제곱, 플러스, 공식, 루트, 얘기, 플러스마이너스, 방정식, 문제, 인수, 분의   \n",
       "20  제곱, 플러스, 공식, 루트, 얘기, 플러스마이너스, 방정식, 문제, 인수, 분의   \n",
       "21  제곱, 플러스, 공식, 루트, 얘기, 플러스마이너스, 방정식, 문제, 인수, 분의   \n",
       "22  제곱, 플러스, 공식, 루트, 얘기, 플러스마이너스, 방정식, 문제, 인수, 분의   \n",
       "23       인수, 제곱, 플러스, 공식, 분해, 문제, 수분, 방정식, 선생, 얘기   \n",
       "24       인수, 제곱, 플러스, 공식, 분해, 문제, 수분, 방정식, 선생, 얘기   \n",
       "25       인수, 제곱, 플러스, 공식, 분해, 문제, 수분, 방정식, 선생, 얘기   \n",
       "26  제곱, 플러스, 공식, 루트, 얘기, 플러스마이너스, 방정식, 문제, 인수, 분의   \n",
       "27       인수, 제곱, 플러스, 공식, 분해, 문제, 수분, 방정식, 선생, 얘기   \n",
       "28       인수, 제곱, 플러스, 공식, 분해, 문제, 수분, 방정식, 선생, 얘기   \n",
       "29  제곱, 플러스, 공식, 루트, 얘기, 플러스마이너스, 방정식, 문제, 인수, 분의   \n",
       "30  제곱, 플러스, 공식, 루트, 얘기, 플러스마이너스, 방정식, 문제, 인수, 분의   \n",
       "31  제곱, 플러스, 공식, 루트, 얘기, 플러스마이너스, 방정식, 문제, 인수, 분의   \n",
       "32  제곱, 플러스, 공식, 루트, 얘기, 플러스마이너스, 방정식, 문제, 인수, 분의   \n",
       "33  제곱, 플러스, 공식, 루트, 얘기, 플러스마이너스, 방정식, 문제, 인수, 분의   \n",
       "34  제곱, 플러스, 공식, 루트, 얘기, 플러스마이너스, 방정식, 문제, 인수, 분의   \n",
       "35  제곱, 플러스, 공식, 루트, 얘기, 플러스마이너스, 방정식, 문제, 인수, 분의   \n",
       "36       인수, 제곱, 플러스, 공식, 분해, 문제, 수분, 방정식, 선생, 얘기   \n",
       "37       인수, 제곱, 플러스, 공식, 분해, 문제, 수분, 방정식, 선생, 얘기   \n",
       "38  제곱, 플러스, 공식, 루트, 얘기, 플러스마이너스, 방정식, 문제, 인수, 분의   \n",
       "39       인수, 제곱, 플러스, 공식, 분해, 문제, 수분, 방정식, 선생, 얘기   \n",
       "40  제곱, 플러스, 공식, 루트, 얘기, 플러스마이너스, 방정식, 문제, 인수, 분의   \n",
       "41  제곱, 플러스, 공식, 루트, 얘기, 플러스마이너스, 방정식, 문제, 인수, 분의   \n",
       "42  제곱, 플러스, 공식, 루트, 얘기, 플러스마이너스, 방정식, 문제, 인수, 분의   \n",
       "43  제곱, 플러스, 공식, 루트, 얘기, 플러스마이너스, 방정식, 문제, 인수, 분의   \n",
       "44  제곱, 플러스, 공식, 루트, 얘기, 플러스마이너스, 방정식, 문제, 인수, 분의   \n",
       "45  제곱, 플러스, 공식, 루트, 얘기, 플러스마이너스, 방정식, 문제, 인수, 분의   \n",
       "46       인수, 제곱, 플러스, 공식, 분해, 문제, 수분, 방정식, 선생, 얘기   \n",
       "47       인수, 제곱, 플러스, 공식, 분해, 문제, 수분, 방정식, 선생, 얘기   \n",
       "48       인수, 제곱, 플러스, 공식, 분해, 문제, 수분, 방정식, 선생, 얘기   \n",
       "49  제곱, 플러스, 공식, 루트, 얘기, 플러스마이너스, 방정식, 문제, 인수, 분의   \n",
       "50  제곱, 플러스, 공식, 루트, 얘기, 플러스마이너스, 방정식, 문제, 인수, 분의   \n",
       "51       인수, 제곱, 플러스, 공식, 분해, 문제, 수분, 방정식, 선생, 얘기   \n",
       "52  제곱, 플러스, 공식, 루트, 얘기, 플러스마이너스, 방정식, 문제, 인수, 분의   \n",
       "53  제곱, 플러스, 공식, 루트, 얘기, 플러스마이너스, 방정식, 문제, 인수, 분의   \n",
       "54  제곱, 플러스, 공식, 루트, 얘기, 플러스마이너스, 방정식, 문제, 인수, 분의   \n",
       "55  제곱, 플러스, 공식, 루트, 얘기, 플러스마이너스, 방정식, 문제, 인수, 분의   \n",
       "56  제곱, 플러스, 공식, 루트, 얘기, 플러스마이너스, 방정식, 문제, 인수, 분의   \n",
       "57  제곱, 플러스, 공식, 루트, 얘기, 플러스마이너스, 방정식, 문제, 인수, 분의   \n",
       "58       인수, 제곱, 플러스, 공식, 분해, 문제, 수분, 방정식, 선생, 얘기   \n",
       "59  제곱, 플러스, 공식, 루트, 얘기, 플러스마이너스, 방정식, 문제, 인수, 분의   \n",
       "\n",
       "                                       Original_Texts  \n",
       "0   [선수, 자아, 클랑, 분수, 소수, 이유, 순위, 크기, 가늠, 가능, 범행, 정...  \n",
       "1   [허수, 반감, 루트, 루트, 루트, 정의, 수확, 필요, 설명, 정의, 동기, 부...  \n",
       "2   [대망, 인수, 분해, 인수, 분해, 인순, 어데, 서민, 이인수, 문의, 제곱근,...  \n",
       "3   [방정식, 파트, 언정, 불줄, 인숙, 가능, 수분, 연습, 방정식, 클릭, 인수,...  \n",
       "4   [수학, 방정식, 정수, 개수, 음식, 방정식, 문제, 인수, 분해, 그늘, 채널,...  \n",
       "5   [수분, 선생, 인수, 스템, 리딩, 공통, 인수, 카드, 내용, 공통, 스텝, 스...  \n",
       "6   [겨울, 행복감, 위너, 크리스마스, 위너, 위너, 도리, 월매, 선데이, 위도, ...  \n",
       "7   [대왕, 인수, 분해, 파트, 추가, 선생, 내용, 마음, 준비, 이야기, 마음, ...  \n",
       "8   [수학, 동주, 인수, 분해, 에다마메, 수업, 인수, 연습, 필요, 이해, 연습,...  \n",
       "9   [대망, 그네, 공식, 선생, 노래, 이야기, 기대, 음치, 선생, 제곱근, 방정식...  \n",
       "10  [수학, 공식, 공통, 인수, 인수, 분해, 급식, 인수, 분해, 교과서, 문제집,...  \n",
       "11  [선생, 업로드, 선생, 선생, 라이브, 그라, 선생, 컴맹, 라이브, 유튜브, 라...  \n",
       "12                                                 []  \n",
       "13  [분해, 수분, 인수, 분해, 인수, 분해, 분해, 인수, 인수, 연결, 인수, 연...  \n",
       "14  [선생, 공식, 유도, 과정, 유도, 과정, 기본, 베이스, 제곱근, 방정식, 수요...  \n",
       "15  [수학, 공부, 내용, 공통, 인수, 인수, 분해, 내용, 이해, 미용실, 커트, ...  \n",
       "16  [수학, 공식, 유도, 과정, 제목, 유도, 과정, 방정식, 프리, 요인, 수분, ...  \n",
       "17  [충주, 청자, 공식, 말씀, 동의, 요청, 공식, 공식, 공식, 그대, 공식, 제...  \n",
       "18  [이광재, 전개, 인숙, 공부, 고등학교, 학년, 과정, 전격, 인수, 분해, 공부...  \n",
       "19  [설명, 블라이즈, 특허, 세계, 음각, 수직, 질문, 나머지, 형태, 인수, 분해...  \n",
       "20  [수학, 하위, 개인, 수계, 인수, 칠판, 항의, 다항식, 인수, 분해, 형태, ...  \n",
       "21  [수학, 급식, 방정식, 방정식, 제곱근, 방정식, 프리, 개념, 상태, 클립, 이...  \n",
       "22  [수학, 수분, 공식, 학기, 교과서, 배우, 주의, 인수, 분해, 파트, 인수, ...  \n",
       "23  [수학, 공식, 인수, 분해, 인수, 분해, 급식, 상수, 항의, 표현, 합의, 개...  \n",
       "24  [인수, 공부, 신경식, 이야기, 곱셈, 공식, 생고기, 제곱, 전개, 북방, 주제...  \n",
       "25  [강의, 시작, 방정식, 활용, 방정식, 개로, 방정식, 방정식, 방정식, 조건, ...  \n",
       "26  [방정식, 공식, 공부, 이트, 공식, 중요, 내용, 수학, 포기, 공식, 부모, ...  \n",
       "27  [박수아, 소단원, 인수, 분해, 구간, 공부, 종합, 인수, 분해, 어인, 수분,...  \n",
       "28  [당시, 당시, 인수, 자연수, 약수, 용어, 임수, 약속, 인수, 소수, 소수, ...  \n",
       "29  [수학, 인수, 분해, 파트, 시중, 문제, 이인수, 분해, 공부, 문제, 인수, ...  \n",
       "30  [송년, 학습, 목표, 은혜, 공식, 방정식, 방정식, 방법, 그네, 공식, 공부,...  \n",
       "31  [제곱, 완전체, 제곱, 표현, 제곱, 시기, 예수, 보리, 절임, 어사, 모양, ...  \n",
       "32  [방정식, 공식, 방정식, 보식, 수학, 공부, 오랫동안, 기억, 내고, 시기, 그...  \n",
       "33  [도식, 수문, 당황, 기본, 인수, 위원회, 분해, 부등식, 기본, 방법, 함수,...  \n",
       "34  [음악계, 문제, 공식, 풀이, 공식, 짝수, 계산, 확인, 대입, 서식, 계산, ...  \n",
       "35  [공식, 방정식, 풀이, 해결, 문제, 풀이, 대응, 정리, 차원, 정신, 플러스,...  \n",
       "36  [인수, 공부, 인수, 분해, 내용, 정리, 중단원, 마무리, 문제, 수분, 내용,...  \n",
       "37  [올인, 선생, 대단원, 단원, 다항식, 코스, 코스, 인수, 분해, 코스, 수분,...  \n",
       "38  [자평, 여학생, 방정식, 방정식, 체계, 제곱근, 무리수, 아이드, 곱셈, 공식,...  \n",
       "39  [공식, 예상, 방정식, 방정식, 장식, 중요, 개념, 계정, 제곱근, 개념, 이참...  \n",
       "40  [차원, 의식, 그네, 공식, 설명, 플러스, 플러스, 제로, 방정식, 방법, 인수...  \n",
       "41  [수학, 강의, 시작, 방정식, 공식, 공부, 인수, 분해, 방정식, 제곱, 암기,...  \n",
       "42  [방정식, 공식, 공식, 방정식, 풀이, 열쇠, 그네, 음식, 방정식, 문제, 제곱...  \n",
       "43  [내용, 설명, 내용, 화면, 축소, 내용, 제곱, 플러스, 방정식, 우변, 이양,...  \n",
       "44  [그네, 공식, 짝수, 그해, 시카고, 선생, 증명, 방정식, 감동, 과정, 선생,...  \n",
       "45  [공무원, 시험, 문제, 풀이, 영상, 이유, 유튜브, 공식, 증명, 영상, 고등학...  \n",
       "46  [고등, 수학, 강의, 우수정, 공부, 인수, 분해, 스텝, 개념, 인수, 분해, ...  \n",
       "47  [방정식, 방정식, 형태, 플러스, 픽스, 플러스, 경인, 형태, 얘기, 태구, 증...  \n",
       "48  [사회, 악살, 바아, 재국, 리그, 제고, 플러스, 유리, 천왕, 제고, 기수, ...  \n",
       "49  [방정식, 예수, 인턴, 구체, 이유정, 조랑말, 찬미, 구시대, 도유, 분칠, 매...  \n",
       "50                                                 []  \n",
       "51  [출판사, 종교, 중상, 과정, 감상, 활용, 구매, 음식, 갱신, 설명, 위기, ...  \n",
       "52  [방정식, 공식, 방정식, 계수, 선생, 유도, 편의, 예수, 수일, 성립, 공식,...  \n",
       "53  [선생, 방정식, 공식, 유도, 공식, 자근, 공식, 공식, 유도자, 공식, 제곱,...  \n",
       "54  [방정식, 공식, 선생, 정원, 설명, 얘기, 방법, 인수, 분해, 제곱근, 성질,...  \n",
       "55  [학년, 제곱, 방정식, 풀이, 제곱, 공식, 그대, 공식, 방법, 공식, 공식, ...  \n",
       "56  [타방, 경숙, 공식, 유도, 박수, 제곱, 근영, 형태, 방정식, 방정식, 상수,...  \n",
       "57  [쪽박, 루트, 계수, 편리, 인수, 루트, 계산, 기수, 계수, 공식, 동그라미,...  \n",
       "58  [인수, 문제, 선생, 초등, 고등학교, 중학교, 이론, 정리, 개념, 설명, 개념...  \n",
       "59  [제곱, 플러스, 플러스, 방정식, 그네, 자의, 플러스마이너스, 루트, 공시, 유...  "
      ]
     },
     "execution_count": 68,
     "metadata": {},
     "output_type": "execute_result"
    }
   ],
   "source": [
    "sent_topics_df = pd.DataFrame(columns=['Dominant_Topic', 'Perc_Contribution', 'Topic_Keywords'])\n",
    "ldamodel = model\n",
    "\n",
    "for idx, row in enumerate(ldamodel[total_corpus]):\n",
    "    row = sorted(row, key=lambda x: (x[1]), reverse=True)\n",
    "    for j, (topic_number, prob_topic) in enumerate(row):\n",
    "        if j == 0:\n",
    "            topics = ldamodel.show_topic(topic_number)\n",
    "            topic_keywords = \", \".join([word for word, prob in topics])\n",
    "            append_list = [int(topic_number), round(prob_topic, 4), topic_keywords]\n",
    "            sent_topics_df.loc[idx] = append_list\n",
    "        else:\n",
    "            break\n",
    "\n",
    "sent_topics_df[\"Original_Texts\"] = total_texts\n",
    "\n",
    "sent_topics_df"
   ]
  },
  {
   "cell_type": "code",
   "execution_count": 69,
   "metadata": {},
   "outputs": [
    {
     "data": {
      "text/plain": [
       "Dominant_Topic\n",
       "0    39\n",
       "1    21\n",
       "Name: count, dtype: int64"
      ]
     },
     "execution_count": 69,
     "metadata": {},
     "output_type": "execute_result"
    }
   ],
   "source": [
    "sent_topics_df[\"Dominant_Topic\"].value_counts()"
   ]
  },
  {
   "cell_type": "code",
   "execution_count": 70,
   "metadata": {},
   "outputs": [],
   "source": [
    "po_df = sent_topics_df[:30]\n",
    "unpo_df = sent_topics_df[-30:]"
   ]
  },
  {
   "cell_type": "code",
   "execution_count": 71,
   "metadata": {},
   "outputs": [
    {
     "data": {
      "text/plain": [
       "Dominant_Topic\n",
       "0    17\n",
       "1    13\n",
       "Name: count, dtype: int64"
      ]
     },
     "execution_count": 71,
     "metadata": {},
     "output_type": "execute_result"
    }
   ],
   "source": [
    "po_df['Dominant_Topic'].value_counts()"
   ]
  },
  {
   "cell_type": "code",
   "execution_count": 72,
   "metadata": {},
   "outputs": [
    {
     "data": {
      "text/plain": [
       "Dominant_Topic\n",
       "0    22\n",
       "1     8\n",
       "Name: count, dtype: int64"
      ]
     },
     "execution_count": 72,
     "metadata": {},
     "output_type": "execute_result"
    }
   ],
   "source": [
    "unpo_df['Dominant_Topic'].value_counts()"
   ]
  },
  {
   "cell_type": "code",
   "execution_count": 75,
   "metadata": {},
   "outputs": [
    {
     "data": {
      "text/plain": [
       "[('인수', 0.041122276),\n",
       " ('제곱', 0.03741405),\n",
       " ('플러스', 0.028521044),\n",
       " ('공식', 0.0200454),\n",
       " ('분해', 0.01999942),\n",
       " ('문제', 0.018794624),\n",
       " ('수분', 0.01689082),\n",
       " ('방정식', 0.012779814),\n",
       " ('선생', 0.011557657),\n",
       " ('얘기', 0.010534113)]"
      ]
     },
     "execution_count": 75,
     "metadata": {},
     "output_type": "execute_result"
    }
   ],
   "source": [
    "model.show_topic(1)"
   ]
  },
  {
   "cell_type": "code",
   "execution_count": 115,
   "metadata": {},
   "outputs": [],
   "source": [
    "visualization = gensimvis.prepare(model, total_corpus, total_dict, sort_topics=False)\n",
    "pyLDAvis.save_html(visualization, f\"/Users/jylee/Desktop/GeniA_project/Topic_Modeling/Data/total.html\")"
   ]
  },
  {
   "cell_type": "code",
   "execution_count": 7,
   "metadata": {},
   "outputs": [
    {
     "name": "stdout",
     "output_type": "stream",
     "text": [
      "/Users/jylee/Desktop/GeniA_project/Topic_Modeling/LDA\n",
      "/Users/jylee/Desktop/GeniA_project/Topic_Modeling/LDA/Data/csv\n"
     ]
    }
   ],
   "source": [
    "import os\n",
    "\n",
    "print(os.getcwd())\n",
    "print(os.path.abspath('./Data/csv/'))"
   ]
  },
  {
   "cell_type": "code",
   "execution_count": 3,
   "metadata": {},
   "outputs": [
    {
     "name": "stdout",
     "output_type": "stream",
     "text": [
      "root/directory1/directory2\n"
     ]
    }
   ],
   "source": [
    "pathname = os.path.join(\"root\", \"directory1\", \"directory2\")\n",
    "print(pathname)\n"
   ]
  },
  {
   "cell_type": "code",
   "execution_count": 2,
   "metadata": {},
   "outputs": [],
   "source": [
    "from Preprocess.load import save_dataframe"
   ]
  },
  {
   "cell_type": "code",
   "execution_count": 3,
   "metadata": {},
   "outputs": [],
   "source": [
    "import pandas as pd"
   ]
  },
  {
   "cell_type": "code",
   "execution_count": 4,
   "metadata": {},
   "outputs": [],
   "source": [
    "df = pd.DataFrame()"
   ]
  },
  {
   "cell_type": "code",
   "execution_count": 5,
   "metadata": {},
   "outputs": [],
   "source": [
    "save_dataframe(df, \"test.csv\")"
   ]
  },
  {
   "cell_type": "code",
   "execution_count": 8,
   "metadata": {},
   "outputs": [
    {
     "data": {
      "text/plain": [
       "'./Data/csv'"
      ]
     },
     "execution_count": 8,
     "metadata": {},
     "output_type": "execute_result"
    }
   ],
   "source": [
    "os.path.dirname(r\"./Data/csv/\")"
   ]
  },
  {
   "cell_type": "code",
   "execution_count": null,
   "metadata": {},
   "outputs": [],
   "source": []
  }
 ],
 "metadata": {
  "kernelspec": {
   "display_name": "venv",
   "language": "python",
   "name": "python3"
  },
  "language_info": {
   "codemirror_mode": {
    "name": "ipython",
    "version": 3
   },
   "file_extension": ".py",
   "mimetype": "text/x-python",
   "name": "python",
   "nbconvert_exporter": "python",
   "pygments_lexer": "ipython3",
   "version": "3.10.11"
  },
  "orig_nbformat": 4
 },
 "nbformat": 4,
 "nbformat_minor": 2
}
