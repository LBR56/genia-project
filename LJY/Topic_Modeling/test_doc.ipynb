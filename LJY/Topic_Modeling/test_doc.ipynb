{
 "cells": [
  {
   "attachments": {},
   "cell_type": "markdown",
   "metadata": {},
   "source": [
    "## LDA Topic Modeling \n",
    "    - TEST DOC"
   ]
  },
  {
   "cell_type": "code",
   "execution_count": 13,
   "metadata": {},
   "outputs": [],
   "source": [
    "import pandas as pd\n",
    "import numpy as np\n",
    "from tqdm.notebook import tqdm\n",
    "\n",
    "from Preprocess import load\n",
    "from Preprocess.text_preprocess import Preprocess\n",
    "from Model.evaluate import get_best_topics, lda_visualize\n",
    "from Model.model import LDAModeling"
   ]
  },
  {
   "attachments": {},
   "cell_type": "markdown",
   "metadata": {},
   "source": [
    "## Data Load\n",
    "- Preprocess/text_preprocess.py의 Preprocess클래스에 객체를 할당할 때, 해당 파일의 경로를 설정하여 주면, get_cleaned 라는 __init__ 함수를 통해 전처리가 모두 완료된 texts를 생성하여 줍니디.\n",
    "- 이후, 클래스의 get_lda_inputs 함수를 사용하여 LDA 모델에 필요한 texts, dictionary, corpus를 생성합니다."
   ]
  },
  {
   "cell_type": "code",
   "execution_count": 2,
   "metadata": {},
   "outputs": [
    {
     "name": "stderr",
     "output_type": "stream",
     "text": [
      "[Kss]: Oh! You have konlpy.tag.Mecab in your environment. Kss will take this as a backend! :D\n",
      "\n"
     ]
    },
    {
     "data": {
      "application/vnd.jupyter.widget-view+json": {
       "model_id": "880bfc274c9c4263ba016638c6425085",
       "version_major": 2,
       "version_minor": 0
      },
      "text/plain": [
       "  0%|          | 0/302 [00:00<?, ?it/s]"
      ]
     },
     "metadata": {},
     "output_type": "display_data"
    }
   ],
   "source": [
    "processor = Preprocess(\"./Data/transcripts.csv\")"
   ]
  },
  {
   "cell_type": "code",
   "execution_count": 3,
   "metadata": {},
   "outputs": [],
   "source": [
    "texts, dictionary, corpus = processor.get_lda_inputs()"
   ]
  },
  {
   "cell_type": "code",
   "execution_count": 4,
   "metadata": {},
   "outputs": [
    {
     "data": {
      "text/plain": [
       "[(0, '10'),\n",
       " (1, '1000'),\n",
       " (2, '102'),\n",
       " (3, '12'),\n",
       " (4, '15'),\n",
       " (5, '18'),\n",
       " (6, '25'),\n",
       " (7, 'ab'),\n",
       " (8, 'ad'),\n",
       " (9, 'ap'),\n",
       " (10, 'ax'),\n",
       " (11, 'bd'),\n",
       " (12, 'bx'),\n",
       " (13, 'ex'),\n",
       " (14, 'gx'),\n",
       " (15, 'ix'),\n",
       " (16, 'ox'),\n",
       " (17, 'pa'),\n",
       " (18, 'psy'),\n",
       " (19, 'px'),\n",
       " (20, 'xy'),\n",
       " (21, 'yg'),\n",
       " (22, 'yu'),\n",
       " (23, '가능'),\n",
       " (24, '가정'),\n",
       " (25, '각각'),\n",
       " (26, '개수'),\n",
       " (27, '거랑'),\n",
       " (28, '결과'),\n",
       " (29, '경우'),\n",
       " (30, '계산'),\n",
       " (31, '계수'),\n",
       " (32, '고려'),\n",
       " (33, '고백'),\n",
       " (34, '고부'),\n",
       " (35, '고삐'),\n",
       " (36, '고영희'),\n",
       " (37, '고요'),\n",
       " (38, '곤란'),\n",
       " (39, '곱셈'),\n",
       " (40, '공식'),\n",
       " (41, '공통'),\n",
       " (42, '과육'),\n",
       " (43, '과정'),\n",
       " (44, '관련'),\n",
       " (45, '괄호'),\n",
       " (46, '교환'),\n",
       " (47, '구두'),\n",
       " (48, '구매'),\n",
       " (49, '그거'),\n",
       " (50, '그것'),\n",
       " (51, '그때'),\n",
       " (52, '그림'),\n",
       " (53, '기본'),\n",
       " (54, '기억'),\n",
       " (55, '나라'),\n",
       " (56, '누구'),\n",
       " (57, '다낭'),\n",
       " (58, '다음'),\n",
       " (59, '다항식'),\n",
       " (60, '당시'),\n",
       " (61, '대답'),\n",
       " (62, '덧셈'),\n",
       " (63, '뒤쪽'),\n",
       " (64, '라저'),\n",
       " (65, '로고'),\n",
       " (66, '로또'),\n",
       " (67, '로만'),\n",
       " (68, '마이너'),\n",
       " (69, '마이너스'),\n",
       " (70, '마인'),\n",
       " (71, '마지막'),\n",
       " (72, '마찬가지'),\n",
       " (73, '말씀'),\n",
       " (74, '모피'),\n",
       " (75, '문자'),\n",
       " (76, '문제'),\n",
       " (77, '밀접'),\n",
       " (78, '반항'),\n",
       " (79, '방법'),\n",
       " (80, '방식'),\n",
       " (81, '법칙'),\n",
       " (82, '보호'),\n",
       " (83, '부가'),\n",
       " (84, '분해'),\n",
       " (85, '불의'),\n",
       " (86, '뺄셈'),\n",
       " (87, '사용'),\n",
       " (88, '상상'),\n",
       " (89, '상수'),\n",
       " (90, '상태'),\n",
       " (91, '생각'),\n",
       " (92, '서다'),\n",
       " (93, '선생'),\n",
       " (94, '성립'),\n",
       " (95, '세고'),\n",
       " (96, '세로'),\n",
       " (97, '세제곱'),\n",
       " (98, '섹스'),\n",
       " (99, '소수'),\n",
       " (100, '소인'),\n",
       " (101, '소인수'),\n",
       " (102, '수분'),\n",
       " (103, '숫자'),\n",
       " (104, '시간'),\n",
       " (105, '시계'),\n",
       " (106, '시도'),\n",
       " (107, '시행착오'),\n",
       " (108, '식과'),\n",
       " (109, '식도'),\n",
       " (110, '신경'),\n",
       " (111, '아이'),\n",
       " (112, '아제'),\n",
       " (113, '애인'),\n",
       " (114, '액상'),\n",
       " (115, '액션'),\n",
       " (116, '얘기'),\n",
       " (117, '어디'),\n",
       " (118, '얼마'),\n",
       " (119, '에서'),\n",
       " (120, '엑스트라'),\n",
       " (121, '여기'),\n",
       " (122, '여러분'),\n",
       " (123, '연습'),\n",
       " (124, '영서'),\n",
       " (125, '영이'),\n",
       " (126, '예수'),\n",
       " (127, '예제'),\n",
       " (128, '와이'),\n",
       " (129, '요거'),\n",
       " (130, '요기'),\n",
       " (131, '요당'),\n",
       " (132, '요육'),\n",
       " (133, '우리'),\n",
       " (134, '우변'),\n",
       " (135, '원래'),\n",
       " (136, '유기'),\n",
       " (137, '유끼'),\n",
       " (138, '은혜'),\n",
       " (139, '음수'),\n",
       " (140, '의구'),\n",
       " (141, '의미'),\n",
       " (142, '이거'),\n",
       " (143, '이것'),\n",
       " (144, '이때'),\n",
       " (145, '이름'),\n",
       " (146, '이번'),\n",
       " (147, '이사'),\n",
       " (148, '이상'),\n",
       " (149, '이식'),\n",
       " (150, '이용'),\n",
       " (151, '이우'),\n",
       " (152, '이음'),\n",
       " (153, '이인수'),\n",
       " (154, '이제'),\n",
       " (155, '이쪽'),\n",
       " (156, '이퀄'),\n",
       " (157, '이해'),\n",
       " (158, '인수'),\n",
       " (159, '인숙'),\n",
       " (160, '일과'),\n",
       " (161, '일쑤'),\n",
       " (162, '자기'),\n",
       " (163, '자신'),\n",
       " (164, '자요'),\n",
       " (165, '자의'),\n",
       " (166, '저서'),\n",
       " (167, '저쪽'),\n",
       " (168, '전개'),\n",
       " (169, '전체'),\n",
       " (170, '접근'),\n",
       " (171, '제고'),\n",
       " (172, '제곱'),\n",
       " (173, '제목'),\n",
       " (174, '제법'),\n",
       " (175, '제외'),\n",
       " (176, '존재'),\n",
       " (177, '좌변'),\n",
       " (178, '중요'),\n",
       " (179, '지금'),\n",
       " (180, '지라'),\n",
       " (181, '지만'),\n",
       " (182, '지와'),\n",
       " (183, '직감'),\n",
       " (184, '직업'),\n",
       " (185, '질문'),\n",
       " (186, '징거'),\n",
       " (187, '차이점'),\n",
       " (188, '창과'),\n",
       " (189, '처음'),\n",
       " (190, '크로스'),\n",
       " (191, '탈상'),\n",
       " (192, '태초'),\n",
       " (193, '통째'),\n",
       " (194, '파란색'),\n",
       " (195, '파리'),\n",
       " (196, '파이'),\n",
       " (197, '패도'),\n",
       " (198, '패지'),\n",
       " (199, '포함'),\n",
       " (200, '표시'),\n",
       " (201, '표현'),\n",
       " (202, '프로'),\n",
       " (203, '플러스'),\n",
       " (204, '필요'),\n",
       " (205, '하와이'),\n",
       " (206, '학생'),\n",
       " (207, '한계'),\n",
       " (208, '항의'),\n",
       " (209, '형태'),\n",
       " (210, '확인'),\n",
       " (211, '훈련')]"
      ]
     },
     "execution_count": 4,
     "metadata": {},
     "output_type": "execute_result"
    }
   ],
   "source": [
    "[i for i in dictionary.items()]"
   ]
  },
  {
   "attachments": {},
   "cell_type": "markdown",
   "metadata": {},
   "source": [
    "## Model\n",
    "- Model/model.py의 LDAModeling 클래스로 texts, dictionary, corpus를 받는 객체를 생성합니다.\n",
    "- compute_evaluation_index 함수로 model_list, coherence_values, perplexity_values를 생성합니다\n",
    "- plot_optimal_number_of_topics()를 통해 coherence value와 perplexity value의 plot을 나타냅니다\n",
    "- Model/evaluate.py의 get_best_topics를 활용해 최상"
   ]
  },
  {
   "cell_type": "code",
   "execution_count": 5,
   "metadata": {},
   "outputs": [],
   "source": [
    "LDAmodel = LDAModeling(\n",
    "    texts=texts,\n",
    "    dictionary=dictionary,\n",
    "    corpus=corpus,\n",
    "    limit=15\n",
    ")"
   ]
  },
  {
   "cell_type": "code",
   "execution_count": 6,
   "metadata": {},
   "outputs": [],
   "source": [
    "model_list, coherence_values, perplexity_values = LDAmodel.compute_evaluation_index()"
   ]
  },
  {
   "cell_type": "code",
   "execution_count": 7,
   "metadata": {},
   "outputs": [
    {
     "data": {
      "image/png": "[encoded data removed]",
      "text/plain": [
       "<Figure size 432x288 with 2 Axes>"
      ]
     },
     "metadata": {
      "needs_background": "light"
     },
     "output_type": "display_data"
    }
   ],
   "source": [
    "LDAmodel.plot_optimal_number_of_topics()"
   ]
  },
  {
   "cell_type": "code",
   "execution_count": 8,
   "metadata": {},
   "outputs": [],
   "source": [
    "sent_topics_df = get_best_topics(\n",
    "    corpus=corpus,\n",
    "    texts=texts,\n",
    "    model_list=model_list,\n",
    "    coherence_values=coherence_values,\n",
    "    perplexity_values=perplexity_values,\n",
    "    mode=\"coherence\"\n",
    ")"
   ]
  },
  {
   "cell_type": "code",
   "execution_count": 9,
   "metadata": {},
   "outputs": [
    {
     "data": {
      "text/html": [
       "<div>\n",
       "<style scoped>\n",
       "    .dataframe tbody tr th:only-of-type {\n",
       "        vertical-align: middle;\n",
       "    }\n",
       "\n",
       "    .dataframe tbody tr th {\n",
       "        vertical-align: top;\n",
       "    }\n",
       "\n",
       "    .dataframe thead th {\n",
       "        text-align: right;\n",
       "    }\n",
       "</style>\n",
       "<table border=\"1\" class=\"dataframe\">\n",
       "  <thead>\n",
       "    <tr style=\"text-align: right;\">\n",
       "      <th></th>\n",
       "      <th>Dominant_Topic</th>\n",
       "      <th>Perc_Contribution</th>\n",
       "      <th>Topic_Keywords</th>\n",
       "      <th>Original_Texts</th>\n",
       "    </tr>\n",
       "  </thead>\n",
       "  <tbody>\n",
       "    <tr>\n",
       "      <th>0</th>\n",
       "      <td>9</td>\n",
       "      <td>0.9989</td>\n",
       "      <td>인수, 여기, 다음, 플러스, 분해, 우리, 표현, 공식, 수분, 제곱</td>\n",
       "      <td>[이번, 시간, 인수, 분해, 수분, 우리, 곱셈, 공식, 밀접, 관련, 곱셈, 공...</td>\n",
       "    </tr>\n",
       "  </tbody>\n",
       "</table>\n",
       "</div>"
      ],
      "text/plain": [
       "   Dominant_Topic  Perc_Contribution                           Topic_Keywords  \\\n",
       "0               9             0.9989  인수, 여기, 다음, 플러스, 분해, 우리, 표현, 공식, 수분, 제곱   \n",
       "\n",
       "                                      Original_Texts  \n",
       "0  [이번, 시간, 인수, 분해, 수분, 우리, 곱셈, 공식, 밀접, 관련, 곱셈, 공...  "
      ]
     },
     "execution_count": 9,
     "metadata": {},
     "output_type": "execute_result"
    }
   ],
   "source": [
    "sent_topics_df"
   ]
  },
  {
   "cell_type": "code",
   "execution_count": 10,
   "metadata": {},
   "outputs": [
    {
     "data": {
      "text/plain": [
       "[('인수', 0.063024394),\n",
       " ('여기', 0.050901476),\n",
       " ('다음', 0.04003815),\n",
       " ('플러스', 0.040033028),\n",
       " ('분해', 0.03518828),\n",
       " ('우리', 0.032769635),\n",
       " ('표현', 0.02913415),\n",
       " ('공식', 0.027934024),\n",
       " ('수분', 0.026703335),\n",
       " ('제곱', 0.02428598)]"
      ]
     },
     "execution_count": 10,
     "metadata": {},
     "output_type": "execute_result"
    }
   ],
   "source": [
    "model = model_list[np.argmax(coherence_values)]\n",
    "model.show_topic(9)"
   ]
  },
  {
   "cell_type": "code",
   "execution_count": 11,
   "metadata": {},
   "outputs": [],
   "source": [
    "load.save_processed_data(texts, \"test.csv\")"
   ]
  },
  {
   "cell_type": "code",
   "execution_count": 12,
   "metadata": {},
   "outputs": [],
   "source": [
    "load.save_corpus(corpus, \"test_corpus.csv\")"
   ]
  },
  {
   "cell_type": "code",
   "execution_count": 14,
   "metadata": {},
   "outputs": [],
   "source": [
    "lda_visualize(model, corpus, dictionary)"
   ]
  },
  {
   "cell_type": "code",
   "execution_count": null,
   "metadata": {},
   "outputs": [],
   "source": []
  },
  {
   "cell_type": "code",
   "execution_count": null,
   "metadata": {},
   "outputs": [],
   "source": []
  },
  {
   "cell_type": "code",
   "execution_count": null,
   "metadata": {},
   "outputs": [],
   "source": []
  },
  {
   "cell_type": "code",
   "execution_count": null,
   "metadata": {},
   "outputs": [],
   "source": []
  },
  {
   "cell_type": "code",
   "execution_count": null,
   "metadata": {},
   "outputs": [],
   "source": []
  },
  {
   "cell_type": "code",
   "execution_count": null,
   "metadata": {},
   "outputs": [],
   "source": []
  },
  {
   "cell_type": "code",
   "execution_count": null,
   "metadata": {},
   "outputs": [],
   "source": []
  },
  {
   "cell_type": "code",
   "execution_count": null,
   "metadata": {},
   "outputs": [],
   "source": []
  },
  {
   "cell_type": "code",
   "execution_count": null,
   "metadata": {},
   "outputs": [],
   "source": []
  },
  {
   "cell_type": "code",
   "execution_count": null,
   "metadata": {},
   "outputs": [],
   "source": []
  },
  {
   "cell_type": "code",
   "execution_count": null,
   "metadata": {},
   "outputs": [],
   "source": []
  },
  {
   "cell_type": "code",
   "execution_count": null,
   "metadata": {},
   "outputs": [],
   "source": []
  }
 ],
 "metadata": {
  "kernelspec": {
   "display_name": "venv",
   "language": "python",
   "name": "python3"
  },
  "language_info": {
   "codemirror_mode": {
    "name": "ipython",
    "version": 3
   },
   "file_extension": ".py",
   "mimetype": "text/x-python",
   "name": "python",
   "nbconvert_exporter": "python",
   "pygments_lexer": "ipython3",
   "version": "3.10.11"
  },
  "orig_nbformat": 4
 },
 "nbformat": 4,
 "nbformat_minor": 2
}
