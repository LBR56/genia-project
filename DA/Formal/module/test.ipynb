{
 "cells": [
  {
   "cell_type": "code",
   "execution_count": 1,
   "metadata": {},
   "outputs": [
    {
     "name": "stderr",
     "output_type": "stream",
     "text": [
      "2023-06-29 12:20:45.306613: I tensorflow/core/util/port.cc:110] oneDNN custom operations are on. You may see slightly different numerical results due to floating-point round-off errors from different computation orders. To turn them off, set the environment variable `TF_ENABLE_ONEDNN_OPTS=0`.\n",
      "2023-06-29 12:20:45.348361: I tensorflow/core/platform/cpu_feature_guard.cc:182] This TensorFlow binary is optimized to use available CPU instructions in performance-critical operations.\n",
      "To enable the following instructions: AVX2 AVX_VNNI FMA, in other operations, rebuild TensorFlow with the appropriate compiler flags.\n",
      "2023-06-29 12:20:45.956134: W tensorflow/compiler/tf2tensorrt/utils/py_utils.cc:38] TF-TRT Warning: Could not find TensorRT\n"
     ]
    }
   ],
   "source": [
    "from aws import AwsController\n",
    "from Model.model import NER, Formal\n",
    "from Preprocess.Data_load import DataLoad"
   ]
  },
  {
   "cell_type": "code",
   "execution_count": 2,
   "metadata": {},
   "outputs": [
    {
     "name": "stdout",
     "output_type": "stream",
     "text": [
      "preprocessed.csv\n"
     ]
    }
   ],
   "source": [
    "aws_controller = AwsController()\n",
    "df = aws_controller.s3_download([\"preprocessed.csv\"], \"src/\")[\"preprocessed\"]"
   ]
  },
  {
   "cell_type": "code",
   "execution_count": 3,
   "metadata": {},
   "outputs": [],
   "source": [
    "def Formalprocess(script) : \n",
    "    model = Formal()\n",
    "    script_list = script.split('/')\n",
    "    formal_check = 0 \n",
    "    for sentence in script_list :\n",
    "        if model.pred(sentence) == 1 : \n",
    "            formal_check += 1 \n",
    "    formal_ratio = formal_check / len(script_list)\n",
    "    return formal_ratio"
   ]
  },
  {
   "cell_type": "code",
   "execution_count": 4,
   "metadata": {},
   "outputs": [],
   "source": [
    "def NERprocess(ckpt_path,conf_path,script) : \n",
    "    model = NER(ckpt_path,conf_path)\n",
    "    script_list = script.split('/')\n",
    "    label_list = [] \n",
    "    for sentence in script_list :\n",
    "        label_list += model.inference_fn(sentence)\n",
    "    return label_list"
   ]
  },
  {
   "cell_type": "code",
   "execution_count": 5,
   "metadata": {},
   "outputs": [],
   "source": [
    "def exist_label(label_list) : \n",
    "    new_label_list = []\n",
    "    for label in label_list :\n",
    "        if all([label != 'O',  label[-2:] != '-I']): \n",
    "            new_label_list.append(label[:3])\n",
    "    return new_label_list\n"
   ]
  },
  {
   "cell_type": "code",
   "execution_count": 10,
   "metadata": {},
   "outputs": [
    {
     "ename": "KeyboardInterrupt",
     "evalue": "",
     "output_type": "error",
     "traceback": [
      "\u001b[0;31m---------------------------------------------------------------------------\u001b[0m",
      "\u001b[0;31mKeyboardInterrupt\u001b[0m                         Traceback (most recent call last)",
      "Cell \u001b[0;32mIn[10], line 1\u001b[0m\n\u001b[0;32m----> 1\u001b[0m df[\u001b[39m'\u001b[39m\u001b[39mFormal_ratio\u001b[39m\u001b[39m'\u001b[39m] \u001b[39m=\u001b[39m df[\u001b[39m'\u001b[39;49m\u001b[39mtexts\u001b[39;49m\u001b[39m'\u001b[39;49m]\u001b[39m.\u001b[39;49mapply(\u001b[39mlambda\u001b[39;49;00m x : Formalprocess(x))\n",
      "File \u001b[0;32m~/final_project/genia-project/lib/python3.10/site-packages/pandas/core/series.py:4630\u001b[0m, in \u001b[0;36mSeries.apply\u001b[0;34m(self, func, convert_dtype, args, **kwargs)\u001b[0m\n\u001b[1;32m   4520\u001b[0m \u001b[39mdef\u001b[39;00m \u001b[39mapply\u001b[39m(\n\u001b[1;32m   4521\u001b[0m     \u001b[39mself\u001b[39m,\n\u001b[1;32m   4522\u001b[0m     func: AggFuncType,\n\u001b[0;32m   (...)\u001b[0m\n\u001b[1;32m   4525\u001b[0m     \u001b[39m*\u001b[39m\u001b[39m*\u001b[39mkwargs,\n\u001b[1;32m   4526\u001b[0m ) \u001b[39m-\u001b[39m\u001b[39m>\u001b[39m DataFrame \u001b[39m|\u001b[39m Series:\n\u001b[1;32m   4527\u001b[0m \u001b[39m    \u001b[39m\u001b[39m\"\"\"\u001b[39;00m\n\u001b[1;32m   4528\u001b[0m \u001b[39m    Invoke function on values of Series.\u001b[39;00m\n\u001b[1;32m   4529\u001b[0m \n\u001b[0;32m   (...)\u001b[0m\n\u001b[1;32m   4628\u001b[0m \u001b[39m    dtype: float64\u001b[39;00m\n\u001b[1;32m   4629\u001b[0m \u001b[39m    \"\"\"\u001b[39;00m\n\u001b[0;32m-> 4630\u001b[0m     \u001b[39mreturn\u001b[39;00m SeriesApply(\u001b[39mself\u001b[39;49m, func, convert_dtype, args, kwargs)\u001b[39m.\u001b[39;49mapply()\n",
      "File \u001b[0;32m~/final_project/genia-project/lib/python3.10/site-packages/pandas/core/apply.py:1025\u001b[0m, in \u001b[0;36mSeriesApply.apply\u001b[0;34m(self)\u001b[0m\n\u001b[1;32m   1022\u001b[0m     \u001b[39mreturn\u001b[39;00m \u001b[39mself\u001b[39m\u001b[39m.\u001b[39mapply_str()\n\u001b[1;32m   1024\u001b[0m \u001b[39m# self.f is Callable\u001b[39;00m\n\u001b[0;32m-> 1025\u001b[0m \u001b[39mreturn\u001b[39;00m \u001b[39mself\u001b[39;49m\u001b[39m.\u001b[39;49mapply_standard()\n",
      "File \u001b[0;32m~/final_project/genia-project/lib/python3.10/site-packages/pandas/core/apply.py:1076\u001b[0m, in \u001b[0;36mSeriesApply.apply_standard\u001b[0;34m(self)\u001b[0m\n\u001b[1;32m   1074\u001b[0m     \u001b[39melse\u001b[39;00m:\n\u001b[1;32m   1075\u001b[0m         values \u001b[39m=\u001b[39m obj\u001b[39m.\u001b[39mastype(\u001b[39mobject\u001b[39m)\u001b[39m.\u001b[39m_values\n\u001b[0;32m-> 1076\u001b[0m         mapped \u001b[39m=\u001b[39m lib\u001b[39m.\u001b[39;49mmap_infer(\n\u001b[1;32m   1077\u001b[0m             values,\n\u001b[1;32m   1078\u001b[0m             f,\n\u001b[1;32m   1079\u001b[0m             convert\u001b[39m=\u001b[39;49m\u001b[39mself\u001b[39;49m\u001b[39m.\u001b[39;49mconvert_dtype,\n\u001b[1;32m   1080\u001b[0m         )\n\u001b[1;32m   1082\u001b[0m \u001b[39mif\u001b[39;00m \u001b[39mlen\u001b[39m(mapped) \u001b[39mand\u001b[39;00m \u001b[39misinstance\u001b[39m(mapped[\u001b[39m0\u001b[39m], ABCSeries):\n\u001b[1;32m   1083\u001b[0m     \u001b[39m# GH#43986 Need to do list(mapped) in order to get treated as nested\u001b[39;00m\n\u001b[1;32m   1084\u001b[0m     \u001b[39m#  See also GH#25959 regarding EA support\u001b[39;00m\n\u001b[1;32m   1085\u001b[0m     \u001b[39mreturn\u001b[39;00m obj\u001b[39m.\u001b[39m_constructor_expanddim(\u001b[39mlist\u001b[39m(mapped), index\u001b[39m=\u001b[39mobj\u001b[39m.\u001b[39mindex)\n",
      "File \u001b[0;32m~/final_project/genia-project/lib/python3.10/site-packages/pandas/_libs/lib.pyx:2834\u001b[0m, in \u001b[0;36mpandas._libs.lib.map_infer\u001b[0;34m()\u001b[0m\n",
      "Cell \u001b[0;32mIn[10], line 1\u001b[0m, in \u001b[0;36m<lambda>\u001b[0;34m(x)\u001b[0m\n\u001b[0;32m----> 1\u001b[0m df[\u001b[39m'\u001b[39m\u001b[39mFormal_ratio\u001b[39m\u001b[39m'\u001b[39m] \u001b[39m=\u001b[39m df[\u001b[39m'\u001b[39m\u001b[39mtexts\u001b[39m\u001b[39m'\u001b[39m]\u001b[39m.\u001b[39mapply(\u001b[39mlambda\u001b[39;00m x : Formalprocess(x))\n",
      "Cell \u001b[0;32mIn[6], line 6\u001b[0m, in \u001b[0;36mFormalprocess\u001b[0;34m(script)\u001b[0m\n\u001b[1;32m      4\u001b[0m formal_check \u001b[39m=\u001b[39m \u001b[39m0\u001b[39m \n\u001b[1;32m      5\u001b[0m \u001b[39mfor\u001b[39;00m sentence \u001b[39min\u001b[39;00m script_list :\n\u001b[0;32m----> 6\u001b[0m     \u001b[39mif\u001b[39;00m model\u001b[39m.\u001b[39;49mpred(sentence) \u001b[39m==\u001b[39m \u001b[39m1\u001b[39m : \n\u001b[1;32m      7\u001b[0m         formal_check \u001b[39m+\u001b[39m\u001b[39m=\u001b[39m \u001b[39m1\u001b[39m \n\u001b[1;32m      8\u001b[0m formal_ratio \u001b[39m=\u001b[39m formal_check \u001b[39m/\u001b[39m \u001b[39mlen\u001b[39m(script_list)\n",
      "File \u001b[0;32m~/final_project/workspace/작업중/module/Model/model.py:59\u001b[0m, in \u001b[0;36mFormal.pred\u001b[0;34m(self, sentence)\u001b[0m\n\u001b[1;32m     58\u001b[0m \u001b[39mdef\u001b[39;00m \u001b[39mpred\u001b[39m(\u001b[39mself\u001b[39m,sentence) : \n\u001b[0;32m---> 59\u001b[0m     \u001b[39mreturn\u001b[39;00m \u001b[39mint\u001b[39m(\u001b[39mself\u001b[39;49m\u001b[39m.\u001b[39;49mmodel(sentence)[\u001b[39m0\u001b[39m][\u001b[39m'\u001b[39m\u001b[39mlabel\u001b[39m\u001b[39m'\u001b[39m][\u001b[39m-\u001b[39m\u001b[39m1\u001b[39m])\n",
      "File \u001b[0;32m~/final_project/genia-project/lib/python3.10/site-packages/transformers/pipelines/text_classification.py:155\u001b[0m, in \u001b[0;36mTextClassificationPipeline.__call__\u001b[0;34m(self, *args, **kwargs)\u001b[0m\n\u001b[1;32m    121\u001b[0m \u001b[39mdef\u001b[39;00m \u001b[39m__call__\u001b[39m(\u001b[39mself\u001b[39m, \u001b[39m*\u001b[39margs, \u001b[39m*\u001b[39m\u001b[39m*\u001b[39mkwargs):\n\u001b[1;32m    122\u001b[0m \u001b[39m    \u001b[39m\u001b[39m\"\"\"\u001b[39;00m\n\u001b[1;32m    123\u001b[0m \u001b[39m    Classify the text(s) given as inputs.\u001b[39;00m\n\u001b[1;32m    124\u001b[0m \n\u001b[0;32m   (...)\u001b[0m\n\u001b[1;32m    153\u001b[0m \u001b[39m        If `top_k` is used, one such dictionary is returned per label.\u001b[39;00m\n\u001b[1;32m    154\u001b[0m \u001b[39m    \"\"\"\u001b[39;00m\n\u001b[0;32m--> 155\u001b[0m     result \u001b[39m=\u001b[39m \u001b[39msuper\u001b[39;49m()\u001b[39m.\u001b[39;49m\u001b[39m__call__\u001b[39;49m(\u001b[39m*\u001b[39;49margs, \u001b[39m*\u001b[39;49m\u001b[39m*\u001b[39;49mkwargs)\n\u001b[1;32m    156\u001b[0m     \u001b[39m# TODO try and retrieve it in a nicer way from _sanitize_parameters.\u001b[39;00m\n\u001b[1;32m    157\u001b[0m     _legacy \u001b[39m=\u001b[39m \u001b[39m\"\u001b[39m\u001b[39mtop_k\u001b[39m\u001b[39m\"\u001b[39m \u001b[39mnot\u001b[39;00m \u001b[39min\u001b[39;00m kwargs\n",
      "File \u001b[0;32m~/final_project/genia-project/lib/python3.10/site-packages/transformers/pipelines/base.py:1109\u001b[0m, in \u001b[0;36mPipeline.__call__\u001b[0;34m(self, inputs, num_workers, batch_size, *args, **kwargs)\u001b[0m\n\u001b[1;32m   1101\u001b[0m     \u001b[39mreturn\u001b[39;00m \u001b[39mnext\u001b[39m(\n\u001b[1;32m   1102\u001b[0m         \u001b[39miter\u001b[39m(\n\u001b[1;32m   1103\u001b[0m             \u001b[39mself\u001b[39m\u001b[39m.\u001b[39mget_iterator(\n\u001b[0;32m   (...)\u001b[0m\n\u001b[1;32m   1106\u001b[0m         )\n\u001b[1;32m   1107\u001b[0m     )\n\u001b[1;32m   1108\u001b[0m \u001b[39melse\u001b[39;00m:\n\u001b[0;32m-> 1109\u001b[0m     \u001b[39mreturn\u001b[39;00m \u001b[39mself\u001b[39;49m\u001b[39m.\u001b[39;49mrun_single(inputs, preprocess_params, forward_params, postprocess_params)\n",
      "File \u001b[0;32m~/final_project/genia-project/lib/python3.10/site-packages/transformers/pipelines/base.py:1116\u001b[0m, in \u001b[0;36mPipeline.run_single\u001b[0;34m(self, inputs, preprocess_params, forward_params, postprocess_params)\u001b[0m\n\u001b[1;32m   1114\u001b[0m \u001b[39mdef\u001b[39;00m \u001b[39mrun_single\u001b[39m(\u001b[39mself\u001b[39m, inputs, preprocess_params, forward_params, postprocess_params):\n\u001b[1;32m   1115\u001b[0m     model_inputs \u001b[39m=\u001b[39m \u001b[39mself\u001b[39m\u001b[39m.\u001b[39mpreprocess(inputs, \u001b[39m*\u001b[39m\u001b[39m*\u001b[39mpreprocess_params)\n\u001b[0;32m-> 1116\u001b[0m     model_outputs \u001b[39m=\u001b[39m \u001b[39mself\u001b[39;49m\u001b[39m.\u001b[39;49mforward(model_inputs, \u001b[39m*\u001b[39;49m\u001b[39m*\u001b[39;49mforward_params)\n\u001b[1;32m   1117\u001b[0m     outputs \u001b[39m=\u001b[39m \u001b[39mself\u001b[39m\u001b[39m.\u001b[39mpostprocess(model_outputs, \u001b[39m*\u001b[39m\u001b[39m*\u001b[39mpostprocess_params)\n\u001b[1;32m   1118\u001b[0m     \u001b[39mreturn\u001b[39;00m outputs\n",
      "File \u001b[0;32m~/final_project/genia-project/lib/python3.10/site-packages/transformers/pipelines/base.py:1015\u001b[0m, in \u001b[0;36mPipeline.forward\u001b[0;34m(self, model_inputs, **forward_params)\u001b[0m\n\u001b[1;32m   1013\u001b[0m     \u001b[39mwith\u001b[39;00m inference_context():\n\u001b[1;32m   1014\u001b[0m         model_inputs \u001b[39m=\u001b[39m \u001b[39mself\u001b[39m\u001b[39m.\u001b[39m_ensure_tensor_on_device(model_inputs, device\u001b[39m=\u001b[39m\u001b[39mself\u001b[39m\u001b[39m.\u001b[39mdevice)\n\u001b[0;32m-> 1015\u001b[0m         model_outputs \u001b[39m=\u001b[39m \u001b[39mself\u001b[39;49m\u001b[39m.\u001b[39;49m_forward(model_inputs, \u001b[39m*\u001b[39;49m\u001b[39m*\u001b[39;49mforward_params)\n\u001b[1;32m   1016\u001b[0m         model_outputs \u001b[39m=\u001b[39m \u001b[39mself\u001b[39m\u001b[39m.\u001b[39m_ensure_tensor_on_device(model_outputs, device\u001b[39m=\u001b[39mtorch\u001b[39m.\u001b[39mdevice(\u001b[39m\"\u001b[39m\u001b[39mcpu\u001b[39m\u001b[39m\"\u001b[39m))\n\u001b[1;32m   1017\u001b[0m \u001b[39melse\u001b[39;00m:\n",
      "File \u001b[0;32m~/final_project/genia-project/lib/python3.10/site-packages/transformers/pipelines/text_classification.py:182\u001b[0m, in \u001b[0;36mTextClassificationPipeline._forward\u001b[0;34m(self, model_inputs)\u001b[0m\n\u001b[1;32m    181\u001b[0m \u001b[39mdef\u001b[39;00m \u001b[39m_forward\u001b[39m(\u001b[39mself\u001b[39m, model_inputs):\n\u001b[0;32m--> 182\u001b[0m     \u001b[39mreturn\u001b[39;00m \u001b[39mself\u001b[39;49m\u001b[39m.\u001b[39;49mmodel(\u001b[39m*\u001b[39;49m\u001b[39m*\u001b[39;49mmodel_inputs)\n",
      "File \u001b[0;32m~/final_project/genia-project/lib/python3.10/site-packages/torch/nn/modules/module.py:1501\u001b[0m, in \u001b[0;36mModule._call_impl\u001b[0;34m(self, *args, **kwargs)\u001b[0m\n\u001b[1;32m   1496\u001b[0m \u001b[39m# If we don't have any hooks, we want to skip the rest of the logic in\u001b[39;00m\n\u001b[1;32m   1497\u001b[0m \u001b[39m# this function, and just call forward.\u001b[39;00m\n\u001b[1;32m   1498\u001b[0m \u001b[39mif\u001b[39;00m \u001b[39mnot\u001b[39;00m (\u001b[39mself\u001b[39m\u001b[39m.\u001b[39m_backward_hooks \u001b[39mor\u001b[39;00m \u001b[39mself\u001b[39m\u001b[39m.\u001b[39m_backward_pre_hooks \u001b[39mor\u001b[39;00m \u001b[39mself\u001b[39m\u001b[39m.\u001b[39m_forward_hooks \u001b[39mor\u001b[39;00m \u001b[39mself\u001b[39m\u001b[39m.\u001b[39m_forward_pre_hooks\n\u001b[1;32m   1499\u001b[0m         \u001b[39mor\u001b[39;00m _global_backward_pre_hooks \u001b[39mor\u001b[39;00m _global_backward_hooks\n\u001b[1;32m   1500\u001b[0m         \u001b[39mor\u001b[39;00m _global_forward_hooks \u001b[39mor\u001b[39;00m _global_forward_pre_hooks):\n\u001b[0;32m-> 1501\u001b[0m     \u001b[39mreturn\u001b[39;00m forward_call(\u001b[39m*\u001b[39;49margs, \u001b[39m*\u001b[39;49m\u001b[39m*\u001b[39;49mkwargs)\n\u001b[1;32m   1502\u001b[0m \u001b[39m# Do not call functions when jit is used\u001b[39;00m\n\u001b[1;32m   1503\u001b[0m full_backward_hooks, non_full_backward_hooks \u001b[39m=\u001b[39m [], []\n",
      "File \u001b[0;32m~/final_project/genia-project/lib/python3.10/site-packages/transformers/models/bert/modeling_bert.py:1562\u001b[0m, in \u001b[0;36mBertForSequenceClassification.forward\u001b[0;34m(self, input_ids, attention_mask, token_type_ids, position_ids, head_mask, inputs_embeds, labels, output_attentions, output_hidden_states, return_dict)\u001b[0m\n\u001b[1;32m   1554\u001b[0m \u001b[39m\u001b[39m\u001b[39mr\u001b[39m\u001b[39m\"\"\"\u001b[39;00m\n\u001b[1;32m   1555\u001b[0m \u001b[39mlabels (`torch.LongTensor` of shape `(batch_size,)`, *optional*):\u001b[39;00m\n\u001b[1;32m   1556\u001b[0m \u001b[39m    Labels for computing the sequence classification/regression loss. Indices should be in `[0, ...,\u001b[39;00m\n\u001b[1;32m   1557\u001b[0m \u001b[39m    config.num_labels - 1]`. If `config.num_labels == 1` a regression loss is computed (Mean-Square loss), If\u001b[39;00m\n\u001b[1;32m   1558\u001b[0m \u001b[39m    `config.num_labels > 1` a classification loss is computed (Cross-Entropy).\u001b[39;00m\n\u001b[1;32m   1559\u001b[0m \u001b[39m\"\"\"\u001b[39;00m\n\u001b[1;32m   1560\u001b[0m return_dict \u001b[39m=\u001b[39m return_dict \u001b[39mif\u001b[39;00m return_dict \u001b[39mis\u001b[39;00m \u001b[39mnot\u001b[39;00m \u001b[39mNone\u001b[39;00m \u001b[39melse\u001b[39;00m \u001b[39mself\u001b[39m\u001b[39m.\u001b[39mconfig\u001b[39m.\u001b[39muse_return_dict\n\u001b[0;32m-> 1562\u001b[0m outputs \u001b[39m=\u001b[39m \u001b[39mself\u001b[39;49m\u001b[39m.\u001b[39;49mbert(\n\u001b[1;32m   1563\u001b[0m     input_ids,\n\u001b[1;32m   1564\u001b[0m     attention_mask\u001b[39m=\u001b[39;49mattention_mask,\n\u001b[1;32m   1565\u001b[0m     token_type_ids\u001b[39m=\u001b[39;49mtoken_type_ids,\n\u001b[1;32m   1566\u001b[0m     position_ids\u001b[39m=\u001b[39;49mposition_ids,\n\u001b[1;32m   1567\u001b[0m     head_mask\u001b[39m=\u001b[39;49mhead_mask,\n\u001b[1;32m   1568\u001b[0m     inputs_embeds\u001b[39m=\u001b[39;49minputs_embeds,\n\u001b[1;32m   1569\u001b[0m     output_attentions\u001b[39m=\u001b[39;49moutput_attentions,\n\u001b[1;32m   1570\u001b[0m     output_hidden_states\u001b[39m=\u001b[39;49moutput_hidden_states,\n\u001b[1;32m   1571\u001b[0m     return_dict\u001b[39m=\u001b[39;49mreturn_dict,\n\u001b[1;32m   1572\u001b[0m )\n\u001b[1;32m   1574\u001b[0m pooled_output \u001b[39m=\u001b[39m outputs[\u001b[39m1\u001b[39m]\n\u001b[1;32m   1576\u001b[0m pooled_output \u001b[39m=\u001b[39m \u001b[39mself\u001b[39m\u001b[39m.\u001b[39mdropout(pooled_output)\n",
      "File \u001b[0;32m~/final_project/genia-project/lib/python3.10/site-packages/torch/nn/modules/module.py:1501\u001b[0m, in \u001b[0;36mModule._call_impl\u001b[0;34m(self, *args, **kwargs)\u001b[0m\n\u001b[1;32m   1496\u001b[0m \u001b[39m# If we don't have any hooks, we want to skip the rest of the logic in\u001b[39;00m\n\u001b[1;32m   1497\u001b[0m \u001b[39m# this function, and just call forward.\u001b[39;00m\n\u001b[1;32m   1498\u001b[0m \u001b[39mif\u001b[39;00m \u001b[39mnot\u001b[39;00m (\u001b[39mself\u001b[39m\u001b[39m.\u001b[39m_backward_hooks \u001b[39mor\u001b[39;00m \u001b[39mself\u001b[39m\u001b[39m.\u001b[39m_backward_pre_hooks \u001b[39mor\u001b[39;00m \u001b[39mself\u001b[39m\u001b[39m.\u001b[39m_forward_hooks \u001b[39mor\u001b[39;00m \u001b[39mself\u001b[39m\u001b[39m.\u001b[39m_forward_pre_hooks\n\u001b[1;32m   1499\u001b[0m         \u001b[39mor\u001b[39;00m _global_backward_pre_hooks \u001b[39mor\u001b[39;00m _global_backward_hooks\n\u001b[1;32m   1500\u001b[0m         \u001b[39mor\u001b[39;00m _global_forward_hooks \u001b[39mor\u001b[39;00m _global_forward_pre_hooks):\n\u001b[0;32m-> 1501\u001b[0m     \u001b[39mreturn\u001b[39;00m forward_call(\u001b[39m*\u001b[39;49margs, \u001b[39m*\u001b[39;49m\u001b[39m*\u001b[39;49mkwargs)\n\u001b[1;32m   1502\u001b[0m \u001b[39m# Do not call functions when jit is used\u001b[39;00m\n\u001b[1;32m   1503\u001b[0m full_backward_hooks, non_full_backward_hooks \u001b[39m=\u001b[39m [], []\n",
      "File \u001b[0;32m~/final_project/genia-project/lib/python3.10/site-packages/transformers/models/bert/modeling_bert.py:1020\u001b[0m, in \u001b[0;36mBertModel.forward\u001b[0;34m(self, input_ids, attention_mask, token_type_ids, position_ids, head_mask, inputs_embeds, encoder_hidden_states, encoder_attention_mask, past_key_values, use_cache, output_attentions, output_hidden_states, return_dict)\u001b[0m\n\u001b[1;32m   1011\u001b[0m head_mask \u001b[39m=\u001b[39m \u001b[39mself\u001b[39m\u001b[39m.\u001b[39mget_head_mask(head_mask, \u001b[39mself\u001b[39m\u001b[39m.\u001b[39mconfig\u001b[39m.\u001b[39mnum_hidden_layers)\n\u001b[1;32m   1013\u001b[0m embedding_output \u001b[39m=\u001b[39m \u001b[39mself\u001b[39m\u001b[39m.\u001b[39membeddings(\n\u001b[1;32m   1014\u001b[0m     input_ids\u001b[39m=\u001b[39minput_ids,\n\u001b[1;32m   1015\u001b[0m     position_ids\u001b[39m=\u001b[39mposition_ids,\n\u001b[0;32m   (...)\u001b[0m\n\u001b[1;32m   1018\u001b[0m     past_key_values_length\u001b[39m=\u001b[39mpast_key_values_length,\n\u001b[1;32m   1019\u001b[0m )\n\u001b[0;32m-> 1020\u001b[0m encoder_outputs \u001b[39m=\u001b[39m \u001b[39mself\u001b[39;49m\u001b[39m.\u001b[39;49mencoder(\n\u001b[1;32m   1021\u001b[0m     embedding_output,\n\u001b[1;32m   1022\u001b[0m     attention_mask\u001b[39m=\u001b[39;49mextended_attention_mask,\n\u001b[1;32m   1023\u001b[0m     head_mask\u001b[39m=\u001b[39;49mhead_mask,\n\u001b[1;32m   1024\u001b[0m     encoder_hidden_states\u001b[39m=\u001b[39;49mencoder_hidden_states,\n\u001b[1;32m   1025\u001b[0m     encoder_attention_mask\u001b[39m=\u001b[39;49mencoder_extended_attention_mask,\n\u001b[1;32m   1026\u001b[0m     past_key_values\u001b[39m=\u001b[39;49mpast_key_values,\n\u001b[1;32m   1027\u001b[0m     use_cache\u001b[39m=\u001b[39;49muse_cache,\n\u001b[1;32m   1028\u001b[0m     output_attentions\u001b[39m=\u001b[39;49moutput_attentions,\n\u001b[1;32m   1029\u001b[0m     output_hidden_states\u001b[39m=\u001b[39;49moutput_hidden_states,\n\u001b[1;32m   1030\u001b[0m     return_dict\u001b[39m=\u001b[39;49mreturn_dict,\n\u001b[1;32m   1031\u001b[0m )\n\u001b[1;32m   1032\u001b[0m sequence_output \u001b[39m=\u001b[39m encoder_outputs[\u001b[39m0\u001b[39m]\n\u001b[1;32m   1033\u001b[0m pooled_output \u001b[39m=\u001b[39m \u001b[39mself\u001b[39m\u001b[39m.\u001b[39mpooler(sequence_output) \u001b[39mif\u001b[39;00m \u001b[39mself\u001b[39m\u001b[39m.\u001b[39mpooler \u001b[39mis\u001b[39;00m \u001b[39mnot\u001b[39;00m \u001b[39mNone\u001b[39;00m \u001b[39melse\u001b[39;00m \u001b[39mNone\u001b[39;00m\n",
      "File \u001b[0;32m~/final_project/genia-project/lib/python3.10/site-packages/torch/nn/modules/module.py:1501\u001b[0m, in \u001b[0;36mModule._call_impl\u001b[0;34m(self, *args, **kwargs)\u001b[0m\n\u001b[1;32m   1496\u001b[0m \u001b[39m# If we don't have any hooks, we want to skip the rest of the logic in\u001b[39;00m\n\u001b[1;32m   1497\u001b[0m \u001b[39m# this function, and just call forward.\u001b[39;00m\n\u001b[1;32m   1498\u001b[0m \u001b[39mif\u001b[39;00m \u001b[39mnot\u001b[39;00m (\u001b[39mself\u001b[39m\u001b[39m.\u001b[39m_backward_hooks \u001b[39mor\u001b[39;00m \u001b[39mself\u001b[39m\u001b[39m.\u001b[39m_backward_pre_hooks \u001b[39mor\u001b[39;00m \u001b[39mself\u001b[39m\u001b[39m.\u001b[39m_forward_hooks \u001b[39mor\u001b[39;00m \u001b[39mself\u001b[39m\u001b[39m.\u001b[39m_forward_pre_hooks\n\u001b[1;32m   1499\u001b[0m         \u001b[39mor\u001b[39;00m _global_backward_pre_hooks \u001b[39mor\u001b[39;00m _global_backward_hooks\n\u001b[1;32m   1500\u001b[0m         \u001b[39mor\u001b[39;00m _global_forward_hooks \u001b[39mor\u001b[39;00m _global_forward_pre_hooks):\n\u001b[0;32m-> 1501\u001b[0m     \u001b[39mreturn\u001b[39;00m forward_call(\u001b[39m*\u001b[39;49margs, \u001b[39m*\u001b[39;49m\u001b[39m*\u001b[39;49mkwargs)\n\u001b[1;32m   1502\u001b[0m \u001b[39m# Do not call functions when jit is used\u001b[39;00m\n\u001b[1;32m   1503\u001b[0m full_backward_hooks, non_full_backward_hooks \u001b[39m=\u001b[39m [], []\n",
      "File \u001b[0;32m~/final_project/genia-project/lib/python3.10/site-packages/transformers/models/bert/modeling_bert.py:610\u001b[0m, in \u001b[0;36mBertEncoder.forward\u001b[0;34m(self, hidden_states, attention_mask, head_mask, encoder_hidden_states, encoder_attention_mask, past_key_values, use_cache, output_attentions, output_hidden_states, return_dict)\u001b[0m\n\u001b[1;32m    601\u001b[0m     layer_outputs \u001b[39m=\u001b[39m torch\u001b[39m.\u001b[39mutils\u001b[39m.\u001b[39mcheckpoint\u001b[39m.\u001b[39mcheckpoint(\n\u001b[1;32m    602\u001b[0m         create_custom_forward(layer_module),\n\u001b[1;32m    603\u001b[0m         hidden_states,\n\u001b[0;32m   (...)\u001b[0m\n\u001b[1;32m    607\u001b[0m         encoder_attention_mask,\n\u001b[1;32m    608\u001b[0m     )\n\u001b[1;32m    609\u001b[0m \u001b[39melse\u001b[39;00m:\n\u001b[0;32m--> 610\u001b[0m     layer_outputs \u001b[39m=\u001b[39m layer_module(\n\u001b[1;32m    611\u001b[0m         hidden_states,\n\u001b[1;32m    612\u001b[0m         attention_mask,\n\u001b[1;32m    613\u001b[0m         layer_head_mask,\n\u001b[1;32m    614\u001b[0m         encoder_hidden_states,\n\u001b[1;32m    615\u001b[0m         encoder_attention_mask,\n\u001b[1;32m    616\u001b[0m         past_key_value,\n\u001b[1;32m    617\u001b[0m         output_attentions,\n\u001b[1;32m    618\u001b[0m     )\n\u001b[1;32m    620\u001b[0m hidden_states \u001b[39m=\u001b[39m layer_outputs[\u001b[39m0\u001b[39m]\n\u001b[1;32m    621\u001b[0m \u001b[39mif\u001b[39;00m use_cache:\n",
      "File \u001b[0;32m~/final_project/genia-project/lib/python3.10/site-packages/torch/nn/modules/module.py:1501\u001b[0m, in \u001b[0;36mModule._call_impl\u001b[0;34m(self, *args, **kwargs)\u001b[0m\n\u001b[1;32m   1496\u001b[0m \u001b[39m# If we don't have any hooks, we want to skip the rest of the logic in\u001b[39;00m\n\u001b[1;32m   1497\u001b[0m \u001b[39m# this function, and just call forward.\u001b[39;00m\n\u001b[1;32m   1498\u001b[0m \u001b[39mif\u001b[39;00m \u001b[39mnot\u001b[39;00m (\u001b[39mself\u001b[39m\u001b[39m.\u001b[39m_backward_hooks \u001b[39mor\u001b[39;00m \u001b[39mself\u001b[39m\u001b[39m.\u001b[39m_backward_pre_hooks \u001b[39mor\u001b[39;00m \u001b[39mself\u001b[39m\u001b[39m.\u001b[39m_forward_hooks \u001b[39mor\u001b[39;00m \u001b[39mself\u001b[39m\u001b[39m.\u001b[39m_forward_pre_hooks\n\u001b[1;32m   1499\u001b[0m         \u001b[39mor\u001b[39;00m _global_backward_pre_hooks \u001b[39mor\u001b[39;00m _global_backward_hooks\n\u001b[1;32m   1500\u001b[0m         \u001b[39mor\u001b[39;00m _global_forward_hooks \u001b[39mor\u001b[39;00m _global_forward_pre_hooks):\n\u001b[0;32m-> 1501\u001b[0m     \u001b[39mreturn\u001b[39;00m forward_call(\u001b[39m*\u001b[39;49margs, \u001b[39m*\u001b[39;49m\u001b[39m*\u001b[39;49mkwargs)\n\u001b[1;32m   1502\u001b[0m \u001b[39m# Do not call functions when jit is used\u001b[39;00m\n\u001b[1;32m   1503\u001b[0m full_backward_hooks, non_full_backward_hooks \u001b[39m=\u001b[39m [], []\n",
      "File \u001b[0;32m~/final_project/genia-project/lib/python3.10/site-packages/transformers/models/bert/modeling_bert.py:537\u001b[0m, in \u001b[0;36mBertLayer.forward\u001b[0;34m(self, hidden_states, attention_mask, head_mask, encoder_hidden_states, encoder_attention_mask, past_key_value, output_attentions)\u001b[0m\n\u001b[1;32m    534\u001b[0m     cross_attn_present_key_value \u001b[39m=\u001b[39m cross_attention_outputs[\u001b[39m-\u001b[39m\u001b[39m1\u001b[39m]\n\u001b[1;32m    535\u001b[0m     present_key_value \u001b[39m=\u001b[39m present_key_value \u001b[39m+\u001b[39m cross_attn_present_key_value\n\u001b[0;32m--> 537\u001b[0m layer_output \u001b[39m=\u001b[39m apply_chunking_to_forward(\n\u001b[1;32m    538\u001b[0m     \u001b[39mself\u001b[39;49m\u001b[39m.\u001b[39;49mfeed_forward_chunk, \u001b[39mself\u001b[39;49m\u001b[39m.\u001b[39;49mchunk_size_feed_forward, \u001b[39mself\u001b[39;49m\u001b[39m.\u001b[39;49mseq_len_dim, attention_output\n\u001b[1;32m    539\u001b[0m )\n\u001b[1;32m    540\u001b[0m outputs \u001b[39m=\u001b[39m (layer_output,) \u001b[39m+\u001b[39m outputs\n\u001b[1;32m    542\u001b[0m \u001b[39m# if decoder, return the attn key/values as the last output\u001b[39;00m\n",
      "File \u001b[0;32m~/final_project/genia-project/lib/python3.10/site-packages/transformers/pytorch_utils.py:236\u001b[0m, in \u001b[0;36mapply_chunking_to_forward\u001b[0;34m(forward_fn, chunk_size, chunk_dim, *input_tensors)\u001b[0m\n\u001b[1;32m    233\u001b[0m     \u001b[39m# concatenate output at same dimension\u001b[39;00m\n\u001b[1;32m    234\u001b[0m     \u001b[39mreturn\u001b[39;00m torch\u001b[39m.\u001b[39mcat(output_chunks, dim\u001b[39m=\u001b[39mchunk_dim)\n\u001b[0;32m--> 236\u001b[0m \u001b[39mreturn\u001b[39;00m forward_fn(\u001b[39m*\u001b[39;49minput_tensors)\n",
      "File \u001b[0;32m~/final_project/genia-project/lib/python3.10/site-packages/transformers/models/bert/modeling_bert.py:549\u001b[0m, in \u001b[0;36mBertLayer.feed_forward_chunk\u001b[0;34m(self, attention_output)\u001b[0m\n\u001b[1;32m    548\u001b[0m \u001b[39mdef\u001b[39;00m \u001b[39mfeed_forward_chunk\u001b[39m(\u001b[39mself\u001b[39m, attention_output):\n\u001b[0;32m--> 549\u001b[0m     intermediate_output \u001b[39m=\u001b[39m \u001b[39mself\u001b[39;49m\u001b[39m.\u001b[39;49mintermediate(attention_output)\n\u001b[1;32m    550\u001b[0m     layer_output \u001b[39m=\u001b[39m \u001b[39mself\u001b[39m\u001b[39m.\u001b[39moutput(intermediate_output, attention_output)\n\u001b[1;32m    551\u001b[0m     \u001b[39mreturn\u001b[39;00m layer_output\n",
      "File \u001b[0;32m~/final_project/genia-project/lib/python3.10/site-packages/torch/nn/modules/module.py:1501\u001b[0m, in \u001b[0;36mModule._call_impl\u001b[0;34m(self, *args, **kwargs)\u001b[0m\n\u001b[1;32m   1496\u001b[0m \u001b[39m# If we don't have any hooks, we want to skip the rest of the logic in\u001b[39;00m\n\u001b[1;32m   1497\u001b[0m \u001b[39m# this function, and just call forward.\u001b[39;00m\n\u001b[1;32m   1498\u001b[0m \u001b[39mif\u001b[39;00m \u001b[39mnot\u001b[39;00m (\u001b[39mself\u001b[39m\u001b[39m.\u001b[39m_backward_hooks \u001b[39mor\u001b[39;00m \u001b[39mself\u001b[39m\u001b[39m.\u001b[39m_backward_pre_hooks \u001b[39mor\u001b[39;00m \u001b[39mself\u001b[39m\u001b[39m.\u001b[39m_forward_hooks \u001b[39mor\u001b[39;00m \u001b[39mself\u001b[39m\u001b[39m.\u001b[39m_forward_pre_hooks\n\u001b[1;32m   1499\u001b[0m         \u001b[39mor\u001b[39;00m _global_backward_pre_hooks \u001b[39mor\u001b[39;00m _global_backward_hooks\n\u001b[1;32m   1500\u001b[0m         \u001b[39mor\u001b[39;00m _global_forward_hooks \u001b[39mor\u001b[39;00m _global_forward_pre_hooks):\n\u001b[0;32m-> 1501\u001b[0m     \u001b[39mreturn\u001b[39;00m forward_call(\u001b[39m*\u001b[39;49margs, \u001b[39m*\u001b[39;49m\u001b[39m*\u001b[39;49mkwargs)\n\u001b[1;32m   1502\u001b[0m \u001b[39m# Do not call functions when jit is used\u001b[39;00m\n\u001b[1;32m   1503\u001b[0m full_backward_hooks, non_full_backward_hooks \u001b[39m=\u001b[39m [], []\n",
      "File \u001b[0;32m~/final_project/genia-project/lib/python3.10/site-packages/transformers/models/bert/modeling_bert.py:449\u001b[0m, in \u001b[0;36mBertIntermediate.forward\u001b[0;34m(self, hidden_states)\u001b[0m\n\u001b[1;32m    448\u001b[0m \u001b[39mdef\u001b[39;00m \u001b[39mforward\u001b[39m(\u001b[39mself\u001b[39m, hidden_states: torch\u001b[39m.\u001b[39mTensor) \u001b[39m-\u001b[39m\u001b[39m>\u001b[39m torch\u001b[39m.\u001b[39mTensor:\n\u001b[0;32m--> 449\u001b[0m     hidden_states \u001b[39m=\u001b[39m \u001b[39mself\u001b[39;49m\u001b[39m.\u001b[39;49mdense(hidden_states)\n\u001b[1;32m    450\u001b[0m     hidden_states \u001b[39m=\u001b[39m \u001b[39mself\u001b[39m\u001b[39m.\u001b[39mintermediate_act_fn(hidden_states)\n\u001b[1;32m    451\u001b[0m     \u001b[39mreturn\u001b[39;00m hidden_states\n",
      "File \u001b[0;32m~/final_project/genia-project/lib/python3.10/site-packages/torch/nn/modules/module.py:1501\u001b[0m, in \u001b[0;36mModule._call_impl\u001b[0;34m(self, *args, **kwargs)\u001b[0m\n\u001b[1;32m   1496\u001b[0m \u001b[39m# If we don't have any hooks, we want to skip the rest of the logic in\u001b[39;00m\n\u001b[1;32m   1497\u001b[0m \u001b[39m# this function, and just call forward.\u001b[39;00m\n\u001b[1;32m   1498\u001b[0m \u001b[39mif\u001b[39;00m \u001b[39mnot\u001b[39;00m (\u001b[39mself\u001b[39m\u001b[39m.\u001b[39m_backward_hooks \u001b[39mor\u001b[39;00m \u001b[39mself\u001b[39m\u001b[39m.\u001b[39m_backward_pre_hooks \u001b[39mor\u001b[39;00m \u001b[39mself\u001b[39m\u001b[39m.\u001b[39m_forward_hooks \u001b[39mor\u001b[39;00m \u001b[39mself\u001b[39m\u001b[39m.\u001b[39m_forward_pre_hooks\n\u001b[1;32m   1499\u001b[0m         \u001b[39mor\u001b[39;00m _global_backward_pre_hooks \u001b[39mor\u001b[39;00m _global_backward_hooks\n\u001b[1;32m   1500\u001b[0m         \u001b[39mor\u001b[39;00m _global_forward_hooks \u001b[39mor\u001b[39;00m _global_forward_pre_hooks):\n\u001b[0;32m-> 1501\u001b[0m     \u001b[39mreturn\u001b[39;00m forward_call(\u001b[39m*\u001b[39;49margs, \u001b[39m*\u001b[39;49m\u001b[39m*\u001b[39;49mkwargs)\n\u001b[1;32m   1502\u001b[0m \u001b[39m# Do not call functions when jit is used\u001b[39;00m\n\u001b[1;32m   1503\u001b[0m full_backward_hooks, non_full_backward_hooks \u001b[39m=\u001b[39m [], []\n",
      "File \u001b[0;32m~/final_project/genia-project/lib/python3.10/site-packages/torch/nn/modules/linear.py:114\u001b[0m, in \u001b[0;36mLinear.forward\u001b[0;34m(self, input)\u001b[0m\n\u001b[1;32m    113\u001b[0m \u001b[39mdef\u001b[39;00m \u001b[39mforward\u001b[39m(\u001b[39mself\u001b[39m, \u001b[39minput\u001b[39m: Tensor) \u001b[39m-\u001b[39m\u001b[39m>\u001b[39m Tensor:\n\u001b[0;32m--> 114\u001b[0m     \u001b[39mreturn\u001b[39;00m F\u001b[39m.\u001b[39;49mlinear(\u001b[39minput\u001b[39;49m, \u001b[39mself\u001b[39;49m\u001b[39m.\u001b[39;49mweight, \u001b[39mself\u001b[39;49m\u001b[39m.\u001b[39;49mbias)\n",
      "\u001b[0;31mKeyboardInterrupt\u001b[0m: "
     ]
    }
   ],
   "source": [
    "df['Formal_ratio'] = df['texts'].apply(lambda x : Formalprocess(x))"
   ]
  },
  {
   "cell_type": "code",
   "execution_count": null,
   "metadata": {},
   "outputs": [],
   "source": [
    "df['NER_label'] = df['texts'].apply(lambda x : NERprocess(ckpt_path='./Model/pytorch_model.bin',conf_path='./Model/config.json',script=x))"
   ]
  },
  {
   "cell_type": "code",
   "execution_count": null,
   "metadata": {},
   "outputs": [],
   "source": [
    "df['exist_label'] = df['NER_label'].apply(lambda x : exist_label(x))"
   ]
  },
  {
   "cell_type": "code",
   "execution_count": null,
   "metadata": {},
   "outputs": [
    {
     "data": {
      "text/html": [
       "<div>\n",
       "<style scoped>\n",
       "    .dataframe tbody tr th:only-of-type {\n",
       "        vertical-align: middle;\n",
       "    }\n",
       "\n",
       "    .dataframe tbody tr th {\n",
       "        vertical-align: top;\n",
       "    }\n",
       "\n",
       "    .dataframe thead th {\n",
       "        text-align: right;\n",
       "    }\n",
       "</style>\n",
       "<table border=\"1\" class=\"dataframe\">\n",
       "  <thead>\n",
       "    <tr style=\"text-align: right;\">\n",
       "      <th></th>\n",
       "      <th>texts</th>\n",
       "      <th>NER_label</th>\n",
       "      <th>exist_label</th>\n",
       "    </tr>\n",
       "  </thead>\n",
       "  <tbody>\n",
       "    <tr>\n",
       "      <th>0</th>\n",
       "      <td>지난 시간에 이제 인수분해 가 뭐냐라는 것에 대해서 조금 배워 봤는데 그래서 선생님...</td>\n",
       "      <td>[FLD-B, AFW-B, NUM-I, PLT-B, PLT-B, EVT-B, FLD...</td>\n",
       "      <td>[FLD, AFW, PLT, PLT, EVT, FLD, FLD, AFW, FLD, ...</td>\n",
       "    </tr>\n",
       "    <tr>\n",
       "      <th>1</th>\n",
       "      <td>우 우리가 학교 수학에서 배우는 방정식 뜰은 대 개의 정수를 개수로 갖는다 음식들입...</td>\n",
       "      <td>[DAT-I, O, PLT-B, DAT-I, AFW-B, NUM-I, PLT-B, ...</td>\n",
       "      <td>[PLT, AFW, PLT, NUM, PLT, PLT, ORG, MAT, PLT, ...</td>\n",
       "    </tr>\n",
       "    <tr>\n",
       "      <th>2</th>\n",
       "      <td>안녕하세요/색 뺄 수 학이에요/이번 시간이 이차방정식의 괜 구하기를 그네 공식으로 ...</td>\n",
       "      <td>[ORG-I, PER-I, ORG-I, ORG-I, ORG-I, ORG-I, LOC...</td>\n",
       "      <td>[LOC, TRM, PER, TRM, PER, LOC, TRM, LOC, TRM, ...</td>\n",
       "    </tr>\n",
       "    <tr>\n",
       "      <th>3</th>\n",
       "      <td>반갑습니다/수학의 정석 실력 편 차이입니다/자이다 온 일당 음에 공부했던 거하고 유...</td>\n",
       "      <td>[PLT-I, PER-I, PLT-I, PER-I, ANM-B, ANM-B, ANM...</td>\n",
       "      <td>[ANM, ANM, ANM, TRM, ANM, AFW, NUM, ANM, AFW, ...</td>\n",
       "    </tr>\n",
       "    <tr>\n",
       "      <th>4</th>\n",
       "      <td>어떤 수나 당시 글 곱하기 의 꼴로 나타낼 수 있을 때 와 를 어떤 수 혹은 당시 ...</td>\n",
       "      <td>[EVT-I, AFW-I, EVT-I, EVT-I, AFW-I, EVT-I, EVT...</td>\n",
       "      <td>[NUM, PER, NUM, ANM, ANM, PER, FLD, ANM, NUM, ...</td>\n",
       "    </tr>\n",
       "    <tr>\n",
       "      <th>...</th>\n",
       "      <td>...</td>\n",
       "      <td>...</td>\n",
       "      <td>...</td>\n",
       "    </tr>\n",
       "    <tr>\n",
       "      <th>74</th>\n",
       "      <td>인수가 아닌 것을 고르는 것에 대한 문제를 선생님이 초등학교 이런 것부터 고등학교 ...</td>\n",
       "      <td>[MAT-I, ANM-B, NUM-I, EVT-I, NUM-I, MAT-I, NUM...</td>\n",
       "      <td>[ANM, DAT, ORG, ORG, CVL, ORG, DAT, ANM, CVL, ...</td>\n",
       "    </tr>\n",
       "    <tr>\n",
       "      <th>75</th>\n",
       "      <td>에 대한 차 식과 차 식을 곱하면에 대한 차 시기 나오죠/ 에 관한 차 항 창상상...</td>\n",
       "      <td>[CVL-I, DAT-B, CVL-I, TIM-B, ANM-B, PLT-B, PLT...</td>\n",
       "      <td>[DAT, TIM, ANM, PLT, PLT, PLT, ANM, PLT, TIM, ...</td>\n",
       "    </tr>\n",
       "    <tr>\n",
       "      <th>76</th>\n",
       "      <td>이차방정식 근의 공식에 대해서 공부해 보도록 하겠습니다/자이트 공식은 요/굉장히 중...</td>\n",
       "      <td>[EVT-I, NUM-B, MAT-I, ORG-I, PLT-I, PLT-I, PLT...</td>\n",
       "      <td>[NUM, PLT, ORG, PLT, CVL, FLD, NUM, MAT, ORG, ...</td>\n",
       "    </tr>\n",
       "    <tr>\n",
       "      <th>77</th>\n",
       "      <td>뭐네 오늘은 그 그네 공식하고 이제 짝수 그해 봄 시카고 선생님이 증명하는 시간을 ...</td>\n",
       "      <td>[MAT-I, EVT-B, MAT-I, MAT-I, MAT-I, O, MAT-I, ...</td>\n",
       "      <td>[EVT, EVT, NUM, NUM, NUM, NUM, EVT, EVT, NUM, ...</td>\n",
       "    </tr>\n",
       "    <tr>\n",
       "      <th>78</th>\n",
       "      <td>바수어 이제 우리 일단 원의 마지막 소단원이거든요 인수분해 라는 거 하게 되겠습니다...</td>\n",
       "      <td>[EVT-I, TRM-I, EVT-I, TRM-B, TRM-I, TRM-B, CVL...</td>\n",
       "      <td>[TRM, TRM, DAT, DAT, TRM, TRM, PER, CVL, NUM, ...</td>\n",
       "    </tr>\n",
       "  </tbody>\n",
       "</table>\n",
       "<p>79 rows × 3 columns</p>\n",
       "</div>"
      ],
      "text/plain": [
       "                                                texts  \\\n",
       "0   지난 시간에 이제 인수분해 가 뭐냐라는 것에 대해서 조금 배워 봤는데 그래서 선생님...   \n",
       "1   우 우리가 학교 수학에서 배우는 방정식 뜰은 대 개의 정수를 개수로 갖는다 음식들입...   \n",
       "2   안녕하세요/색 뺄 수 학이에요/이번 시간이 이차방정식의 괜 구하기를 그네 공식으로 ...   \n",
       "3   반갑습니다/수학의 정석 실력 편 차이입니다/자이다 온 일당 음에 공부했던 거하고 유...   \n",
       "4   어떤 수나 당시 글 곱하기 의 꼴로 나타낼 수 있을 때 와 를 어떤 수 혹은 당시 ...   \n",
       "..                                                ...   \n",
       "74  인수가 아닌 것을 고르는 것에 대한 문제를 선생님이 초등학교 이런 것부터 고등학교 ...   \n",
       "75   에 대한 차 식과 차 식을 곱하면에 대한 차 시기 나오죠/ 에 관한 차 항 창상상...   \n",
       "76  이차방정식 근의 공식에 대해서 공부해 보도록 하겠습니다/자이트 공식은 요/굉장히 중...   \n",
       "77  뭐네 오늘은 그 그네 공식하고 이제 짝수 그해 봄 시카고 선생님이 증명하는 시간을 ...   \n",
       "78  바수어 이제 우리 일단 원의 마지막 소단원이거든요 인수분해 라는 거 하게 되겠습니다...   \n",
       "\n",
       "                                            NER_label  \\\n",
       "0   [FLD-B, AFW-B, NUM-I, PLT-B, PLT-B, EVT-B, FLD...   \n",
       "1   [DAT-I, O, PLT-B, DAT-I, AFW-B, NUM-I, PLT-B, ...   \n",
       "2   [ORG-I, PER-I, ORG-I, ORG-I, ORG-I, ORG-I, LOC...   \n",
       "3   [PLT-I, PER-I, PLT-I, PER-I, ANM-B, ANM-B, ANM...   \n",
       "4   [EVT-I, AFW-I, EVT-I, EVT-I, AFW-I, EVT-I, EVT...   \n",
       "..                                                ...   \n",
       "74  [MAT-I, ANM-B, NUM-I, EVT-I, NUM-I, MAT-I, NUM...   \n",
       "75  [CVL-I, DAT-B, CVL-I, TIM-B, ANM-B, PLT-B, PLT...   \n",
       "76  [EVT-I, NUM-B, MAT-I, ORG-I, PLT-I, PLT-I, PLT...   \n",
       "77  [MAT-I, EVT-B, MAT-I, MAT-I, MAT-I, O, MAT-I, ...   \n",
       "78  [EVT-I, TRM-I, EVT-I, TRM-B, TRM-I, TRM-B, CVL...   \n",
       "\n",
       "                                          exist_label  \n",
       "0   [FLD, AFW, PLT, PLT, EVT, FLD, FLD, AFW, FLD, ...  \n",
       "1   [PLT, AFW, PLT, NUM, PLT, PLT, ORG, MAT, PLT, ...  \n",
       "2   [LOC, TRM, PER, TRM, PER, LOC, TRM, LOC, TRM, ...  \n",
       "3   [ANM, ANM, ANM, TRM, ANM, AFW, NUM, ANM, AFW, ...  \n",
       "4   [NUM, PER, NUM, ANM, ANM, PER, FLD, ANM, NUM, ...  \n",
       "..                                                ...  \n",
       "74  [ANM, DAT, ORG, ORG, CVL, ORG, DAT, ANM, CVL, ...  \n",
       "75  [DAT, TIM, ANM, PLT, PLT, PLT, ANM, PLT, TIM, ...  \n",
       "76  [NUM, PLT, ORG, PLT, CVL, FLD, NUM, MAT, ORG, ...  \n",
       "77  [EVT, EVT, NUM, NUM, NUM, NUM, EVT, EVT, NUM, ...  \n",
       "78  [TRM, TRM, DAT, DAT, TRM, TRM, PER, CVL, NUM, ...  \n",
       "\n",
       "[79 rows x 3 columns]"
      ]
     },
     "execution_count": 9,
     "metadata": {},
     "output_type": "execute_result"
    }
   ],
   "source": [
    "df[['texts','NER_label','exist_label']]"
   ]
  },
  {
   "cell_type": "code",
   "execution_count": 6,
   "metadata": {},
   "outputs": [],
   "source": [
    "script_list = df['texts'][1].split('/')"
   ]
  },
  {
   "cell_type": "code",
   "execution_count": 8,
   "metadata": {},
   "outputs": [],
   "source": [
    "NER_list = []\n",
    "ckpt_path='./Model/pytorch_model.bin'\n",
    "conf_path='./Model/config.json'\n",
    "model = NER(ckpt_path,conf_path)\n",
    "for script in script_list : \n",
    "    label = model.inference_fn(sentence=script)\n",
    "    NER_list.append(label)"
   ]
  },
  {
   "cell_type": "code",
   "execution_count": 9,
   "metadata": {},
   "outputs": [
    {
     "data": {
      "text/plain": [
       "[['첫', 'FLD-I'],\n",
       " ['번', 'EVT-I'],\n",
       " ['##째', 'CVL-B'],\n",
       " ['문제를', 'EVT-I'],\n",
       " ['풀어', 'ANM-B'],\n",
       " ['##볼', 'ANM-B'],\n",
       " ['##게요', 'FLD-I']]"
      ]
     },
     "execution_count": 9,
     "metadata": {},
     "output_type": "execute_result"
    }
   ],
   "source": [
    "model.inference_fn('첫 번째 문제를 풀어볼게요')"
   ]
  },
  {
   "cell_type": "code",
   "execution_count": 10,
   "metadata": {},
   "outputs": [
    {
     "data": {
      "text/plain": [
       "['우 우리가 학교 수학에서 배우는 방정식 뜰은 대 개의 정수를 개수로 갖는다 음식들입니다',\n",
       " '그리고 이런 위에 방정식의 근을 찾는 문제가 나온다면 일반적으로 인수분해를 통해 그늘 찾게 되죠',\n",
       " '이 채널을 보시는 분들은 너무나 많은 인수 분의 문제를 풀어 보셨을 거라 익숙하게 짜 권법을 써서 암산으로 인수분해 한 후 그늘 찾으셨습니다',\n",
       " '반면에 그리 잘 보이지 않는 방영 시기 나온다면 어떻게 할까요',\n",
       " '귀찮겠지만 중학교 때의 주야장천 의 어떤 근의 공식을 사용해서 끝은 그늘 찾으실 것입니다',\n",
       " '차 이상의 방정식은 어떻게 할까요',\n",
       " '차 와 차까지는 일반적인 근의 공식이 있습니다',\n",
       " '하지만 교육과정 사는 배우지 않고 배워서 써먹는다에도 너무 어렵습니다',\n",
       " '그래서 우리는 불 반적으로 글이 될 것 같은 수도를 가져와서 이를 이용해 조리 비법을 사용합니다',\n",
       " '그리고 차수를 낮추면서 인수분해 를 하죠',\n",
       " '저는 이번 영상을 통해 일반 쪽으로 글이 될 것 같은 수를 찾는 스킬에 집중해 보고자 합니다',\n",
       " '여러분들이 다항식의 큰 을 찾을 때 가장 많이 사용하는 스킬은 상소 항에 약수를 근으로 생각하는 것입니다',\n",
       " '그리고 먹는 문제들에서는 곧잘 통합니다',\n",
       " '혹시 여기 법칙 같은 게 있을까요',\n",
       " '사실 정수를 개수로 갖는 다항식의 유리 수건을 찾는 방법에 대한 정리가 있습니다',\n",
       " '정수를 개수로 갖는다 음식의 리수 그는 윤은혜 이번에라고 한다면 애인은 최고 창의 개수에 약수 이고는 상소 항에 악수입니다',\n",
       " '이는 수업 시간에 선생님들이 많이 알려주시는 스킬이라 자주 사용하실 텐데 왜 이렇게 되는지 알아보죠',\n",
       " '명제를 보면 정수 계수 당시 길이 두 그늘 갖는다면 이는 가정에 와해는이므로 에를 대입하면 다음과 같이 식을 접을 수 있습니다',\n",
       " '이제 분모를 없애주기 울 양변에 제곱을 곱해주면 시기 다음과 같이 정리됩니다',\n",
       " '좌변에서 첫 번째 않을 우편으로 항시 켜주면 번씩 마지막 하늘 이양 시켜주면 이번 식인 등식을 얻게 됩니다',\n",
       " ' 번식은 모든 항의 가 곱해져있으므로 다음과 같이 묶어 줄 수 있고 이 번씩은 모든 항해 비가 곱해져 있음을 다음과 같이 묶어 줄 수 있습니다',\n",
       " '자 이렇게 본다면 이는 모두 정수이므로 두 신 모두 정수의 영산으로 되어있습니다',\n",
       " '즉 애인은 제곱의 약수이고 낸 제곱의 약수가 되는 것이죠',\n",
       " '그런데 생각해 보면 와 는 서로 소입니다',\n",
       " '애인을 절대로 비를 나눌 수 없죠',\n",
       " '그 말은 바꿔 말하면 애인 에 약수라는 뜻입니다',\n",
       " '예를 들어 설명해 보겠습니다',\n",
       " ' 과오는 서로 소입니다',\n",
       " '서로를 남을 수 없죠',\n",
       " '그런데 이 된 곱하기 오해 내 직업의 약수라고 해 보겠습니다',\n",
       " '그렇다면 우를 아무리 많이 곱해 떠라도 은의 약수가 아닙니다',\n",
       " '다른 말로 삼은 글 나눌 수 없죠',\n",
       " '그럼에도 불구하고 삼은 곱하기 왜 내 제곱의 약수 여야만 하므로에 주고 아닌 나머지 즉 얘네 약수 해야만 합니다',\n",
       " '같은 논리로 애인은 악수 피는 의약 수입니다',\n",
       " '따라서 정숙에서 다음 식에 유리수 그는 반드시 최고 창의 개수에 약수 분의 상수 항의 약속 고려 야',\n",
       " '말합니다',\n",
       " '이 명제가 갖는 의미를 조금 더 알아보겠습니다',\n",
       " '우선 이 명제에 가정은 유리수 그늘 가질 때입니다',\n",
       " '따라서 유리 수군이 아니라며 최고 창의 계수 나 상수 항을 의미가 없으며 다른 방법으로 그를 찾아야 합니다',\n",
       " '반대로 유리수 근 일 때 그 그는 반드시 최고 창이 개수 그리고 상수 암과 관계가 있습니다',\n",
       " '나아가 만약 최고 창의 개수가 일이라며 일에 약수는 플러스마이너스의 리무 유리 숙우 은유는 정수가 내면 이때 이정수 분은 상소 항에 약수가 되게 됩니다',\n",
       " '우리가 정수기에서 다항식 문제를 풀 때에 최고 창에 개수가 일인 경우가 자주 있었으므로 상수 항에 약수를 근해 후보로 두고 문제를 푸는 것은 옳은 판단이 어떤 거죠',\n",
       " '이외에도 여러분들이 아는 몇 가지 스킬들이 더 있을 것입니다',\n",
       " '예를 들어를 대입하면 개수들만 나무 모르 개수 들의 합이 이면 일이 그이라든가 같은 방법으로 개소 들에 불을 번갈아가며 더해서 이 되며 일이 흔히 된 것처럼 말이죠',\n",
       " '인수분해를 풀 때에 여러분들 만에 있으시다면 댓글로 남겨주시길 바라며 오늘 수업은 여기까지']"
      ]
     },
     "execution_count": 10,
     "metadata": {},
     "output_type": "execute_result"
    }
   ],
   "source": [
    "script_list"
   ]
  },
  {
   "cell_type": "code",
   "execution_count": 11,
   "metadata": {},
   "outputs": [
    {
     "data": {
      "text/plain": [
       "('그리고 이런 위에 방정식의 근을 찾는 문제가 나온다면 일반적으로 인수분해를 통해 그늘 찾게 되죠',\n",
       " [['그리고', 'EVT-I'],\n",
       "  ['이런', 'AFW-B'],\n",
       "  ['위에', 'EVT-I'],\n",
       "  ['방', 'EVT-I'],\n",
       "  ['##정', 'PLT-B'],\n",
       "  ['##식의', 'EVT-I'],\n",
       "  ['근', 'PER-B'],\n",
       "  ['##을', 'EVT-I'],\n",
       "  ['찾는', 'AFW-I'],\n",
       "  ['문제가', 'EVT-I'],\n",
       "  ['나온다', 'MAT-B'],\n",
       "  ['##면', 'EVT-I'],\n",
       "  ['일반', 'PLT-B'],\n",
       "  ['##적으로', 'EVT-I'],\n",
       "  ['인수', 'NUM-I'],\n",
       "  ['##분해', 'EVT-I'],\n",
       "  ['##를', 'ANM-B'],\n",
       "  ['통해', 'ANM-B'],\n",
       "  ['그', 'EVT-I'],\n",
       "  ['##늘', 'EVT-I'],\n",
       "  ['찾', 'AFW-B'],\n",
       "  ['##게', 'ANM-B'],\n",
       "  ['되', 'ANM-I'],\n",
       "  ['##죠', 'FLD-I']])"
      ]
     },
     "execution_count": 11,
     "metadata": {},
     "output_type": "execute_result"
    }
   ],
   "source": [
    "script_list[1], NER_list[1]"
   ]
  },
  {
   "cell_type": "code",
   "execution_count": 16,
   "metadata": {},
   "outputs": [],
   "source": [
    "df['token'] = df['texts'].apply(lambda x : NER.NERtokenizer(x))"
   ]
  },
  {
   "cell_type": "code",
   "execution_count": 18,
   "metadata": {},
   "outputs": [
    {
     "name": "stdout",
     "output_type": "stream",
     "text": [
      "['FLD-I', 'FLD-I', 'NUM-I', 'NUM-I', 'NUM-I', 'TIM-B', 'O', 'TIM-B', 'NUM-I', 'NUM-I', 'ORG-I', 'NUM-I', 'PER-I', 'NUM-I', 'AFW-B', 'NUM-I', 'NUM-I', 'O', 'FLD-I', 'NUM-B', 'FLD-I', 'TRM-I', 'AFW-I', 'PER-I', 'FLD-I', 'LOC-B', 'TRM-I', 'AFW-I', 'NUM-I', 'PER-I', 'NUM-I', 'FLD-I', 'NUM-I', 'ORG-I', 'FLD-I', 'NUM-I', 'EVT-B', 'FLD-I', 'MAT-I', 'NUM-I', 'TIM-B', 'NUM-I', 'NUM-I', 'AFW-I', 'FLD-I', 'ORG-I', 'AFW-I', 'O', 'NUM-I', 'NUM-I', 'NUM-I', 'ORG-I', 'ORG-I', 'O', 'O', 'NUM-I', 'FLD-I', 'AFW-B', 'NUM-I', 'NUM-I', 'NUM-I', 'ORG-I', 'NUM-I', 'NUM-I', 'ORG-I', 'NUM-I', 'PER-I', 'TRM-I', 'PER-I', 'NUM-I', 'NUM-I', 'O', 'ORG-I', 'CVL-B', 'AFW-I', 'NUM-I', 'NUM-I', 'AFW-I', 'NUM-I', 'NUM-I', 'O', 'AFW-I', 'ORG-I', 'NUM-I', 'NUM-I', 'FLD-I', 'ORG-I', 'ORG-I', 'TRM-I', 'NUM-I', 'ORG-I', 'TIM-I', 'O', 'NUM-B', 'ORG-B', 'AFW-B', 'AFW-I', 'NUM-I', 'ORG-I', 'O', 'LOC-B', 'O', 'PER-I', 'FLD-I', 'ORG-I', 'AFW-B', 'ORG-I', 'ORG-I', 'O', 'AFW-B', 'FLD-I', 'NUM-I', 'O', 'O', 'O', 'O', 'NUM-I', 'NUM-I', 'NUM-I', 'AFW-I', 'O', 'NUM-I', 'FLD-I', 'ORG-I', 'O', 'CVL-B', 'NUM-I', 'O', 'ORG-I', 'AFW-I', 'NUM-I', 'TIM-B', 'FLD-I', 'CVL-B', 'NUM-I', 'AFW-B', 'NUM-I', 'PER-I', 'NUM-I', 'O', 'ORG-I', 'NUM-I', 'NUM-I', 'NUM-I', 'AFW-B', 'FLD-I', 'FLD-I', 'NUM-I', 'LOC-B', 'AFW-I', 'TRM-I', 'NUM-I', 'FLD-I', 'FLD-I', 'ORG-I', 'NUM-I', 'NUM-B', 'FLD-B', 'O', 'O', 'NUM-I', 'NUM-I', 'TIM-I', 'AFW-I', 'NUM-I', 'AFW-B', 'AFW-I', 'NUM-I', 'TRM-I', 'FLD-I', 'ORG-B', 'NUM-I', 'TIM-B', 'NUM-I', 'NUM-I', 'AFW-I', 'NUM-I', 'FLD-I', 'O', 'FLD-I', 'NUM-I', 'AFW-B', 'FLD-I', 'TIM-B', 'NUM-I', 'ORG-I', 'NUM-I', 'NUM-I', 'NUM-I', 'NUM-I', 'NUM-I', 'ORG-I', 'FLD-I', 'NUM-B', 'TRM-I', 'NUM-I', 'NUM-I', 'PER-I', 'AFW-B', 'NUM-I', 'NUM-I', 'AFW-I', 'NUM-I', 'AFW-I', 'PER-I', 'ORG-I', 'AFW-I', 'FLD-I', 'EVT-B', 'FLD-I', 'FLD-I', 'AFW-B', 'NUM-B', 'NUM-I', 'NUM-B', 'NUM-I', 'FLD-I', 'ORG-I', 'NUM-I', 'TIM-B', 'FLD-I', 'AFW-B', 'ORG-I', 'LOC-B', 'TIM-B', 'TIM-I', 'AFW-B', 'NUM-I', 'FLD-I', 'FLD-I', 'O', 'NUM-I', 'NUM-I', 'NUM-I', 'FLD-I', 'NUM-B', 'NUM-I', 'FLD-I', 'ORG-I', 'NUM-I', 'AFW-I', 'NUM-I', 'AFW-I', 'ORG-I', 'AFW-B', 'AFW-I', 'NUM-I', 'AFW-B', 'LOC-B', 'NUM-I', 'FLD-I', 'ORG-I', 'AFW-B', 'TRM-I', 'TIM-B', 'NUM-B', 'NUM-I', 'ANM-B', 'O', 'AFW-I', 'FLD-I', 'ORG-I', 'TRM-I', 'AFW-I', 'FLD-I', 'LOC-B', 'NUM-B', 'AFW-I', 'NUM-I', 'AFW-I', 'AFW-B', 'NUM-I', 'ORG-I', 'FLD-I', 'NUM-I', 'NUM-I', 'NUM-I', 'FLD-I', 'NUM-B', 'NUM-I', 'NUM-I', 'NUM-I', 'ORG-I', 'ORG-I', 'O', 'AFW-I', 'NUM-B', 'O', 'NUM-I', 'ORG-I', 'NUM-I', 'NUM-I', 'NUM-I', 'AFW-I', 'NUM-I', 'O', 'NUM-I', 'FLD-I', 'NUM-B', 'PER-I', 'FLD-I', 'PLT-B', 'FLD-I', 'O', 'O', 'NUM-I', 'O', 'CVL-I', 'FLD-I', 'O', 'O', 'ORG-I', 'O', 'O', 'NUM-I', 'NUM-I', 'NUM-I', 'AFW-B', 'NUM-I', 'EVT-B', 'O', 'NUM-I', 'PER-I', 'TRM-I', 'EVT-B', 'NUM-I', 'FLD-I', 'TRM-I', 'NUM-I', 'TIM-B', 'O', 'O', 'NUM-I', 'NUM-I', 'TRM-I', 'TIM-B', 'NUM-I', 'NUM-I', 'O', 'NUM-I', 'O', 'EVT-B', 'NUM-B', 'AFW-I', 'FLD-I', 'NUM-I', 'NUM-I', 'NUM-I', 'NUM-I', 'PER-I', 'PER-I', 'AFW-B', 'O', 'O', 'TIM-B', 'O', 'NUM-I', 'O', 'NUM-I', 'ORG-I', 'NUM-I', 'NUM-B', 'O', 'AFW-I', 'NUM-I', 'NUM-B', 'FLD-I', 'NUM-I', 'FLD-B', 'O', 'TRM-I', 'TRM-I', 'O', 'NUM-I', 'FLD-B', 'FLD-I', 'AFW-I', 'AFW-B', 'O', 'NUM-I', 'FLD-I', 'NUM-I', 'CVL-B', 'NUM-B', 'NUM-I', 'O', 'AFW-I', 'PER-I', 'NUM-I', 'AFW-B', 'NUM-I', 'NUM-I', 'AFW-I', 'O', 'NUM-I', 'ORG-I', 'NUM-I', 'AFW-I', 'O', 'NUM-I', 'ORG-I', 'TRM-I', 'ORG-I', 'NUM-I', 'NUM-B', 'NUM-I', 'AFW-I', 'ORG-I', 'AFW-I', 'ORG-I', 'O', 'NUM-I', 'FLD-B', 'O', 'ORG-I', 'NUM-I', 'NUM-I', 'NUM-I', 'O', 'TIM-I', 'NUM-I', 'FLD-I', 'NUM-I', 'EVT-B', 'O', 'NUM-I', 'FLD-I', 'AFW-I', 'NUM-I', 'FLD-I', 'TRM-I', 'ORG-I', 'ORG-I', 'AFW-I', 'NUM-I', 'NUM-I', 'FLD-I', 'NUM-I', 'O', 'O', 'AFW-B', 'NUM-I', 'NUM-I', 'NUM-I', 'NUM-I', 'NUM-I', 'FLD-I', 'O', 'ORG-I', 'TRM-I', 'AFW-I', 'O', 'FLD-I', 'AFW-B', 'O', 'LOC-B', 'FLD-I', 'FLD-I', 'NUM-I', 'ORG-I', 'NUM-B', 'O', 'PER-I', 'ORG-I', 'AFW-B', 'TIM-I', 'NUM-I', 'ORG-I', 'NUM-I', 'O', 'NUM-I', 'ORG-I', 'PER-I', 'NUM-I', 'LOC-B', 'TRM-I', 'TRM-I', 'FLD-I', 'TRM-I', 'NUM-I', 'TRM-I', 'ORG-I', 'EVT-B', 'FLD-I', 'AFW-I', 'TIM-I', 'TRM-I', 'FLD-I', 'NUM-I', 'NUM-I', 'O', 'AFW-I', 'NUM-I', 'O', 'NUM-I', 'AFW-B', 'TIM-I', 'NUM-I', 'NUM-I', 'NUM-I', 'O', 'AFW-I', 'FLD-I', 'EVT-B', 'LOC-B', 'FLD-I', 'NUM-I', 'NUM-I', 'DAT-I', 'TRM-I', 'AFW-B', 'ORG-I', 'FLD-I', 'O', 'TIM-B', 'NUM-I', 'NUM-I', 'MAT-I', 'O', 'TIM-I', 'LOC-B', 'AFW-I', 'NUM-I', 'PER-I', 'AFW-I', 'NUM-I', 'AFW-I', 'TRM-I', 'NUM-I', 'NUM-I', 'TRM-I', 'NUM-I', 'FLD-I', 'FLD-I', 'AFW-I', 'MAT-I', 'NUM-I', 'NUM-I', 'ORG-I', 'AFW-I', 'O', 'ORG-I', 'FLD-I', 'ORG-I', 'TRM-I', 'FLD-I', 'NUM-I', 'O', 'AFW-I', 'FLD-I', 'FLD-I', 'AFW-I', 'NUM-I', 'TRM-I', 'NUM-I', 'FLD-I', 'O', 'NUM-I', 'NUM-I', 'FLD-I', 'NUM-I', 'O', 'NUM-B', 'O', 'NUM-I', 'O', 'NUM-I', 'O', 'O', 'NUM-I', 'NUM-I', 'FLD-I', 'FLD-I', 'NUM-I', 'FLD-I', 'NUM-I', 'AFW-I', 'AFW-I', 'ORG-I', 'FLD-I', 'AFW-I', 'TRM-I', 'TIM-I', 'EVT-B', 'AFW-I', 'CVL-B', 'NUM-I', 'O', 'TIM-I', 'ORG-I', 'TRM-I', 'NUM-I', 'TIM-I', 'ORG-I', 'FLD-I', 'FLD-I', 'O', 'NUM-I', 'ORG-I', 'AFW-I', 'CVL-B', 'AFW-B', 'AFW-B', 'ORG-B', 'NUM-I', 'ORG-I', 'O', 'NUM-I', 'TIM-I', 'ORG-I', 'ORG-I', 'CVL-B', 'LOC-B', 'NUM-B', 'NUM-B', 'NUM-I', 'PLT-B', 'FLD-I', 'NUM-I', 'NUM-I', 'NUM-I', 'NUM-I', 'ORG-I', 'NUM-B', 'NUM-B', 'FLD-B', 'NUM-I', 'TIM-I', 'CVL-I', 'LOC-I', 'O', 'NUM-I', 'NUM-B', 'NUM-I', 'TRM-I', 'TIM-I', 'FLD-I', 'ORG-I', 'LOC-I', 'O', 'ORG-I', 'NUM-I', 'LOC-B', 'TIM-I', 'NUM-I', 'O', 'ORG-I', 'NUM-I', 'O', 'TIM-I', 'NUM-I', 'NUM-I', 'CVL-I', 'NUM-I', 'NUM-I', 'ORG-I', 'O', 'NUM-I', 'TIM-B', 'NUM-I', 'NUM-I', 'FLD-I', 'NUM-I', 'PER-I', 'NUM-I', 'NUM-I', 'NUM-I', 'TIM-B', 'NUM-I', 'NUM-I', 'NUM-I', 'TIM-I', 'NUM-I', 'ORG-I', 'NUM-I', 'AFW-I', 'TRM-I', 'PER-I', 'FLD-I']\n"
     ]
    }
   ],
   "source": [
    "print(df['NER_label'][0])"
   ]
  },
  {
   "cell_type": "code",
   "execution_count": 19,
   "metadata": {},
   "outputs": [],
   "source": [
    "from collections import Counter\n",
    "import matplotlib.pyplot as plt\n",
    "import seaborn as sns"
   ]
  },
  {
   "cell_type": "code",
   "execution_count": 28,
   "metadata": {},
   "outputs": [],
   "source": [
    "df.sort_values(by='viewCount',ascending=False,inplace=True)"
   ]
  },
  {
   "cell_type": "code",
   "execution_count": 62,
   "metadata": {},
   "outputs": [],
   "source": [
    "pop_df = df.iloc[:30]\n",
    "unpop_df = df.iloc[-30:]"
   ]
  },
  {
   "cell_type": "code",
   "execution_count": 63,
   "metadata": {},
   "outputs": [],
   "source": [
    "pop_all_label = pop_df['exist_label'].sum()\n",
    "pop_all_label = dict(Counter(pop_all_label))\n",
    "pop_all_label = dict(sorted(pop_all_label.items()))\n",
    "pop_label_total = sum(pop_all_label.values())\n",
    "pop_ratio_data = {key: value / pop_label_total for key, value in pop_all_label.items()} "
   ]
  },
  {
   "cell_type": "code",
   "execution_count": 64,
   "metadata": {},
   "outputs": [],
   "source": [
    "unpop_all_label = unpop_df['exist_label'].sum()\n",
    "unpop_all_label = dict(Counter(unpop_all_label))\n",
    "unpop_all_label = dict(sorted(unpop_all_label.items()))\n",
    "unpop_label_total = sum(unpop_all_label.values())\n",
    "unpop_ratio_data = {key: value / unpop_label_total for key, value in unpop_all_label.items()} "
   ]
  },
  {
   "cell_type": "code",
   "execution_count": 49,
   "metadata": {},
   "outputs": [
    {
     "data": {
      "image/png": "[encoded data removed]",
      "text/plain": [
       "<Figure size 1200x500 with 2 Axes>"
      ]
     },
     "metadata": {},
     "output_type": "display_data"
    }
   ],
   "source": [
    "fig, ax = plt.subplots(1,2, sharey=True , figsize=(12,5)) \n",
    "sns.barplot(x = list(pop_ratio_data.keys()), y = list(pop_ratio_data.values()), ax=ax[0])\n",
    "ax[0].set_title('pop')\n",
    "sns.barplot(x = list(unpop_ratio_data.keys()), y = list(unpop_ratio_data.values()), ax=ax[1])\n",
    "ax[1].set_title('unpop')\n",
    "plt.show()"
   ]
  },
  {
   "cell_type": "code",
   "execution_count": 65,
   "metadata": {},
   "outputs": [
    {
     "data": {
      "image/png": "[encoded data removed]",
      "text/plain": [
       "<Figure size 1200x500 with 2 Axes>"
      ]
     },
     "metadata": {},
     "output_type": "display_data"
    }
   ],
   "source": [
    "fig, ax = plt.subplots(1,2, sharey=True , figsize=(12,5)) \n",
    "sns.barplot(x = list(pop_ratio_data.keys()), y = list(pop_ratio_data.values()), ax=ax[0])\n",
    "ax[0].set_title('pop')\n",
    "sns.barplot(x = list(unpop_ratio_data.keys()), y = list(unpop_ratio_data.values()), ax=ax[1])\n",
    "ax[1].set_title('unpop')\n",
    "plt.show()"
   ]
  },
  {
   "cell_type": "code",
   "execution_count": 50,
   "metadata": {},
   "outputs": [],
   "source": [
    "import pandas as pd "
   ]
  },
  {
   "cell_type": "code",
   "execution_count": 53,
   "metadata": {},
   "outputs": [],
   "source": [
    "pop_df = pd.read_csv('./Data/pop_processing_NER.csv')"
   ]
  },
  {
   "cell_type": "code",
   "execution_count": 57,
   "metadata": {},
   "outputs": [],
   "source": [
    "df = pop_df.groupby('id').sum()"
   ]
  },
  {
   "cell_type": "code",
   "execution_count": 58,
   "metadata": {},
   "outputs": [
    {
     "name": "stdout",
     "output_type": "stream",
     "text": [
      "{'0': 'O', '1': 'PER-B', '10': 'LOC-I', '11': 'CVL-B', '12': 'CVL-I', '13': 'DAT-B', '14': 'DAT-I', '15': 'TIM-B', '16': 'TIM-I', '17': 'NUM-B', '18': 'NUM-I', '19': 'EVT-B', '2': 'PER-I', '20': 'EVT-I', '21': 'ANM-B', '22': 'ANM-I', '23': 'PLT-B', '24': 'PLT-I', '25': 'MAT-B', '26': 'MAT-I', '27': 'TRM-B', '28': 'TRM-I', '3': 'FLD-B', '4': 'FLD-I', '5': 'AFW-B', '6': 'AFW-I', '7': 'ORG-B', '8': 'ORG-I', '9': 'LOC-B'}\n",
      "{'0': 'O', '1': 'PER-B', '10': 'LOC-I', '11': 'CVL-B', '12': 'CVL-I', '13': 'DAT-B', '14': 'DAT-I', '15': 'TIM-B', '16': 'TIM-I', '17': 'NUM-B', '18': 'NUM-I', '19': 'EVT-B', '2': 'PER-I', '20': 'EVT-I', '21': 'ANM-B', '22': 'ANM-I', '23': 'PLT-B', '24': 'PLT-I', '25': 'MAT-B', '26': 'MAT-I', '27': 'TRM-B', '28': 'TRM-I', '3': 'FLD-B', '4': 'FLD-I', '5': 'AFW-B', '6': 'AFW-I', '7': 'ORG-B', '8': 'ORG-I', '9': 'LOC-B'}\n",
      "{'0': 'O', '1': 'PER-B', '10': 'LOC-I', '11': 'CVL-B', '12': 'CVL-I', '13': 'DAT-B', '14': 'DAT-I', '15': 'TIM-B', '16': 'TIM-I', '17': 'NUM-B', '18': 'NUM-I', '19': 'EVT-B', '2': 'PER-I', '20': 'EVT-I', '21': 'ANM-B', '22': 'ANM-I', '23': 'PLT-B', '24': 'PLT-I', '25': 'MAT-B', '26': 'MAT-I', '27': 'TRM-B', '28': 'TRM-I', '3': 'FLD-B', '4': 'FLD-I', '5': 'AFW-B', '6': 'AFW-I', '7': 'ORG-B', '8': 'ORG-I', '9': 'LOC-B'}\n",
      "{'0': 'O', '1': 'PER-B', '10': 'LOC-I', '11': 'CVL-B', '12': 'CVL-I', '13': 'DAT-B', '14': 'DAT-I', '15': 'TIM-B', '16': 'TIM-I', '17': 'NUM-B', '18': 'NUM-I', '19': 'EVT-B', '2': 'PER-I', '20': 'EVT-I', '21': 'ANM-B', '22': 'ANM-I', '23': 'PLT-B', '24': 'PLT-I', '25': 'MAT-B', '26': 'MAT-I', '27': 'TRM-B', '28': 'TRM-I', '3': 'FLD-B', '4': 'FLD-I', '5': 'AFW-B', '6': 'AFW-I', '7': 'ORG-B', '8': 'ORG-I', '9': 'LOC-B'}\n",
      "{'0': 'O', '1': 'PER-B', '10': 'LOC-I', '11': 'CVL-B', '12': 'CVL-I', '13': 'DAT-B', '14': 'DAT-I', '15': 'TIM-B', '16': 'TIM-I', '17': 'NUM-B', '18': 'NUM-I', '19': 'EVT-B', '2': 'PER-I', '20': 'EVT-I', '21': 'ANM-B', '22': 'ANM-I', '23': 'PLT-B', '24': 'PLT-I', '25': 'MAT-B', '26': 'MAT-I', '27': 'TRM-B', '28': 'TRM-I', '3': 'FLD-B', '4': 'FLD-I', '5': 'AFW-B', '6': 'AFW-I', '7': 'ORG-B', '8': 'ORG-I', '9': 'LOC-B'}\n",
      "{'0': 'O', '1': 'PER-B', '10': 'LOC-I', '11': 'CVL-B', '12': 'CVL-I', '13': 'DAT-B', '14': 'DAT-I', '15': 'TIM-B', '16': 'TIM-I', '17': 'NUM-B', '18': 'NUM-I', '19': 'EVT-B', '2': 'PER-I', '20': 'EVT-I', '21': 'ANM-B', '22': 'ANM-I', '23': 'PLT-B', '24': 'PLT-I', '25': 'MAT-B', '26': 'MAT-I', '27': 'TRM-B', '28': 'TRM-I', '3': 'FLD-B', '4': 'FLD-I', '5': 'AFW-B', '6': 'AFW-I', '7': 'ORG-B', '8': 'ORG-I', '9': 'LOC-B'}\n",
      "{'0': 'O', '1': 'PER-B', '10': 'LOC-I', '11': 'CVL-B', '12': 'CVL-I', '13': 'DAT-B', '14': 'DAT-I', '15': 'TIM-B', '16': 'TIM-I', '17': 'NUM-B', '18': 'NUM-I', '19': 'EVT-B', '2': 'PER-I', '20': 'EVT-I', '21': 'ANM-B', '22': 'ANM-I', '23': 'PLT-B', '24': 'PLT-I', '25': 'MAT-B', '26': 'MAT-I', '27': 'TRM-B', '28': 'TRM-I', '3': 'FLD-B', '4': 'FLD-I', '5': 'AFW-B', '6': 'AFW-I', '7': 'ORG-B', '8': 'ORG-I', '9': 'LOC-B'}\n",
      "{'0': 'O', '1': 'PER-B', '10': 'LOC-I', '11': 'CVL-B', '12': 'CVL-I', '13': 'DAT-B', '14': 'DAT-I', '15': 'TIM-B', '16': 'TIM-I', '17': 'NUM-B', '18': 'NUM-I', '19': 'EVT-B', '2': 'PER-I', '20': 'EVT-I', '21': 'ANM-B', '22': 'ANM-I', '23': 'PLT-B', '24': 'PLT-I', '25': 'MAT-B', '26': 'MAT-I', '27': 'TRM-B', '28': 'TRM-I', '3': 'FLD-B', '4': 'FLD-I', '5': 'AFW-B', '6': 'AFW-I', '7': 'ORG-B', '8': 'ORG-I', '9': 'LOC-B'}\n",
      "{'0': 'O', '1': 'PER-B', '10': 'LOC-I', '11': 'CVL-B', '12': 'CVL-I', '13': 'DAT-B', '14': 'DAT-I', '15': 'TIM-B', '16': 'TIM-I', '17': 'NUM-B', '18': 'NUM-I', '19': 'EVT-B', '2': 'PER-I', '20': 'EVT-I', '21': 'ANM-B', '22': 'ANM-I', '23': 'PLT-B', '24': 'PLT-I', '25': 'MAT-B', '26': 'MAT-I', '27': 'TRM-B', '28': 'TRM-I', '3': 'FLD-B', '4': 'FLD-I', '5': 'AFW-B', '6': 'AFW-I', '7': 'ORG-B', '8': 'ORG-I', '9': 'LOC-B'}\n",
      "{'0': 'O', '1': 'PER-B', '10': 'LOC-I', '11': 'CVL-B', '12': 'CVL-I', '13': 'DAT-B', '14': 'DAT-I', '15': 'TIM-B', '16': 'TIM-I', '17': 'NUM-B', '18': 'NUM-I', '19': 'EVT-B', '2': 'PER-I', '20': 'EVT-I', '21': 'ANM-B', '22': 'ANM-I', '23': 'PLT-B', '24': 'PLT-I', '25': 'MAT-B', '26': 'MAT-I', '27': 'TRM-B', '28': 'TRM-I', '3': 'FLD-B', '4': 'FLD-I', '5': 'AFW-B', '6': 'AFW-I', '7': 'ORG-B', '8': 'ORG-I', '9': 'LOC-B'}\n",
      "{'0': 'O', '1': 'PER-B', '10': 'LOC-I', '11': 'CVL-B', '12': 'CVL-I', '13': 'DAT-B', '14': 'DAT-I', '15': 'TIM-B', '16': 'TIM-I', '17': 'NUM-B', '18': 'NUM-I', '19': 'EVT-B', '2': 'PER-I', '20': 'EVT-I', '21': 'ANM-B', '22': 'ANM-I', '23': 'PLT-B', '24': 'PLT-I', '25': 'MAT-B', '26': 'MAT-I', '27': 'TRM-B', '28': 'TRM-I', '3': 'FLD-B', '4': 'FLD-I', '5': 'AFW-B', '6': 'AFW-I', '7': 'ORG-B', '8': 'ORG-I', '9': 'LOC-B'}\n",
      "{'0': 'O', '1': 'PER-B', '10': 'LOC-I', '11': 'CVL-B', '12': 'CVL-I', '13': 'DAT-B', '14': 'DAT-I', '15': 'TIM-B', '16': 'TIM-I', '17': 'NUM-B', '18': 'NUM-I', '19': 'EVT-B', '2': 'PER-I', '20': 'EVT-I', '21': 'ANM-B', '22': 'ANM-I', '23': 'PLT-B', '24': 'PLT-I', '25': 'MAT-B', '26': 'MAT-I', '27': 'TRM-B', '28': 'TRM-I', '3': 'FLD-B', '4': 'FLD-I', '5': 'AFW-B', '6': 'AFW-I', '7': 'ORG-B', '8': 'ORG-I', '9': 'LOC-B'}\n",
      "{'0': 'O', '1': 'PER-B', '10': 'LOC-I', '11': 'CVL-B', '12': 'CVL-I', '13': 'DAT-B', '14': 'DAT-I', '15': 'TIM-B', '16': 'TIM-I', '17': 'NUM-B', '18': 'NUM-I', '19': 'EVT-B', '2': 'PER-I', '20': 'EVT-I', '21': 'ANM-B', '22': 'ANM-I', '23': 'PLT-B', '24': 'PLT-I', '25': 'MAT-B', '26': 'MAT-I', '27': 'TRM-B', '28': 'TRM-I', '3': 'FLD-B', '4': 'FLD-I', '5': 'AFW-B', '6': 'AFW-I', '7': 'ORG-B', '8': 'ORG-I', '9': 'LOC-B'}\n",
      "{'0': 'O', '1': 'PER-B', '10': 'LOC-I', '11': 'CVL-B', '12': 'CVL-I', '13': 'DAT-B', '14': 'DAT-I', '15': 'TIM-B', '16': 'TIM-I', '17': 'NUM-B', '18': 'NUM-I', '19': 'EVT-B', '2': 'PER-I', '20': 'EVT-I', '21': 'ANM-B', '22': 'ANM-I', '23': 'PLT-B', '24': 'PLT-I', '25': 'MAT-B', '26': 'MAT-I', '27': 'TRM-B', '28': 'TRM-I', '3': 'FLD-B', '4': 'FLD-I', '5': 'AFW-B', '6': 'AFW-I', '7': 'ORG-B', '8': 'ORG-I', '9': 'LOC-B'}\n",
      "{'0': 'O', '1': 'PER-B', '10': 'LOC-I', '11': 'CVL-B', '12': 'CVL-I', '13': 'DAT-B', '14': 'DAT-I', '15': 'TIM-B', '16': 'TIM-I', '17': 'NUM-B', '18': 'NUM-I', '19': 'EVT-B', '2': 'PER-I', '20': 'EVT-I', '21': 'ANM-B', '22': 'ANM-I', '23': 'PLT-B', '24': 'PLT-I', '25': 'MAT-B', '26': 'MAT-I', '27': 'TRM-B', '28': 'TRM-I', '3': 'FLD-B', '4': 'FLD-I', '5': 'AFW-B', '6': 'AFW-I', '7': 'ORG-B', '8': 'ORG-I', '9': 'LOC-B'}\n",
      "{'0': 'O', '1': 'PER-B', '10': 'LOC-I', '11': 'CVL-B', '12': 'CVL-I', '13': 'DAT-B', '14': 'DAT-I', '15': 'TIM-B', '16': 'TIM-I', '17': 'NUM-B', '18': 'NUM-I', '19': 'EVT-B', '2': 'PER-I', '20': 'EVT-I', '21': 'ANM-B', '22': 'ANM-I', '23': 'PLT-B', '24': 'PLT-I', '25': 'MAT-B', '26': 'MAT-I', '27': 'TRM-B', '28': 'TRM-I', '3': 'FLD-B', '4': 'FLD-I', '5': 'AFW-B', '6': 'AFW-I', '7': 'ORG-B', '8': 'ORG-I', '9': 'LOC-B'}\n",
      "{'0': 'O', '1': 'PER-B', '10': 'LOC-I', '11': 'CVL-B', '12': 'CVL-I', '13': 'DAT-B', '14': 'DAT-I', '15': 'TIM-B', '16': 'TIM-I', '17': 'NUM-B', '18': 'NUM-I', '19': 'EVT-B', '2': 'PER-I', '20': 'EVT-I', '21': 'ANM-B', '22': 'ANM-I', '23': 'PLT-B', '24': 'PLT-I', '25': 'MAT-B', '26': 'MAT-I', '27': 'TRM-B', '28': 'TRM-I', '3': 'FLD-B', '4': 'FLD-I', '5': 'AFW-B', '6': 'AFW-I', '7': 'ORG-B', '8': 'ORG-I', '9': 'LOC-B'}\n",
      "{'0': 'O', '1': 'PER-B', '10': 'LOC-I', '11': 'CVL-B', '12': 'CVL-I', '13': 'DAT-B', '14': 'DAT-I', '15': 'TIM-B', '16': 'TIM-I', '17': 'NUM-B', '18': 'NUM-I', '19': 'EVT-B', '2': 'PER-I', '20': 'EVT-I', '21': 'ANM-B', '22': 'ANM-I', '23': 'PLT-B', '24': 'PLT-I', '25': 'MAT-B', '26': 'MAT-I', '27': 'TRM-B', '28': 'TRM-I', '3': 'FLD-B', '4': 'FLD-I', '5': 'AFW-B', '6': 'AFW-I', '7': 'ORG-B', '8': 'ORG-I', '9': 'LOC-B'}\n",
      "{'0': 'O', '1': 'PER-B', '10': 'LOC-I', '11': 'CVL-B', '12': 'CVL-I', '13': 'DAT-B', '14': 'DAT-I', '15': 'TIM-B', '16': 'TIM-I', '17': 'NUM-B', '18': 'NUM-I', '19': 'EVT-B', '2': 'PER-I', '20': 'EVT-I', '21': 'ANM-B', '22': 'ANM-I', '23': 'PLT-B', '24': 'PLT-I', '25': 'MAT-B', '26': 'MAT-I', '27': 'TRM-B', '28': 'TRM-I', '3': 'FLD-B', '4': 'FLD-I', '5': 'AFW-B', '6': 'AFW-I', '7': 'ORG-B', '8': 'ORG-I', '9': 'LOC-B'}\n",
      "{'0': 'O', '1': 'PER-B', '10': 'LOC-I', '11': 'CVL-B', '12': 'CVL-I', '13': 'DAT-B', '14': 'DAT-I', '15': 'TIM-B', '16': 'TIM-I', '17': 'NUM-B', '18': 'NUM-I', '19': 'EVT-B', '2': 'PER-I', '20': 'EVT-I', '21': 'ANM-B', '22': 'ANM-I', '23': 'PLT-B', '24': 'PLT-I', '25': 'MAT-B', '26': 'MAT-I', '27': 'TRM-B', '28': 'TRM-I', '3': 'FLD-B', '4': 'FLD-I', '5': 'AFW-B', '6': 'AFW-I', '7': 'ORG-B', '8': 'ORG-I', '9': 'LOC-B'}\n",
      "{'0': 'O', '1': 'PER-B', '10': 'LOC-I', '11': 'CVL-B', '12': 'CVL-I', '13': 'DAT-B', '14': 'DAT-I', '15': 'TIM-B', '16': 'TIM-I', '17': 'NUM-B', '18': 'NUM-I', '19': 'EVT-B', '2': 'PER-I', '20': 'EVT-I', '21': 'ANM-B', '22': 'ANM-I', '23': 'PLT-B', '24': 'PLT-I', '25': 'MAT-B', '26': 'MAT-I', '27': 'TRM-B', '28': 'TRM-I', '3': 'FLD-B', '4': 'FLD-I', '5': 'AFW-B', '6': 'AFW-I', '7': 'ORG-B', '8': 'ORG-I', '9': 'LOC-B'}\n",
      "{'0': 'O', '1': 'PER-B', '10': 'LOC-I', '11': 'CVL-B', '12': 'CVL-I', '13': 'DAT-B', '14': 'DAT-I', '15': 'TIM-B', '16': 'TIM-I', '17': 'NUM-B', '18': 'NUM-I', '19': 'EVT-B', '2': 'PER-I', '20': 'EVT-I', '21': 'ANM-B', '22': 'ANM-I', '23': 'PLT-B', '24': 'PLT-I', '25': 'MAT-B', '26': 'MAT-I', '27': 'TRM-B', '28': 'TRM-I', '3': 'FLD-B', '4': 'FLD-I', '5': 'AFW-B', '6': 'AFW-I', '7': 'ORG-B', '8': 'ORG-I', '9': 'LOC-B'}\n",
      "{'0': 'O', '1': 'PER-B', '10': 'LOC-I', '11': 'CVL-B', '12': 'CVL-I', '13': 'DAT-B', '14': 'DAT-I', '15': 'TIM-B', '16': 'TIM-I', '17': 'NUM-B', '18': 'NUM-I', '19': 'EVT-B', '2': 'PER-I', '20': 'EVT-I', '21': 'ANM-B', '22': 'ANM-I', '23': 'PLT-B', '24': 'PLT-I', '25': 'MAT-B', '26': 'MAT-I', '27': 'TRM-B', '28': 'TRM-I', '3': 'FLD-B', '4': 'FLD-I', '5': 'AFW-B', '6': 'AFW-I', '7': 'ORG-B', '8': 'ORG-I', '9': 'LOC-B'}\n",
      "{'0': 'O', '1': 'PER-B', '10': 'LOC-I', '11': 'CVL-B', '12': 'CVL-I', '13': 'DAT-B', '14': 'DAT-I', '15': 'TIM-B', '16': 'TIM-I', '17': 'NUM-B', '18': 'NUM-I', '19': 'EVT-B', '2': 'PER-I', '20': 'EVT-I', '21': 'ANM-B', '22': 'ANM-I', '23': 'PLT-B', '24': 'PLT-I', '25': 'MAT-B', '26': 'MAT-I', '27': 'TRM-B', '28': 'TRM-I', '3': 'FLD-B', '4': 'FLD-I', '5': 'AFW-B', '6': 'AFW-I', '7': 'ORG-B', '8': 'ORG-I', '9': 'LOC-B'}\n",
      "{'0': 'O', '1': 'PER-B', '10': 'LOC-I', '11': 'CVL-B', '12': 'CVL-I', '13': 'DAT-B', '14': 'DAT-I', '15': 'TIM-B', '16': 'TIM-I', '17': 'NUM-B', '18': 'NUM-I', '19': 'EVT-B', '2': 'PER-I', '20': 'EVT-I', '21': 'ANM-B', '22': 'ANM-I', '23': 'PLT-B', '24': 'PLT-I', '25': 'MAT-B', '26': 'MAT-I', '27': 'TRM-B', '28': 'TRM-I', '3': 'FLD-B', '4': 'FLD-I', '5': 'AFW-B', '6': 'AFW-I', '7': 'ORG-B', '8': 'ORG-I', '9': 'LOC-B'}\n",
      "{'0': 'O', '1': 'PER-B', '10': 'LOC-I', '11': 'CVL-B', '12': 'CVL-I', '13': 'DAT-B', '14': 'DAT-I', '15': 'TIM-B', '16': 'TIM-I', '17': 'NUM-B', '18': 'NUM-I', '19': 'EVT-B', '2': 'PER-I', '20': 'EVT-I', '21': 'ANM-B', '22': 'ANM-I', '23': 'PLT-B', '24': 'PLT-I', '25': 'MAT-B', '26': 'MAT-I', '27': 'TRM-B', '28': 'TRM-I', '3': 'FLD-B', '4': 'FLD-I', '5': 'AFW-B', '6': 'AFW-I', '7': 'ORG-B', '8': 'ORG-I', '9': 'LOC-B'}\n",
      "{'0': 'O', '1': 'PER-B', '10': 'LOC-I', '11': 'CVL-B', '12': 'CVL-I', '13': 'DAT-B', '14': 'DAT-I', '15': 'TIM-B', '16': 'TIM-I', '17': 'NUM-B', '18': 'NUM-I', '19': 'EVT-B', '2': 'PER-I', '20': 'EVT-I', '21': 'ANM-B', '22': 'ANM-I', '23': 'PLT-B', '24': 'PLT-I', '25': 'MAT-B', '26': 'MAT-I', '27': 'TRM-B', '28': 'TRM-I', '3': 'FLD-B', '4': 'FLD-I', '5': 'AFW-B', '6': 'AFW-I', '7': 'ORG-B', '8': 'ORG-I', '9': 'LOC-B'}\n",
      "{'0': 'O', '1': 'PER-B', '10': 'LOC-I', '11': 'CVL-B', '12': 'CVL-I', '13': 'DAT-B', '14': 'DAT-I', '15': 'TIM-B', '16': 'TIM-I', '17': 'NUM-B', '18': 'NUM-I', '19': 'EVT-B', '2': 'PER-I', '20': 'EVT-I', '21': 'ANM-B', '22': 'ANM-I', '23': 'PLT-B', '24': 'PLT-I', '25': 'MAT-B', '26': 'MAT-I', '27': 'TRM-B', '28': 'TRM-I', '3': 'FLD-B', '4': 'FLD-I', '5': 'AFW-B', '6': 'AFW-I', '7': 'ORG-B', '8': 'ORG-I', '9': 'LOC-B'}\n",
      "{'0': 'O', '1': 'PER-B', '10': 'LOC-I', '11': 'CVL-B', '12': 'CVL-I', '13': 'DAT-B', '14': 'DAT-I', '15': 'TIM-B', '16': 'TIM-I', '17': 'NUM-B', '18': 'NUM-I', '19': 'EVT-B', '2': 'PER-I', '20': 'EVT-I', '21': 'ANM-B', '22': 'ANM-I', '23': 'PLT-B', '24': 'PLT-I', '25': 'MAT-B', '26': 'MAT-I', '27': 'TRM-B', '28': 'TRM-I', '3': 'FLD-B', '4': 'FLD-I', '5': 'AFW-B', '6': 'AFW-I', '7': 'ORG-B', '8': 'ORG-I', '9': 'LOC-B'}\n",
      "{'0': 'O', '1': 'PER-B', '10': 'LOC-I', '11': 'CVL-B', '12': 'CVL-I', '13': 'DAT-B', '14': 'DAT-I', '15': 'TIM-B', '16': 'TIM-I', '17': 'NUM-B', '18': 'NUM-I', '19': 'EVT-B', '2': 'PER-I', '20': 'EVT-I', '21': 'ANM-B', '22': 'ANM-I', '23': 'PLT-B', '24': 'PLT-I', '25': 'MAT-B', '26': 'MAT-I', '27': 'TRM-B', '28': 'TRM-I', '3': 'FLD-B', '4': 'FLD-I', '5': 'AFW-B', '6': 'AFW-I', '7': 'ORG-B', '8': 'ORG-I', '9': 'LOC-B'}\n",
      "{'0': 'O', '1': 'PER-B', '10': 'LOC-I', '11': 'CVL-B', '12': 'CVL-I', '13': 'DAT-B', '14': 'DAT-I', '15': 'TIM-B', '16': 'TIM-I', '17': 'NUM-B', '18': 'NUM-I', '19': 'EVT-B', '2': 'PER-I', '20': 'EVT-I', '21': 'ANM-B', '22': 'ANM-I', '23': 'PLT-B', '24': 'PLT-I', '25': 'MAT-B', '26': 'MAT-I', '27': 'TRM-B', '28': 'TRM-I', '3': 'FLD-B', '4': 'FLD-I', '5': 'AFW-B', '6': 'AFW-I', '7': 'ORG-B', '8': 'ORG-I', '9': 'LOC-B'}\n"
     ]
    }
   ],
   "source": [
    "df['NER_label'] = df['script'].apply(lambda x : NERprocess(ckpt_path='./Model/pytorch_model.bin',conf_path='./Model/config.json',script=x))\n",
    "df['token'] = df['script'].apply(lambda x : NER.NERtokenizer(x))"
   ]
  },
  {
   "cell_type": "code",
   "execution_count": 60,
   "metadata": {},
   "outputs": [],
   "source": [
    "df['exist_label'] = df['NER_label'].apply(lambda x : exist_label(x))"
   ]
  }
 ],
 "metadata": {
  "kernelspec": {
   "display_name": "genia-project",
   "language": "python",
   "name": "python3"
  },
  "language_info": {
   "codemirror_mode": {
    "name": "ipython",
    "version": 3
   },
   "file_extension": ".py",
   "mimetype": "text/x-python",
   "name": "python",
   "nbconvert_exporter": "python",
   "pygments_lexer": "ipython3",
   "version": "3.10.6"
  },
  "orig_nbformat": 4
 },
 "nbformat": 4,
 "nbformat_minor": 2
}
